{
 "cells": [
  {
   "cell_type": "code",
   "execution_count": 1,
   "metadata": {
    "collapsed": false
   },
   "outputs": [
    {
     "name": "stderr",
     "output_type": "stream",
     "text": [
      "/projects/nikhil/ADNI_prediction/code/conda_envs/adni-conda/lib/python2.7/site-packages/pandas/computation/__init__.py:19: UserWarning: The installed version of numexpr 2.4.4 is not supported in pandas and will be not be used\n",
      "\n",
      "  UserWarning)\n",
      "/projects/nikhil/ADNI_prediction/code/conda_envs/adni-conda/lib/python2.7/site-packages/sklearn/cross_validation.py:44: DeprecationWarning: This module was deprecated in version 0.18 in favor of the model_selection module into which all the refactored classes and functions are moved. Also note that the interface of the new CV iterators are different from that of this module. This module will be removed in 0.20.\n",
      "  \"This module will be removed in 0.20.\", DeprecationWarning)\n",
      "/projects/nikhil/ADNI_prediction/code/conda_envs/adni-conda/lib/python2.7/site-packages/sklearn/grid_search.py:43: DeprecationWarning: This module was deprecated in version 0.18 in favor of the model_selection module into which all the refactored classes and functions are moved. This module will be removed in 0.20.\n",
      "  DeprecationWarning)\n"
     ]
    }
   ],
   "source": [
    "import numpy as np\n",
    "import pandas as pd\n",
    "from sklearn.linear_model import LinearRegression\n",
    "from sklearn.linear_model import Lasso\n",
    "from sklearn.svm import SVR\n",
    "from sklearn.ensemble import RandomForestClassifier\n",
    "from sklearn import grid_search\n",
    "import datetime\n",
    "import time\n",
    "import collections\n",
    "from scipy.stats import mode\n",
    "from sklearn.metrics import mean_squared_error as mse\n",
    "import ipyparallel as ipp\n",
    "from sklearn import preprocessing"
   ]
  },
  {
   "cell_type": "code",
   "execution_count": 20,
   "metadata": {
    "collapsed": false
   },
   "outputs": [],
   "source": [
    "train_data = pd.read_csv('/projects/nikhil/kaggle/training_data.csv')\n",
    "test_data = pd.read_csv('/projects/nikhil/kaggle/test_data.csv')\n",
    "\n",
    "train_data.replace('-9',-1,inplace=True)\n",
    "train_data.replace(-9,-1,inplace=True)\n",
    "train_data.replace('?',-1,inplace=True)\n",
    "test_data.replace('-9',-1,inplace=True)\n",
    "test_data.replace(-9,-1,inplace=True)\n",
    "test_data.replace('?',-1,inplace=True)\n"
   ]
  },
  {
   "cell_type": "code",
   "execution_count": null,
   "metadata": {
    "collapsed": false
   },
   "outputs": [],
   "source": []
  },
  {
   "cell_type": "code",
   "execution_count": 29,
   "metadata": {
    "collapsed": false
   },
   "outputs": [
    {
     "data": {
      "text/plain": [
       "0.98414634146341462"
      ]
     },
     "execution_count": 29,
     "metadata": {},
     "output_type": "execute_result"
    }
   ],
   "source": [
    "model_clf = RandomForestClassifier()\n",
    "X_train = train_data.values[:,1:14]\n",
    "y_train = np.squeeze(train_data.values)[:,14].astype(int)\n",
    "X_test = test_data.values[:,1:14]\n",
    "\n",
    "model_clf.fit(X_train,y_train)\n",
    "model_clf.score(X_train,y_train)"
   ]
  },
  {
   "cell_type": "code",
   "execution_count": 30,
   "metadata": {
    "collapsed": true
   },
   "outputs": [],
   "source": [
    "new_df = pd.DataFrame(columns=['id','num'])\n",
    "new_df['id']=test_data['id'].values\n",
    "new_df['num'] = model_clf.predict(X_test)\n",
    "new_df.to_csv('/projects/nikhil/kaggle/pred_data.csv')"
   ]
  },
  {
   "cell_type": "code",
   "execution_count": 25,
   "metadata": {
    "collapsed": false
   },
   "outputs": [
    {
     "data": {
      "text/plain": [
       "array([1, 4, 4, 0, 0, 1, 0, 3, 0, 2, 0, 3, 0, 0, 0, 0, 4, 0, 0, 0, 0, 0, 0,\n",
       "       0, 2, 0, 0, 3, 0, 0, 0, 3, 3, 0, 0, 1, 1, 0, 2, 4, 1, 0, 3, 0, 0, 1,\n",
       "       1, 0, 0, 2, 1, 0, 0, 2, 3, 0, 0, 1, 0, 1, 1, 1, 0, 3, 2, 0, 3, 0, 3,\n",
       "       0, 1, 1, 0, 1, 0, 0, 3, 0, 3, 0, 3, 0, 0, 4, 2, 0, 4, 1, 3, 0, 0, 0,\n",
       "       0, 1, 4, 0, 1, 2, 0, 2, 2, 0, 1, 2, 3, 0, 0, 2, 3, 0, 3, 0, 4, 0, 0,\n",
       "       4, 0, 2, 2, 0, 1, 0, 0, 2, 3, 2, 0, 2, 1, 0, 1, 0, 0, 0, 3, 0, 0, 1,\n",
       "       0, 4, 0, 1, 0, 2, 2, 3, 1, 0, 0, 0, 1, 2, 0, 3, 0, 3, 0, 3, 3, 2, 1,\n",
       "       0, 0, 1, 1, 1, 0, 1, 0, 0, 3, 2, 0, 3, 3, 1, 0, 0, 2, 0, 0, 0, 4, 1,\n",
       "       3, 3, 0, 1, 0, 3, 0, 1, 1, 0, 1, 0, 0, 1, 1, 0, 0, 3, 0, 2, 0, 0, 0,\n",
       "       0, 1, 0, 1, 0, 0, 0, 3, 1, 2, 1, 0, 1, 0, 0, 1, 0, 1, 2, 1, 0, 0, 0,\n",
       "       0, 0, 0, 0, 3, 0, 0, 0, 4, 2, 0, 1, 3, 0, 1, 0, 0, 0, 0, 0, 0, 2, 3,\n",
       "       1, 0, 0, 0, 3, 2, 1, 0, 4, 0, 0, 0, 1, 3, 1, 1, 0, 1, 2, 1, 0, 2, 3,\n",
       "       3, 3, 1, 1, 0, 3, 2, 0, 2, 0, 1, 1, 2, 3, 1, 0, 0, 4, 0, 0, 0, 2, 2,\n",
       "       1, 0, 0, 0, 2, 1, 0, 1, 1, 2, 3, 3, 0, 1, 0, 3, 3, 0, 0, 0, 0, 0, 0,\n",
       "       0, 4, 3, 2, 0, 0, 1, 1, 1, 0, 3, 3, 0, 0, 4, 0, 1, 2, 1, 1, 0, 0, 4,\n",
       "       3, 2, 3, 1, 2, 2, 3, 3, 3, 1, 0, 2, 2, 0, 0, 0, 1, 2, 3, 2, 1, 0, 1,\n",
       "       0, 4, 0, 1, 0, 2, 0, 0, 1, 2, 0, 3, 3, 0, 1, 2, 2, 1, 2, 0, 0, 2, 0,\n",
       "       0, 1, 3, 0, 0, 0, 2, 0, 2, 2, 0, 2, 2, 1, 1, 2, 3, 0, 0, 0, 1, 1, 0,\n",
       "       2, 3, 3, 0, 0, 2, 2, 0, 1, 3, 1, 0, 0, 1, 0, 1, 2, 3, 2, 4, 1, 0, 2,\n",
       "       0, 1, 1, 3, 3, 1, 0, 1, 0, 0, 1, 0, 0, 0, 0, 2, 0, 0, 0, 0, 0, 0, 1,\n",
       "       1, 1, 0, 1, 3, 0, 0, 3, 0, 0, 2, 1, 0, 0, 4, 2, 4, 1, 3, 0, 0, 2, 4,\n",
       "       2, 0, 0, 3, 1, 1, 3, 0, 0, 0, 1, 1, 0, 3, 0, 0, 0, 3, 0, 0, 0, 2, 0,\n",
       "       0, 0, 1, 3, 1, 0, 3, 0, 0, 3, 2, 4, 1, 0, 2, 0, 1, 0, 0, 1, 0, 1, 3,\n",
       "       0, 1, 0, 1, 1, 0, 0, 1, 0, 2, 0, 0, 0, 1, 2, 0, 2, 3, 1, 3, 0, 0, 3,\n",
       "       2, 3, 1, 3, 3, 2, 2, 1, 1, 2, 1, 0, 2, 0, 2, 0, 0, 0, 0, 1, 0, 0, 2,\n",
       "       0, 3, 0, 1, 0, 0, 0, 1, 1, 3, 2, 0, 0, 0, 3, 0, 0, 1, 1, 0, 1, 2, 0,\n",
       "       0, 0, 2, 1, 4, 0, 1, 3, 0, 0, 0, 0, 1, 0, 0, 0, 3, 1, 1, 4, 1, 4, 1,\n",
       "       0, 0, 1, 1, 3, 3, 3, 0, 0, 4, 2, 0, 1, 0, 3, 0, 3, 1, 0, 0, 0, 0, 0,\n",
       "       1, 0, 1, 0, 0, 2, 1, 1, 2, 0, 2, 0, 3, 1, 3, 1, 0, 1, 4, 0, 0, 1, 1,\n",
       "       2, 2, 1, 4, 0, 2, 1, 0, 0, 0, 0, 3, 0, 0, 2, 1, 4, 1, 3, 2, 1, 0, 3,\n",
       "       0, 0, 0, 0, 0, 2, 0, 0, 2, 3, 1, 2, 0, 0, 0, 0, 0, 3, 0, 3, 1, 3, 2,\n",
       "       0, 0, 2, 4, 4, 2, 0, 0, 3, 0, 1, 3, 3, 0, 0, 2, 0, 1, 3, 3, 0, 0, 0,\n",
       "       0, 0, 0, 1, 0, 0, 0, 4, 3, 0, 2, 1, 0, 1, 3, 1, 3, 1, 3, 0, 1, 0, 0,\n",
       "       3, 0, 2, 0, 4, 3, 2, 3, 0, 2, 0, 1, 0, 2, 3, 4, 2, 0, 1, 1, 2, 0, 2,\n",
       "       0, 1, 0, 3, 4, 3, 2, 1, 3, 3, 2, 3, 1, 3, 2, 0, 0, 0, 0, 0, 2, 3, 0,\n",
       "       0, 3, 1, 1, 0, 0, 2, 2, 0, 0, 1, 0, 4, 0, 0])"
      ]
     },
     "execution_count": 25,
     "metadata": {},
     "output_type": "execute_result"
    }
   ],
   "source": [
    "y_train.astype(int)"
   ]
  },
  {
   "cell_type": "code",
   "execution_count": 26,
   "metadata": {
    "collapsed": false
   },
   "outputs": [
    {
     "data": {
      "text/plain": [
       "array([ 0.68398984,  0.49858498,  1.60079445,  1.45959164,  0.76827442,\n",
       "        1.57466665,  1.41147639,  1.77778844,  1.42087041,  1.21644494,\n",
       "        1.1329527 ,  1.21950763,  1.95229548,  1.80698376,  0.9887669 ,\n",
       "        0.32619575,  1.93178861,  1.59299933,  1.68731854,  1.56592565,\n",
       "        1.42967158,  1.56081906,  1.019553  ,  0.92150463,  1.99256749,\n",
       "        0.77920303,  1.40291053,  1.68273655,  0.72485838,  1.58798853,\n",
       "        1.04622103,  1.18140719,  1.8048594 ,  1.49139752,  0.93243256,\n",
       "        0.92796491,  1.37655841,  1.75637776,  1.36186398,  1.90587788,\n",
       "        1.17114728,  1.05675166,  1.67141733,  1.33287283,  1.05835484,\n",
       "        1.18215477,  0.29499065,  1.75131551,  1.64064815,  0.60837268,\n",
       "        1.43750806,  1.5337531 ,  1.69654728,  0.68301553,  1.56527789,\n",
       "        0.66731887,  0.9461121 ,  0.91375816,  1.31625374,  1.45339994,\n",
       "        1.68824863,  0.72682703,  1.03574445,  1.196565  ,  1.70210496,\n",
       "        0.8002016 ,  1.29029394,  0.6565977 ,  1.57968772,  1.76182193,\n",
       "        1.44178823,  0.56049863,  1.20832443,  0.86381733,  1.09112034,\n",
       "        0.86759496,  1.56397991,  1.37180664,  0.22428121,  1.54800201,\n",
       "        0.90044306,  1.04580918,  1.57326282,  1.07994879,  0.47064891,\n",
       "        0.87012518,  1.69089258,  1.17390401,  0.51602456,  0.83003429,\n",
       "        1.02870985,  0.46605881,  1.25154346,  0.74389401,  1.53137702,\n",
       "        0.92097118,  0.74645232,  1.10331157,  0.42125351,  1.15311577])"
      ]
     },
     "execution_count": 26,
     "metadata": {},
     "output_type": "execute_result"
    }
   ],
   "source": [
    "model_clf.predict(X_test)"
   ]
  },
  {
   "cell_type": "code",
   "execution_count": null,
   "metadata": {
    "collapsed": true
   },
   "outputs": [],
   "source": []
  }
 ],
 "metadata": {
  "kernelspec": {
   "display_name": "Python 2",
   "language": "python",
   "name": "python2"
  },
  "language_info": {
   "codemirror_mode": {
    "name": "ipython",
    "version": 2
   },
   "file_extension": ".py",
   "mimetype": "text/x-python",
   "name": "python",
   "nbconvert_exporter": "python",
   "pygments_lexer": "ipython2",
   "version": "2.7.12"
  }
 },
 "nbformat": 4,
 "nbformat_minor": 0
}
