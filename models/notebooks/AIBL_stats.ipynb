{
 "cells": [
  {
   "cell_type": "code",
   "execution_count": 1,
   "metadata": {
    "collapsed": false
   },
   "outputs": [
    {
     "name": "stderr",
     "output_type": "stream",
     "text": [
      "/projects/nikhil/ADNI_prediction/code/conda_envs/adni-conda/lib/python2.7/site-packages/pandas/computation/__init__.py:19: UserWarning: The installed version of numexpr 2.4.4 is not supported in pandas and will be not be used\n",
      "\n",
      "  UserWarning)\n",
      "/projects/nikhil/ADNI_prediction/code/conda_envs/adni-conda/lib/python2.7/site-packages/IPython/html.py:14: ShimWarning: The `IPython.html` package has been deprecated. You should import from `notebook` instead. `IPython.html.widgets` has moved to `ipywidgets`.\n",
      "  \"`IPython.html.widgets` has moved to `ipywidgets`.\", ShimWarning)\n"
     ]
    }
   ],
   "source": [
    "# Basic lib imports\n",
    "import numpy as np\n",
    "import pandas as pd \n",
    "import matplotlib.pyplot as plt\n",
    "import collections\n",
    "from scipy import stats\n",
    "import seaborn as sns\n",
    "import pickle\n",
    "%matplotlib inline"
   ]
  },
  {
   "cell_type": "code",
   "execution_count": 13,
   "metadata": {
    "collapsed": false
   },
   "outputs": [],
   "source": [
    "baseline_dir = '/projects/nikhil/AIBL/Data_extract_3.2.5/'\n",
    "mmse_file = 'aibl_mmse_28-Apr-2015_linux.csv'\n",
    "dx_file = 'aibl_pdxconv_28-Apr-2015_linux.csv'\n",
    "cs_data = pd.read_csv(baseline_dir + mmse_file)\n",
    "dx_data = pd.read_csv(baseline_dir + dx_file)"
   ]
  },
  {
   "cell_type": "code",
   "execution_count": 15,
   "metadata": {
    "collapsed": false
   },
   "outputs": [
    {
     "name": "stdout",
     "output_type": "stream",
     "text": [
      "bl,1: 609\n",
      "bl,2: 143\n",
      "bl,3: 105\n",
      "m18,1: 172\n",
      "m18,2: 34\n",
      "m18,3: 55\n",
      "m36,1: 144\n",
      "m36,2: 30\n",
      "m36,3: 46\n",
      "m54,1: 108\n",
      "m54,2: 18\n",
      "m54,3: 15\n"
     ]
    }
   ],
   "source": [
    "for vis in ['bl','m18','m36','m54']:\n",
    "    for dx in [1,2,3]:\n",
    "        print '{},{}: {}'.format(vis,dx,len(dx_data[(dx_data.VISCODE == vis) & (dx_data.DXCURREN == dx)]))"
   ]
  },
  {
   "cell_type": "code",
   "execution_count": 23,
   "metadata": {
    "collapsed": false
   },
   "outputs": [
    {
     "data": {
      "text/plain": [
       "(array([    5.,     0.,     0.,     0.,  1033.,   225.,   221.,     0.,\n",
       "            0.,     3.]),\n",
       " array([-4. , -2.9, -1.8, -0.7,  0.4,  1.5,  2.6,  3.7,  4.8,  5.9,  7. ]),\n",
       " <a list of 10 Patch objects>)"
      ]
     },
     "execution_count": 23,
     "metadata": {},
     "output_type": "execute_result"
    },
    {
     "data": {
      "image/png": "[encoded data removed]",
      "text/plain": [
       "<matplotlib.figure.Figure at 0x7f2221c39cd0>"
      ]
     },
     "metadata": {},
     "output_type": "display_data"
    }
   ],
   "source": [
    "plt.hist(dx_data.DXCURREN.values)"
   ]
  },
  {
   "cell_type": "code",
   "execution_count": null,
   "metadata": {
    "collapsed": true
   },
   "outputs": [],
   "source": []
  }
 ],
 "metadata": {
  "kernelspec": {
   "display_name": "Python 2",
   "language": "python",
   "name": "python2"
  },
  "language_info": {
   "codemirror_mode": {
    "name": "ipython",
    "version": 2
   },
   "file_extension": ".py",
   "mimetype": "text/x-python",
   "name": "python",
   "nbconvert_exporter": "python",
   "pygments_lexer": "ipython2",
   "version": "2.7.12"
  }
 },
 "nbformat": 4,
 "nbformat_minor": 0
}
