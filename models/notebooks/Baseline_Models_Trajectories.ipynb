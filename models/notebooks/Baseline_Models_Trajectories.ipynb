{
 "cells": [
  {
   "cell_type": "code",
   "execution_count": 1,
   "metadata": {
    "collapsed": false
   },
   "outputs": [
    {
     "name": "stderr",
     "output_type": "stream",
     "text": [
      "/projects/nikhil/ADNI_prediction/code/conda_envs/adni-conda/lib/python2.7/site-packages/pandas/computation/__init__.py:19: UserWarning: The installed version of numexpr 2.4.4 is not supported in pandas and will be not be used\n",
      "\n",
      "  UserWarning)\n",
      "/projects/nikhil/ADNI_prediction/code/conda_envs/adni-conda/lib/python2.7/site-packages/IPython/html.py:14: ShimWarning: The `IPython.html` package has been deprecated. You should import from `notebook` instead. `IPython.html.widgets` has moved to `ipywidgets`.\n",
      "  \"`IPython.html.widgets` has moved to `ipywidgets`.\", ShimWarning)\n"
     ]
    }
   ],
   "source": [
    "# Basic Imports\n",
    "import numpy as np\n",
    "import pandas as pd\n",
    "from scipy import stats\n",
    "import pickle\n",
    "import re\n",
    "import collections\n",
    "import tables as tb\n",
    "from math import isnan\n",
    "import matplotlib.pyplot as plt\n",
    "import seaborn as sns\n",
    "from sklearn import preprocessing\n",
    "from sklearn.cross_validation import StratifiedKFold\n",
    "from sklearn.cross_validation import KFold\n",
    "\n",
    "%matplotlib inline\n",
    "#plt.rcParams['figure.figsize'] = (15, 10)\n",
    "#plt.style.use('ggplot')"
   ]
  },
  {
   "cell_type": "code",
   "execution_count": 2,
   "metadata": {
    "collapsed": false
   },
   "outputs": [],
   "source": [
    "# Some Defs\n",
    "def pickleIt(my_data,save_path):\n",
    "    f = open(save_path, 'wb')\n",
    "    pickle.dump(my_data, f)\n",
    "    f.close()\n",
    "\n",
    "#Outer Fold Computation (need the imports inside def if you want to parallelize!)\n",
    "def computeOuterFold(train_X, train_y, valid_X, valid_y, model_clf, hyper_params, output_type, model_type):    \n",
    "    import collections\n",
    "    from sklearn.linear_model import LinearRegression\n",
    "    from sklearn.linear_model import Lasso\n",
    "    from sklearn.svm import SVR\n",
    "    from sklearn.ensemble import RandomForestRegressor\n",
    "    from sklearn import grid_search\n",
    "    import datetime\n",
    "    import time\n",
    "    import collections\n",
    "    from scipy.stats import mode\n",
    "    from sklearn.metrics import mean_squared_error as mse\n",
    "    from sklearn.metrics import mean_absolute_error as mae\n",
    "    from scipy import stats\n",
    "    import numpy as np\n",
    "    \n",
    "    print 'Starting Outerfold computation'\n",
    "    \n",
    "    hp_dict = collections.defaultdict(list) #store best hyper-parameters for each fold\n",
    "    inner_loop = True\n",
    "    if inner_loop:     \n",
    "        print 'Starting InnerFold computation'        \n",
    "        clf = innerCVLoop(model_clf,hyper_params,train_X, train_y)\n",
    "        for hp in hyper_params:\n",
    "            hp_dict[hp].append(clf.best_estimator_.get_params()[hp])\n",
    "            \n",
    "        print 'Ending InnerFold computation'\n",
    "\n",
    "    else:\n",
    "        clf = model_clf\n",
    "        clf.fit(fold_X,fold_y)\n",
    "    \n",
    "    if output_type == 'regression':\n",
    "        #CV_scores    \n",
    "        r_train = stats.pearsonr(clf.predict(train_X),train_y)\n",
    "        r_valid = stats.pearsonr(clf.predict(valid_X),valid_y)\n",
    "\n",
    "        R2_train = clf.score(train_X,train_y) \n",
    "        R2_valid = clf.score(valid_X,valid_y)\n",
    "\n",
    "        MSE_train = mse(clf.predict(train_X),train_y)\n",
    "        MSE_valid = mse(clf.predict(valid_X),valid_y)\n",
    "\n",
    "        MAE_train = mae(clf.predict(train_X),train_y)\n",
    "        MAE_valid = mae(clf.predict(valid_X),valid_y)\n",
    "        \n",
    "        return_dict = {'r_train':r_train, 'r_valid':r_valid, 'R2_train':R2_train, 'R2_valid':R2_valid,\n",
    "            'MSE_train':MSE_train, 'MSE_valid':MSE_valid, 'MAE_train':MAE_train, 'MAE_valid':MAE_valid,\n",
    "            'hp_dict':hp_dict, 'predicted_fold_score': clf.predict(valid_X), 'actual_fold_scores':valid_y}\n",
    "        \n",
    "    elif output_type == 'classify':\n",
    "        pred_y = clf.predict(valid_X) #Specific label value\n",
    "#         if model_type == 'SVC':\n",
    "#             pred_y_prob = np.transpose(np.vstack((pred_y,1-pred_y))) #no probs for SVMs!             \n",
    "#         else:\n",
    "        pred_y_prob = clf.predict_proba(valid_X) #Label probabilty (used for ROC)\n",
    "\n",
    "        #feature imp (issue with the innerCVLoop)\n",
    "        if model_type == 'RFC':\n",
    "            feat_imp = clf.best_estimator_.feature_importances_\n",
    "        elif model_type == 'LR_L1':\n",
    "            feat_imp = clf.best_estimator_.coef_ \n",
    "        else: \n",
    "            print \"Unknown model for computing feature importance. Setting it to zeros\"\n",
    "            feat_imp = np.zeros(len(pred_y))\n",
    "\n",
    "        print 'Ending OuterFold computation'\n",
    "\n",
    "        return_dict = {'actual_fold_scores':valid_y, 'predicted_fold_prob':pred_y_prob, 'predicted_fold_score': pred_y, \n",
    "                'hp_dict':hp_dict, 'feat_imp': feat_imp}\n",
    "    \n",
    "    else: \n",
    "        print 'unknown output_type'\n",
    "\n",
    "    print 'Ending OuterFold computation'\n",
    "    \n",
    "    return return_dict\n",
    "\n",
    "#Inner Fold Computation (need the imports inside def if you want to parallelize!)\n",
    "def innerCVLoop(model_clf,hyper_params,fold_X, fold_y):\n",
    "    from sklearn.linear_model import LinearRegression\n",
    "    from sklearn.linear_model import Lasso\n",
    "    from sklearn.svm import SVR\n",
    "    from sklearn.ensemble import RandomForestRegressor\n",
    "    from sklearn import grid_search\n",
    "    clf = grid_search.GridSearchCV(model_clf, hyper_params,cv=3,verbose=0)\n",
    "    clf.fit(fold_X, fold_y)   \n",
    "    return clf\n",
    "\n",
    "def autolabel(rects,_ax):\n",
    "    for rect in rects:\n",
    "        height = rect.get_height()\n",
    "        _ax.text(rect.get_x() + rect.get_width()/2., 1.1*height,\n",
    "                '{:03.2f}'.format(height),\n",
    "                ha='center',            # vertical alignment\n",
    "                va='bottom',             # horizontal alignment\n",
    "                fontsize = 35)"
   ]
  },
  {
   "cell_type": "code",
   "execution_count": 3,
   "metadata": {
    "collapsed": false
   },
   "outputs": [],
   "source": [
    "# Data imports\n",
    "my_name = 'Traj_Exp4'\n",
    "cohort = 'ADNI2'\n",
    "clinical_scale = 'ADAS13'\n",
    "exp_name = '{}_{}_{}'.format(my_name,cohort,clinical_scale)\n",
    "\n",
    "baseline_dir = '/projects/nikhil/ADNI_prediction/input_datasets/longitudinal_trajectories/'\n",
    "in_data_file = 'input_csv/Longitduinal_HC_CT_data.csv'\n",
    "in_data = pd.read_csv(baseline_dir + in_data_file)"
   ]
  },
  {
   "cell_type": "code",
   "execution_count": null,
   "metadata": {
    "collapsed": false
   },
   "outputs": [],
   "source": [
    "from sklearn.metrics import mean_absolute_error as mae\n",
    "from sklearn.metrics import mean_squared_error as mse\n",
    "a = in_data['ADAS13_bl'].values\n",
    "b = in_data['ADAS13_m12'].values\n",
    "finite_idx = np.isfinite(b)\n",
    "a = a[finite_idx]\n",
    "b = b[finite_idx]\n",
    "finite_idx = np.isfinite(a)\n",
    "a = a[finite_idx]\n",
    "b = b[finite_idx]\n",
    "r = stats.pearsonr(a,b)\n",
    "mae = mae(a,b)\n",
    "mse = mse(a,b)\n",
    "print r, mae, mse"
   ]
  },
  {
   "cell_type": "code",
   "execution_count": 22,
   "metadata": {
    "collapsed": false,
    "scrolled": true
   },
   "outputs": [],
   "source": [
    "# features / variables\n",
    "clinical_scale = ['ADAS13']\n",
    "hc_feat = ['L_CA1','L_subiculum','L_CA4DG','L_CA2CA3','L_stratum','L_Alv','L_Fimb','L_Fornix','L_Mam',\n",
    "                 'R_CA1','R_subiculum','R_CA4DG','R_CA2CA3','R_stratum','R_Alv','R_Fimb','R_Fornix','R_Mam']\n",
    "ct_feat = ['AAL_1', 'AAL_2', 'AAL_3','AAL_4', 'AAL_5', 'AAL_6', 'AAL_7', 'AAL_8', 'AAL_9', 'AAL_10',\n",
    "                 'AAL_11', 'AAL_12', 'AAL_13', 'AAL_14', 'AAL_15', 'AAL_16', 'AAL_17', 'AAL_18', 'AAL_19', 'AAL_20', \n",
    "                 'AAL_21', 'AAL_22', 'AAL_23', 'AAL_24', 'AAL_25', 'AAL_26', 'AAL_27', 'AAL_28', 'AAL_29', 'AAL_30', \n",
    "                 'AAL_31', 'AAL_32', 'AAL_33', 'AAL_34', 'AAL_35', 'AAL_36', 'AAL_39', 'AAL_40', 'AAL_43', 'AAL_44', \n",
    "                 'AAL_45', 'AAL_46', 'AAL_47', 'AAL_48', 'AAL_49', 'AAL_50', 'AAL_51', 'AAL_52', 'AAL_53', 'AAL_54',\n",
    "                 'AAL_55', 'AAL_56', 'AAL_57', 'AAL_58', 'AAL_59', 'AAL_60', 'AAL_61', 'AAL_62', 'AAL_63', 'AAL_64', \n",
    "                 'AAL_65', 'AAL_66', 'AAL_67', 'AAL_68', 'AAL_69', 'AAL_70', 'AAL_79', 'AAL_80', 'AAL_81', 'AAL_82',\n",
    "                 'AAL_83', 'AAL_84', 'AAL_85', 'AAL_86', 'AAL_87', 'AAL_88', 'AAL_89', 'AAL_90']\n",
    "\n",
    "\n",
    "# Pick input features (modalities)\n",
    "mr_feat = hc_feat + ct_feat + clinical_scale\n",
    "\n",
    "#Pick timepoints for input and output variables\n",
    "timepoint_mr = '_bl'\n",
    "timepoint_cs = '_m24'\n",
    "\n",
    "feat=[]\n",
    "for c, cs in enumerate(clinical_scale):\n",
    "    clinical_scale[c] = cs + timepoint_cs\n",
    "for m, mr in enumerate(mr_feat):\n",
    "    feat.append(mr + timepoint_mr)\n",
    "\n",
    "#additional timpoint for structural features (hc or ct)\n",
    "# timepoint_mr = '_m12'\n",
    "# for m, mr in enumerate(hc_feat+ct_feat):\n",
    "#     feat.append(mr + timepoint_mr)\n"
   ]
  },
  {
   "cell_type": "code",
   "execution_count": 23,
   "metadata": {
    "collapsed": false
   },
   "outputs": [
    {
     "name": "stdout",
     "output_type": "stream",
     "text": [
      "(295, 97) (295,) (295,)\n",
      "108\n"
     ]
    }
   ],
   "source": [
    "traj_threshold = 'PointMod4'\n",
    "X = np.array(in_data[feat])\n",
    "y = np.squeeze(np.array(in_data[traj_threshold]))\n",
    "#y_dx = np.squeeze(np.array(in_data[['DX_cat'+timepoint_mr]]))\n",
    "y_dx = np.squeeze(np.array(in_data[traj_threshold]))\n",
    "\n",
    "filtered_idx = np.isfinite(y)\n",
    "y = y[filtered_idx]\n",
    "y_dx = y_dx[filtered_idx]\n",
    "X = X[filtered_idx,:]\n",
    "\n",
    "print X.shape, y.shape, y_dx.shape\n",
    "print len(y[y==1])"
   ]
  },
  {
   "cell_type": "code",
   "execution_count": 24,
   "metadata": {
    "collapsed": false
   },
   "outputs": [
    {
     "name": "stdout",
     "output_type": "stream",
     "text": [
      "Stratified KFold\n",
      "DX distribution (AD,CN,LMCI): (19, 11, 0)\n",
      "y_train_mean: 0.366037735849, y_test_mean: 0.366666666667\n",
      "DX distribution (AD,CN,LMCI): (19, 11, 0)\n",
      "y_train_mean: 0.366037735849, y_test_mean: 0.366666666667\n",
      "DX distribution (AD,CN,LMCI): (19, 11, 0)\n",
      "y_train_mean: 0.366037735849, y_test_mean: 0.366666666667\n",
      "DX distribution (AD,CN,LMCI): (19, 11, 0)\n",
      "y_train_mean: 0.366037735849, y_test_mean: 0.366666666667\n",
      "DX distribution (AD,CN,LMCI): (19, 11, 0)\n",
      "y_train_mean: 0.366037735849, y_test_mean: 0.366666666667\n",
      "DX distribution (AD,CN,LMCI): (19, 11, 0)\n",
      "y_train_mean: 0.366037735849, y_test_mean: 0.366666666667\n",
      "DX distribution (AD,CN,LMCI): (19, 11, 0)\n",
      "y_train_mean: 0.366037735849, y_test_mean: 0.366666666667\n",
      "DX distribution (AD,CN,LMCI): (18, 11, 0)\n",
      "y_train_mean: 0.364661654135, y_test_mean: 0.379310344828\n",
      "DX distribution (AD,CN,LMCI): (18, 10, 0)\n",
      "y_train_mean: 0.367041198502, y_test_mean: 0.357142857143\n",
      "DX distribution (AD,CN,LMCI): (18, 10, 0)\n",
      "y_train_mean: 0.367041198502, y_test_mean: 0.357142857143\n",
      "Saving exp_setup to: /projects/nikhil/ADNI_prediction/input_datasets/longitudinal_trajectories/exp_setup/CV_Traj_Exp4_ADNI2_ADAS13_MR_bl_CS_m24_traj_PointMod4.pkl\n"
     ]
    }
   ],
   "source": [
    "# Create folds for CV (default Stratified based on DX)\n",
    "save_experimental_setup = True #Saves X, y, and KF\n",
    "\n",
    "n_folds = 10\n",
    "KF_type = 'stratified' #baseline_dir + 'exp_data/CV_Exp6_ADNI1and2_ADAS13.pkl'  #'path/to/previous/setup' or 'stratified' or 'none'\n",
    "if KF_type == 'none':\n",
    "    print 'KFold'\n",
    "    kf = KFold(len(y), n_folds=10)\n",
    "elif KF_type == 'stratified': \n",
    "    print 'Stratified KFold'\n",
    "    kf = StratifiedKFold(y_dx, n_folds=10)\n",
    "else:\n",
    "    print 'Loading previously saved KF from: {}'.format(KF_type)\n",
    "    old_exp_setup = pickle.load( open(KF_type, \"rb\" ) )\n",
    "    kf = old_exp_setup['kf']\n",
    "    \n",
    "for train_index, test_index in kf:    \n",
    "    X_train, X_test = X[train_index], X[test_index]\n",
    "    y_train, y_test = y[train_index], y[test_index]\n",
    "    print 'DX distribution (AD,CN,LMCI): {}'.format((np.sum(y_dx[test_index]==0),np.sum(y_dx[test_index]==1),\n",
    "                                              np.sum(y_dx[test_index]==2)))\n",
    "    print 'y_train_mean: {}, y_test_mean: {}'.format(np.mean(y_train),np.mean(y_test))\n",
    "\n",
    "common_keys = in_data[['ImageUID']] #Uniq image ids for mapping subjects\n",
    "\n",
    "save_path = baseline_dir + 'exp_setup/CV_{}_MR{}_CS{}_traj_{}.pkl'.format(exp_name,timepoint_mr,timepoint_cs,traj_threshold)    \n",
    "print 'Saving exp_setup to: {}'.format(save_path)\n",
    "if save_experimental_setup:    \n",
    "    exp_setup = {'X': X, 'y': y, 'y_dx': y_dx, 'kf':kf,'common_subs':common_keys,'exp_name':exp_name}    \n",
    "    pickleIt(exp_setup, save_path)        "
   ]
  },
  {
   "cell_type": "code",
   "execution_count": null,
   "metadata": {
    "collapsed": false
   },
   "outputs": [],
   "source": [
    "\n",
    "# QC plots\n",
    "qc_dict = {}\n",
    "foldx = 0\n",
    "idx = 0\n",
    "for train_index, test_index in kf:        \n",
    "    X_train, X_test = X[train_index], X[test_index]\n",
    "    y_train, y_test = y[train_index], y[test_index]\n",
    "        \n",
    "    for i in range(X_train.shape[1]): \n",
    "        if i < 18:\n",
    "            modality = 'hc'\n",
    "        else: \n",
    "            modality = 'ct'\n",
    "            \n",
    "        vol_mean_train = np.mean(X_train[:,i])\n",
    "        corr_train = stats.pearsonr(X_train[:,i],y_train)[0]                \n",
    "        qc_dict[idx]={'structure':mr_feat[i],'subset':'train','vol':vol_mean_train,'r':corr_train,'fold':foldx,'modality':modality}\n",
    "        idx += 1\n",
    "        \n",
    "        vol_mean_test = np.mean(X_test[:,i])\n",
    "        corr_test = stats.pearsonr(X_test[:,i],y_test)[0]        \n",
    "        qc_dict[idx]={'structure':mr_feat[i],'subset':'test','vol':vol_mean_test,'r':corr_test,'fold':foldx,'modality':modality}\n",
    "        idx += 1\n",
    "    \n",
    "    foldx += 1\n",
    "    \n",
    "qc_df = pd.DataFrame.from_dict(qc_dict,orient='index')"
   ]
  },
  {
   "cell_type": "code",
   "execution_count": null,
   "metadata": {
    "collapsed": false,
    "scrolled": true
   },
   "outputs": [],
   "source": [
    "sns.set_context(\"notebook\", font_scale=1)\n",
    "sns.set_style(\"ticks\")\n",
    "modality = 'hc'\n",
    "measure = 'r'\n",
    "g = sns.factorplot(x='structure', y=measure, hue='subset', col='fold', col_wrap=2, data=qc_df[qc_df.modality==modality], size=5, kind='bar')\n",
    "\n"
   ]
  },
  {
   "cell_type": "code",
   "execution_count": null,
   "metadata": {
    "collapsed": false
   },
   "outputs": [],
   "source": []
  },
  {
   "cell_type": "code",
   "execution_count": 4,
   "metadata": {
    "collapsed": false
   },
   "outputs": [],
   "source": [
    "# Configs for K-fold validations (nested)\n",
    "from sklearn.linear_model import LinearRegression\n",
    "from sklearn.linear_model import Lasso\n",
    "from sklearn.svm import SVR\n",
    "from sklearn.ensemble import RandomForestRegressor\n",
    "from sklearn.linear_model import LogisticRegression\n",
    "from sklearn.svm import SVC\n",
    "from sklearn.ensemble import RandomForestClassifier\n",
    "from sklearn import grid_search\n",
    "import datetime\n",
    "import time\n",
    "import collections\n",
    "from scipy.stats import mode\n",
    "from sklearn.metrics import mean_squared_error as mse\n",
    "from functools import partial #Parallelize!!! \n",
    "from sklearn.metrics import confusion_matrix\n",
    "from sklearn.metrics import roc_auc_score\n",
    "from sklearn.metrics import roc_curve, auc\n",
    "from sklearn.metrics import precision_recall_curve\n",
    "from sklearn.metrics import average_precision_score\n",
    "from scipy import interp\n",
    "from sklearn.metrics import accuracy_score as acc\n",
    "import ipyparallel as ipp\n",
    "from sklearn import preprocessing\n",
    "from sklearn.cross_validation import KFold\n",
    "import pickle\n",
    "import numpy as np\n",
    "from scipy import stats\n",
    "import matplotlib.pyplot as plt\n",
    "from imblearn.over_sampling import RandomOverSampler\n",
    "from imblearn.over_sampling import SMOTE\n",
    "from imblearn.over_sampling import ADASYN #For treating class imbalance"
   ]
  },
  {
   "cell_type": "code",
   "execution_count": 5,
   "metadata": {
    "collapsed": false
   },
   "outputs": [],
   "source": [
    "#Pick model with its configs/hyper-paramsd\n",
    "def getModel(model_choice,output_type): \n",
    "    if output_type == 'regression' :\n",
    "        if model_choice == 'LR_L1':\n",
    "            model_clf = Lasso()\n",
    "            hyper_params = {'alpha':[0.1, 0.05, 0.01]} \n",
    "            scale_data = True #Scales HC and CT features    \n",
    "            feat_imp = False   \n",
    "\n",
    "        elif model_choice == 'SVR':\n",
    "            model_clf = SVR()\n",
    "            hyper_params = {'kernel':['linear','rbf'], 'C':[1,10,25]}\n",
    "            scale_data = True #Scales HC and CT features        \n",
    "            feat_imp = False\n",
    "\n",
    "        elif model_choice == 'RFR':\n",
    "            model_clf = RandomForestRegressor(n_jobs=4)\n",
    "            hyper_params = {'n_estimators':[10,50,100,200],'min_samples_split':[2,4,8]}    \n",
    "            scale_data = False    \n",
    "            feat_imp = False   \n",
    "        else:\n",
    "            print \"Unknown model choice\"\n",
    "    \n",
    "    elif output_type =='classify':\n",
    "        if model_choice == 'LR_L1':\n",
    "            model_clf = LogisticRegression(penalty='l1',n_jobs=4,class_weight='balanced')\n",
    "            hyper_params = {'C':[0.01,.1,1,10]} \n",
    "            scale_data = True #Scales features (z-score)            \n",
    "            feat_imp = False #The learned weights of each variable\n",
    "\n",
    "        elif model_choice == 'SVC':\n",
    "            model_clf = SVC(class_weight='balanced',probability=True)\n",
    "            hyper_params = {'kernel':['linear','rbf'], 'C':[1,10]}\n",
    "            scale_data = True #Scales HC and CT features            \n",
    "            feat_imp = False\n",
    "\n",
    "        elif model_choice == 'RFC':    \n",
    "            model_clf = RandomForestClassifier(n_jobs=4,class_weight='balanced' )\n",
    "            hyper_params = {'n_estimators':[10,25,50],'min_samples_split':[2,4,8]}    \n",
    "            scale_data = False            \n",
    "            feat_imp = True   #RF oob based feature importance\n",
    "\n",
    "        else:\n",
    "            print \"Unknown model choice\"\n",
    "    \n",
    "    else: \n",
    "        print 'Unknown output type'\n",
    "\n",
    "    return {'model_clf':model_clf,'hyper_params':hyper_params,'scale_data':scale_data,'feat_imp':feat_imp}"
   ]
  },
  {
   "cell_type": "code",
   "execution_count": 27,
   "metadata": {
    "collapsed": false,
    "scrolled": false
   },
   "outputs": [
    {
     "name": "stdout",
     "output_type": "stream",
     "text": [
      "Modality: HC_CT, model: LR_L1, X shape (295, 96)\n",
      "using smote oversampling technique\n",
      "using smote oversampling technique\n",
      "using smote oversampling technique\n",
      "using smote oversampling technique\n",
      "using smote oversampling technique\n",
      "using smote oversampling technique\n",
      "using smote oversampling technique\n",
      "using smote oversampling technique\n",
      "using smote oversampling technique\n",
      "using smote oversampling technique\n",
      "most frequent hyper-params:{'C': array([10])}\n",
      "CV Acc (mean, std_err): 0.56, 0.04\n",
      "CV AUC (mean, std_err): 0.57, 0.04\n",
      "CV Confusion Matrix (mean): [[ 0.65857058  0.34142942]\n",
      " [ 0.58523327  0.41476673]]\n",
      "\n",
      "plotting :ROC\n",
      "Modality: HC_CT, model: SVC, X shape (295, 96)\n",
      "using smote oversampling technique\n",
      "using smote oversampling technique\n",
      "using smote oversampling technique\n",
      "using smote oversampling technique\n",
      "using smote oversampling technique\n",
      "using smote oversampling technique\n",
      "using smote oversampling technique\n",
      "using smote oversampling technique\n",
      "using smote oversampling technique\n",
      "using smote oversampling technique\n",
      "most frequent hyper-params:{'kernel': array(['rbf'], \n",
      "      dtype='|S3'), 'C': array([10])}\n",
      "CV Acc (mean, std_err): 0.58, 0.03\n",
      "CV AUC (mean, std_err): 0.57, 0.04\n",
      "CV Confusion Matrix (mean): [[ 0.65347359  0.34652641]\n",
      " [ 0.57741342  0.42258658]]\n",
      "\n",
      "plotting :ROC\n",
      "Modality: HC_CT, model: RFC, X shape (295, 96)\n",
      "using smote oversampling technique\n",
      "using smote oversampling technique\n",
      "using smote oversampling technique\n",
      "using smote oversampling technique\n",
      "using smote oversampling technique\n",
      "using smote oversampling technique\n",
      "using smote oversampling technique\n",
      "using smote oversampling technique\n",
      "using smote oversampling technique\n",
      "using smote oversampling technique\n",
      "most frequent hyper-params:{'n_estimators': array([50]), 'min_samples_split': array([2])}\n",
      "CV Acc (mean, std_err): 0.61, 0.01\n",
      "CV AUC (mean, std_err): 0.61, 0.03\n",
      "CV Confusion Matrix (mean): [[ 0.68526478  0.31473522]\n",
      " [ 0.53555611  0.46444389]]\n",
      "\n",
      "plotting :ROC\n",
      "Modality: HC_CS, model: LR_L1, X shape (295, 19)\n",
      "using smote oversampling technique\n",
      "using smote oversampling technique\n",
      "using smote oversampling technique\n",
      "using smote oversampling technique\n",
      "using smote oversampling technique\n",
      "using smote oversampling technique\n",
      "using smote oversampling technique\n",
      "using smote oversampling technique\n",
      "using smote oversampling technique\n",
      "using smote oversampling technique\n",
      "most frequent hyper-params:{'C': array([1])}\n",
      "CV Acc (mean, std_err): 0.64, 0.03\n",
      "CV AUC (mean, std_err): 0.68, 0.03\n",
      "CV Confusion Matrix (mean): [[ 0.74110752  0.25889248]\n",
      " [ 0.48036325  0.51963675]]\n",
      "\n",
      "plotting :ROC\n",
      "Modality: HC_CS, model: SVC, X shape (295, 19)\n",
      "using smote oversampling technique\n",
      "using smote oversampling technique\n",
      "using smote oversampling technique\n",
      "using smote oversampling technique\n",
      "using smote oversampling technique\n",
      "using smote oversampling technique\n",
      "using smote oversampling technique\n",
      "using smote oversampling technique\n",
      "using smote oversampling technique\n",
      "using smote oversampling technique\n",
      "most frequent hyper-params:{'kernel': array(['rbf'], \n",
      "      dtype='|S3'), 'C': array([10])}\n",
      "CV Acc (mean, std_err): 0.63, 0.03\n",
      "CV AUC (mean, std_err): 0.61, 0.02\n",
      "CV Confusion Matrix (mean): [[ 0.69629868  0.30370132]\n",
      " [ 0.4968648   0.5031352 ]]\n",
      "\n",
      "plotting :ROC\n",
      "Modality: HC_CS, model: RFC, X shape (295, 19)\n",
      "using smote oversampling technique\n",
      "using smote oversampling technique\n",
      "using smote oversampling technique\n",
      "using smote oversampling technique\n",
      "using smote oversampling technique\n",
      "using smote oversampling technique\n",
      "using smote oversampling technique\n",
      "using smote oversampling technique\n",
      "using smote oversampling technique\n",
      "using smote oversampling technique\n"
     ]
    },
    {
     "ename": "IOError",
     "evalue": "[Errno 24] Too many open files: u'/home/nikhil/.ipython/profile_default/security/ipcontroller-client.json'",
     "output_type": "error",
     "traceback": [
      "\u001b[0;31m---------------------------------------------------------------------------\u001b[0m",
      "\u001b[0;31mIOError\u001b[0m                                   Traceback (most recent call last)",
      "\u001b[0;32m<ipython-input-27-df57a2656092>\u001b[0m in \u001b[0;36m<module>\u001b[0;34m()\u001b[0m\n\u001b[1;32m    122\u001b[0m \u001b[0;34m\u001b[0m\u001b[0m\n\u001b[1;32m    123\u001b[0m         \u001b[0;31m# Parallization configs for ipython notebook cluster\u001b[0m\u001b[0;34m\u001b[0m\u001b[0;34m\u001b[0m\u001b[0m\n\u001b[0;32m--> 124\u001b[0;31m         \u001b[0mrc\u001b[0m \u001b[0;34m=\u001b[0m \u001b[0mipp\u001b[0m\u001b[0;34m.\u001b[0m\u001b[0mClient\u001b[0m\u001b[0;34m(\u001b[0m\u001b[0;34m)\u001b[0m\u001b[0;34m\u001b[0m\u001b[0m\n\u001b[0m\u001b[1;32m    125\u001b[0m         \u001b[0mdview\u001b[0m \u001b[0;34m=\u001b[0m \u001b[0mrc\u001b[0m\u001b[0;34m[\u001b[0m\u001b[0;34m:\u001b[0m\u001b[0;34m]\u001b[0m\u001b[0;34m\u001b[0m\u001b[0m\n\u001b[1;32m    126\u001b[0m         \u001b[0mdview\u001b[0m\u001b[0;34m.\u001b[0m\u001b[0mpush\u001b[0m\u001b[0;34m(\u001b[0m\u001b[0mdict\u001b[0m\u001b[0;34m(\u001b[0m\u001b[0mcomputeOuterFold\u001b[0m \u001b[0;34m=\u001b[0m \u001b[0mcomputeOuterFold\u001b[0m\u001b[0;34m)\u001b[0m\u001b[0;34m)\u001b[0m\u001b[0;34m\u001b[0m\u001b[0m\n",
      "\u001b[0;32m/projects/nikhil/ADNI_prediction/code/conda_envs/adni-conda/lib/python2.7/site-packages/ipyparallel/client/client.pyc\u001b[0m in \u001b[0;36m__init__\u001b[0;34m(self, url_file, profile, profile_dir, ipython_dir, context, debug, sshserver, sshkey, password, paramiko, timeout, cluster_id, **extra_args)\u001b[0m\n\u001b[1;32m    380\u001b[0m             )\n\u001b[1;32m    381\u001b[0m \u001b[0;34m\u001b[0m\u001b[0m\n\u001b[0;32m--> 382\u001b[0;31m         \u001b[0;32mwith\u001b[0m \u001b[0mopen\u001b[0m\u001b[0;34m(\u001b[0m\u001b[0murl_file\u001b[0m\u001b[0;34m)\u001b[0m \u001b[0;32mas\u001b[0m \u001b[0mf\u001b[0m\u001b[0;34m:\u001b[0m\u001b[0;34m\u001b[0m\u001b[0m\n\u001b[0m\u001b[1;32m    383\u001b[0m             \u001b[0mcfg\u001b[0m \u001b[0;34m=\u001b[0m \u001b[0mjson\u001b[0m\u001b[0;34m.\u001b[0m\u001b[0mload\u001b[0m\u001b[0;34m(\u001b[0m\u001b[0mf\u001b[0m\u001b[0;34m)\u001b[0m\u001b[0;34m\u001b[0m\u001b[0m\n\u001b[1;32m    384\u001b[0m \u001b[0;34m\u001b[0m\u001b[0m\n",
      "\u001b[0;31mIOError\u001b[0m: [Errno 24] Too many open files: u'/home/nikhil/.ipython/profile_default/security/ipcontroller-client.json'"
     ]
    },
    {
     "data": {
      "image/png": "[encoded data removed]",
      "text/plain": [
       "<matplotlib.figure.Figure at 0x7f24906f7850>"
      ]
     },
     "metadata": {},
     "output_type": "display_data"
    }
   ],
   "source": [
    "# Train and Test models\n",
    "from functools import partial #Parallelize!!! \n",
    "\n",
    "# Load save experimental setup\n",
    "exp_name = 'Traj_Exp4'\n",
    "Clinical_Scale = 'ADAS13'\n",
    "timepoint_mr = 'bl'\n",
    "timepoint_cs = 'm24'\n",
    "resample_train_data = True\n",
    "sampling_tech = 'smote'\n",
    "\n",
    "exp_setup_path = baseline_dir + 'exp_setup/CV_{}_ADNI2_ADAS13_MR_{}_CS_{}_traj_{}.pkl'.format(exp_name,timepoint_mr,timepoint_cs,traj_threshold)\n",
    "exp_setup = pickle.load( open(exp_setup_path, \"rb\" ) )\n",
    "\n",
    "modalities = ['HC_CT','HC_CS','CT_CS','HC_CT_CS']\n",
    "#modalities = ['MR_long_CS']\n",
    "X_raw = exp_setup['X']\n",
    "y = exp_setup['y']\n",
    "kf = exp_setup['kf']\n",
    "exp_name = exp_setup['exp_name']\n",
    "\n",
    "output_type = 'classify' #needs to be either 'classify' or 'regression'\n",
    "if output_type == 'regression':\n",
    "    model_list = ['LR_L1', 'SVR', 'RFR']\n",
    "elif output_type == 'classify':\n",
    "    model_list = ['LR_L1', 'SVC', 'RFC']\n",
    "else:\n",
    "    print 'unknow output type'\n",
    "\n",
    "save_CV_perf = False \n",
    "plt.rcParams['figure.figsize'] = (15,15)\n",
    "for modality in modalities:    \n",
    "    if modality == 'HC_CT_CS':\n",
    "        X_modality = X_raw\n",
    "    elif modality == 'MR_long_CS':\n",
    "        X_modality = X_raw\n",
    "    elif modality == 'HC_CT':\n",
    "        X_modality = X_raw[:,:96]\n",
    "    elif modality == 'HC_CS':\n",
    "        X_modality = np.hstack((X_raw[:,:18],X_raw[:,96:]))\n",
    "    elif modality == 'CT_CS':\n",
    "        X_modality = X_raw[:,18:]\n",
    "    elif modality == 'HC':\n",
    "        X_modality = X_raw[:,:18]\n",
    "    elif modality == 'CT':\n",
    "        X_modality = X_raw[:,18:96]\n",
    "    else:\n",
    "        print \"Wrong modality selected...\"\n",
    "\n",
    "    ####################\n",
    "    ## Select a model ##\n",
    "    ####################       \n",
    "    for model_choice in model_list:\n",
    "        model_def = getModel(model_choice,output_type)\n",
    "        model_clf = model_def['model_clf']\n",
    "        hyper_params = model_def['hyper_params']\n",
    "        scale_data = model_def['scale_data']    \n",
    "        feat_imp = model_def['feat_imp']\n",
    "\n",
    "        if scale_data:\n",
    "            X = preprocessing.scale(X_modality)\n",
    "        else:\n",
    "            X = X_modality\n",
    "\n",
    "        print 'Modality: {}, model: {}, X shape {}'.format(modality, model_choice, X.shape)\n",
    "        #Some paths to store models and performance stats\n",
    "        CV_model_dir = baseline_dir + 'output/'\n",
    "        save_model_path = CV_model_dir + exp_name + '_' + model_choice + '_' + modality\n",
    "        save_model = False \n",
    "        \n",
    "        # Create list of all the fold-subsets (needed for parallelization)\n",
    "        X_train = []\n",
    "        X_valid = []\n",
    "        y_train = []\n",
    "        y_valid = []    \n",
    "        for train, valid in kf:\n",
    "            if resample_train_data:             \n",
    "                #resample with tools from: https://github.com/scikit-learn-contrib/imbalanced-learn\n",
    "                if sampling_tech == 'adasyn':                    \n",
    "                    resamp_tech = ADASYN()\n",
    "                elif sampling_tech == 'smote':\n",
    "                    resamp_tech = SMOTE(kind='regular')\n",
    "                else:\n",
    "                    resamp_tech = RandomOverSampler()\n",
    "                \n",
    "                print 'using {} oversampling technique'.format(sampling_tech)                    \n",
    "                X_resampled, y_resampled = resamp_tech.fit_sample(X[train], y[train])\n",
    "                #print 'Original shapes: X{}, y:{}, y==1: {}'.format(X[train].shape, y[train].shape, np.sum(y[train]))\n",
    "                #print 'Resampled shapes: X{}, y:{}, y==1: {}'.format(X_resampled.shape, y_resampled.shape, np.sum(y_resampled))                \n",
    "                X_train.append(X_resampled)\n",
    "                y_train.append(y_resampled)\n",
    "            else:\n",
    "                X_train.append(X[train])\n",
    "                y_train.append(y[train])\n",
    "            \n",
    "            # No need to resample test data\n",
    "            X_valid.append(X[valid])            \n",
    "            y_valid.append(y[valid])\n",
    "\n",
    "        # Compute various statistics on the predicted results acorss 10 Folds    \n",
    "        if output_type == 'regression':\n",
    "            CV_r_train=[] #pearson r score for each outer fold on train set\n",
    "            CV_r_valid=[] #pearson r score for each outer fold on validation set\n",
    "            CV_R2_train=[] #R2 score for each outer fold on train set\n",
    "            CV_R2_valid=[] #R2 score for each outer fold on validation set\n",
    "            CV_MSE_train=[] #MSE for each outer fold on train set\n",
    "            CV_MSE_valid=[] #MSE for each outer fold on validation set    \n",
    "            CV_MAE_train=[] #MSE for each outer fold on train set\n",
    "            CV_MAE_valid=[] #MSE for each outer fold on validation set\n",
    "        elif output_type == 'classify':        \n",
    "            CV_Acc_valid=[] #Acuracy\n",
    "            CV_CM_valid=[] #Confusion matrix\n",
    "            CV_AUC_valid=[] #ROC and AUC       \n",
    "            CV_fpr_tpr = []\n",
    "            CV_fpr_tpr_thrsh = []\n",
    "            CV_feat_imp = []\n",
    "        else: \n",
    "            print 'unknown output type'\n",
    "\n",
    "        predicted_CV_scores = []\n",
    "        actual_CV_scores = []\n",
    "\n",
    "        # Parallization configs for ipython notebook cluster    \n",
    "        rc = ipp.Client()\n",
    "        dview = rc[:]\n",
    "        dview.push(dict(computeOuterFold = computeOuterFold))\n",
    "        dview.push(dict(innerCVLoop = innerCVLoop))\n",
    "        mapfunc = partial(computeOuterFold, model_clf=model_clf, hyper_params=hyper_params, output_type=output_type, model_type=model_choice)\n",
    "        parallel_result = dview.map_sync(mapfunc, X_train, y_train, X_valid, y_valid)    \n",
    "\n",
    "        hp_dict = collections.defaultdict(list)\n",
    "        for pr in parallel_result:\n",
    "            if output_type == 'regression':\n",
    "                CV_r_train.append(pr['r_train'])\n",
    "                CV_r_valid.append(pr['r_valid'])\n",
    "                CV_R2_train.append(pr['R2_train'])\n",
    "                CV_R2_valid.append(pr['R2_valid'])\n",
    "                CV_MSE_train.append(pr['MSE_train'])\n",
    "                CV_MSE_valid.append(pr['MSE_valid'])\n",
    "                CV_MAE_train.append(pr['MAE_train'])\n",
    "                CV_MAE_valid.append(pr['MAE_valid'])\n",
    "                predicted_CV_scores.append(pr['predicted_fold_score'])\n",
    "                actual_CV_scores.append(pr['actual_fold_scores'])                \n",
    "                    \n",
    "            elif output_type == 'classify':\n",
    "                y_pred_score = pr['predicted_fold_score']\n",
    "                y_pred_prob = pr['predicted_fold_prob']\n",
    "                y_act = pr['actual_fold_scores']\n",
    "                predicted_CV_scores.append(y_pred_score)\n",
    "                actual_CV_scores.append(y_act)        \n",
    "\n",
    "                #Acc    \n",
    "                CV_Acc_valid.append(acc(y_pred_score,y_act))                \n",
    "\n",
    "                #Roc - Auc\n",
    "                fpr, tpr, thresholds = roc_curve(y_act, y_pred_prob[:,1]) \n",
    "                CV_fpr_tpr.append((fpr,tpr))        \n",
    "                CV_fpr_tpr_thrsh.append(thresholds)\n",
    "                CV_AUC_valid.append(roc_auc_score(y_act, y_pred_prob[:,1]))\n",
    "\n",
    "                #confusion matrix\n",
    "                cm = confusion_matrix(y_pred_score,y_act)\n",
    "                cm_normalized = cm.astype('float')/cm.sum(axis=1)[:, np.newaxis]\n",
    "                CV_CM_valid.append(cm_normalized)\n",
    "\n",
    "            for hp in hyper_params:\n",
    "                hp_dict[hp].append(pr['hp_dict'][hp])\n",
    "                \n",
    "        #Find out most frequent hyper-params during cross-val    \n",
    "        hp_mode = {}\n",
    "        for hp in hyper_params:\n",
    "            hp_mode[hp] = mode(hp_dict[hp])[0][0]\n",
    "\n",
    "        if output_type == 'regression':\n",
    "            print 'most frequent hp:' + str(hp_mode)\n",
    "            print 'CV r (mean, median, std_err): ' + '{:04.2f},{:04.2f},{:04.2f}'.format(np.mean(zip(*CV_r_valid)[0]),np.median(zip(*CV_r_valid)[0]),stats.sem(zip(*CV_r_valid)[0]))\n",
    "            print 'CV R2 (mean, median, std_err): ' + '{:04.2f},{:04.2f}, {:04.2f}'.format(np.mean(CV_R2_valid),np.median(CV_R2_valid),stats.sem(CV_R2_valid))\n",
    "            print 'CV MSE (mean, median, std_err): ' + '{:04.2f},{:04.2f}, {:04.2f}'.format(np.mean(CV_MSE_valid),np.median(CV_MSE_valid),stats.sem(CV_MSE_valid))\n",
    "            print 'CV MAE (mean, median, std_err): ' + '{:04.2f},{:04.2f}, {:04.2f}'.format(np.mean(CV_MAE_valid),np.median(CV_MAE_valid),stats.sem(CV_MAE_valid))\n",
    "            print ''\n",
    "            \n",
    "        elif output_type == 'classify':\n",
    "            print 'most frequent hyper-params:' + str(hp_mode)\n",
    "            print 'CV Acc (mean, std_err): {:04.2f}, {:04.2f}'.format(np.mean(CV_Acc_valid),stats.sem(CV_Acc_valid))\n",
    "            print 'CV AUC (mean, std_err): {:04.2f}, {:04.2f}'.format(np.mean(CV_AUC_valid),stats.sem(CV_AUC_valid))\n",
    "            print 'CV Confusion Matrix (mean): {}'.format(np.mean(np.array(CV_CM_valid),axis=0))\n",
    "            print ''\n",
    "            plot_name = 'ROC'\n",
    "            \n",
    "            print 'plotting :{}'.format(plot_name)\n",
    "            mean_tpr = 0.0\n",
    "            mean_fpr = np.linspace(0, 1, 100)\n",
    "            all_tpr = []\n",
    "\n",
    "            for i, (fpr, tpr) in enumerate(CV_fpr_tpr):                \n",
    "                mean_tpr += interp(mean_fpr, fpr, tpr)\n",
    "                mean_tpr[0] = 0.0\n",
    "                roc_auc = auc(fpr, tpr)\n",
    "                #plt.plot(fpr, tpr, lw=1, label='ROC fold %d (area = %0.2f)' % (i, roc_auc))\n",
    "\n",
    "            \n",
    "\n",
    "            mean_tpr /= len(CV_fpr_tpr)\n",
    "            mean_tpr[-1] = 1.0\n",
    "            mean_auc = auc(mean_fpr, mean_tpr)\n",
    "            plt.plot(mean_fpr, mean_tpr, label='Modality:{}, Model:{}, mean ROC (area = {:3.2f})'.format(modality, model_choice, mean_auc), lw=2)\n",
    "\n",
    "            plt.xlim([-0.05, 1.05])\n",
    "            plt.ylim([-0.05, 1.05])\n",
    "            plt.xlabel('False Positive Rate')\n",
    "            plt.ylabel('True Positive Rate')\n",
    "            plt.title('Receiver operating characteristic')\n",
    "            plt.legend(loc=\"lower right\")\n",
    "\n",
    "        if save_CV_perf: \n",
    "            ts = time.time()\n",
    "            st = datetime.datetime.fromtimestamp(ts).strftime('%Y-%m-%d-%H-%M-%S')            \n",
    "            save_model_path = CV_model_dir + exp_name + '_' + model_choice + '_' + modality + '_' + timepoint_mr + '_to_' + timepoint_cs + '_' + st + '.pkl'\n",
    "            classifier_model_and_stats = {'best_clf_hyp':hp_mode, 'CV_R2':CV_R2_valid, 'CV_MSE':CV_MSE_valid,'CV_MAE':CV_MAE_valid, 'CV_r': CV_r_valid,\n",
    "                                         'predicted_CV_scores':predicted_CV_scores,'actual_CV_scores':actual_CV_scores}\n",
    "            pickleIt(classifier_model_and_stats,save_model_path)\n",
    "            print 'saving results at: {}'.format(save_model_path)\n",
    "            print ''\n",
    "\n",
    "if output_type == 'classify':\n",
    "    plt.plot([0, 1], [0, 1], '--', color=(0.6, 0.6, 0.6), label='Luck')"
   ]
  },
  {
   "cell_type": "code",
   "execution_count": null,
   "metadata": {
    "collapsed": false
   },
   "outputs": [],
   "source": [
    "\n",
    "\n",
    "exp_setup_path"
   ]
  },
  {
   "cell_type": "code",
   "execution_count": null,
   "metadata": {
    "collapsed": false
   },
   "outputs": [],
   "source": [
    "# # Compute single model from the most frequent hyper-params (for across dataset testing)\n",
    "\n",
    "# #test_clf = Lasso(alpha=0.05)    \n",
    "# #test_clf = SVR(kernel='rbf',C=1)\n",
    "# test_clf = RandomForestRegressor(n_estimators=200,min_samples_split=2,n_jobs=4)\n",
    "\n",
    "# save_CV_perf = False    \n",
    "# if save_CV_perf:\n",
    "#     ts = time.time()\n",
    "#     st = datetime.datetime.fromtimestamp(ts).strftime('%Y-%m-%d-%H-%M-%S')\n",
    "#     save_model_filename = save_model_path + '_' + modality + '_' + st + '.pkl'\n",
    "#     classifier_model_and_stats = {'best_clf':test_clf, 'CV_R2':CV_R2_valid, 'CV_MSE':CV_MSE_valid, 'CV_r': CV_r_valid,\n",
    "#                                  'predicted_CV_scores':predicted_CV_scores,'actual_CV_scores':actual_CV_scores}\n",
    "#     pickleIt(classifier_model_and_stats,save_model_filename)\n",
    "#     print 'saving results at: {}'.format(save_model_filename)\n"
   ]
  },
  {
   "cell_type": "code",
   "execution_count": null,
   "metadata": {
    "collapsed": false
   },
   "outputs": [],
   "source": [
    "a = 'RFR_HC_CT_CS'\n"
   ]
  },
  {
   "cell_type": "code",
   "execution_count": null,
   "metadata": {
    "collapsed": false
   },
   "outputs": [],
   "source": [
    "# Plotting stuff...\n",
    "boxplots_dir = baseline_dir + 'output/'\n",
    "Clinical_Scale = 'ADAS'\n",
    "timepoint = 'bl_m24'\n",
    "multi_task = False #For ANN models\n",
    "if Clinical_Scale == 'ADAS':\n",
    "    if timepoint == 'bl_bl':      \n",
    "        baseline_models = {'LR_HC':'Traj_Exp1_ADNI2_ADAS13_LR_L1_HC_bl_to_bl_2016-09-21-20-06-51.pkl',\n",
    "                           'LR_CT':'Traj_Exp1_ADNI2_ADAS13_LR_L1_CT_bl_to_bl_2016-09-21-20-07-23.pkl',  \n",
    "                           'LR_HC_CT':'Traj_Exp1_ADNI2_ADAS13_LR_L1_HC_CT_bl_to_bl_2016-09-21-20-08-14.pkl',\n",
    "                           'LR_HC_CT_CS*':'Traj_Exp1_ADNI2_ADAS13_LR_L1_HC_CT_CS_bl_to_bl_2016-09-21-20-09-14.pkl',\n",
    "                           'SVR_HC':'Traj_Exp1_ADNI2_ADAS13_SVR_HC_bl_to_bl_2016-09-21-20-06-52.pkl',\n",
    "                           'SVR_CT':'Traj_Exp1_ADNI2_ADAS13_SVR_CT_bl_to_bl_2016-09-21-20-07-36.pkl',\n",
    "                           'SVR_HC_CT*':'Traj_Exp1_ADNI2_ADAS13_SVR_HC_CT_bl_to_bl_2016-09-21-20-08-35.pkl',\n",
    "                           'SVR_HC_CT_CS*':'Traj_Exp1_ADNI2_ADAS13_SVR_HC_CT_CS_bl_to_bl_2016-09-21-20-09-17.pkl',\n",
    "                           'RFR_HC':'Traj_Exp1_ADNI2_ADAS13_RFR_HC_bl_to_bl_2016-09-21-20-07-23.pkl',\n",
    "                           'RFR_CT':'Traj_Exp1_ADNI2_ADAS13_RFR_CT_bl_to_bl_2016-09-21-20-08-13.pkl',         \n",
    "                           'RFR_HC_CT':'Traj_Exp1_ADNI2_ADAS13_RFR_HC_CT_bl_to_bl_2016-09-21-20-09-13.pkl',\n",
    "                           'RFR_HC_CT_CS':'Traj_Exp1_ADNI2_ADAS13_RFR_HC_CT_CS_bl_to_bl_2016-09-21-20-09-52.pkl'}\n",
    "        \n",
    "    if timepoint == 'bl_m12':      \n",
    "        baseline_models = {'LR_HC':'Traj_Exp1_ADNI2_ADAS13_LR_L1_HC_bl_to_m12_2016-09-21-20-10-16.pkl',\n",
    "                           'LR_CT':'Traj_Exp1_ADNI2_ADAS13_LR_L1_CT_bl_to_m12_2016-09-21-20-10-49.pkl',\n",
    "                           'LR_HC_CS':'Traj_Exp1_ADNI2_ADAS13_LR_L1_HC_CS_bl_to_m12_2016-09-22-13-54-54.pkl',\n",
    "                           'LR_CT_CS':'Traj_Exp1_ADNI2_ADAS13_LR_L1_CT_CS_bl_to_m12_2016-09-22-13-55-27.pkl',                           \n",
    "                           'LR_HC_CT':'Traj_Exp1_ADNI2_ADAS13_LR_L1_HC_CT_bl_to_m12_2016-09-21-20-11-36.pkl',\n",
    "                           'LR_HC_CT_CS':'Traj_Exp1_ADNI2_ADAS13_LR_L1_HC_CT_CS_bl_to_m12_2016-09-21-20-12-28.pkl',\n",
    "                           \n",
    "                           'SVR_HC':'Traj_Exp1_ADNI2_ADAS13_SVR_HC_bl_to_m12_2016-09-21-20-10-17.pkl',\n",
    "                           'SVR_CT':'Traj_Exp1_ADNI2_ADAS13_SVR_CT_bl_to_m12_2016-09-21-20-10-59.pkl',\n",
    "                           'SVR_HC_CS':'Traj_Exp1_ADNI2_ADAS13_SVR_HC_CS_bl_to_m12_2016-09-22-13-54-55.pkl',\n",
    "                           'SVR_CT_CS':'Traj_Exp1_ADNI2_ADAS13_SVR_CT_CS_bl_to_m12_2016-09-22-13-55-43.pkl',\n",
    "                           'SVR_HC_CT':'Traj_Exp1_ADNI2_ADAS13_SVR_HC_CT_bl_to_m12_2016-09-21-20-11-50.pkl',\n",
    "                           'SVR_HC_CT_CS':'Traj_Exp1_ADNI2_ADAS13_SVR_HC_CT_CS_bl_to_m12_2016-09-21-20-12-53.pkl',                           \n",
    "                           \n",
    "                           'RFR_HC':'Traj_Exp1_ADNI2_ADAS13_RFR_HC_bl_to_m12_2016-09-21-20-10-48.pkl',  \n",
    "                           'RFR_CT':'Traj_Exp1_ADNI2_ADAS13_RFR_CT_bl_to_m12_2016-09-21-20-11-35.pkl',  \n",
    "                           'RFR_HC_CS':'Traj_Exp1_ADNI2_ADAS13_RFR_HC_CS_bl_to_m12_2016-09-22-13-55-26.pkl',\n",
    "                           'RFR_CT_CS':'Traj_Exp1_ADNI2_ADAS13_RFR_CT_CS_bl_to_m12_2016-09-22-13-56-18.pkl',\n",
    "                           'RFR_HC_CT':'Traj_Exp1_ADNI2_ADAS13_RFR_HC_CT_bl_to_m12_2016-09-21-20-12-28.pkl',\n",
    "                           'RFR_HC_CT_CS':'Traj_Exp1_ADNI2_ADAS13_RFR_HC_CT_CS_bl_to_m12_2016-09-21-20-13-30.pkl'}\n",
    "        \n",
    "    if timepoint == 'bl_m24':      \n",
    "        baseline_models = {'LR_HC':'Traj_Exp1_ADNI2_ADAS13_LR_L1_HC_bl_to_m24_2016-09-21-20-20-52.pkl',\n",
    "                           'LR_CT':'Traj_Exp1_ADNI2_ADAS13_LR_L1_CT_bl_to_m24_2016-09-21-20-21-25.pkl',      \n",
    "                           'LR_HC_CS':'Traj_Exp1_ADNI2_ADAS13_LR_L1_HC_CS_bl_to_m24_2016-09-22-13-57-00.pkl',\n",
    "                           'LR_CT_CS':'Traj_Exp1_ADNI2_ADAS13_LR_L1_CT_CS_bl_to_m24_2016-09-22-13-57-33.pkl', \n",
    "                           'LR_HC_CT':'Traj_Exp1_ADNI2_ADAS13_LR_L1_HC_CT_bl_to_m24_2016-09-21-20-22-13.pkl',\n",
    "                           'LR_HC_CT_CS':'Traj_Exp1_ADNI2_ADAS13_LR_L1_HC_CT_CS_bl_to_m24_2016-09-21-20-23-15.pkl', \n",
    "                           \n",
    "                           'SVR_HC':'Traj_Exp1_ADNI2_ADAS13_SVR_HC_bl_to_m24_2016-09-21-20-20-53.pkl',\n",
    "                           'SVR_CT':'Traj_Exp1_ADNI2_ADAS13_SVR_CT_bl_to_m24_2016-09-21-20-21-34.pkl',\n",
    "                           'SVR_HC_CS':'Traj_Exp1_ADNI2_ADAS13_SVR_HC_CS_bl_to_m24_2016-09-22-13-57-01.pkl',\n",
    "                           'SVR_CT_CS':'Traj_Exp1_ADNI2_ADAS13_SVR_CT_CS_bl_to_m24_2016-09-22-13-57-50.pkl', \n",
    "                           'SVR_HC_CT':'Traj_Exp1_ADNI2_ADAS13_SVR_HC_CT_bl_to_m24_2016-09-21-20-22-36.pkl',\n",
    "                           'SVR_HC_CT_CS':'Traj_Exp1_ADNI2_ADAS13_SVR_HC_CT_CS_bl_to_m24_2016-09-21-20-23-37.pkl',\n",
    "                           \n",
    "                           'RFR_HC':'Traj_Exp1_ADNI2_ADAS13_RFR_HC_bl_to_m24_2016-09-21-20-21-24.pkl', \n",
    "                           'RFR_CT':'Traj_Exp1_ADNI2_ADAS13_RFR_CT_bl_to_m24_2016-09-21-20-22-12.pkl',        \n",
    "                           'RFR_HC_CS':'Traj_Exp1_ADNI2_ADAS13_RFR_HC_CS_bl_to_m24_2016-09-22-13-57-32.pkl',\n",
    "                           'RFR_CT_CS':'Traj_Exp1_ADNI2_ADAS13_RFR_CT_CS_bl_to_m24_2016-09-22-13-58-25.pkl', \n",
    "                           'RFR_HC_CT':'Traj_Exp1_ADNI2_ADAS13_RFR_HC_CT_bl_to_m24_2016-09-21-20-23-15.pkl', \n",
    "                           'RFR_HC_CT_CS':'Traj_Exp1_ADNI2_ADAS13_RFR_HC_CT_CS_bl_to_m24_2016-09-21-20-24-15.pkl'}\n",
    "\n",
    "    \n",
    "plot_dict = {}\n",
    "idx = 0\n",
    "perf_metrics = ['CV_r','CV_MSE','CV_MAE']\n",
    "predicted_CV_scores = {}\n",
    "actual_CV_scores = {}\n",
    "for key,val in baseline_models.iteritems():    \n",
    "    pkl_file = open(boxplots_dir + val, 'rb')\n",
    "    saved_data = pickle.load(pkl_file)\n",
    "    pkl_file.close()        \n",
    "    \n",
    "    if key in ['LR_HC_CT_CS','SVR_HC_CT_CS','RFR_HC_CT_CS']:\n",
    "        predicted_CV_scores[key] = (saved_data['predicted_CV_scores'])\n",
    "        actual_CV_scores[key] = (saved_data['actual_CV_scores'])\n",
    "        \n",
    "    model = key.split('_')[0]\n",
    "    modality = '_'.join(key.split('_')[1:len(key)])\n",
    "    \n",
    "    for perf_metric in perf_metrics:\n",
    "        if perf_metric == 'CV_r':\n",
    "            val = zip(*saved_data[perf_metric])[0]\n",
    "        else:\n",
    "            val = saved_data[perf_metric]\n",
    "        \n",
    "        for f, v in enumerate(val):\n",
    "            plot_dict[idx] = {'perf':v,'perf_metric':perf_metric,'model':model,'modality':modality,'fold':f+1}\n",
    "            idx += 1\n",
    "    \n",
    "df = pd.DataFrame.from_dict(plot_dict,orient='index')\n",
    "    \n",
    "    \n",
    "\n",
    "        \n",
    "    \n",
    "# # Since ANN model perfs are saved differently :-/\n",
    "# boxplots_dir = '/projects/nikhil/ADNI_prediction/input_datasets/exp_data/NN/montage_data/'\n",
    "# if Clinical_Scale == 'ADAS':\n",
    "#     if cohort == 'ADNI2':\n",
    "#         if not multi_task:\n",
    "#             ANN_models ={'CT':'Exp6_ADNI1_ADAS13_NN_CT_2016-07-26-19-27-19.pkl',\n",
    "#                          'HC':'Exp6_ADNI1_ADAS13_NN_HC_2016-07-28-16-18-29.pkl',\n",
    "#                          'HC_CT':'Exp6_ADNI1_ADAS13_NN_HC_CT_2016-07-30-14-15-34.pkl'}\n",
    "#         else:\n",
    "#             ANN_models ={'HC':'Exp6_ADNI1_ADAS13_MMSE_NN_HC_2016-06-02-10-26-05.pkl', \n",
    "#                          'CT':'Exp6_ADNI1_ADAS13_MMSE_NN_CT_2016-06-01-23-42-45.pkl',\n",
    "#                          'HC_CT':'Exp6_ADNI1_ADAS13_MMSE_NN_HC_CT_2016-05-24-11-35-17.pkl'}\n",
    "\n",
    "      \n",
    "# elif Clinical_Scale == 'MMSE':    \n",
    "#     if cohort == 'ADNI1':    \n",
    "#         if not multi_task:\n",
    "#             ANN_models ={'HC':'Exp6_ADNI1_MMSE_NN_HC_2016-05-10-23-14-55.pkl',\n",
    "#                          'CT':'Exp6_ADNI1_MMSE_NN_CT_2016-05-10-21-28-16.pkl',\n",
    "#                          'HC_CT':'Exp6_ADNI1_MMSE_NN_HC_CT_2016-05-11-10-21-35.pkl'}\n",
    "#         else:\n",
    "#             ANN_models ={'HC':'Exp6_ADNI1_ADAS13_MMSE_NN_HC_2016-06-02-10-26-05.pkl', \n",
    "#                          'CT':'Exp6_ADNI1_ADAS13_MMSE_NN_CT_2016-06-01-23-42-45.pkl',\n",
    "#                          'HC_CT':'Exp6_ADNI1_ADAS13_MMSE_NN_HC_CT_2016-05-24-11-35-17.pkl'}\n",
    "\n",
    "# for key,val in ANN_models.iteritems():\n",
    "#     pkl_file = open(boxplots_dir + val, 'rb')\n",
    "#     saved_data_raw = pickle.load(pkl_file)\n",
    "#     if multi_task:\n",
    "#         saved_data = saved_data_raw['opt_{}'.format(Clinical_Scale)]        \n",
    "#         boxplot_config_r['ANN_'+key] = tuple(saved_data['CV_r'].values())\n",
    "#         boxplot_config_MSE['ANN_'+key] = tuple(saved_data['CV_MSE'].values())\n",
    "#         pkl_file.close()\n",
    "#         print 'key: {}, mean: {}, median: {}, std: {}'.format(key,np.mean(saved_data['CV_r'].values()),\n",
    "#                                                   np.median(saved_data['CV_r'].values()),\n",
    "#                                                   np.std(saved_data['CV_r'].values()))\n",
    "#         r_means['ANN_'+key] = (np.mean(saved_data['CV_r'].values()))\n",
    "#         r_sems['ANN_'+key] = (stats.sem(saved_data['CV_r'].values()))\n",
    "\n",
    "#         mae_means['ANN_'+key] = (np.mean(np.sqrt(saved_data['CV_MAE'].values())))\n",
    "#         mae_sems['ANN_'+key] = (stats.sem(np.sqrt(saved_data['CV_MAE'].values())))\n",
    "#         if key == 'HC_CT':\n",
    "#             predicted_CV_scores['ANN_' + key] = (saved_data['predicted_CV_scores'].values())\n",
    "#             actual_CV_scores['ANN_' + key] = (saved_data['actual_CV_scores'].values())\n",
    "            \n",
    "#     else:\n",
    "#         saved_data = saved_data_raw\n",
    "        \n",
    "#         boxplot_config_r['ANN_'+key] = (saved_data['CV_r'])\n",
    "#         boxplot_config_MSE['ANN_'+key] = (saved_data['CV_MSE'])\n",
    "#         pkl_file.close()\n",
    "#         print 'key: {}, file: {}, mean: {}, median: {}, std: {}'.format(key,pkl_file,np.mean(saved_data['CV_r']),\n",
    "#                                                   np.median(saved_data['CV_r']),\n",
    "#                                                   np.std(saved_data['CV_r']))\n",
    "#         r_means['ANN_'+key] = (np.mean(saved_data['CV_r']))\n",
    "#         r_sems['ANN_'+key] = (stats.sem(saved_data['CV_r']))\n",
    "\n",
    "#         mae_means['ANN_'+key] = (np.mean(np.sqrt(saved_data['CV_MSE'])))\n",
    "#         mae_sems['ANN_'+key] = (stats.sem(np.sqrt(saved_data['CV_MSE'])))\n",
    "#         if key == 'HC_CT':\n",
    "#             predicted_CV_scores['ANN_' + key] = (saved_data['predicted_CV_scores'])\n",
    "#             actual_CV_scores['ANN_' + key] = (saved_data['actual_CV_scores'])            "
   ]
  },
  {
   "cell_type": "code",
   "execution_count": null,
   "metadata": {
    "collapsed": false,
    "scrolled": false
   },
   "outputs": [],
   "source": [
    "import itertools\n",
    "from sklearn.metrics import mean_squared_error as mse\n",
    "from sklearn.metrics import mean_absolute_error as mae\n",
    "\n",
    "scatter_plot_models = ['LR_HC_CT_CS','SVR_HC_CT_CS','RFR_HC_CT_CS']\n",
    "exp_name = 'Traj_Exp1'\n",
    "timepoint_cs = 'm24'\n",
    "exp_setup_path = baseline_dir + 'exp_setup/CV_{}_ADNI2_ADAS13_MR_{}_CS_{}.pkl'.format(exp_name,timepoint_mr,timepoint_cs)\n",
    "exp_setup = pickle.load( open(exp_setup_path, \"rb\" ) )\n",
    "X_raw = exp_setup['X']\n",
    "kf = exp_setup['kf']\n",
    "\n",
    "\n",
    " # Create list of all the fold-subsets (needed for parallelization)\n",
    "X_score_bl = []\n",
    "for train, valid in kf:            \n",
    "    X_score_bl.append(X[valid,-1])\n",
    "\n",
    "score_concat = np.array(list(itertools.chain(*X_score_bl)))\n",
    "    \n",
    "for k, key in enumerate(scatter_plot_models):\n",
    "    x = np.squeeze(np.hstack(actual_CV_scores[key]))\n",
    "    y = np.squeeze(np.hstack(predicted_CV_scores[key])) - np.squeeze(np.hstack(actual_CV_scores[key]))\n",
    "    z = score_concat\n",
    "    thresh = np.median(z)\n",
    "    z_binary = z > thresh\n",
    "    r_0 = stats.pearsonr(x[z_binary],y[z_binary])[0]\n",
    "    mae_0 = mae(x[z_binary],y[z_binary])\n",
    "    r_1 = stats.pearsonr(x[~z_binary],y[~z_binary])[0]\n",
    "    mae_1 = mae(x[~z_binary],y[~z_binary])\n",
    "    \n",
    "    df = pd.DataFrame(index=x, columns= ['act_scores', 'pred-act_scores','bl_score (median split)'],data=np.transpose(np.vstack((x,y,z_binary))))\n",
    "    sns.lmplot('act_scores', 'pred-act_scores', hue = 'bl_score (median split)', size = 8, data=df, fit_reg=True,            \n",
    "    scatter_kws={\"marker\": \"D\", \"s\": 50})\n",
    "#     g = sns.jointplot(\"act_scores\", \"pred_scores\", , data=df, kind=\"reg\")\n",
    "    plt.title('model: {}, score change split: {}'.format(key,thresh) + '\\n' + \n",
    "              'r (high,low): {:3.2f}, {:3.2f}, mae (high,low): {:3.2f}, {:3.2f}'.format(r_0,r_1,mae_0,mae_1))"
   ]
  },
  {
   "cell_type": "code",
   "execution_count": null,
   "metadata": {
    "collapsed": false
   },
   "outputs": [],
   "source": [
    "sns.set_context(\"notebook\", font_scale=1.25)\n",
    "sns.set_style(\"ticks\")\n",
    "perf = 'perf'\n",
    "g = sns.factorplot(x='model', y=perf, hue='modality', kind=\"bar\", col='perf_metric',\n",
    "                   palette='muted', sharey=False, data=df[df.perf_metric!='CV_MSE'], size=8)\n",
    "g.despine(left=True)\n",
    "print 'timepoint: {}'.format(timepoint)"
   ]
  },
  {
   "cell_type": "code",
   "execution_count": null,
   "metadata": {
    "collapsed": false
   },
   "outputs": [],
   "source": [
    "[1,2]-[1,1]"
   ]
  },
  {
   "cell_type": "code",
   "execution_count": null,
   "metadata": {
    "collapsed": false
   },
   "outputs": [],
   "source": []
  },
  {
   "cell_type": "code",
   "execution_count": null,
   "metadata": {
    "collapsed": false
   },
   "outputs": [],
   "source": []
  },
  {
   "cell_type": "code",
   "execution_count": null,
   "metadata": {
    "collapsed": false
   },
   "outputs": [],
   "source": []
  },
  {
   "cell_type": "code",
   "execution_count": null,
   "metadata": {
    "collapsed": false,
    "scrolled": false
   },
   "outputs": [],
   "source": [
    "#plot foldwise results\n",
    "plt.rcParams['figure.figsize'] = (20, 20)\n",
    "fids = np.arange(1,11,1)\n",
    "for key in boxplot_config_r.keys():\n",
    "    if key in ['ANN_CT','ANN_HC','ANN_HC_CT']:\n",
    "        custom_marker = 'd'    \n",
    "        print 'modality: {}, perf: {}'.format(key, boxplot_config_r[key])\n",
    "    else:\n",
    "        custom_marker = 'o'        \n",
    "    \n",
    "    plt.subplot(2,1,1)\n",
    "    plt.plot(fids,boxplot_config_r[key],linestyle='None',marker=custom_marker,markersize=15,label=key)\n",
    "    plt.legend(bbox_to_anchor=[0.5, -0.1], loc='center', ncol=6)    \n",
    "    plt.xlim(0,11)\n",
    "    plt.grid()\n",
    "    plt.title('{}_{}'.format(cohort, Clinical_Scale))\n",
    "    \n",
    "\n",
    "    plt.subplot(2,1,2)\n",
    "    plt.plot(fids,boxplot_config_MAE[key],linestyle='None',marker=custom_marker,markersize=15,label=key)\n",
    "    plt.legend(bbox_to_anchor=[0.5, -0.1], loc='center', ncol=6)\n",
    "    plt.grid()\n",
    "    plt.xlim(0,11)\n",
    "    \n"
   ]
  },
  {
   "cell_type": "code",
   "execution_count": null,
   "metadata": {
    "collapsed": false
   },
   "outputs": [],
   "source": []
  },
  {
   "cell_type": "code",
   "execution_count": null,
   "metadata": {
    "collapsed": false,
    "scrolled": false
   },
   "outputs": [],
   "source": []
  },
  {
   "cell_type": "code",
   "execution_count": null,
   "metadata": {
    "collapsed": false
   },
   "outputs": [],
   "source": []
  },
  {
   "cell_type": "raw",
   "metadata": {
    "collapsed": false
   },
   "source": []
  },
  {
   "cell_type": "code",
   "execution_count": null,
   "metadata": {
    "collapsed": false
   },
   "outputs": [],
   "source": []
  },
  {
   "cell_type": "code",
   "execution_count": null,
   "metadata": {
    "collapsed": false
   },
   "outputs": [],
   "source": []
  },
  {
   "cell_type": "code",
   "execution_count": null,
   "metadata": {
    "collapsed": false
   },
   "outputs": [],
   "source": []
  },
  {
   "cell_type": "code",
   "execution_count": null,
   "metadata": {
    "collapsed": false
   },
   "outputs": [],
   "source": []
  },
  {
   "cell_type": "code",
   "execution_count": null,
   "metadata": {
    "collapsed": false
   },
   "outputs": [],
   "source": []
  },
  {
   "cell_type": "code",
   "execution_count": null,
   "metadata": {
    "collapsed": false
   },
   "outputs": [],
   "source": []
  },
  {
   "cell_type": "code",
   "execution_count": null,
   "metadata": {
    "collapsed": false
   },
   "outputs": [],
   "source": []
  },
  {
   "cell_type": "code",
   "execution_count": null,
   "metadata": {
    "collapsed": false
   },
   "outputs": [],
   "source": []
  },
  {
   "cell_type": "code",
   "execution_count": null,
   "metadata": {
    "collapsed": false
   },
   "outputs": [],
   "source": []
  },
  {
   "cell_type": "code",
   "execution_count": null,
   "metadata": {
    "collapsed": false
   },
   "outputs": [],
   "source": []
  },
  {
   "cell_type": "code",
   "execution_count": null,
   "metadata": {
    "collapsed": false
   },
   "outputs": [],
   "source": []
  },
  {
   "cell_type": "code",
   "execution_count": null,
   "metadata": {
    "collapsed": false
   },
   "outputs": [],
   "source": []
  },
  {
   "cell_type": "code",
   "execution_count": null,
   "metadata": {
    "collapsed": false
   },
   "outputs": [],
   "source": []
  },
  {
   "cell_type": "code",
   "execution_count": null,
   "metadata": {
    "collapsed": true
   },
   "outputs": [],
   "source": []
  },
  {
   "cell_type": "code",
   "execution_count": null,
   "metadata": {
    "collapsed": false
   },
   "outputs": [],
   "source": []
  },
  {
   "cell_type": "code",
   "execution_count": null,
   "metadata": {
    "collapsed": false
   },
   "outputs": [],
   "source": []
  },
  {
   "cell_type": "code",
   "execution_count": null,
   "metadata": {
    "collapsed": false
   },
   "outputs": [],
   "source": []
  },
  {
   "cell_type": "code",
   "execution_count": null,
   "metadata": {
    "collapsed": true
   },
   "outputs": [],
   "source": [
    "import tables as tb\n",
    "def load_data(data_path, input_node, preproc):\n",
    "    data = tb.open_file(data_path, 'r')\n",
    "    X_raw = data.get_node('/' + input_node)[:]\n",
    "    if preproc == 'scale':\n",
    "        X = preprocessing.scale(X_raw)\n",
    "    elif preproc == 'norm_max':\n",
    "        X = preprocessing.normalize(X_raw, norm='max')\n",
    "    elif preproc == 'norm_l2':\n",
    "        X = preprocessing.normalize(X_raw, norm='l2')\n",
    "    else:\n",
    "        X = X_raw\n",
    "    data.close()\n",
    "    return X"
   ]
  },
  {
   "cell_type": "code",
   "execution_count": null,
   "metadata": {
    "collapsed": false,
    "scrolled": true
   },
   "outputs": [],
   "source": []
  },
  {
   "cell_type": "code",
   "execution_count": null,
   "metadata": {
    "collapsed": false
   },
   "outputs": [],
   "source": []
  },
  {
   "cell_type": "code",
   "execution_count": null,
   "metadata": {
    "collapsed": false
   },
   "outputs": [],
   "source": [
    "hdf_data = h5.File(hdf_file) \n",
    "hdf_data.close() \n",
    "FILTERS = tb.Filters(complevel=5,complib='zlib')    \n",
    "fileh = tb.open_file(hdf_file, mode='r', filters=FILTERS)\n",
    "fileh.close()"
   ]
  },
  {
   "cell_type": "code",
   "execution_count": null,
   "metadata": {
    "collapsed": false
   },
   "outputs": [],
   "source": []
  },
  {
   "cell_type": "code",
   "execution_count": null,
   "metadata": {
    "collapsed": false
   },
   "outputs": [],
   "source": []
  },
  {
   "cell_type": "code",
   "execution_count": null,
   "metadata": {
    "collapsed": false
   },
   "outputs": [],
   "source": []
  },
  {
   "cell_type": "code",
   "execution_count": null,
   "metadata": {
    "collapsed": false
   },
   "outputs": [],
   "source": [
    "\n"
   ]
  },
  {
   "cell_type": "code",
   "execution_count": null,
   "metadata": {
    "collapsed": true
   },
   "outputs": [],
   "source": []
  }
 ],
 "metadata": {
  "kernelspec": {
   "display_name": "Python 2",
   "language": "python",
   "name": "python2"
  },
  "language_info": {
   "codemirror_mode": {
    "name": "ipython",
    "version": 2
   },
   "file_extension": ".py",
   "mimetype": "text/x-python",
   "name": "python",
   "nbconvert_exporter": "python",
   "pygments_lexer": "ipython2",
   "version": "2.7.12"
  }
 },
 "nbformat": 4,
 "nbformat_minor": 0
}
