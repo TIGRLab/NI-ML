{
 "cells": [
  {
   "cell_type": "code",
   "execution_count": 98,
   "metadata": {
    "collapsed": false
   },
   "outputs": [],
   "source": [
    "# Some useful imports:\n",
    "import numpy as np\n",
    "import tables as tb\n",
    "\n",
    "# Useful ipython commands:\n",
    "%matplotlib inline"
   ]
  },
  {
   "cell_type": "code",
   "execution_count": 99,
   "metadata": {
    "collapsed": false
   },
   "outputs": [],
   "source": [
    "# Dataset constants:\n",
    "dataset = 'ad_mci_cn'\n",
    "input_node = 'r_hc_features'\n",
    "label_node = 'labels'\n",
    "class_names = ['AD', 'CN', 'MCI']\n",
    "\n",
    "# Data path constants:\n",
    "data_path = '/projects/francisco/data/caffe/standardized/combined/'\n",
    "train_path = data_path + dataset + '_train.h5'\n",
    "valid_path = data_path + dataset + '_valid.h5'\n",
    "test_path = data_path + dataset + '_test.h5'\n",
    "\n",
    "# Load the training set:\n",
    "data = tb.open_file(train_path, 'r')\n",
    "X = data.get_node('/' + input_node)[:]\n",
    "y = data.get_node('/' + label_node)[:]\n",
    "data.close()\n",
    "\n",
    "# Load the validation set:\n",
    "data = tb.open_file(valid_path, 'r')\n",
    "X_v = data.get_node('/' + input_node)[:]\n",
    "y_v = data.get_node('/' + label_node)[:]\n",
    "data.close()\n",
    "\n",
    "# Do we want to train the model on all the available training and validation data?\n",
    "# If so: (otherwise, comment this out)\n",
    "# Rationale: We have already used validation data to find a good range of hyperparams, and now\n",
    "# we can add it to the training data and evaluate using the held-out test data.\n",
    "X = np.concatenate([X, X_v], axis=0)\n",
    "y = np.concatenate([y, y_v], axis=0)\n",
    "\n",
    "# Load the testing set:\n",
    "data = tb.open_file(test_path, 'r')\n",
    "X_t = data.get_node('/' + input_node)[:]\n",
    "y_t = data.get_node('/' + label_node)[:]\n",
    "X_t_fused = data.get_node('/' + input_node + '_fused')[:]\n",
    "y_t_fused = data.get_node('/' + label_node + '_fused')[:]\n",
    "data.close()"
   ]
  },
  {
   "cell_type": "code",
   "execution_count": 100,
   "metadata": {
    "collapsed": false
   },
   "outputs": [],
   "source": [
    "# Import and define the baseline classifiers here:\n",
    "from sklearn import linear_model, decomposition\n",
    "from sklearn.pipeline import Pipeline\n",
    "\n",
    "# Hyper params (obtained from Spearmint experiments on validation data):\n",
    "n_components=24\n",
    "C = 1.8713446750108174\n",
    "solver = 'lbfgs'\n",
    "mclass='multinomial'\n",
    "\n",
    "logistic = linear_model.LogisticRegression(C=C, multi_class=mclass, solver=solver, penalty='l2')\n",
    "\n",
    "pca = decomposition.RandomizedPCA(n_components=n_components)\n",
    "classifier = Pipeline(steps=[('pca', pca), ('logistic', logistic)])\n"
   ]
  },
  {
   "cell_type": "code",
   "execution_count": 101,
   "metadata": {
    "collapsed": false
   },
   "outputs": [],
   "source": [
    "# Fit the classifier to training data, then predict test labels.\n",
    "classifier.fit(X, y)\n",
    "y_hat = classifier.predict(X)\n",
    "y_hat_t = classifier.predict(X_t)\n",
    "y_hat_t_f = classifier.predict(X_t_fused)\n",
    "\n",
    "\n"
   ]
  },
  {
   "cell_type": "code",
   "execution_count": 102,
   "metadata": {
    "collapsed": false
   },
   "outputs": [
    {
     "name": "stdout",
     "output_type": "stream",
     "text": [
      "Metrics on Fused Test Data:\n",
      "             precision    recall  f1-score   support\n",
      "\n",
      "         AD       0.62      0.30      0.40        27\n",
      "         CN       0.50      0.30      0.38        33\n",
      "        MCI       0.51      0.78      0.61        50\n",
      "\n",
      "avg / total       0.53      0.52      0.49       110\n",
      "\n",
      "Training Accuracy: 0.576119402985\n",
      "Test Accuracy: 0.437165124208\n",
      "Fused Test Accuracy: 0.518181818182\n"
     ]
    }
   ],
   "source": [
    "# Metrics\n",
    "from sklearn.metrics import classification_report, accuracy_score\n",
    "\n",
    "acc = accuracy_score(y_hat, y)\n",
    "acc_t = accuracy_score(y_hat_t, y_t)\n",
    "acc_t_f = accuracy_score(y_hat_t_f, y_t_fused)\n",
    "\n",
    "print 'Metrics on Fused Test Data:'\n",
    "print classification_report(y_t_fused, y_hat_t_f, target_names=class_names)\n",
    "print 'Training Accuracy: {}'.format(acc)\n",
    "print 'Test Accuracy: {}'.format(acc_t)\n",
    "print 'Fused Test Accuracy: {}'.format(acc_t_f)\n"
   ]
  },
  {
   "cell_type": "code",
   "execution_count": 103,
   "metadata": {
    "collapsed": false
   },
   "outputs": [
    {
     "data": {
      "text/plain": [
       "<matplotlib.text.Text at 0x7f8c5e080850>"
      ]
     },
     "execution_count": 103,
     "metadata": {},
     "output_type": "execute_result"
    },
    {
     "data": {
      "image/png": "[encoded data removed]",
      "text/plain": [
       "<matplotlib.figure.Figure at 0x7f8c5dca9c50>"
      ]
     },
     "metadata": {},
     "output_type": "display_data"
    }
   ],
   "source": [
    "# CM\n",
    "from sklearn.metrics import confusion_matrix\n",
    "from matplotlib import pyplot as plt\n",
    "\n",
    "cm = confusion_matrix(y_t_fused, y_hat_t_f)\n",
    "cm_normalized = cm.astype('float') / cm.sum(axis=1)[:, np.newaxis]\n",
    "\n",
    "plt.imshow(cm_normalized, interpolation='nearest', cmap=plt.cm.Blues)\n",
    "plt.title('Confusion Matrix')\n",
    "plt.colorbar()\n",
    "tick_marks = np.arange(len(class_names))\n",
    "plt.xticks(tick_marks, class_names, rotation=45)\n",
    "plt.yticks(tick_marks, class_names)\n",
    "plt.tight_layout()\n",
    "plt.ylabel('True label')\n",
    "plt.xlabel('Predicted label')"
   ]
  },
  {
   "cell_type": "code",
   "execution_count": 104,
   "metadata": {
    "collapsed": false
   },
   "outputs": [
    {
     "data": {
      "image/png": "[encoded data removed]",
      "text/plain": [
       "<matplotlib.figure.Figure at 0x7f8c82e81d10>"
      ]
     },
     "metadata": {},
     "output_type": "display_data"
    }
   ],
   "source": [
    "from sklearn.metrics import roc_curve, auc\n",
    "from matplotlib import pyplot as plt\n",
    "\n",
    "# class probabilities on the fused training data:\n",
    "y_hat_t_f_scores = classifier.predict_proba(X_t_fused)\n",
    "\n",
    "# Plot curve for AD class (0)\n",
    "fpr, tpr, thresholds = roc_curve(y_t_fused, y_hat_t_f_scores[:,0], pos_label=0)\n",
    "auc = auc(fpr, tpr)\n",
    "\n",
    "plt.figure()\n",
    "plt.plot(fpr, tpr, label='ROC curve (area = %0.2f)' % auc)\n",
    "plt.plot([0, 1], [0, 1], 'k--')\n",
    "plt.xlim([0.0, 1.0])\n",
    "plt.ylim([0.0, 1.05])\n",
    "plt.xlabel('False Positive Rate')\n",
    "plt.ylabel('True Positive Rate')\n",
    "plt.title('ROC')\n",
    "plt.legend(loc=\"lower right\")\n",
    "plt.show()"
   ]
  },
  {
   "cell_type": "code",
   "execution_count": 105,
   "metadata": {
    "collapsed": false,
    "scrolled": true
   },
   "outputs": [
    {
     "data": {
      "image/png": "[encoded data removed]",
      "text/plain": [
       "<matplotlib.figure.Figure at 0x7f8c8327c8d0>"
      ]
     },
     "metadata": {},
     "output_type": "display_data"
    }
   ],
   "source": [
    "import pandas as pd\n",
    "var_names = range(X.shape[1])\n",
    "\n",
    "importances = classifier.steps[1][1].coef_[0]\n",
    "var_explained = classifier.steps[0][1].explained_variance_ratio_\n",
    "feats = zip(['{:.4f}'.format(var) for var in var_explained], importances)\n",
    "\n",
    "# Remove non-important feats:\n",
    "feats = [feat for feat in feats if feat[1] > 0.0]\n",
    "feats.sort(reverse=False, key=lambda x: x[0])\n",
    "\n",
    "# Plot the feature importances of the classifier\n",
    "plt.figure()\n",
    "plt.title(\"PCA Variance Explained vs Weight in Linear Model\")\n",
    "y_pos = np.arange(len(feats))\n",
    "plt.barh(y_pos, width=zip(*feats)[1], height=0.5, color='r', align=\"center\")\n",
    "plt.yticks(y_pos, zip(*feats)[0])\n",
    "plt.show()\n"
   ]
  },
  {
   "cell_type": "code",
   "execution_count": null,
   "metadata": {
    "collapsed": true
   },
   "outputs": [],
   "source": []
  }
 ],
 "metadata": {
  "kernelspec": {
   "display_name": "Python 2",
   "language": "python",
   "name": "python2"
  },
  "language_info": {
   "codemirror_mode": {
    "name": "ipython",
    "version": 2
   },
   "file_extension": ".py",
   "mimetype": "text/x-python",
   "name": "python",
   "nbconvert_exporter": "python",
   "pygments_lexer": "ipython2",
   "version": "2.7.10"
  }
 },
 "nbformat": 4,
 "nbformat_minor": 0
}
