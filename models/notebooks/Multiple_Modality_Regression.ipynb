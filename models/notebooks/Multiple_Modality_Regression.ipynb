{
 "cells": [
  {
   "cell_type": "code",
   "execution_count": 123,
   "metadata": {
    "collapsed": true
   },
   "outputs": [],
   "source": [
    "import pandas as pd\n",
    "import numpy as np\n",
    "from matplotlib import pyplot as plt\n",
    "import matplotlib.pylab as pylab\n",
    "\n",
    "# Useful plotting thingies:\n",
    "%matplotlib inline\n",
    "plt.style.use('ggplot')\n",
    "pylab.rcParams['figure.figsize'] = 12, 8\n"
   ]
  },
  {
   "cell_type": "code",
   "execution_count": null,
   "metadata": {
    "collapsed": false
   },
   "outputs": [
    {
     "name": "stdout",
     "output_type": "stream",
     "text": [
      "(490, 22020) (490, 3)\n",
      "(98, 22020) (98, 3)\n",
      "(110, 22020) (110, 3)\n",
      "0\n"
     ]
    }
   ],
   "source": [
    "# Set up the experimental matrices:\n",
    "targets = ['ADAS11_bl', 'ADAS13_bl', 'MMSE_bl']\n",
    "targets_regex = '|'.join(['^{}$'.format(t) for t in targets])\n",
    "modalities = ['CT', 'L_HC', 'R_HC']\n",
    "#modalities = ['CT']\n",
    "modalities_regex = '|'.join(['^{}_'.format(m) for m in modalities])\n",
    "\n",
    "matrices = []\n",
    "for split in ['train', 'valid', 'test']:\n",
    "    frame = pd.read_pickle('/projects/francisco/data/ADNI/cli_ct_seg_fused_{}.pkl'.format(split))\n",
    "    X_cur = frame.filter(regex=modalities_regex).as_matrix()\n",
    "    y_cur = frame.filter(regex=targets_regex).as_matrix()\n",
    "    # Replaces nans with mean: revisit this later\n",
    "    y_cur[np.isnan(y_cur)] = np.nanmean(y_cur)\n",
    "    matrices.append((X_cur,y_cur))\n",
    "\n",
    "var_names = frame.filter(regex=modalities_regex).columns\n",
    "X, y = matrices[0][0], matrices[0][1]\n",
    "X_v, y_v = matrices[1][0], matrices[1][1]\n",
    "X_t, y_t = matrices[2][0], matrices[2][1]\n",
    "\n",
    "\n",
    "\n",
    "print X.shape, y.shape\n",
    "print X_v.shape, y_v.shape\n",
    "print X_t.shape, y_t.shape\n",
    "print np.sum(np.isnan(y))"
   ]
  },
  {
   "cell_type": "code",
   "execution_count": null,
   "metadata": {
    "collapsed": false
   },
   "outputs": [],
   "source": [
    "from sklearn.linear_model import SGDRegressor, BayesianRidge, RidgeCV\n",
    "from sklearn.decomposition import RandomizedPCA\n",
    "from sklearn.pipeline import Pipeline\n",
    "from sklearn.feature_selection import SelectKBest, RFE\n",
    "from sklearn.feature_selection import f_regression\n",
    "from sklearn import metrics\n",
    "\n",
    "#k_nums = [2**x for x in range(1,12)]\n",
    "#k_nums.append(X.shape[1])\n",
    "#k_nums = [16, 32, 64, 128, 512, 1024, 1512, 2048, 3128, 4096]\n",
    "k_nums = range(1, X.shape[1], 5)\n",
    "k_nums.append(X.shape[1])\n",
    "k_classifiers = []\n",
    "stats = np.zeros(shape=(len(k_nums), 3, 2, len(targets)))\n",
    "for i, k in enumerate(k_nums):\n",
    "    for t in range(0,len(targets)):\n",
    "        #sel = SelectKBest(f_regression, k=k)\n",
    "        \n",
    "        classifier = RidgeCV(alphas=[0.1, 1.0, 10.0], cv=None, fit_intercept=True, scoring=None, normalize=True)\n",
    "        sel = RFE(classifier, n_features_to_select=k)\n",
    "        \n",
    "        bayes_classifier = BayesianRidge(compute_score=True, normalize=True)\n",
    "        bsel = RFE(bayes_classifier, n_features_to_select=k)\n",
    "        \n",
    "        classifiers = [classifier, bayes_classifier]\n",
    "        \n",
    "        # Feature Selection\n",
    "        sel.fit(X,y[:,t])\n",
    "        support = sel.get_support(indices=True)\n",
    "        #support = range(k)\n",
    "        # Feature transformatio\n",
    "        X_hat_v = sel.transform(X_v)\n",
    "\n",
    "        # Train classifiers\n",
    "        classifier.fit(X_hat_v, y_v[:,t])\n",
    "        bayes_classifier.fit(X_hat_v, y_v[:,t])\n",
    "        k_classifiers.append((classifier, bayes_classifier))\n",
    "\n",
    "        # Predict on validation data and log stats   \n",
    "        for l, c in enumerate(classifiers):\n",
    "            y_hat_v = c.predict(X_hat_v)\n",
    "            stats[i,0,l,t] = k\n",
    "            stats[i,1,l,t] =  metrics.mean_squared_error(y_hat_v, y_v[:,t])\n",
    "            stats[i,2,l,t] =  metrics.r2_score(y_hat_v, y_v[:,t])\n",
    "\n"
   ]
  },
  {
   "cell_type": "code",
   "execution_count": null,
   "metadata": {
    "collapsed": false
   },
   "outputs": [],
   "source": [
    "T = 1 # Current target index\n",
    "\n",
    "k = stats[:,0,0]\n",
    "rss = stats[:,1,0]\n",
    "brss = stats[:,1,1]\n",
    "vs = stats[:,2,0]\n",
    "bvs = stats[:,2,1]\n",
    "stats_table = np.zeros(shape=(len(k_nums), 5, 3))\n",
    "for i in range(3):\n",
    "    stats_table[:,:,i] = np.vstack([k[:,i], rss[:,i], brss[:,i], vs[:,i], bvs[:,i]]).T\n",
    "stats_table.shape\n",
    "\n",
    "print "
   ]
  },
  {
   "cell_type": "code",
   "execution_count": null,
   "metadata": {
    "collapsed": false
   },
   "outputs": [],
   "source": [
    "from tabulate import tabulate\n",
    "for i in range(3):\n",
    "    print\n",
    "    print 'Y: {}'.format(targets[i])\n",
    "    print tabulate(stats_table[:,:,i], ['K', 'MSE', 'Bayes_MSE', 'R2', 'Bayes_R2'])\n"
   ]
  },
  {
   "cell_type": "code",
   "execution_count": null,
   "metadata": {
    "collapsed": false
   },
   "outputs": [],
   "source": [
    "plt.figure(1)\n",
    "plt.cla()\n",
    "plt.xscale('log')\n",
    "plt.yscale('log')\n",
    "plt.xticks(k_nums, k_nums)\n",
    "for i in range(3):\n",
    "    plt.subplot(1, 3, i + 1)\n",
    "    plt.plot(k, rss[:,i], 'g', label='logreg')\n",
    "    plt.plot(k, brss[:, i], 'b', label='bayesian reg')\n"
   ]
  },
  {
   "cell_type": "code",
   "execution_count": null,
   "metadata": {
    "collapsed": false
   },
   "outputs": [],
   "source": [
    "for i in range(3):\n",
    "    plt.subplot(2, 3, i + 1)\n",
    "    plt.plot(k, vs[:,i], 'g', label='logreg')\n",
    "    plt.plot(k, bvs[:, i], 'b', label='bayesian reg')\n",
    "    \n",
    "plt.xticks(k_nums, k_nums)\n",
    "plt.show()"
   ]
  },
  {
   "cell_type": "code",
   "execution_count": null,
   "metadata": {
    "collapsed": false
   },
   "outputs": [],
   "source": [
    "# Pick a classifier, plot the feature weights\n",
    "classifiers_pair = k_classifiers[-1]\n",
    "c = classifiers_pair[0]\n",
    "b = classifiers_pair[1]\n",
    "feats = zip(var_names[support], c.coef_, b.coef_)\n",
    "feats.sort(reverse=False, key=lambda x: abs(x[1]) + abs(x[2]))\n",
    "feats = feats[0:25]\n",
    "# Plot the feature importances of the classifier\n",
    "plt.figure()\n",
    "plt.title(\"Feature Coefficients\")\n",
    "y_pos = np.arange(len(feats))\n",
    "plt.barh(y_pos, width=zip(*feats)[1], height=0.5, color='r', align=\"center\", alpha=0.5, label='LogReg')\n",
    "plt.barh(y_pos, width=zip(*feats)[2], height=0.5, color='b', align=\"center\", alpha=0.5, label='Bayesian Reg')\n",
    "plt.yticks(y_pos, zip(*feats)[0])\n",
    "plt.legend()\n",
    "plt.show()"
   ]
  },
  {
   "cell_type": "code",
   "execution_count": null,
   "metadata": {
    "collapsed": false
   },
   "outputs": [],
   "source": []
  },
  {
   "cell_type": "code",
   "execution_count": null,
   "metadata": {
    "collapsed": true
   },
   "outputs": [],
   "source": []
  }
 ],
 "metadata": {
  "kernelspec": {
   "display_name": "Python 2",
   "language": "python",
   "name": "python2"
  },
  "language_info": {
   "codemirror_mode": {
    "name": "ipython",
    "version": 2
   },
   "file_extension": ".py",
   "mimetype": "text/x-python",
   "name": "python",
   "nbconvert_exporter": "python",
   "pygments_lexer": "ipython2",
   "version": "2.7.10"
  }
 },
 "nbformat": 4,
 "nbformat_minor": 0
}
