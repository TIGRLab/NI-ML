{
 "metadata": {
  "name": "",
  "signature": "sha256:5037af719c6e14226baa7bbeec225322d0f648968994f0bc946f991ec44be521"
 },
 "nbformat": 3,
 "nbformat_minor": 0,
 "worksheets": [
  {
   "cells": [
    {
     "cell_type": "code",
     "collapsed": false,
     "input": [
      "#Imports\n",
      "import numpy as np\n",
      "import h5py as h5\n",
      "from sklearn.externals import joblib\n",
      "import matplotlib.pyplot as plt\n",
      "import pandas as pd\n",
      "from scipy import stats\n",
      "from sklearn.cross_validation import KFold\n",
      "import pickle"
     ],
     "language": "python",
     "metadata": {},
     "outputs": [],
     "prompt_number": 1
    },
    {
     "cell_type": "code",
     "collapsed": false,
     "input": [
      "#datasets\n",
      "\n",
      "#input data\n",
      "train_val_file = '/projects/nikhil/ADNI_prediction/input_datasets/cli_ct_seg_fused_train_plus_val.pkl'\n",
      "test_file = '/projects/francisco/data/ADNI/cli_ct_seg_fused_test.pkl'\n",
      "\n",
      "#k-fold indices (from a saved file)\n",
      "kf_file = \"/projects/nikhil/ADNI_prediction/input_datasets/cli_ct_train_valid_KFold_idx.pkl\"\n"
     ],
     "language": "python",
     "metadata": {},
     "outputs": [],
     "prompt_number": 2
    },
    {
     "cell_type": "code",
     "collapsed": false,
     "input": [
      "#Grab CV data with specific feature columes (independent vars) and specific clinical scale (dependent var)\n",
      "def load_CV_data(in_file, kf_file, feature_cols, clinical_scale):\n",
      "\n",
      "    data = pd.read_pickle(in_file)\n",
      "    data_trunc = data[clinical_scale + feature_cols]\n",
      "    # remove nans\n",
      "    data_trunc = data_trunc[np.isfinite(data_trunc[clinical_scale[0]])]\n",
      "    X = np.asarray(data_trunc[feature_cols],dtype=float)\n",
      "    y = np.asarray(data_trunc[clinical_scale[0]],dtype=float)\n",
      "    \n",
      "    kf = pickle.load( open(kf_file, \"rb\" ) )\n",
      "    X_train = []\n",
      "    X_valid = []\n",
      "    y_train = []\n",
      "    y_valid = []\n",
      "    for train, valid in kf:        \n",
      "        X_train.append(X[train])\n",
      "        X_valid.append(X[valid])\n",
      "        y_train.append(y[train])\n",
      "        y_valid.append(y[valid])\n",
      "    \n",
      "    # Return train and validation lists comprising all folds as well as unsplit data\n",
      "    return {'X_train':X_train,'X_valid':X_valid,'y_train':y_train,'y_valid':y_valid,'X':X,'y':y}\n",
      "\n",
      "#Load test data\n",
      "def load_test_data(in_file, feature_cols, clinical_scale):\n",
      "\n",
      "    data = pd.read_pickle(in_file)\n",
      "    data_trunc = data[clinical_scale + feature_cols]\n",
      "    # remove nans\n",
      "    data_trunc = data_trunc[np.isfinite(data_trunc[clinical_scale[0]])]\n",
      "    X = np.asarray(data_trunc[feature_cols],dtype=float)\n",
      "    y = np.asarray(data_trunc[clinical_scale[0]],dtype=float)\n",
      "    return {'X':X, 'y':y}"
     ],
     "language": "python",
     "metadata": {},
     "outputs": [],
     "prompt_number": 7
    },
    {
     "cell_type": "code",
     "collapsed": false,
     "input": [
      "feature_cols = ['L_HC_VOL','R_HC_VOL']\n",
      "clinical_scale = ['ADAS13']\n",
      "\n",
      "cv_data = load_CV_data(train_val_file,kf_file, feature_cols, clinical_scale)\n",
      "test_data = load_test_data(test_file, feature_cols, clinical_scale)"
     ],
     "language": "python",
     "metadata": {},
     "outputs": [
      {
       "metadata": {},
       "output_type": "pyout",
       "prompt_number": 16,
       "text": [
        "(110, 1)"
       ]
      }
     ],
     "prompt_number": 16
    },
    {
     "cell_type": "code",
     "collapsed": false,
     "input": [],
     "language": "python",
     "metadata": {},
     "outputs": [],
     "prompt_number": 6
    },
    {
     "cell_type": "code",
     "collapsed": false,
     "input": [
      "# Additional Scripts \n",
      "# Concat of Train + Valid (to generate multi-folds)\n",
      "t_data = pd.read_pickle(train_file)\n",
      "v_data = pd.read_pickle(valid_file)\n",
      "frames = [t_data, v_data]\n",
      "result = pd.concat(frames)\n",
      "result.to_pickle(\"/projects/nikhil/ADNI_prediction/input_datasets/cli_ct_seg_fused_train_plus_val.pkl\")\n",
      "\n",
      "# Generatng K-Folds\n",
      "sampx = 100 #Train + Valid samples\n",
      "foldx = 10   \n",
      "kf = KFold(sampx, n_folds=foldx,shuffle=True)\n",
      "\n",
      "#for train, test in kf:\n",
      "#    print(\"%s %s\" % (train, test))"
     ],
     "language": "python",
     "metadata": {},
     "outputs": [],
     "prompt_number": 16
    },
    {
     "cell_type": "code",
     "collapsed": false,
     "input": [],
     "language": "python",
     "metadata": {},
     "outputs": []
    }
   ],
   "metadata": {}
  }
 ]
}