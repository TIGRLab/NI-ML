{
 "metadata": {
  "name": "",
  "signature": "sha256:7d39bc9efe5934de6280057c452dbdcb43ec3addeaaadb55b49df8637473f1a1"
 },
 "nbformat": 3,
 "nbformat_minor": 0,
 "worksheets": [
  {
   "cells": [
    {
     "cell_type": "code",
     "collapsed": false,
     "input": [
      "# Imports\n",
      "import numpy as np\n",
      "import h5py as h5\n",
      "import matplotlib.pyplot as plt\n",
      "from scipy import stats\n",
      "import os \n",
      "import csv\n",
      "import pandas\n",
      "from collections import defaultdict"
     ],
     "language": "python",
     "metadata": {},
     "outputs": [],
     "prompt_number": 1
    },
    {
     "cell_type": "code",
     "collapsed": false,
     "input": [
      "adni_file = '/Users/nikhil/Downloads/ADNI_Merge_filter.csv'\n",
      "data = pandas.read_csv(adni_file)"
     ],
     "language": "python",
     "metadata": {},
     "outputs": [],
     "prompt_number": 3
    },
    {
     "cell_type": "code",
     "collapsed": false,
     "input": [],
     "language": "python",
     "metadata": {},
     "outputs": [],
     "prompt_number": 15
    },
    {
     "cell_type": "code",
     "collapsed": false,
     "input": [],
     "language": "python",
     "metadata": {},
     "outputs": [],
     "prompt_number": 6
    },
    {
     "cell_type": "code",
     "collapsed": false,
     "input": [
      "# Filter ADNI1 Baseline subjects \n",
      "baseline_adni_1 = data[(data.ORIGPROT =='ADNI1') & (data.COLPROT=='ADNI1') & (data.VISCODE == 'bl')]\n",
      "\n",
      "Dx_df = defaultdict(list)\n",
      "ADAS11_df = defaultdict(list)\n",
      "ADAS13_df = defaultdict(list)\n",
      "MMSE_df = defaultdict(list)\n",
      "\n",
      "Dx_groups = ['AD','CN','LMCI']\n",
      "\n",
      "for dx in Dx_groups:\n",
      "    Dx_df[dx].append(baseline_adni_1[baseline_adni_1.DX_bl==dx])\n",
      "    #ADAS11\n",
      "    ADAS11 = np.array(Dx_df[dx][0].ADAS11.astype(np.float))\n",
      "    ADAS11 = ADAS11[~np.isnan(ADAS11)]\n",
      "    ADAS11_df[dx].append(ADAS11)\n",
      "    #ADAS13\n",
      "    ADAS13 = np.array(Dx_df[dx][0].ADAS13.astype(np.float))\n",
      "    ADAS13 = ADAS13[~np.isnan(ADAS13)]\n",
      "    ADAS13_df[dx].append(ADAS13)\n",
      "    #MMSE\n",
      "    MMSE = np.array(Dx_df[dx][0].MMSE.astype(np.float))\n",
      "    MMSE = MMSE[~np.isnan(MMSE)]\n",
      "    MMSE_df[dx].append(MMSE)"
     ],
     "language": "python",
     "metadata": {},
     "outputs": [],
     "prompt_number": 21
    },
    {
     "cell_type": "code",
     "collapsed": false,
     "input": [
      "plt.figure()\n",
      "plt.style.use('ggplot')\n",
      "\n",
      "plt.subplot(311)\n",
      "for dx in Dx_groups:\n",
      "    plt.hist(ADAS11_df[dx], bins=50, normed=True, label=dx)\n",
      "plt.legend()\n",
      "plt.title('ADAS11 Score Distribution')\n",
      "plt.subplot(312)\n",
      "for dx in Dx_groups:\n",
      "    plt.hist(ADAS13_df[dx], bins=50, normed=True, label=dx)\n",
      "plt.legend()\n",
      "plt.title('ADAS13 Score Distribution')\n",
      "plt.subplot(313)\n",
      "for dx in Dx_groups:\n",
      "    plt.hist(MMSE_df[dx], bins=50, normed=True, label=dx)\n",
      "plt.legend()\n",
      "plt.title('MMSE Score Distribution')\n",
      "\n",
      "plt.show()\n"
     ],
     "language": "python",
     "metadata": {},
     "outputs": [],
     "prompt_number": 24
    },
    {
     "cell_type": "code",
     "collapsed": false,
     "input": [],
     "language": "python",
     "metadata": {},
     "outputs": [],
     "prompt_number": 22
    },
    {
     "cell_type": "code",
     "collapsed": false,
     "input": [],
     "language": "python",
     "metadata": {},
     "outputs": []
    },
    {
     "cell_type": "code",
     "collapsed": false,
     "input": [],
     "language": "python",
     "metadata": {},
     "outputs": [],
     "prompt_number": 20
    },
    {
     "cell_type": "code",
     "collapsed": false,
     "input": [],
     "language": "python",
     "metadata": {},
     "outputs": []
    }
   ],
   "metadata": {}
  }
 ]
}