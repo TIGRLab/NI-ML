{
 "cells": [
  {
   "cell_type": "code",
   "execution_count": 17,
   "metadata": {
    "collapsed": true
   },
   "outputs": [],
   "source": [
    "# Basic Imports\n",
    "import numpy as np\n",
    "import h5py as h5\n",
    "#from sklearn.externals import joblib\n",
    "import matplotlib.pyplot as plt\n",
    "import pandas as pd\n",
    "from scipy import stats\n",
    "from sklearn.cross_validation import KFold\n",
    "import pickle\n",
    "import re\n",
    "import collections\n",
    "import tables as tb\n",
    "import ipyparallel as ipp\n",
    "from sklearn import preprocessing\n",
    "from sklearn.linear_model import LinearRegression\n",
    "from sklearn.linear_model import Lasso\n",
    "from sklearn.svm import SVR\n",
    "from sklearn.ensemble import RandomForestRegressor, RandomForestClassifier\n",
    "from sklearn import grid_search\n",
    "from sklearn import cross_validation\n",
    "from sklearn.metrics import confusion_matrix\n",
    "\n",
    "%matplotlib inline\n",
    "plt.style.use('ggplot')"
   ]
  },
  {
   "cell_type": "code",
   "execution_count": 20,
   "metadata": {
    "collapsed": false
   },
   "outputs": [],
   "source": [
    "# Data imports\n",
    "rsfc = pd.read_csv('/projects/jp/DS-classifier/raw/rsfc-dti-spins.csv')\n",
    "rsfc.rename(columns={u'Unnamed: 0': 'ID'}, inplace=True)\n",
    "\n",
    "pds = pd.read_csv('/projects/jp/DS-classifier/raw/pds-dti-spins.csv')\n",
    "pds.drop('Unnamed: 0', axis=1, inplace=True)\n",
    "merged = pd.merge(rsfc, pds, on='ID', how='left')\n",
    "\n",
    "# add in deficit status\n",
    "#quantiles = np.percentile(merged['PDS'], np.arange(0, 100, 25))\n",
    "#merged.loc[merged.PDS >= quantiles[3], 'defstat'] = 'D'\n",
    "#merged.loc[merged.PDS < quantiles[1], 'defstat'] = 'N'\n",
    "#merged.defstat = merged.defstat\n",
    "\n",
    "#Find quantiles from finite data\n",
    "merged['defstat'] = -1\n",
    "merged_finite = merged[np.isfinite(merged['PDS'])]\n",
    "maxB = np.max(np.array(merged_finite['PDS']))\n",
    "minB = np.min(np.array(merged_finite['PDS']))\n",
    "LB = merged_finite['PDS'].quantile(0.33)\n",
    "HB = merged_finite['PDS'].quantile(0.67)\n",
    "\n",
    "merged.loc[merged.PDS >= HB, 'defstat'] = 0\n",
    "merged.loc[merged.PDS < LB, 'defstat'] = 1\n",
    "merged.DX.fillna(\"H\", inplace=True)"
   ]
  },
  {
   "cell_type": "code",
   "execution_count": 21,
   "metadata": {
    "collapsed": false
   },
   "outputs": [
    {
     "name": "stdout",
     "output_type": "stream",
     "text": [
      "X shape: (97, 35778), y shape: (97,), D v ND ratio: -5.0206185567\n"
     ]
    }
   ],
   "source": [
    "# Select specific rows and cols (tasks and models)\n",
    "task = 'PDS'\n",
    "\n",
    "if task == 'PDS':\n",
    "    merged_clean = merged[np.isfinite(merged[task])] #Remove NaNs for PDS    \n",
    "    model_clf = RandomForestRegressor(n_jobs=8)\n",
    "    regression = True\n",
    "\n",
    "if task == 'DX':    \n",
    "    merged_clean = merged \n",
    "    model_clf = RandomForestClassifier(n_jobs=8)\n",
    "    regression = False\n",
    "    \n",
    "if task == 'defstat':    \n",
    "    merged_clean = merged[merged['defstat']!= -1] #Remove NaNs\n",
    "    model_clf = RandomForestClassifier(n_jobs=8)\n",
    "    regression = False\n",
    "    \n",
    "hyper_params = {'n_estimators':[10,50,100,200],'min_samples_split':[2,4,8]}\n",
    "s = 1\n",
    "e = 35779\n",
    "X = np.array(merged_clean.ix[:,s:e].copy()) #Select Cols\n",
    "y = np.array(merged_clean[task])\n",
    "print 'X shape: {}, y shape: {}, D v ND ratio: {}'.format(X.shape, y.shape, float(np.sum(y))/y.shape[0])"
   ]
  },
  {
   "cell_type": "code",
   "execution_count": 26,
   "metadata": {
    "collapsed": false,
    "scrolled": true
   },
   "outputs": [
    {
     "name": "stdout",
     "output_type": "stream",
     "text": [
      "Starting Outerfold computation\n",
      "Starting Inner computation\n",
      "Ending InnerFold computation\n",
      "Ending OuterFold computation\n",
      "Classification Acc based on thresholded PDS prediciton: 0.55\n",
      "Confusion Matrix: [[11  0  2]\n",
      " [ 5  0  0]\n",
      " [ 2  0  0]]\n"
     ]
    }
   ],
   "source": [
    "# Run Configs\n",
    "inner_loop = True\n",
    "save_model = False\n",
    "save_model_path = './'\n",
    "test_subset_fraction = 0.2\n",
    "\n",
    "# Sample train test subsets (outerfold)\n",
    "rand_state = 0\n",
    "indices = np.arange(X.shape[0])\n",
    "X_train, X_test, y_train, y_test, idx1, idx2 = cross_validation.train_test_split(X, y, indices, test_size=test_subset_fraction, random_state=rand_state)\n",
    "\n",
    "#run model:\n",
    "results = computeOuterFold(X_train, y_train, X_test, y_test, model_clf, regression, hyper_params, inner_loop, save_model, save_model_path)\n",
    "\n",
    "#Post hoc Classifcation\n",
    "pred_scores = results['predicted_fold_score']\n",
    "class_labels = merged['defstat'][idx2]\n",
    "class_thresh_dict = {0:(HB,maxB),1:(minB,LB),-1:(LB,HB)}\n",
    "pred_classes = postHoc_Classification(pred_scores, class_labels, class_thresh_dict)\n",
    "cm = confusion_matrix(class_labels, pred_classes, labels=None)\n",
    "\n",
    "#print zip(pred_classes, class_labels)\n",
    "print 'Classification Acc based on thresholded PDS prediciton: {}'.format(np.sum(pred_classes == class_labels)/float(len(class_labels)))\n",
    "print 'Confusion Matrix: {}'.format(cm) "
   ]
  },
  {
   "cell_type": "code",
   "execution_count": null,
   "metadata": {
    "collapsed": true
   },
   "outputs": [],
   "source": []
  },
  {
   "cell_type": "code",
   "execution_count": null,
   "metadata": {
    "collapsed": false
   },
   "outputs": [],
   "source": []
  },
  {
   "cell_type": "code",
   "execution_count": 27,
   "metadata": {
    "collapsed": false
   },
   "outputs": [
    {
     "data": {
      "image/png": "[encoded data removed]",
      "text/plain": [
       "<matplotlib.figure.Figure at 0x7f14d9b05d50>"
      ]
     },
     "metadata": {},
     "output_type": "display_data"
    }
   ],
   "source": [
    "# Fancy Plots\n",
    "# Formatting configs\n",
    "from matplotlib.artist import setp\n",
    "plt.rcParams['figure.figsize'] = (15, 10)\n",
    "font_small = 20\n",
    "font_med = 30\n",
    "font_large = 40\n",
    "my_colors = ['steelblue', 'olivedrab', 'cadetblue', 'salmon']\n",
    "\n",
    "x_plt = pred_scores\n",
    "y_plt = y_test\n",
    "\n",
    "k=0\n",
    "plt.scatter(x_plt, y_plt, c=my_colors[k], s=40)\n",
    "fit = np.polyfit(x_plt,y_plt,1)\n",
    "fit_fn = np.poly1d(fit) \n",
    "slope, intercept, r_value, p_value, std_err = stats.linregress(x_plt,y_plt)\n",
    "if p_value < 0.0001:\n",
    "    p_value_sig = '<0.001'\n",
    "else:\n",
    "    p_value_sig = '{:.3}'.format(p_value)\n",
    "\n",
    "#Plot annotations\n",
    "label_str = 'model: {}'.format('RF') + '\\n' + 'r-value: {:04.2f}'.format(r_value) + '\\n' + 'p-value: ' + p_value_sig + '\\n' + 'std_err: {:04.2f}'.format(std_err) \n",
    "# fit_fn is now a function which takes in x and returns an estimate for y\n",
    "plt.plot(x_plt, fit_fn(x_plt),linewidth=3, c=my_colors[k], label=label_str)\n",
    "#plt.title(model_choice,fontsize=font_large)\n",
    "#plt.set_ylim(0,40)\n",
    "plt.xlabel('Predicted Score',fontsize=font_med)\n",
    "plt.ylabel('Actual Score',fontsize=font_med)            \n",
    "plt.legend(fontsize=font_small,loc=2)\n",
    "plt.tick_params(labelsize=font_small)\n"
   ]
  },
  {
   "cell_type": "code",
   "execution_count": 16,
   "metadata": {
    "collapsed": false
   },
   "outputs": [
    {
     "name": "stdout",
     "output_type": "stream",
     "text": [
      "[[16  0  2]\n",
      " [ 1  0  0]\n",
      " [ 1  0  0]]\n"
     ]
    }
   ],
   "source": [
    "\n"
   ]
  },
  {
   "cell_type": "code",
   "execution_count": 5,
   "metadata": {
    "collapsed": false
   },
   "outputs": [],
   "source": [
    "# Need imports within the defs if using ipython parallelization. \n",
    "def innerCVLoop(model_clf,hyper_params,fold_X, fold_y,save_model,save_model_path):\n",
    "    from sklearn.linear_model import LinearRegression\n",
    "    from sklearn.linear_model import Lasso\n",
    "    from sklearn.svm import SVR\n",
    "    from sklearn.ensemble import RandomForestRegressor\n",
    "    from sklearn import grid_search\n",
    "    clf = grid_search.GridSearchCV(model_clf, hyper_params,cv=3,verbose=0)\n",
    "    clf.fit(fold_X, fold_y)\n",
    "    #Save classifier\n",
    "    if save_model:\n",
    "        save_model(clf,save_model_path)\n",
    "        \n",
    "    return clf\n",
    "\n",
    "#Outer Fold Computation\n",
    "def computeOuterFold(train_X, train_y, valid_X, valid_y, model_clf, regression, hyper_params, inner_loop, save_model, save_model_path):\n",
    "    import collections\n",
    "    from sklearn.linear_model import LinearRegression\n",
    "    from sklearn.linear_model import Lasso\n",
    "    from sklearn.svm import SVR\n",
    "    from sklearn.ensemble import RandomForestRegressor\n",
    "    from sklearn import grid_search\n",
    "    import datetime\n",
    "    import time\n",
    "    import collections\n",
    "    from scipy.stats import mode\n",
    "    from sklearn.metrics import mean_squared_error as mse\n",
    "    from scipy import stats\n",
    "    \n",
    "    print 'Starting Outerfold computation'\n",
    "    \n",
    "    hp_dict = collections.defaultdict(list) #store best hyper-parameters for each fold\n",
    "    \n",
    "    if inner_loop:     \n",
    "        print 'Starting Inner computation'\n",
    "        save_model_path_fold = save_model_path + '_fold_' \n",
    "        clf = innerCVLoop(model_clf,hyper_params,train_X, train_y,save_model,save_model_path_fold)\n",
    "        for hp in hyper_params:\n",
    "            hp_dict[hp].append(clf.best_estimator_.get_params()[hp])\n",
    "            \n",
    "        print 'Ending InnerFold computation'\n",
    "\n",
    "    else:\n",
    "        clf = model_clf\n",
    "        clf.fit(fold_X,fold_y)\n",
    "        \n",
    "    #CV_scores    \n",
    "    CV_stats = {}\n",
    "    if regression:    \n",
    "        r_train = stats.pearsonr(clf.predict(train_X),train_y)\n",
    "        r_valid = stats.pearsonr(clf.predict(valid_X),valid_y)\n",
    "\n",
    "        R2_train = clf.score(train_X,train_y) \n",
    "        R2_valid = clf.score(valid_X,valid_y)\n",
    "\n",
    "        MSE_train = mse(clf.predict(train_X),train_y)\n",
    "        MSE_valid = mse(clf.predict(valid_X),valid_y)\n",
    "        \n",
    "        CV_stats = {'r_valid':r_valid, 'R2_valid':R2_valid, 'MSE_valid':MSE_valid}\n",
    "        \n",
    "    else: \n",
    "        class_acc = clf.score(valid_X,valid_y)\n",
    "        CV_stats = {'class_acc':class_acc}\n",
    "    \n",
    "    print 'Ending OuterFold computation'\n",
    "    \n",
    "    return {'CV_stats':CV_stats, 'hp_dict':hp_dict, 'predicted_fold_score': clf.predict(valid_X), 'actual_fold_scores':valid_y}\n",
    "\n",
    "def postHoc_Classification(pred_scores, class_labels, class_thresh_dict):\n",
    "    # class_thresh_dict: {0:(0,-2), 1:(-7,-15)} labels and their correspnding ranges\n",
    "    pred_classes = []\n",
    "    label_matched = False\n",
    "    for score in pred_scores:\n",
    "        for key in class_thresh_dict.keys():\n",
    "            T_L = class_thresh_dict[key][0]\n",
    "            T_H = class_thresh_dict[key][1]\n",
    "            if T_L <= score < T_H:\n",
    "                pred_classes.append(key)\n",
    "                label_matched = True\n",
    "                break\n",
    "                \n",
    "    if not label_matched:\n",
    "        print \"Incorrect class thresholds...\"\n",
    "        \n",
    "    return pred_classes\n",
    "    "
   ]
  },
  {
   "cell_type": "code",
   "execution_count": null,
   "metadata": {
    "collapsed": false
   },
   "outputs": [],
   "source": [
    "#Scratch Work\n",
    "merged_finite = merged[np.isfinite(merged['PDS'])]\n",
    "print np.median(np.array(merged_finite['PDS']))\n",
    "print merged_finite['PDS'].quantile(0.25)\n",
    "print merged_finite['PDS'].quantile(0.75)"
   ]
  },
  {
   "cell_type": "code",
   "execution_count": null,
   "metadata": {
    "collapsed": false
   },
   "outputs": [],
   "source": [
    "\n"
   ]
  },
  {
   "cell_type": "code",
   "execution_count": null,
   "metadata": {
    "collapsed": false
   },
   "outputs": [],
   "source": []
  },
  {
   "cell_type": "code",
   "execution_count": null,
   "metadata": {
    "collapsed": true
   },
   "outputs": [],
   "source": []
  }
 ],
 "metadata": {
  "kernelspec": {
   "display_name": "Python 2",
   "language": "python",
   "name": "python2"
  },
  "language_info": {
   "codemirror_mode": {
    "name": "ipython",
    "version": 2
   },
   "file_extension": ".py",
   "mimetype": "text/x-python",
   "name": "python",
   "nbconvert_exporter": "python",
   "pygments_lexer": "ipython2",
   "version": "2.7.10"
  }
 },
 "nbformat": 4,
 "nbformat_minor": 0
}
