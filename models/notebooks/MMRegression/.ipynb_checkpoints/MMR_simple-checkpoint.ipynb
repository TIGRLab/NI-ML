{
 "cells": [
  {
   "cell_type": "code",
   "execution_count": 2,
   "metadata": {
    "collapsed": false
   },
   "outputs": [
    {
     "name": "stderr",
     "output_type": "stream",
     "text": [
      "ERROR: Line magic function `%pylab.rcParams` not found.\n"
     ]
    }
   ],
   "source": [
    "import pandas as pd\n",
    "import numpy as np\n",
    "from matplotlib import pyplot as plt\n",
    "import matplotlib.pylab as pylab\n",
    "\n",
    "# Useful plotting thingies:\n",
    "%matplotlib inline\n",
    "plt.style.use('ggplot')\n",
    "%pylab.rcParams['figure.figsize'] = 16, 16\n",
    "\n"
   ]
  },
  {
   "cell_type": "code",
   "execution_count": 3,
   "metadata": {
    "collapsed": false
   },
   "outputs": [],
   "source": [
    "import tables as tb\n",
    "from sklearn.preprocessing import Normalizer, scale\n",
    "\n",
    "# Set up the experimental matrices:\n",
    "targets = ['ADAS11_bl', 'ADAS13_bl', 'MMSE_bl']\n",
    "varnames = ['CT_VOL', 'L_HC_VOL', 'R_HC_VOL']\n",
    "targets_regex = '|'.join(['^{}$'.format(t) for t in targets])\n",
    "#modalities = ['CT', 'L_HC', 'R_HC']\n",
    "modalities = ['CT']\n",
    "l_segment_regex = '^L_HC_'\n",
    "r_segment_regex = '^R_HC_'\n",
    "modalities_regex = '|'.join(['^{}_'.format(m) for m in modalities])\n",
    "\n",
    "matrices = []\n",
    "l_D = []\n",
    "r_D = []\n",
    "for split in ['train', 'valid', 'test']:\n",
    "    frame = pd.read_pickle('/projects/francisco/data/ADNI/cli_ct_seg_fused_{}.pkl'.format(split))\n",
    "    ct = frame.filter(regex=modalities_regex).as_matrix()\n",
    "    y_cur = frame.filter(regex=targets_regex).as_matrix()\n",
    "    y_cur[np.isnan(y_cur)] = np.nanmean(y_cur)\n",
    "    l_segs = frame.filter(regex=l_segment_regex).as_matrix()\n",
    "    r_segs = frame.filter(regex=r_segment_regex).as_matrix()\n",
    "    ct_vol = np.sum(ct, axis=1)\n",
    "    l_hc_vol = np.sum(l_segs, axis=1)\n",
    "    r_hc_vol = np.sum(r_segs, axis=1)\n",
    "    matrices.append([y_cur, ct_vol, l_hc_vol, r_hc_vol])\n",
    "    "
   ]
  },
  {
   "cell_type": "code",
   "execution_count": 4,
   "metadata": {
    "collapsed": false
   },
   "outputs": [],
   "source": [
    "from matplotlib import pyplot as plt\n",
    "\n",
    "#frame = pd.read_pickle('/projects/francisco/data/ADNI/cli_ct_seg_fused_train.pkl'.format(split))\n",
    "frame = pd.read_pickle('/projects/francisco/data/ADNI/master_fused.pkl'.format(split))\n",
    "l_segs = frame.filter(regex=l_segment_regex).as_matrix()\n",
    "r_segs = frame.filter(regex=r_segment_regex).as_matrix()\n",
    "ct = frame.filter(regex=modalities_regex).as_matrix()\n",
    "y_cur = frame.filter(regex=targets_regex).as_matrix()\n",
    "y_cur[np.isnan(y_cur)] = np.nanmean(y_cur)\n",
    "classes = frame['DX_bl'].as_matrix()\n",
    "c = classes\n",
    "c[c=='AD'] = 0\n",
    "c[c=='CN'] = 1\n",
    "c[c=='LMCI'] = 2"
   ]
  },
  {
   "cell_type": "code",
   "execution_count": 5,
   "metadata": {
    "collapsed": false
   },
   "outputs": [],
   "source": [
    "import h5py as h5\n",
    "\n",
    "fused_segmentations_path = '/projects/nikhil/miccai/input_data_comb/ad_mci_cn_{}.h5'\n",
    "\n"
   ]
  },
  {
   "cell_type": "code",
   "execution_count": 6,
   "metadata": {
    "collapsed": false,
    "scrolled": false
   },
   "outputs": [
    {
     "ename": "NameError",
     "evalue": "name 'vols_ad' is not defined",
     "output_type": "error",
     "traceback": [
      "\u001b[1;31m---------------------------------------------------------------------------\u001b[0m",
      "\u001b[1;31mNameError\u001b[0m                                 Traceback (most recent call last)",
      "\u001b[1;32m<ipython-input-6-2b0e74a71fa1>\u001b[0m in \u001b[0;36m<module>\u001b[1;34m()\u001b[0m\n\u001b[0;32m     40\u001b[0m \u001b[0mtotal_ct_mci\u001b[0m \u001b[1;33m=\u001b[0m \u001b[0mnp\u001b[0m\u001b[1;33m.\u001b[0m\u001b[0msum\u001b[0m\u001b[1;33m(\u001b[0m\u001b[0mct_mci\u001b[0m\u001b[1;33m,\u001b[0m \u001b[0maxis\u001b[0m\u001b[1;33m=\u001b[0m\u001b[1;36m1\u001b[0m\u001b[1;33m)\u001b[0m\u001b[1;33m\u001b[0m\u001b[0m\n\u001b[0;32m     41\u001b[0m \u001b[1;33m\u001b[0m\u001b[0m\n\u001b[1;32m---> 42\u001b[1;33m \u001b[1;32mprint\u001b[0m \u001b[0mnp\u001b[0m\u001b[1;33m.\u001b[0m\u001b[0mmean\u001b[0m\u001b[1;33m(\u001b[0m\u001b[0mvols_ad\u001b[0m\u001b[1;33m)\u001b[0m\u001b[1;33m\u001b[0m\u001b[0m\n\u001b[0m\u001b[0;32m     43\u001b[0m \u001b[1;32mprint\u001b[0m \u001b[0mnp\u001b[0m\u001b[1;33m.\u001b[0m\u001b[0mmean\u001b[0m\u001b[1;33m(\u001b[0m\u001b[0mvols_cn\u001b[0m\u001b[1;33m)\u001b[0m\u001b[1;33m\u001b[0m\u001b[0m\n\u001b[0;32m     44\u001b[0m \u001b[1;32mprint\u001b[0m \u001b[0mnp\u001b[0m\u001b[1;33m.\u001b[0m\u001b[0mmean\u001b[0m\u001b[1;33m(\u001b[0m\u001b[0mvols_mci\u001b[0m\u001b[1;33m)\u001b[0m\u001b[1;33m\u001b[0m\u001b[0m\n",
      "\u001b[1;31mNameError\u001b[0m: name 'vols_ad' is not defined"
     ]
    }
   ],
   "source": [
    "indad = np.where(classes==0)[0]\n",
    "indcn = np.where(classes==1)[0]\n",
    "indmci = np.where(classes==2)[0]\n",
    "\n",
    "l_segs_ad = l_segs[indad]\n",
    "r_segs_ad = r_segs[indad]\n",
    "\n",
    "l_segs_cn = l_segs[indcn]\n",
    "r_segs_cn = r_segs[indcn]\n",
    "\n",
    "l_segs_mci = l_segs[indmci]\n",
    "r_segs_mci = r_segs[indmci]\n",
    "\n",
    "l_vols_ad = np.sum(l_segs_ad, axis=1)\n",
    "l_vols_cn = np.sum(l_segs_cn, axis=1)\n",
    "l_vols_mci = np.sum(l_segs_mci, axis=1)\n",
    "\n",
    "r_vols_ad = np.sum(r_segs_ad, axis=1)\n",
    "r_vols_cn = np.sum(r_segs_cn, axis=1)\n",
    "r_vols_mci = np.sum(r_segs_mci, axis=1)\n",
    "\n",
    "ct_ad = ct[indad]\n",
    "ct_cn = ct[indcn]\n",
    "ct_mci = ct[indmci]\n",
    "\n",
    "adas11_ad = y_cur[indad,0]\n",
    "adas11_cn = y_cur[indcn,0]\n",
    "adas11_mci = y_cur[indmci,0]\n",
    "\n",
    "adas13_ad = y_cur[indad,1]\n",
    "adas13_cn = y_cur[indcn,1]\n",
    "adas13_mci = y_cur[indmci,1]\n",
    "\n",
    "mmse_ad = y_cur[indad,2]\n",
    "mmse_cn = y_cur[indcn,2]\n",
    "mmse_mci = y_cur[indmci,2]\n",
    "\n",
    "total_ct_ad = np.sum(ct_ad, axis=1)\n",
    "total_ct_cn = np.sum(ct_cn, axis=1)\n",
    "total_ct_mci = np.sum(ct_mci, axis=1)\n",
    "\n",
    "print np.mean(vols_ad)\n",
    "print np.mean(vols_cn)\n",
    "print np.mean(vols_mci)\n",
    "print np.mean(total_ct_ad)\n",
    "print np.mean(total_ct_cn)\n",
    "print np.mean(total_ct_mci)\n",
    "print adas11_ad.shape\n",
    "pylab.rcParams['figure.figsize'] = 16, 8\n",
    "\n",
    "plt.subplot(2,1,1)\n",
    "plt.hist(adas11_ad, bins=50,color='r', alpha=0.25, label='ad')\n",
    "plt.hist(adas11_cn, bins=50,color='g', alpha=0.25, label='cn')\n",
    "plt.hist(adas11_mci, bins=50,color='b', alpha=0.25, label='mci')\n",
    "plt.legend()\n",
    "plt.title('ADAS 11')\n",
    "plt.show()\n",
    "\n",
    "plt.subplot(2,1,1)\n",
    "plt.hist(adas13_ad, bins=50,color='r', alpha=0.25, label='ad')\n",
    "plt.hist(adas13_cn, bins=50,color='g', alpha=0.25, label='cn')\n",
    "plt.hist(adas13_mci, bins=50,color='b', alpha=0.25, label='mci')\n",
    "plt.legend()\n",
    "plt.title('ADAS 13')\n",
    "plt.show()\n",
    "\n",
    "plt.subplot(2,1,1)\n",
    "plt.hist(mmse_ad, bins=50,color='r', alpha=0.25, label='ad')\n",
    "plt.hist(mmse_cn, bins=50,color='g', alpha=0.25, label='cn')\n",
    "plt.hist(mmse_mci, bins=50,color='b', alpha=0.25, label='mci')\n",
    "plt.legend()\n",
    "plt.title('MMSE')\n",
    "plt.show()\n",
    "\n",
    "\n",
    "plt.subplot(2,1,1)\n",
    "plt.hist(l_vols_ad, bins=50, color='r', alpha=0.25, label='ad: {} mv'.format(np.mean(l_vols_ad)))\n",
    "plt.hist(l_vols_cn, bins=50, color='g', alpha=0.25, label='cn: {} mv'.format(np.mean(l_vols_cn)))\n",
    "plt.hist(l_vols_mci, bins=50, color='b', alpha=0.25, label='mci: {} mv'.format(np.mean(l_vols_mci)))\n",
    "plt.legend()\n",
    "plt.title('Total Left Hippocampal Volume')\n",
    "plt.show()\n",
    "\n",
    "plt.subplot(2,1,2)\n",
    "plt.hist(r_vols_ad, bins=50,color='r', alpha=0.25, label='ad: {} mv'.format(np.mean(r_vols_ad)))\n",
    "plt.hist(r_vols_cn, bins=50,color='g', alpha=0.25, label='cn: {} mv'.format(np.mean(r_vols_cn)))\n",
    "plt.hist(r_vols_mci, bins=50,color='b', alpha=0.25, label='mci: {} mv'.format(np.mean(r_vols_mci)))\n",
    "plt.legend()\n",
    "plt.title('Total Right Hippocampal Volume')\n",
    "plt.show()\n",
    "\n",
    "plt.subplot(1,1,1)\n",
    "plt.hist(total_ct_ad, bins=50,color='r', alpha=0.25, label='ad: {} mt'.format(np.mean(total_ct_ad)))\n",
    "plt.hist(total_ct_cn, bins=50,color='g', alpha=0.25, label='cn: {} mt'.format(np.mean(total_ct_cn)))\n",
    "plt.hist(total_ct_mci, bins=50,color='b', alpha=0.25, label='mci: {} mt'.format(np.mean(total_ct_mci)))\n",
    "plt.legend()\n",
    "plt.title('Total Cortical Thickness')\n",
    "plt.show()\n",
    "pylab.rcParams['figure.figsize'] = 16, 16\n"
   ]
  },
  {
   "cell_type": "code",
   "execution_count": null,
   "metadata": {
    "collapsed": false
   },
   "outputs": [],
   "source": [
    "print stats.shape\n",
    "print len(k_classifiers)\n",
    "print k_classifiers\n",
    "print X_v.shape"
   ]
  },
  {
   "cell_type": "code",
   "execution_count": null,
   "metadata": {
    "collapsed": false,
    "scrolled": false
   },
   "outputs": [],
   "source": [
    "from tabulate import tabulate\n",
    "\n",
    "f = 0\n",
    "for v, vname in enumerate(varnames):\n",
    "    X, y = matrices[0][v+1].reshape((-1,1)), matrices[0][0]\n",
    "    X_v, y_v = matrices[1][v+1].reshape((-1,1)), matrices[1][0]\n",
    "    for t, tname in enumerate(targets):\n",
    "        f += 1  \n",
    "        ax=plt.subplot(3,3,f)\n",
    "        plt.title('{} vs {}'.format(vname, tname))\n",
    "        slope, intercept, r_value, p_value, std_err = scipy.stats.linregress(X.ravel(),y[:,t])\n",
    "        y_hat_v = intercept + slope * X_v\n",
    "        \n",
    "        # Plot outputs\n",
    "        plt.scatter(X_v, y_v[:,t], marker='+', color='gray')\n",
    "        plt.plot(X_v, y_hat_v, color='green', linewidth=1)\n",
    "        plt.text(0.3, 0.9,'R={}\\np-val:{}'.format(r_value, p_value), horizontalalignment='center', verticalalignment='center', transform = ax.transAxes)\n",
    "\n",
    "plt.grid()    \n",
    "plt.show()\n",
    "\n"
   ]
  },
  {
   "cell_type": "code",
   "execution_count": null,
   "metadata": {
    "collapsed": false
   },
   "outputs": [],
   "source": [
    "# Univariate regression on individual CT vars\n",
    "frame = pd.read_pickle('/projects/francisco/data/ADNI/cli_ct_seg_fused_train.pkl')\n",
    "frame = frame[np.isfinite(frame['ADAS11_bl']) & np.isfinite(frame['ADAS13_bl']) & np.isfinite(frame['MMSE_bl'])]\n",
    "ct = frame.filter(regex='^CT_|^L_HC_VOL|^R_HC_VOL')\n",
    "y_cur = frame.filter(regex=targets_regex).as_matrix()\n",
    "\n",
    "scores = []\n",
    "for i, var in enumerate(ct.keys()):\n",
    "    cur_scores = [var]\n",
    "    for t in range(3):\n",
    "        x = ct[var].as_matrix()\n",
    "        y = y_cur[:,t]\n",
    "        slope, intercept, r_value, p_value, std_err = scipy.stats.linregress(x.ravel(), y)\n",
    "        cur_scores.append(r_value)\n",
    "        cur_scores.append(p_value)\n",
    "    scores.append(tuple(cur_scores))"
   ]
  },
  {
   "cell_type": "code",
   "execution_count": null,
   "metadata": {
    "collapsed": false
   },
   "outputs": [],
   "source": [
    "from IPython.display import display\n",
    "from pandas import DataFrame\n",
    "\n",
    "scores.sort(reverse=True, key=lambda s: abs(s[1] + s[3] + s[5]))\n",
    "header = ['CT Var']\n",
    "header2 = zip(['r {}'.format(t) for t in targets], ['p-val {}'.format(t) for t in targets])\n",
    "header = header + [val for pair in header2 for val in pair]\n",
    "score_table = DataFrame(scores, columns=header)\n",
    "print 'r scores'\n",
    "display(score_table)"
   ]
  },
  {
   "cell_type": "code",
   "execution_count": null,
   "metadata": {
    "collapsed": false,
    "scrolled": false
   },
   "outputs": [],
   "source": [
    "from sklearn.linear_model import RandomizedLasso\n",
    "\n",
    "# Randomized lasso feature selection\n",
    "lasso_scores = []\n",
    "X = ct.as_matrix()\n",
    "plt.cla()\n",
    "plt.subplots_adjust(wspace=1.0)\n",
    "for t, target in enumerate(targets):\n",
    "    y = y_cur[:,t]\n",
    "    rlasso = RandomizedLasso(normalize=True, n_resampling=1000)\n",
    "    rlasso.fit(X, y)\n",
    "    lasso_scores.append(rlasso.scores_)\n",
    "    feats = zip(var_names, rlasso.scores_)\n",
    "    feats.sort(reverse=False, key=lambda x: abs(x[1]))\n",
    "    plt.subplot(1,3, t)\n",
    "    plt.title('{}'.format(target))\n",
    "    y_pos = np.arange(len(feats))\n",
    "    plt.barh(y_pos, width=zip(*feats)[1], height=0.5, color='b', align=\"center\", alpha=0.5)\n",
    "    plt.yticks(y_pos, zip(*feats)[0])    \n",
    "\n",
    "plt.legend()\n",
    "plt.show()"
   ]
  },
  {
   "cell_type": "code",
   "execution_count": null,
   "metadata": {
    "collapsed": false
   },
   "outputs": [],
   "source": [
    "from sklearn.ensemble import RandomForestRegressor\n",
    "\n",
    "# Randomized lasso feature selection\n",
    "rf_scores = []\n",
    "X = ct.as_matrix()\n",
    "plt.cla()\n",
    "plt.subplots_adjust(wspace=1.0)\n",
    "for t, target in enumerate(targets):\n",
    "    y = y_cur[:,t]\n",
    "    forest = RandomForestRegressor()\n",
    "    forest.fit(X, y)\n",
    "    rf_scores.append(rlasso.scores_)\n",
    "    feats = zip(var_names, forest.feature_importances_)\n",
    "    feats.sort(reverse=False, key=lambda x: abs(x[1]))\n",
    "    plt.subplot(1,3, t)\n",
    "    plt.title('{}'.format(target))\n",
    "    y_pos = np.arange(len(feats))\n",
    "    plt.barh(y_pos, width=zip(*feats)[1], height=0.5, color='b', align=\"center\", alpha=0.5)\n",
    "    plt.yticks(y_pos, zip(*feats)[0])    \n",
    "\n",
    "plt.legend()\n",
    "plt.show()"
   ]
  },
  {
   "cell_type": "code",
   "execution_count": null,
   "metadata": {
    "collapsed": true
   },
   "outputs": [],
   "source": []
  }
 ],
 "metadata": {
  "kernelspec": {
   "display_name": "Python 2",
   "language": "python",
   "name": "python2"
  },
  "language_info": {
   "codemirror_mode": {
    "name": "ipython",
    "version": 2
   },
   "file_extension": ".py",
   "mimetype": "text/x-python",
   "name": "python",
   "nbconvert_exporter": "python",
   "pygments_lexer": "ipython2",
   "version": "2.7.10"
  }
 },
 "nbformat": 4,
 "nbformat_minor": 0
}
