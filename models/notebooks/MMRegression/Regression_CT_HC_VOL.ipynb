{
 "cells": [
  {
   "cell_type": "code",
   "execution_count": 1,
   "metadata": {
    "collapsed": false
   },
   "outputs": [],
   "source": [
    "#Imports\n",
    "import numpy as np\n",
    "import h5py as h5\n",
    "from sklearn.externals import joblib\n",
    "import matplotlib.pyplot as plt\n",
    "import pandas as pd\n",
    "from scipy import stats\n",
    "from sklearn.cross_validation import KFold\n",
    "import pickle\n",
    "\n",
    "# Useful plotting thingies:\n",
    "%matplotlib inline\n",
    "plt.style.use('ggplot')\n",
    "plt.rcParams['figure.figsize'] = 12, 12"
   ]
  },
  {
   "cell_type": "code",
   "execution_count": 2,
   "metadata": {
    "collapsed": false
   },
   "outputs": [],
   "source": [
    "#datasets\n",
    "data_path = '/projects/nikhil/ADNI_prediction/input_datasets/'\n",
    "#input data\n",
    "train_val_file = data_path + 'cli_ct_seg_fused_train_plus_val.pkl'\n",
    "test_file = '/projects/francisco/data/ADNI/cli_ct_seg_fused_test.pkl'\n",
    "\n",
    "#k-fold indices (from a saved file)\n",
    "kf_file = data_path + 'cli_ct_train_valid_KFold_idx.pkl'\n"
   ]
  },
  {
   "cell_type": "code",
   "execution_count": 5,
   "metadata": {
    "collapsed": false
   },
   "outputs": [],
   "source": [
    "p = 1.0 - scipy.stats.f.cdf(F,dfn,dfd)\n",
    "#Grab CV data with specific feature columes (independent vars) and specific clinical scale (dependent var)\n",
    "def load_CV_data(in_file, kf_file, clinical_scale, feature_cols):\n",
    "    data = pd.read_pickle(in_file)\n",
    "    all_regex = '|'.join(['^{}'.format(var) for var in feature_cols + clinical_scale + ['CT']])\n",
    "    ct_regex = '^CT_'\n",
    "    data_trunc = data.filter(regex=all_regex)\n",
    "    data_trunc = data_trunc.dropna(how='any')\n",
    "    print ct_regex\n",
    "    print data_trunc.filter(regex=ct_regex).columns\n",
    "    X_ct = np.sum(np.asarray(data_trunc.filter(regex=ct_regex), dtype=float),axis=1).reshape(-1,1)\n",
    "    X = np.concatenate([np.asarray(data_trunc[feature_cols], dtype=float), X_ct], axis=1)\n",
    "    y = np.asarray(data_trunc[clinical_scale], dtype=float)\n",
    "    kf = pickle.load( open(kf_file, \"rb\" ) )\n",
    "    X_train = []\n",
    "    X_valid = []\n",
    "    y_train = []\n",
    "    y_valid = []\n",
    "    for train, valid in kf:        \n",
    "        X_train.append(X[train])\n",
    "        X_valid.append(X[valid])\n",
    "        y_train.append(y[train])\n",
    "        y_valid.append(y[valid])\n",
    "    \n",
    "    # Return train and validation lists comprising all folds\n",
    "    return {'X_train':X_train,'X_valid':X_valid,'y_train':y_train,'y_valid':y_valid}\n",
    "\n",
    "#Load test data\n",
    "def load_test_data(in_file, clinical_scale, feature_cols):\n",
    "\n",
    "    data = pd.read_pickle(in_file)\n",
    "    data_trunc = data[clinical_scale + feature_cols]\n",
    "    # remove nans\n",
    "    data_trunc = data_trunc[np.isfinite(data_trunc[clinical_scale])]\n",
    "    X = np.asarray(data_trunc[feature_cols],dtype=float)\n",
    "    y = np.asarray(data_trunc[clinical_scale],dtype=float)\n",
    "    return {'X':X, 'y':y}"
   ]
  },
  {
   "cell_type": "code",
   "execution_count": 52,
   "metadata": {
    "collapsed": false
   },
   "outputs": [
    {
     "name": "stdout",
     "output_type": "stream",
     "text": [
      "^CT_\n",
      "Index([u'CT_REC.L', u'CT_OLF.L', u'CT_ORBsup.L', u'CT_ORBsupmed.L',\n",
      "       u'CT_ORBmid.L', u'CT_ORBinf.L', u'CT_SFGdor.L', u'CT_MFG.L',\n",
      "       u'CT_IFGoperc.L', u'CT_IFGtriang.L', u'CT_SFGmed.L', u'CT_SMA.L',\n",
      "       u'CT_PCL.L', u'CT_PreCG.L', u'CT_ROL.L', u'CT_PoCG.L', u'CT_SPG.L',\n",
      "       u'CT_IPL.L', u'CT_SMG.L', u'CT_ANG.L', u'CT_PCUN.L', u'CT_SOG.L',\n",
      "       u'CT_MOG.L', u'CT_IOG.L', u'CT_CAL.L', u'CT_CUN.L', u'CT_LING.L',\n",
      "       u'CT_FFG.L', u'CT_HES.L', u'CT_STG.L', u'CT_MTG.L', u'CT_ITG.L',\n",
      "       u'CT_TPOsup.L', u'CT_TPOmid.L', u'CT_ACG.L', u'CT_DCG.L', u'CT_PCG.L',\n",
      "       u'CT_REC.R', u'CT_OLF.R', u'CT_ORBsup.R', u'CT_ORBsupmed.R',\n",
      "       u'CT_ORBmid.R', u'CT_ORBinf.R', u'CT_SFGdor.R', u'CT_MFG.R',\n",
      "       u'CT_IFGoperc.R', u'CT_IFGtriang.R', u'CT_SFGmed.R', u'CT_SMA.R',\n",
      "       u'CT_PCL.R', u'CT_PreCG.R', u'CT_ROL.R', u'CT_PoCG.R', u'CT_SPG.R',\n",
      "       u'CT_IPL.R', u'CT_SMG.R', u'CT_ANG.R', u'CT_PCUN.R', u'CT_SOG.R',\n",
      "       u'CT_MOG.R', u'CT_IOG.R', u'CT_CAL.R', u'CT_CUN.R', u'CT_LING.R',\n",
      "       u'CT_FFG.R', u'CT_HES.R', u'CT_STG.R', u'CT_MTG.R', u'CT_ITG.R',\n",
      "       u'CT_TPOsup.R', u'CT_TPOmid.R', u'CT_ACG.R', u'CT_DCG.R', u'CT_PCG.R'],\n",
      "      dtype='object')\n",
      "(522, 3)\n"
     ]
    }
   ],
   "source": [
    "feature_cols = ['L_HC_VOL','R_HC_VOL']\n",
    "var_names = feature_cols + ['CT_TOTAL']\n",
    "clinical_scale = ['ADAS13']\n",
    "\n",
    "cv_data = load_CV_data(train_val_file,kf_file, clinical_scale, feature_cols)\n",
    "#test_data = load_test_data(test_file, feature_cols, clinical_scale)\n",
    "print cv_data['X_train'][0].shape"
   ]
  },
  {
   "cell_type": "code",
   "execution_count": 73,
   "metadata": {
    "collapsed": false
   },
   "outputs": [
    {
     "name": "stdout",
     "output_type": "stream",
     "text": [
      "(522, 3)\n"
     ]
    },
    {
     "data": {
      "image/png": "[encoded data removed]",
      "text/plain": [
       "<matplotlib.figure.Figure at 0x7f9f62c36dd0>"
      ]
     },
     "metadata": {},
     "output_type": "display_data"
    }
   ],
   "source": [
    "import scipy\n",
    "\n",
    "# First, a test for correlation between the two sides and the total CT volume\n",
    "# Using only training data and no clinical scores.\n",
    "X_vol = cv_data['X_train'][0]\n",
    "X_vol_v = cv_data['X_valid'][0]\n",
    "print X_vol.shape\n",
    "\n",
    "# Left Side:\n",
    "slope, intercept, r_value, p_value, std_err = scipy.stats.linregress(X_vol[:,0], X_vol[:,2])\n",
    "y_hat_v = intercept + slope * X_vol_v[:,0]\n",
    "        \n",
    "# Plot outputs\n",
    "ax=plt.subplot(1,2,1)\n",
    "plt.title('Left Vol vs CT Vol')\n",
    "plt.scatter(X_vol_v[:,0], X_vol_v[:,2], marker='+', color='gray')\n",
    "plt.plot(X_vol_v[:,0], y_hat_v, color='green', linewidth=1)\n",
    "plt.text(0.3, 0.9,'R={}\\np-val:{}'.format(r_value, p_value), horizontalalignment='center', verticalalignment='center', transform = ax.transAxes)\n",
    "\n",
    "# Right side:\n",
    "slope, intercept, r_value, p_value, std_err = scipy.stats.linregress(X_vol[:,1], X_vol[:,2])\n",
    "y_hat_v = intercept + slope * X_vol_v[:,1]\n",
    "\n",
    "ax=plt.subplot(1,2,2)\n",
    "plt.title('Right Vol vs CT Vol')\n",
    "plt.scatter(X_vol_v[:,1], X_vol_v[:,2], marker='+', color='gray')\n",
    "plt.plot(X_vol_v[:,1], y_hat_v, color='green', linewidth=1)\n",
    "plt.text(0.3, 0.9,'R={}\\np-val:{}'.format(r_value, p_value), horizontalalignment='center', verticalalignment='center', transform = ax.transAxes)\n",
    "\n",
    "\n",
    "plt.grid()    \n",
    "plt.show()"
   ]
  },
  {
   "cell_type": "code",
   "execution_count": 78,
   "metadata": {
    "collapsed": false
   },
   "outputs": [],
   "source": [
    "# Define a model\n",
    "\n",
    "# The two independent vars are highly correlated, so an ordinary least squares regression may\n",
    "# be the best idea: the model will be highly sensitive to random errors in the response var. See \n",
    "# https://en.wikipedia.org/wiki/Multicollinearity\n",
    "\n",
    "# Space for hyperparam search\n",
    "alphas=np.logspace(-5,5,num=100)\n",
    "\n",
    "# We can instead try a ridge regression:\n",
    "from sklearn import linear_model\n",
    "from sklearn.metrics import r2_score\n",
    "BaseReg=linear_model.RidgeCV\n",
    "    \n",
    "class Regression(BaseReg):\n",
    "    def __init__(self, *args, **kwargs):\n",
    "        super(Regression, self).__init__(*args,**kwargs)\n",
    "    \n",
    "\n",
    "    def fit(self, X, y):\n",
    "        self = super(Regression, self).fit(X,y)\n",
    "        df = X.shape[0] - X.shape[1] - 1\n",
    "        y_hat = self.predict(X)\n",
    "        sse = np.sum(np.square(y - y_hat), axis=0)\n",
    "        self.variance_y = sse/df\n",
    "        self.variance_X = (np.matrix(X).T * np.matrix(X)).I\n",
    "        self.zscores_ = self.coef_ / np.sqrt(self.variance_y * self.variance_X.diagonal())\n",
    "        self.pvals_ = 1 - scipy.stats.t.cdf(abs(self.zscores_), df)\n",
    "    \n",
    "    def score(self, X, y):\n",
    "        N, P = X.shape\n",
    "        y_hat = self.predict(X)\n",
    "        \n",
    "        # R2 and adjusted R2:\n",
    "        self.R2 = r2_score(y, y_hat)\n",
    "        self.mse = mean_squared_error(y, y_hat)\n",
    "        self.adj_R2 = self.R2 - (1 - self.R2) * ((N - 1) / (N - P - 1))\n",
    "        \n",
    "        self.var_y = np.var(y)\n",
    "        \n",
    "        self.ssm = np.sum(np.square(y_hat - y.mean()))\n",
    "        self.sse = np.sum(np.square(y - y_hat))\n",
    "        self.sst = np.sum(np.square(y - y.mean()))\n",
    "        \n",
    "        self.r = scipy.stats.pearsonr(y, y_hat)\n",
    "        \n",
    "        return self.R2\n",
    "        \n",
    "\n",
    "if BaseReg==linear_model.RidgeCV:\n",
    "    reg = Regression(alphas=alphas, normalize=False, fit_intercept=True)\n",
    "else:\n",
    "    reg = Regression(normalize=False, fit_intercept=True)"
   ]
  },
  {
   "cell_type": "code",
   "execution_count": 79,
   "metadata": {
    "collapsed": false
   },
   "outputs": [],
   "source": [
    "from sklearn.metrics import mean_squared_error, r2_score\n",
    "\n",
    "# Cross-validation loop\n",
    "stats = []\n",
    "coefs = []\n",
    "alphas = []\n",
    "zscores = []\n",
    "pvals = []\n",
    "\n",
    "for fold in range(len(cv_data['X_train'])):\n",
    "    X = cv_data['X_train'][fold]\n",
    "    y = cv_data['y_train'][fold]\n",
    "    X_v = cv_data['X_valid'][fold]\n",
    "    y_v = cv_data['y_valid'][fold]\n",
    "\n",
    "    reg.fit(X, y)\n",
    "    y_hat = reg.predict(X)\n",
    "    # validation:\n",
    "    y_hat_v = reg.predict(X_v)\n",
    "    mse = mean_squared_error(y_v, y_hat_v)\n",
    "    reg.score(X_v, y_v)\n",
    "    stats.append((reg.R2, reg.adj_R2, reg.mse, reg.r[0][0], reg.r[1][0]))\n",
    "    \n",
    "    try:\n",
    "        alphas.append(reg.alpha_)\n",
    "    except:\n",
    "        pass\n",
    "    coefs.append(reg.coef_)\n",
    "    zscores.append(reg.zscores_)\n",
    "    pvals.append(reg.pvals_)\n",
    "    "
   ]
  },
  {
   "cell_type": "code",
   "execution_count": 80,
   "metadata": {
    "collapsed": true
   },
   "outputs": [],
   "source": [
    "def make_table(k, var_names, **kwargs):\n",
    "    header_mean = ['Mean {}'.format(key) for key in kwargs.keys()]\n",
    "    header_std = ['Std {}'.format(key) for key in kwargs.keys()]\n",
    "    header = header_mean + header_std\n",
    "    header[::2]=header_mean\n",
    "    header[1::2]=header_std\n",
    "    header = ['Variables'] + header\n",
    "    table = np.zeros(shape=(len(var_names),2 * len(kwargs.keys())))\n",
    "    for i, stat in enumerate(kwargs.values()):\n",
    "        M=stat.reshape(k,-1).T\n",
    "        table[:, i*2] = np.mean(M,axis=1)\n",
    "        table[:, (i*2)+1] = np.std(M,axis=1)\n",
    "    \n",
    "    frame = pd.DataFrame(table)\n",
    "    frame.insert(0, 'Variable', var_names)\n",
    "    frame.columns = header\n",
    "    return frame"
   ]
  },
  {
   "cell_type": "code",
   "execution_count": 81,
   "metadata": {
    "collapsed": false
   },
   "outputs": [
    {
     "name": "stdout",
     "output_type": "stream",
     "text": [
      "Mode of regularization param: 1204.50354026\n"
     ]
    },
    {
     "data": {
      "text/html": [
       "<div>\n",
       "<table border=\"1\" class=\"dataframe\">\n",
       "  <thead>\n",
       "    <tr style=\"text-align: right;\">\n",
       "      <th></th>\n",
       "      <th>Variables</th>\n",
       "      <th>Mean Adj_R2</th>\n",
       "      <th>Std Adj_R2</th>\n",
       "      <th>Mean pval</th>\n",
       "      <th>Std pval</th>\n",
       "      <th>Mean MSE</th>\n",
       "      <th>Std MSE</th>\n",
       "      <th>Mean r</th>\n",
       "      <th>Std r</th>\n",
       "      <th>Mean R2</th>\n",
       "      <th>Std R2</th>\n",
       "    </tr>\n",
       "  </thead>\n",
       "  <tbody>\n",
       "    <tr>\n",
       "      <th>0</th>\n",
       "      <td>Model</td>\n",
       "      <td>-0.711838</td>\n",
       "      <td>0.104826</td>\n",
       "      <td>0.004016</td>\n",
       "      <td>0.004006</td>\n",
       "      <td>66.48376</td>\n",
       "      <td>12.124891</td>\n",
       "      <td>0.402986</td>\n",
       "      <td>0.058602</td>\n",
       "      <td>0.144081</td>\n",
       "      <td>0.052413</td>\n",
       "    </tr>\n",
       "  </tbody>\n",
       "</table>\n",
       "</div>"
      ],
      "text/plain": [
       "  Variables  Mean Adj_R2  Std Adj_R2  Mean pval  Std pval  Mean MSE  \\\n",
       "0     Model    -0.711838    0.104826   0.004016  0.004006  66.48376   \n",
       "\n",
       "     Std MSE    Mean r     Std r   Mean R2    Std R2  \n",
       "0  12.124891  0.402986  0.058602  0.144081  0.052413  "
      ]
     },
     "metadata": {},
     "output_type": "display_data"
    },
    {
     "data": {
      "text/html": [
       "<div>\n",
       "<table border=\"1\" class=\"dataframe\">\n",
       "  <thead>\n",
       "    <tr style=\"text-align: right;\">\n",
       "      <th></th>\n",
       "      <th>Variables</th>\n",
       "      <th>Mean zscores</th>\n",
       "      <th>Std zscores</th>\n",
       "      <th>Mean pvals</th>\n",
       "      <th>Std pvals</th>\n",
       "      <th>Mean coefs</th>\n",
       "      <th>Std coefs</th>\n",
       "    </tr>\n",
       "  </thead>\n",
       "  <tbody>\n",
       "    <tr>\n",
       "      <th>2</th>\n",
       "      <td>CT_TOTAL</td>\n",
       "      <td>-21.142199</td>\n",
       "      <td>0.723266</td>\n",
       "      <td>0.000000</td>\n",
       "      <td>0.000000</td>\n",
       "      <td>-0.249565</td>\n",
       "      <td>0.009563</td>\n",
       "    </tr>\n",
       "    <tr>\n",
       "      <th>1</th>\n",
       "      <td>R_HC_VOL</td>\n",
       "      <td>-3.017350</td>\n",
       "      <td>0.262649</td>\n",
       "      <td>0.001893</td>\n",
       "      <td>0.001866</td>\n",
       "      <td>-0.005911</td>\n",
       "      <td>0.000555</td>\n",
       "    </tr>\n",
       "    <tr>\n",
       "      <th>0</th>\n",
       "      <td>L_HC_VOL</td>\n",
       "      <td>-0.429793</td>\n",
       "      <td>0.369063</td>\n",
       "      <td>0.307054</td>\n",
       "      <td>0.072970</td>\n",
       "      <td>-0.000868</td>\n",
       "      <td>0.000755</td>\n",
       "    </tr>\n",
       "  </tbody>\n",
       "</table>\n",
       "</div>"
      ],
      "text/plain": [
       "  Variables  Mean zscores  Std zscores  Mean pvals  Std pvals  Mean coefs  \\\n",
       "2  CT_TOTAL    -21.142199     0.723266    0.000000   0.000000   -0.249565   \n",
       "1  R_HC_VOL     -3.017350     0.262649    0.001893   0.001866   -0.005911   \n",
       "0  L_HC_VOL     -0.429793     0.369063    0.307054   0.072970   -0.000868   \n",
       "\n",
       "   Std coefs  \n",
       "2   0.009563  \n",
       "1   0.000555  \n",
       "0   0.000755  "
      ]
     },
     "metadata": {},
     "output_type": "display_data"
    }
   ],
   "source": [
    "from IPython.display import display\n",
    "\n",
    "stats = np.array(stats)\n",
    "coefs = np.array(coefs)\n",
    "alphas = np.array(alphas)\n",
    "zscores = np.array(zscores)\n",
    "pvals = np.array(pvals)\n",
    "alpha=scipy.stats.mode(alphas)[0][0]\n",
    "print 'Mode of regularization param: {}'.format(alpha)\n",
    "\n",
    "model=make_table(10, ['Model'], R2=stats[:,0], Adj_R2=stats[:,1], MSE=stats[:,2], r=stats[:,3], pval=stats[:,4])\n",
    "display(model)\n",
    "table = make_table(10, var_names, coefs=coefs, zscores=zscores, pvals=pvals)\n",
    "table=table.sort(['Mean pvals'], ascending=[1])\n",
    "display(table)\n",
    "\n",
    "\n"
   ]
  },
  {
   "cell_type": "code",
   "execution_count": null,
   "metadata": {
    "collapsed": true
   },
   "outputs": [],
   "source": []
  }
 ],
 "metadata": {
  "kernelspec": {
   "display_name": "Python 2",
   "language": "python",
   "name": "python2"
  },
  "language_info": {
   "codemirror_mode": {
    "name": "ipython",
    "version": 2
   },
   "file_extension": ".py",
   "mimetype": "text/x-python",
   "name": "python",
   "nbconvert_exporter": "python",
   "pygments_lexer": "ipython2",
   "version": "2.7.10"
  }
 },
 "nbformat": 4,
 "nbformat_minor": 0
}
