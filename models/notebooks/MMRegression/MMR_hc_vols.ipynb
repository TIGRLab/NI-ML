{
 "cells": [
  {
   "cell_type": "code",
   "execution_count": 27,
   "metadata": {
    "collapsed": true
   },
   "outputs": [],
   "source": [
    "import pandas as pd\n",
    "import numpy as np\n",
    "from matplotlib import pyplot as plt\n",
    "import matplotlib.pylab as pylab\n",
    "\n",
    "# Useful plotting thingies:\n",
    "%matplotlib inline\n",
    "plt.style.use('ggplot')\n",
    "pylab.rcParams['figure.figsize'] = 16, 16\n"
   ]
  },
  {
   "cell_type": "code",
   "execution_count": null,
   "metadata": {
    "collapsed": true
   },
   "outputs": [],
   "source": []
  },
  {
   "cell_type": "code",
   "execution_count": 28,
   "metadata": {
    "collapsed": false
   },
   "outputs": [],
   "source": [
    "\n",
    "def make_slice_volume(l_segs, r_segs, l_D=[], r_D=[]):\n",
    "    mappings = tb.open_file('/projects/francisco/data/caffe/standardized/data_mappings.h5', 'r')\n",
    "    l_baseline_mask = mappings.get_node('/l_datamask')[:]\n",
    "    l_volmask = mappings.get_node('/l_volmask')[:]\n",
    "    r_baseline_mask = mappings.get_node('/r_datamask')[:]\n",
    "    r_volmask = mappings.get_node('/r_volmask')[:]\n",
    "    mappings.close()\n",
    "    \n",
    "    l_vols = []\n",
    "    for HC_input in l_segs:\n",
    "        flatvol = np.zeros(np.prod(l_volmask.shape))\n",
    "        flatvol[l_baseline_mask] = HC_input\n",
    "        l_vols.append(flatvol.reshape(-1, l_volmask.shape[2]).T)\n",
    "\n",
    "    r_vols = []\n",
    "    for HC_input in r_segs:\n",
    "        flatvol = np.zeros(np.prod(r_volmask.shape))\n",
    "        flatvol[r_baseline_mask] = HC_input\n",
    "        r_vols.append(flatvol.reshape(-1, r_volmask.shape[2]).T)\n",
    "\n",
    "    r_vols = np.array(r_vols)\n",
    "    l_vols = np.array(l_vols)\n",
    "    \n",
    "    r_M, r_D = slicify(r_vols, r_D)\n",
    "    l_M, l_D = slicify(l_vols, l_D)\n",
    "    return l_M, r_M, l_D, r_D\n",
    "\n",
    "def slicify(vol, disjoints=[]):\n",
    "    xmax = vol.shape[2] - 1\n",
    "    \n",
    "    if disjoints == []:\n",
    "        x = 0\n",
    "        while x < xmax and np.sum(vol[:,:,x]) == 0:\n",
    "            x += 1\n",
    "            if np.sum(vol[:,:,x] > 0):\n",
    "                cur_l = x\n",
    "                while x < xmax and np.sum(vol[:,:,x]) > 0:\n",
    "                    x += 1\n",
    "                if not x == xmax:\n",
    "                    disjoints.append((cur_l, x))\n",
    "\n",
    "    M = np.zeros(shape=(vol.shape[0], len(disjoints)))\n",
    "    \n",
    "    for u in range(vol.shape[0]):\n",
    "        for j in range(len(disjoints)):\n",
    "            l, r = disjoints[j]\n",
    "            M[u,j] = np.sum(vol[u,:,l:r])\n",
    "\n",
    "    \n",
    "    return M, disjoints"
   ]
  },
  {
   "cell_type": "code",
   "execution_count": 30,
   "metadata": {
    "collapsed": false
   },
   "outputs": [],
   "source": [
    "import tables as tb\n",
    "from sklearn.preprocessing import Normalizer, scale\n",
    "\n",
    "# Set up the experimental matrices:\n",
    "targets = ['ADAS11_bl', 'ADAS13_bl', 'MMSE_bl']\n",
    "\n",
    "\n",
    "targets_regex = '|'.join(['^{}$'.format(t) for t in targets])\n",
    "#modalities = ['CT', 'L_HC', 'R_HC']\n",
    "modalities = ['CT']\n",
    "l_segment_regex = '^L_HC_'\n",
    "r_segment_regex = '^R_HC_'\n",
    "modalities_regex = '|'.join(['^{}_'.format(m) for m in modalities])\n",
    "\n",
    "matrices = []\n",
    "l_D = []\n",
    "r_D = []\n",
    "for split in ['train', 'valid', 'test']:\n",
    "    frame = pd.read_pickle('/projects/francisco/data/ADNI/cli_ct_seg_fused_{}.pkl'.format(split))\n",
    "    ct = frame.filter(regex=modalities_regex).as_matrix()\n",
    "    y_cur = frame.filter(regex=targets_regex).as_matrix()\n",
    "    y_cur[np.isnan(y_cur)] = np.nanmean(y_cur)\n",
    "    l_segs = frame.filter(regex=l_segment_regex).as_matrix()\n",
    "    r_segs = frame.filter(regex=r_segment_regex).as_matrix()\n",
    "    l_M, r_M, l_D, r_D = make_slice_volume(l_segs, r_segs, l_D, r_D)\n",
    "    l_vars = [l_M[:,i] for i in range(l_M.shape[1])]\n",
    "    r_vars = [r_M[:,i] for i in range(r_M.shape[1])]\n",
    "    vars = [y_cur] + l_vars + r_vars\n",
    "    matrices.append(vars)\n",
    "var_names = []\n",
    "var_names.extend(['L_HC_V{}'.format(i) for i in range(l_M.shape[1])])\n",
    "var_names.extend(['R_HC_V{}'.format(i) for i in range(r_M.shape[1])])\n",
    "    "
   ]
  },
  {
   "cell_type": "code",
   "execution_count": 42,
   "metadata": {
    "collapsed": false
   },
   "outputs": [
    {
     "name": "stdout",
     "output_type": "stream",
     "text": [
      "(110, 33)\n",
      "(110, 34)\n",
      "['L_HC_V0', 'L_HC_V1', 'L_HC_V2', 'L_HC_V3', 'L_HC_V4', 'L_HC_V5', 'L_HC_V6', 'L_HC_V7', 'L_HC_V8', 'L_HC_V9', 'L_HC_V10', 'L_HC_V11', 'L_HC_V12', 'L_HC_V13', 'L_HC_V14', 'L_HC_V15', 'L_HC_V16', 'L_HC_V17', 'L_HC_V18', 'L_HC_V19', 'L_HC_V20', 'L_HC_V21', 'L_HC_V22', 'L_HC_V23', 'L_HC_V24', 'L_HC_V25', 'L_HC_V26', 'L_HC_V27', 'L_HC_V28', 'L_HC_V29', 'L_HC_V30', 'L_HC_V31', 'L_HC_V32', 'R_HC_V0', 'R_HC_V1', 'R_HC_V2', 'R_HC_V3', 'R_HC_V4', 'R_HC_V5', 'R_HC_V6', 'R_HC_V7', 'R_HC_V8', 'R_HC_V9', 'R_HC_V10', 'R_HC_V11', 'R_HC_V12', 'R_HC_V13', 'R_HC_V14', 'R_HC_V15', 'R_HC_V16', 'R_HC_V17', 'R_HC_V18', 'R_HC_V19', 'R_HC_V20', 'R_HC_V21', 'R_HC_V22', 'R_HC_V23', 'R_HC_V24', 'R_HC_V25', 'R_HC_V26', 'R_HC_V27', 'R_HC_V28', 'R_HC_V29', 'R_HC_V30', 'R_HC_V31', 'R_HC_V32', 'R_HC_V33']\n"
     ]
    }
   ],
   "source": [
    "def adjusted_r2(y_hat, y, p, n):\n",
    "    \"\"\"\n",
    "    And I quote:\n",
    "    \"adjusted R2 is a comparative measure of suitability of alternative nested sets of explanators\"\n",
    "    \"\"\"\n",
    "    r2 = metrics.r2_score(y_hat, y)\n",
    "    adj_r2 = r2 - (1 - r2) * (p / n - p - 1)\n",
    "    return r2\n",
    "print l_M.shape\n",
    "print r_M.shape\n",
    "print var_names"
   ]
  },
  {
   "cell_type": "code",
   "execution_count": 51,
   "metadata": {
    "collapsed": false
   },
   "outputs": [],
   "source": [
    "from sklearn.linear_model import SGDRegressor, BayesianRidge, RidgeCV\n",
    "from sklearn.decomposition import RandomizedPCA\n",
    "from sklearn.dummy import DummyRegressor\n",
    "from sklearn.pipeline import Pipeline\n",
    "from sklearn.feature_selection import SelectKBest, RFE\n",
    "from sklearn.feature_selection import f_regression\n",
    "from sklearn import metrics\n",
    "\n",
    "num_targets = len(targets)\n",
    "num_models = 2 # Includes dummy model\n",
    "num_variables = len(var_names)\n",
    "num_metrics = 2\n",
    "k_classifiers = []\n",
    "k_selectors = []\n",
    "stats = np.zeros(shape=(num_variables, num_metrics, num_models, num_targets))\n",
    "for i in range(num_variables):\n",
    "    X, y = matrices[0][i+1].reshape((-1,1)), matrices[0][0]\n",
    "    X_v, y_v = matrices[1][i+1].reshape((-1,1)), matrices[1][0]\n",
    "    X_t, y_t = matrices[2][i+1].reshape((-1,1)), matrices[2][0]\n",
    "    \n",
    "    \n",
    "    cur_triple = []\n",
    "    cur_sel_triple = []\n",
    "    for t in range(0,len(targets)):\n",
    "        \n",
    "        dummy_regressor = DummyRegressor(strategy='mean')\n",
    "        classifier = RidgeCV(alphas=[0.1, 1.0, 10.0], cv=None, fit_intercept=True, scoring=None, normalize=False)\n",
    "        classifiers = [classifier, dummy_regressor]\n",
    "        \n",
    "        # Train classifiers on transformed training X\n",
    "        #print X\n",
    "        #print y[:,t]\n",
    "    \n",
    "        classifier.fit(X, y[:,t])\n",
    "        dummy_regressor.fit(X, y[:,t])\n",
    "        \n",
    "        # Save classifiers for visualizing on later\n",
    "        cur_triple.append((classifier, dummy_regressor))\n",
    "\n",
    "        # Predict on validation data and log stats\n",
    "        y_hat_v = classifier.predict(X_v)\n",
    "        y_hat_vd = dummy_regressor.predict(X_v)\n",
    "        stats[i,0,0,t] =  metrics.mean_squared_error(y_hat_v, y_v[:,t])\n",
    "        stats[i,1,0,t] =  adjusted_r2(y_hat_v, y_v[:,t], X_v.shape[1], X_v.shape[0])\n",
    "        stats[i,0,1,t] =  metrics.mean_squared_error(y_hat_vd, y_v[:,t])\n",
    "        stats[i,1,1,t] =  adjusted_r2(y_hat_vd, y_v[:,t], X_v.shape[1], X_v.shape[0])\n",
    "    k_selectors.append(cur_sel_triple)\n",
    "    k_classifiers.append(cur_triple)\n",
    "\n"
   ]
  },
  {
   "cell_type": "code",
   "execution_count": 54,
   "metadata": {
    "collapsed": false
   },
   "outputs": [
    {
     "name": "stdout",
     "output_type": "stream",
     "text": [
      "(67, 2, 2, 3)\n",
      "67\n"
     ]
    }
   ],
   "source": [
    "print stats.shape\n",
    "print len(k_classifiers)\n"
   ]
  },
  {
   "cell_type": "code",
   "execution_count": 56,
   "metadata": {
    "collapsed": false,
    "scrolled": false
   },
   "outputs": [
    {
     "name": "stdout",
     "output_type": "stream",
     "text": [
      "(67, 4, 3)\n",
      "    MSE                 R2     DMSE    DR2\n",
      "-------  -----------------  -------  -----\n",
      "37.7367       -1.19592e+31  37.7299      0\n",
      "37.7363        0            37.7299      0\n",
      "37.735         0            37.7299      0\n",
      "37.7321    -6424.75         37.7299      0\n",
      "37.7312       -1.19575e+31  37.7299      0\n",
      "37.7123  -109360            37.7299      0\n",
      "37.5741    -2046.31         37.7299      0\n",
      "37.6705    -4830.43         37.7299      0\n",
      "37.7295       -1.32855e+30  37.7299      0\n",
      "37.6762    -6824.6          37.7299      0\n",
      "37.753    -32550.7          37.7299      0\n",
      "37.6902    -4325.41         37.7299      0\n",
      "37.6919    -1087.65         37.7299      0\n",
      "37.8722     -896.126        37.7299      0\n",
      "37.857     -1139.57         37.7299      0\n",
      "37.7695    -6947.78         37.7299      0\n",
      "37.7765    -3795.83         37.7299      0\n",
      "37.7256  -322251            37.7299      0\n",
      "37.7285       -2.05048e+06  37.7299      0\n",
      "37.8016    -4833.95         37.7299      0\n",
      "37.8998    -1838.61         37.7299      0\n",
      "38.0319     -640.28         37.7299      0\n",
      "37.8786    -1214.14         37.7299      0\n",
      "37.7252       -2.9889e+30   37.7299      0\n",
      "38.0415     -656.872        37.7299      0\n",
      "38.3823     -260.715        37.7299      0\n",
      "38.8103     -100.514        37.7299      0\n",
      "39.4113      -75.1249       37.7299      0\n",
      "38.0267     -146.081        37.7299      0\n",
      "37.9694     -123.076        37.7299      0\n",
      "39.7229      -66.5326       37.7299      0\n",
      "37.7299       -1.32857e+30  37.7299      0\n",
      "37.7339        0            37.7299      0\n",
      "37.736         0            37.7299      0\n",
      "37.7312       -2.98937e+30  37.7299      0\n",
      "37.7341        0            37.7299      0\n",
      "37.7265  -129485            37.7299      0\n",
      "37.7339        0            37.7299      0\n",
      "37.7396   -56648.4          37.7299      0\n",
      "37.7364    -4512.73         37.7299      0\n",
      "37.7934    -6786.33         37.7299      0\n",
      "37.6379    -7399.63         37.7299      0\n",
      "37.8167     -356.17         37.7299      0\n",
      "37.783     -1035.6          37.7299      0\n",
      "37.7441   -18071.9          37.7299      0\n",
      "37.7403   -56116.5          37.7299      0\n",
      "37.7615   -66037.2          37.7299      0\n",
      "37.5457    -4707.49         37.7299      0\n",
      "37.4484    -2545.95         37.7299      0\n",
      "37.9467    -5477.51         37.7299      0\n",
      "38.3153     -370.92         37.7299      0\n",
      "37.9993     -525.556        37.7299      0\n",
      "37.7762    -3028.28         37.7299      0\n",
      "38.6776      -72.1929       37.7299      0\n",
      "37.7268       -2.98902e+30  37.7299      0\n",
      "39.3335      -78.559        37.7299      0\n",
      "37.7931      -76.0204       37.7299      0\n",
      "38.8004     -210.843        37.7299      0\n",
      "37.7266   -38846.5          37.7299      0\n",
      "39.0265      -97.9221       37.7299      0\n",
      "37.7279        0            37.7299      0\n",
      "37.728        -1.19565e+31  37.7299      0\n",
      "37.7543   -95818            37.7299      0\n",
      "37.8145    -9256.98         37.7299      0\n",
      "37.7281       -1.19565e+31  37.7299      0\n",
      "37.7281       -1.19565e+31  37.7299      0\n",
      "37.7281       -1.19565e+31  37.7299      0\n"
     ]
    }
   ],
   "source": [
    "from tabulate import tabulate\n",
    "\n",
    "stats_table = np.zeros(shape=(len(var_names), 4, 3))\n",
    "for i in range(3):\n",
    "    stats_table[:,:,i] = np.vstack([stats[:, 0, 0, i],\n",
    "                                    stats[:, 1, 0, i],\n",
    "                                    stats[:, 0, 1, i],\n",
    "                                    stats[:, 1, 1, i]]).T\n",
    "\n",
    "print stats_table.shape\n",
    "print tabulate(stats_table[:,:,0], ['MSE', 'R2', 'DMSE', 'DR2'])\n",
    "# f = 0\n",
    "# for v, vname in enumerate(var_names):\n",
    "#     X, y = matrices[0][v+1].reshape((-1,1)), matrices[0][0]\n",
    "#     X_v, y_v = matrices[1][v+1].reshape((-1,1)), matrices[1][0]\n",
    "    \n",
    "#     for t, tname in enumerate(targets):\n",
    "        \n",
    "#         regr = k_classifiers[v][t][0]\n",
    "#         dummy = k_classifiers[v][t][1]\n",
    "#         f += 1  \n",
    "#         print stats[v,1,0,t]\n",
    "#         ax=plt.subplot(len(var_names),3,f)\n",
    "#         plt.title('{} vs {}'.format(vname, tname))\n",
    "        \n",
    "#         # Plot outputs\n",
    "#         plt.scatter(X_v, y_v[:,t], marker='+', color='gray')\n",
    "#         plt.plot(X_v, regr.predict(X_v), color='green', linewidth=1)\n",
    "#         plt.plot(X_v, dummy.predict(X_v), color='red', linewidth=1)\n",
    "#         plt.text(0.2, 0.9,'R^2={}'.format(stats[v,1,0,t]), horizontalalignment='center', verticalalignment='center', transform = ax.transAxes)\n",
    "\n",
    "# plt.grid()    \n",
    "# plt.show()\n",
    "\n"
   ]
  },
  {
   "cell_type": "code",
   "execution_count": null,
   "metadata": {
    "collapsed": true
   },
   "outputs": [],
   "source": []
  }
 ],
 "metadata": {
  "kernelspec": {
   "display_name": "Python 2",
   "language": "python",
   "name": "python2"
  },
  "language_info": {
   "codemirror_mode": {
    "name": "ipython",
    "version": 2
   },
   "file_extension": ".py",
   "mimetype": "text/x-python",
   "name": "python",
   "nbconvert_exporter": "python",
   "pygments_lexer": "ipython2",
   "version": "2.7.10"
  }
 },
 "nbformat": 4,
 "nbformat_minor": 0
}
