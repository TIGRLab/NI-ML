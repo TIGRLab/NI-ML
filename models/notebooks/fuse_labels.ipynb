{
 "cells": [
  {
   "cell_type": "code",
   "execution_count": 97,
   "metadata": {
    "collapsed": false
   },
   "outputs": [],
   "source": [
    "import numpy as np\n",
    "import re\n",
    "import h5py as h5\n",
    "import matplotlib.pyplot as plt\n",
    "\n",
    "# Run this script for each split, side combination:\n",
    "split = 'test'\n",
    "side = 'l'\n",
    "\n",
    "input_file = '/projects/nikhil/miccai/input_data_comb/data_t300_adcn.h5'\n",
    "\n",
    "input_data = h5.File(input_file, 'r')\n",
    "input_HC_all = input_data['{}_{}_data'.format(side, split)][:]\n",
    "input_classes_all = input_data['{}_{}_classes'.format(side, split)][:]\n",
    "input_files_all = input_data['{}_{}_files'.format(side, split)][:]\n",
    "input_data.close()\n",
    "\n",
    "id_participant = re.compile(r\"\"\"\n",
    " (?<=ADNI_)      # Match the first string after ADNI_\n",
    " (.*?)          # Lazy quantifier so it only grabs the first immediate match.\n",
    " (?=_MR)        # End at the _MR\n",
    "\"\"\", re.VERBOSE)"
   ]
  },
  {
   "cell_type": "code",
   "execution_count": 98,
   "metadata": {
    "collapsed": false
   },
   "outputs": [],
   "source": [
    "# Pick the Dx group to ignore AD:0, CN:1, MCI:2 (-1 basically picks all 3 groups)\n",
    "Dx_excl = -1\n",
    "input_classes = input_classes_all[input_classes_all!=Dx_excl]\n",
    "input_files = input_files_all[input_classes_all!=Dx_excl]\n",
    "input_HC = input_HC_all[input_classes_all!=Dx_excl]"
   ]
  },
  {
   "cell_type": "code",
   "execution_count": 99,
   "metadata": {
    "collapsed": false
   },
   "outputs": [
    {
     "name": "stdout",
     "output_type": "stream",
     "text": [
      "Dictionary length: 110\n",
      "110\n"
     ]
    }
   ],
   "source": [
    "# Generate dictionary {subject_id:[candidate_labels]}\n",
    "import collections\n",
    "import scipy.stats as stats\n",
    "\n",
    "subject_idx=[]\n",
    "unique_subject_idx = []\n",
    "subject_vol_dict = collections.OrderedDict()\n",
    "subject_class_dict = collections.OrderedDict()\n",
    "\n",
    "filename_sub_idx = 3 #This depends on the file names, need to find better way (regex may be?) \n",
    "#find volume indices for each unique subject\n",
    "seen = set([])\n",
    "for j, f in enumerate(input_files):\n",
    "    subject_id = re.search(id_participant, f).group(0)\n",
    "    subject_idx.append(subject_id)\n",
    "    if subject_id not in subject_vol_dict:\n",
    "        subject_vol_dict[subject_id]=[]\n",
    "        subject_class_dict[subject_id]=[]\n",
    "    subject_vol_dict[subject_id].append(j)\n",
    "    subject_class_dict[subject_id].append(input_classes[j])\n",
    "\n",
    "    if subject_id not in seen:\n",
    "        unique_subject_idx.append(subject_id)\n",
    "        seen.add(subject_id)\n",
    "    \n",
    "print \"Dictionary length: \" + str(len(subject_vol_dict))\n",
    "fuse_vol_array = np.zeros((len(set(subject_idx)),input_HC.shape[1]))\n",
    "fuse_class_array = np.zeros(len(set(subject_idx)))\n",
    "j=0\n",
    "\n",
    "for j, i in enumerate(unique_subject_idx):\n",
    "    fuse_vol = stats.mode(input_HC_all[subject_vol_dict[i]])    \n",
    "    fuse_vol_array[j,:] = fuse_vol[0]\n",
    "    fuse_class_array[j] = stats.mode(subject_class_dict[i])[0]\n",
    "    \n",
    "print len(unique_subject_idx)"
   ]
  },
  {
   "cell_type": "code",
   "execution_count": 100,
   "metadata": {
    "collapsed": false
   },
   "outputs": [
    {
     "data": {
      "text/plain": [
       "(27, 33, 50)"
      ]
     },
     "execution_count": 100,
     "metadata": {},
     "output_type": "execute_result"
    }
   ],
   "source": [
    "np.sum(fuse_class_array==0),np.sum(fuse_class_array==1),np.sum(fuse_class_array==2)"
   ]
  },
  {
   "cell_type": "code",
   "execution_count": 101,
   "metadata": {
    "collapsed": false
   },
   "outputs": [],
   "source": [
    "# Write fused data to file\n",
    "\n",
    "input_file = '/projects/francisco/data/ADNI/ordered_fused_ad_cn_mci_{}.h5'.format(split)\n",
    "input_data = h5.File(input_file, 'a')\n",
    "input_data.create_dataset('{}_hc_features'.format(side), data=input_HC_all)\n",
    "input_data.create_dataset('{}_hc_features_fused'.format(side), data=fuse_vol_array)\n",
    "\n",
    "if side == 'r':\n",
    "    # Only append labels once, otherwise h5 complains.\n",
    "    input_data.create_dataset('labels_fused',data=fuse_class_array)\n",
    "    input_data.create_dataset('labels',data=input_classes_all)\n"
   ]
  },
  {
   "cell_type": "code",
   "execution_count": 102,
   "metadata": {
    "collapsed": false
   },
   "outputs": [],
   "source": [
    "input_data.close()"
   ]
  },
  {
   "cell_type": "code",
   "execution_count": 103,
   "metadata": {
    "collapsed": false
   },
   "outputs": [
    {
     "name": "stdout",
     "output_type": "stream",
     "text": [
      "Class Quantities:\n",
      "27\n",
      "33\n",
      "50\n",
      "Fused Samples:\n",
      "(110, 11427)\n",
      "(110, 10519)\n"
     ]
    },
    {
     "data": {
      "image/png": "[encoded data removed]",
      "text/plain": [
       "<matplotlib.figure.Figure at 0x7f5ebd2be190>"
      ]
     },
     "metadata": {},
     "output_type": "display_data"
    },
    {
     "data": {
      "image/png": "[encoded data removed]",
      "text/plain": [
       "<matplotlib.figure.Figure at 0x7f5ebea74d50>"
      ]
     },
     "metadata": {},
     "output_type": "display_data"
    }
   ],
   "source": [
    "import h5py as h5\n",
    "import numpy as np\n",
    "import matplotlib.pyplot as plt\n",
    "import matplotlib.pylab as pylab\n",
    "\n",
    "# Useful plotting thingies:\n",
    "%matplotlib inline\n",
    "plt.style.use('ggplot')\n",
    "pylab.rcParams['figure.figsize'] = 16, 16\n",
    "\n",
    "\n",
    "# Make some plots for sanity checking:\n",
    "fs = h5.File(input_file)\n",
    "labels = fs['labels_fused'][:]\n",
    "\n",
    "indad = np.where(labels==0)[0]\n",
    "indcn = np.where(labels==1)[0]\n",
    "indmci = np.where(labels==2)[0]\n",
    "\n",
    "print 'Class Quantities:'\n",
    "print len(indad)\n",
    "print len(indcn)\n",
    "print len(indmci)\n",
    "\n",
    "l_fs = fs['l_hc_features_fused'][:]\n",
    "r_fs = fs['r_hc_features_fused'][:]\n",
    "print 'Fused Samples:'\n",
    "print l_fs.shape\n",
    "print r_fs.shape\n",
    "\n",
    "l_fs_ad = l_fs[indad]\n",
    "l_fs_cn = l_fs[indcn]\n",
    "l_fs_mci = l_fs[indmci]\n",
    "r_fs_ad = r_fs[indad]\n",
    "r_fs_cn = r_fs[indcn]\n",
    "r_fs_mci = r_fs[indmci]\n",
    "\n",
    "l_vols_ad = np.sum(l_fs_ad, axis=1)\n",
    "l_vols_cn = np.sum(l_fs_cn, axis=1)\n",
    "l_vols_mci = np.sum(l_fs_mci, axis=1)\n",
    "\n",
    "r_vols_ad = np.sum(r_fs_ad, axis=1)\n",
    "r_vols_cn = np.sum(r_fs_cn, axis=1)\n",
    "r_vols_mci = np.sum(r_fs_mci, axis=1)\n",
    "\n",
    "\n",
    "plt.subplot(2,1,1)\n",
    "plt.hist(l_vols_ad, bins=50, color='r', alpha=0.25, label='ad: {} mv'.format(np.mean(l_vols_ad)))\n",
    "plt.hist(l_vols_cn, bins=50, color='g', alpha=0.25, label='cn: {} mv'.format(np.mean(l_vols_cn)))\n",
    "plt.hist(l_vols_mci, bins=50, color='b', alpha=0.25, label='mci: {} mv'.format(np.mean(l_vols_mci)))\n",
    "plt.legend()\n",
    "plt.title('Total Left Hippocampal Volume')\n",
    "plt.show()\n",
    "\n",
    "plt.subplot(2,1,2)\n",
    "plt.hist(r_vols_ad, bins=50,color='r', alpha=0.25, label='ad: {} mv'.format(np.mean(r_vols_ad)))\n",
    "plt.hist(r_vols_cn, bins=50,color='g', alpha=0.25, label='cn: {} mv'.format(np.mean(r_vols_cn)))\n",
    "plt.hist(r_vols_mci, bins=50,color='b', alpha=0.25, label='mci: {} mv'.format(np.mean(r_vols_mci)))\n",
    "plt.legend()\n",
    "plt.title('Total Right Hippocampal Volume')\n",
    "plt.show()"
   ]
  },
  {
   "cell_type": "code",
   "execution_count": null,
   "metadata": {
    "collapsed": false
   },
   "outputs": [],
   "source": []
  },
  {
   "cell_type": "code",
   "execution_count": null,
   "metadata": {
    "collapsed": false
   },
   "outputs": [],
   "source": []
  },
  {
   "cell_type": "code",
   "execution_count": null,
   "metadata": {
    "collapsed": false
   },
   "outputs": [],
   "source": []
  },
  {
   "cell_type": "code",
   "execution_count": null,
   "metadata": {
    "collapsed": false
   },
   "outputs": [],
   "source": []
  },
  {
   "cell_type": "code",
   "execution_count": null,
   "metadata": {
    "collapsed": false
   },
   "outputs": [],
   "source": []
  },
  {
   "cell_type": "code",
   "execution_count": null,
   "metadata": {
    "collapsed": false
   },
   "outputs": [],
   "source": []
  },
  {
   "cell_type": "code",
   "execution_count": null,
   "metadata": {
    "collapsed": false
   },
   "outputs": [],
   "source": []
  },
  {
   "cell_type": "code",
   "execution_count": null,
   "metadata": {
    "collapsed": false
   },
   "outputs": [],
   "source": []
  },
  {
   "cell_type": "code",
   "execution_count": null,
   "metadata": {
    "collapsed": false
   },
   "outputs": [],
   "source": []
  },
  {
   "cell_type": "code",
   "execution_count": null,
   "metadata": {
    "collapsed": false
   },
   "outputs": [],
   "source": []
  },
  {
   "cell_type": "code",
   "execution_count": null,
   "metadata": {
    "collapsed": false
   },
   "outputs": [],
   "source": []
  }
 ],
 "metadata": {
  "kernelspec": {
   "display_name": "Python 2",
   "language": "python",
   "name": "python2"
  },
  "language_info": {
   "codemirror_mode": {
    "name": "ipython",
    "version": 2
   },
   "file_extension": ".py",
   "mimetype": "text/x-python",
   "name": "python",
   "nbconvert_exporter": "python",
   "pygments_lexer": "ipython2",
   "version": "2.7.10"
  }
 },
 "nbformat": 4,
 "nbformat_minor": 0
}
