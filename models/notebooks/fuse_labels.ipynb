{
 "metadata": {
  "name": "",
  "signature": "sha256:80d5b63ff6ad981b89083748fc292d68f2b41f80606a8506e3e652632e416c3e"
 },
 "nbformat": 3,
 "nbformat_minor": 0,
 "worksheets": [
  {
   "cells": [
    {
     "cell_type": "code",
     "collapsed": false,
     "input": [
      "import numpy as np\n",
      "import h5py as h5\n",
      "import matplotlib.pyplot as plt\n",
      "\n",
      "#input_file = '/projects/nikhil/miccai/input_data_comb/data_t300_pairwise.h5'\n",
      "\n",
      "input_file = '/projects/nikhil/miccai/input_data_comb/data_t300_adcn.h5'\n",
      "\n",
      "input_data = h5.File(input_file, 'r')\n",
      "input_HC_all = input_data['test_data'][:]\n",
      "input_classes_all = input_data['test_classes'][:]\n",
      "input_files_all = input_data['test_files'][:]\n",
      "input_data.close()"
     ],
     "language": "python",
     "metadata": {},
     "outputs": [],
     "prompt_number": 15
    },
    {
     "cell_type": "code",
     "collapsed": false,
     "input": [
      "# Pick the Dx group to ignore AD:0, CN:1, MCI:2 (-1 basically picks all 3 groups)\n",
      "Dx_excl = -1\n",
      "input_classes = input_classes_all[input_classes_all!=Dx_excl]\n",
      "input_files = input_files_all[input_classes_all!=Dx_excl]\n",
      "input_HC = input_HC_all[input_classes_all!=Dx_excl]"
     ],
     "language": "python",
     "metadata": {},
     "outputs": [],
     "prompt_number": 16
    },
    {
     "cell_type": "code",
     "collapsed": false,
     "input": [
      "# Generate dictionary {subject_id:[candidate_labels]}\n",
      "import collections\n",
      "import scipy.stats as stats\n",
      "\n",
      "subject_idx=[]\n",
      "subject_vol_dict = collections.defaultdict(list)\n",
      "subject_class_dict = collections.defaultdict(list)\n",
      "\n",
      "j=0\n",
      "filename_sub_idx = 3 #This depends on the file names, need to find better way (regex may be?) \n",
      "\n",
      "#find volume indices for each unique subject\n",
      "for i in input_files:\n",
      "    paresd_str = str(i).split('_')\n",
      "    subject_id = int(paresd_str[filename_sub_idx]) \n",
      "    subject_idx.append(subject_id)\n",
      "    subject_vol_dict[subject_id].append(j)\n",
      "    subject_class_dict[subject_id].append(input_classes[j])\n",
      "    j=j+1\n",
      "    \n",
      "print \"Dictionaty length: \" + str(len(subject_vol_dict))\n",
      "fuse_vol_array = np.zeros((len(set(subject_idx)),input_HC.shape[1]))\n",
      "fuse_class_array = np.zeros(len(set(subject_idx)))\n",
      "j=0\n",
      "for i in set(subject_idx):\n",
      "    fuse_vol = stats.mode(input_HC[subject_vol_dict[i]])    \n",
      "    fuse_vol_array[j,:] = fuse_vol[0]\n",
      "    fuse_class_array[j] = stats.mode(subject_class_dict[i])[0]\n",
      "    j=j+1\n",
      "    \n"
     ],
     "language": "python",
     "metadata": {},
     "outputs": [
      {
       "output_type": "stream",
       "stream": "stdout",
       "text": [
        "81 81\n"
       ]
      }
     ],
     "prompt_number": 17
    },
    {
     "cell_type": "code",
     "collapsed": false,
     "input": [
      "np.sum(fuse_class_array==0),np.sum(fuse_class_array==1),np.sum(fuse_class_array==2)"
     ],
     "language": "python",
     "metadata": {},
     "outputs": [
      {
       "metadata": {},
       "output_type": "pyout",
       "prompt_number": 23,
       "text": [
        "(27, 27, 27)"
       ]
      }
     ],
     "prompt_number": 23
    },
    {
     "cell_type": "code",
     "collapsed": false,
     "input": [
      "# Write fused data to file\n",
      "\n",
      "input_file = '/projects/nikhil/miccai/input_data_comb/ad_mci_cn_test.h5'\n",
      "input_data = h5.File(input_file, 'a')\n",
      "input_data.create_dataset('r_hc_features',data=input_HC_all)\n",
      "#input_data.create_dataset('labels',data=input_classes_all)\n",
      "input_data.create_dataset('r_hc_features_fused',data=fuse_vol_array)\n",
      "#input_data.create_dataset('labels_fused',data=fuse_class_array)\n",
      "input_data.close()"
     ],
     "language": "python",
     "metadata": {},
     "outputs": [],
     "prompt_number": 6
    },
    {
     "cell_type": "code",
     "collapsed": false,
     "input": [],
     "language": "python",
     "metadata": {},
     "outputs": [],
     "prompt_number": 19
    },
    {
     "cell_type": "code",
     "collapsed": false,
     "input": [],
     "language": "python",
     "metadata": {},
     "outputs": [],
     "prompt_number": 20
    },
    {
     "cell_type": "code",
     "collapsed": false,
     "input": [],
     "language": "python",
     "metadata": {},
     "outputs": [],
     "prompt_number": 0
    },
    {
     "cell_type": "code",
     "collapsed": false,
     "input": [],
     "language": "python",
     "metadata": {},
     "outputs": [],
     "prompt_number": 73
    },
    {
     "cell_type": "code",
     "collapsed": false,
     "input": [],
     "language": "python",
     "metadata": {},
     "outputs": [],
     "prompt_number": 44
    },
    {
     "cell_type": "code",
     "collapsed": false,
     "input": [],
     "language": "python",
     "metadata": {},
     "outputs": [
      {
       "metadata": {},
       "output_type": "pyout",
       "prompt_number": 54,
       "text": [
        "(83,)"
       ]
      }
     ],
     "prompt_number": 54
    },
    {
     "cell_type": "code",
     "collapsed": false,
     "input": [],
     "language": "python",
     "metadata": {},
     "outputs": [],
     "prompt_number": 20
    },
    {
     "cell_type": "code",
     "collapsed": false,
     "input": [],
     "language": "python",
     "metadata": {},
     "outputs": [],
     "prompt_number": 21
    },
    {
     "cell_type": "code",
     "collapsed": false,
     "input": [],
     "language": "python",
     "metadata": {},
     "outputs": [],
     "prompt_number": 22
    },
    {
     "cell_type": "code",
     "collapsed": false,
     "input": [],
     "language": "python",
     "metadata": {},
     "outputs": [],
     "prompt_number": 32
    },
    {
     "cell_type": "code",
     "collapsed": false,
     "input": [],
     "language": "python",
     "metadata": {},
     "outputs": [],
     "prompt_number": 33
    },
    {
     "cell_type": "code",
     "collapsed": false,
     "input": [],
     "language": "python",
     "metadata": {},
     "outputs": []
    }
   ],
   "metadata": {}
  }
 ]
}