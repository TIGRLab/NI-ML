{
 "cells": [
  {
   "cell_type": "code",
   "execution_count": 42,
   "metadata": {
    "collapsed": false
   },
   "outputs": [],
   "source": [
    "# Some useful imports:\n",
    "import numpy as np\n",
    "import tables as tb\n",
    "\n",
    "# Useful ipython commands:\n",
    "%matplotlib inline"
   ]
  },
  {
   "cell_type": "code",
   "execution_count": 43,
   "metadata": {
    "collapsed": false
   },
   "outputs": [],
   "source": [
    "# Dataset constants:\n",
    "dataset = 'balanced_ADNI_Cortical_Features'\n",
    "input_node = 'features'\n",
    "label_node = 'labels'\n",
    "class_names = ['AD', 'CN', 'MCI']\n",
    "omit_class = 2 # remove MCIs\n",
    "\n",
    "# Data path constants:\n",
    "data_path = '/projects/francisco/data/caffe/standardized/combined/'\n",
    "train_path = data_path + dataset + '_train.h5'\n",
    "valid_path = data_path + dataset + '_valid.h5'\n",
    "test_path = data_path + dataset + '_test.h5'\n",
    "\n",
    "# Load the training set:\n",
    "data = tb.open_file(train_path, 'r')\n",
    "X = data.get_node('/' + input_node)[:]\n",
    "y = data.get_node('/' + label_node)[:]\n",
    "data.close()\n",
    "\n",
    "# Load the validation set:\n",
    "data = tb.open_file(valid_path, 'r')\n",
    "X_v = data.get_node('/' + input_node)[:]\n",
    "y_v = data.get_node('/' + label_node)[:]\n",
    "data.close()\n",
    "\n",
    "# Do we want to train the model on all the available training and validation data?\n",
    "# If so: (otherwise, comment this out)\n",
    "# Rationale: We have already used validation data to find a good range of hyperparams, and now\n",
    "# we can add it to the training data and evaluate using the held-out test data.\n",
    "X = np.concatenate([X, X_v], axis=0)\n",
    "y = np.concatenate([y, y_v], axis=0)\n",
    "\n",
    "# Load the testing set:\n",
    "data = tb.open_file(test_path, 'r')\n",
    "X_t = data.get_node('/' + input_node)[:]\n",
    "y_t = data.get_node('/' + label_node)[:]\n",
    "X_t_fused = X_t\n",
    "y_t_fused = y_t\n",
    "#X_t_fused = data.get_node('/' + input_node + '_fused')[:]\n",
    "#y_t_fused = data.get_node('/' + label_node + '_fused')[:]\n",
    "data.close()"
   ]
  },
  {
   "cell_type": "code",
   "execution_count": 44,
   "metadata": {
    "collapsed": false
   },
   "outputs": [],
   "source": [
    "# Remove unused class using this code\n",
    "if omit_class != None:\n",
    "    inds = np.where(y != omit_class)\n",
    "    inds_v = np.where(y_v != omit_class)\n",
    "    inds_t = np.where(y_t != omit_class)\n",
    "    X = X[inds]\n",
    "    X_v = X_v[inds_v]\n",
    "    X_t = X_t[inds_t]\n",
    "\n",
    "    if omit_class == 0:\n",
    "        trans_fn = lambda x: x - 1\n",
    "    elif omit_class == 1:\n",
    "        trans_fn = lambda x: x / 2\n",
    "    else:\n",
    "        trans_fn = lambda x: x\n",
    "\n",
    "    y = trans_fn(y[inds])\n",
    "    y_v = trans_fn(y_v[inds_v])\n",
    "    y_t = trans_fn(y_t[inds_t])\n",
    "    X_t_fused = X_t\n",
    "    y_t_fused = y_t\n",
    "    del class_names[2]"
   ]
  },
  {
   "cell_type": "code",
   "execution_count": 45,
   "metadata": {
    "collapsed": true
   },
   "outputs": [],
   "source": [
    "# Import and define the baseline classifiers here:\n",
    "from sklearn.ensemble import AdaBoostClassifier\n",
    "from sklearn.tree import DecisionTreeClassifier\n",
    "\n",
    "# Hyper params (obtained from Spearmint experiments on validation data):\n",
    "max_depth = 1\n",
    "n_estimators = 6\n",
    "learning_rate = 1.0\n",
    "\n",
    "stump = DecisionTreeClassifier(max_depth=max_depth)\n",
    "\n",
    "classifier = AdaBoostClassifier(stump,\n",
    "                                algorithm=\"SAMME.R\",\n",
    "                                n_estimators=n_estimators,\n",
    "                                learning_rate=learning_rate)"
   ]
  },
  {
   "cell_type": "code",
   "execution_count": 46,
   "metadata": {
    "collapsed": false
   },
   "outputs": [],
   "source": [
    "# Fit the classifier to training data, then predict test labels.\n",
    "classifier.fit(X, y)\n",
    "y_hat = classifier.predict(X)\n",
    "y_hat_t = classifier.predict(X_t)\n",
    "y_hat_t_f = classifier.predict(X_t_fused)\n",
    "\n",
    "\n"
   ]
  },
  {
   "cell_type": "code",
   "execution_count": 47,
   "metadata": {
    "collapsed": false
   },
   "outputs": [
    {
     "name": "stdout",
     "output_type": "stream",
     "text": [
      "Metrics on Fused Test Data:\n",
      "             precision    recall  f1-score   support\n",
      "\n",
      "         AD       0.67      0.74      0.70        27\n",
      "         CN       0.71      0.63      0.67        27\n",
      "\n",
      "avg / total       0.69      0.69      0.68        54\n",
      "\n",
      "Training Accuracy: 0.813492063492\n",
      "Test Accuracy: 0.685185185185\n",
      "Fused Test Accuracy: 0.685185185185\n"
     ]
    }
   ],
   "source": [
    "# Metrics\n",
    "from sklearn.metrics import classification_report, accuracy_score\n",
    "\n",
    "acc = accuracy_score(y_hat, y)\n",
    "acc_t = accuracy_score(y_hat_t, y_t)\n",
    "acc_t_f = accuracy_score(y_hat_t_f, y_t_fused)\n",
    "\n",
    "print 'Metrics on Fused Test Data:'\n",
    "print classification_report(y_t_fused, y_hat_t_f, target_names=class_names)\n",
    "print 'Training Accuracy: {}'.format(acc)\n",
    "print 'Test Accuracy: {}'.format(acc_t)\n",
    "print 'Fused Test Accuracy: {}'.format(acc_t_f)\n"
   ]
  },
  {
   "cell_type": "code",
   "execution_count": 48,
   "metadata": {
    "collapsed": false
   },
   "outputs": [
    {
     "data": {
      "text/plain": [
       "<matplotlib.text.Text at 0x7f866d507050>"
      ]
     },
     "execution_count": 48,
     "metadata": {},
     "output_type": "execute_result"
    },
    {
     "data": {
      "image/png": "[encoded data removed]",
      "text/plain": [
       "<matplotlib.figure.Figure at 0x7f866e6408d0>"
      ]
     },
     "metadata": {},
     "output_type": "display_data"
    }
   ],
   "source": [
    "# CM\n",
    "from sklearn.metrics import confusion_matrix\n",
    "from matplotlib import pyplot as plt\n",
    "\n",
    "cm = confusion_matrix(y_t_fused, y_hat_t_f)\n",
    "cm_normalized = cm.astype('float') / cm.sum(axis=1)[:, np.newaxis]\n",
    "\n",
    "plt.imshow(cm_normalized, interpolation='nearest', cmap=plt.cm.Blues)\n",
    "plt.title('Confusion Matrix')\n",
    "plt.colorbar()\n",
    "tick_marks = np.arange(len(class_names))\n",
    "plt.xticks(tick_marks, class_names, rotation=45)\n",
    "plt.yticks(tick_marks, class_names)\n",
    "plt.tight_layout()\n",
    "plt.ylabel('True label')\n",
    "plt.xlabel('Predicted label')"
   ]
  },
  {
   "cell_type": "code",
   "execution_count": 49,
   "metadata": {
    "collapsed": false
   },
   "outputs": [
    {
     "data": {
      "image/png": "[encoded data removed]",
      "text/plain": [
       "<matplotlib.figure.Figure at 0x7f866d6f6190>"
      ]
     },
     "metadata": {},
     "output_type": "display_data"
    }
   ],
   "source": [
    "from sklearn.metrics import roc_curve, auc\n",
    "from matplotlib import pyplot as plt\n",
    "\n",
    "# class probabilities on the fused training data:\n",
    "y_hat_t_f_scores = classifier.predict_proba(X_t_fused)\n",
    "\n",
    "# Plot curve for AD class (0)\n",
    "fpr, tpr, thresholds = roc_curve(y_t_fused, y_hat_t_f_scores[:,0], pos_label=0)\n",
    "auc = auc(fpr, tpr)\n",
    "\n",
    "plt.figure()\n",
    "plt.plot(fpr, tpr, label='ROC curve (area = %0.2f)' % auc)\n",
    "plt.plot([0, 1], [0, 1], 'k--')\n",
    "plt.xlim([0.0, 1.0])\n",
    "plt.ylim([0.0, 1.05])\n",
    "plt.xlabel('False Positive Rate')\n",
    "plt.ylabel('True Positive Rate')\n",
    "plt.title('ROC')\n",
    "plt.legend(loc=\"lower right\")\n",
    "plt.show()"
   ]
  },
  {
   "cell_type": "code",
   "execution_count": 50,
   "metadata": {
    "collapsed": false,
    "scrolled": true
   },
   "outputs": [
    {
     "data": {
      "image/png": "[encoded data removed]",
      "text/plain": [
       "<matplotlib.figure.Figure at 0x7f866d5ba610>"
      ]
     },
     "metadata": {},
     "output_type": "display_data"
    }
   ],
   "source": [
    "import pandas as pd\n",
    "ct_data = pd.read_csv('/projects/nikhil/ADNI_prediction/input_datasets/CT/scans_AAL.csv')\n",
    "var_names = list(ct_data.iloc[:,1:].columns)\n",
    "\n",
    "importances = classifier.feature_importances_\n",
    "importances_std = np.std([tree.feature_importances_ for tree in classifier.estimators_], axis=0)\n",
    "\n",
    "feats = zip(var_names, importances, importances_std)\n",
    "\n",
    "# Remove non-important feats:\n",
    "feats = [feat for feat in feats if feat[1] > 0.0]\n",
    "feats.sort(reverse=False, key=lambda x: x[1])\n",
    "\n",
    "# Plot the feature importances of the classifier\n",
    "plt.figure()\n",
    "plt.title(\"Gini Importance\")\n",
    "y_pos = np.arange(len(feats))\n",
    "plt.barh(y_pos, width=zip(*feats)[1], height=0.5, color='r', xerr=zip(*feats)[2], align=\"center\")\n",
    "plt.yticks(y_pos, zip(*feats)[0])\n",
    "plt.show()\n"
   ]
  },
  {
   "cell_type": "code",
   "execution_count": null,
   "metadata": {
    "collapsed": true
   },
   "outputs": [],
   "source": []
  }
 ],
 "metadata": {
  "kernelspec": {
   "display_name": "Python 2",
   "language": "python",
   "name": "python2"
  },
  "language_info": {
   "codemirror_mode": {
    "name": "ipython",
    "version": 2
   },
   "file_extension": ".py",
   "mimetype": "text/x-python",
   "name": "python",
   "nbconvert_exporter": "python",
   "pygments_lexer": "ipython2",
   "version": "2.7.10"
  }
 },
 "nbformat": 4,
 "nbformat_minor": 0
}
