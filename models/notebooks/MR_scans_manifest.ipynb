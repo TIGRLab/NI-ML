{
 "cells": [
  {
   "cell_type": "markdown",
   "metadata": {},
   "source": [
    "# Keep record of all scans preprocess and QCed\n",
    "* **ADNI1-1.5T** \n",
    "* **ADNI1-3.0T** \n",
    "* **ADNI2-3.0T** \n",
    "* **ADNIGO** \n",
    "* **AIBL** \n",
    "    "
   ]
  },
  {
   "cell_type": "code",
   "execution_count": 1,
   "metadata": {},
   "outputs": [],
   "source": [
    "import numpy as np\n",
    "import pandas as pd \n",
    "import matplotlib.pyplot as plt\n",
    "import collections\n",
    "from scipy import stats\n",
    "import seaborn as sns\n",
    "import pickle\n",
    "from os import listdir"
   ]
  },
  {
   "cell_type": "code",
   "execution_count": 20,
   "metadata": {
    "collapsed": true
   },
   "outputs": [],
   "source": [
    "def standarize_filenames(file_list,preproc,suffix):\n",
    "    std_list = []\n",
    "    if preproc == 'bpipe':        \n",
    "        for f in file_list:\n",
    "            filename = f.split('.')[0] + suffix\n",
    "            std_list.append(filename)\n",
    "    elif preproc in ['civet','qc']:        \n",
    "        for f in file_list:\n",
    "            filename = f + suffix\n",
    "            std_list.append(filename)            \n",
    "    elif preproc in ['qc_cic']:        \n",
    "        for f in file_list:\n",
    "            filename = f.split('_', 1)[1]\n",
    "            filename = filename.rsplit('_', 1)[0] + suffix\n",
    "            std_list.append(filename)\n",
    "    else:\n",
    "        print 'unknow preproc'\n",
    "    \n",
    "    return std_list\n",
    "\n",
    "def print_dataset_stats(df, dataset):\n",
    "    total_scans = len(df[df.cohort==dataset])\n",
    "    bpipe_scans = len(df[(df.cohort==dataset)&(df.bpipe=='Complete')])\n",
    "    civet_scans = len(df[(df.cohort==dataset)&(df.civet=='Complete')])\n",
    "    QC_scans = len(df[(df.cohort==dataset)&(df.QC=='Pass')])\n",
    "    #QC_scans = len(df[(df.cohort==dataset)&(df.QC=='Pass')])\n",
    "    \n",
    "    print dataset\n",
    "    print 'total_scans: {}, bpipe_scans: {}, civet_scans: {}, QC_scans: {}'.format(total_scans,bpipe_scans,civet_scans,QC_scans)\n",
    "    "
   ]
  },
  {
   "cell_type": "code",
   "execution_count": 3,
   "metadata": {
    "collapsed": true
   },
   "outputs": [],
   "source": [
    "#Paths for scans / file_lists\n",
    "scan_dir_adni1_1_5 = '/external/ADNI/Standardized_Datasets/Image_Collections/ADNI1_Complete_3Yr_1.5T_11_15_2012/'\n",
    "scan_dir_adni1_3_0 = '/external/ADNI/Standardized_Datasets/Image_Collections/ADNI1_Complete_3Yr_3T_11_15_2012/'\n",
    "\n",
    "#ADNI2 needs to be updated based on COBRA lab list\n",
    "scan_dir_adni2 = '/projects/nikhil/datasets/ADNI2/ADNI2_3yr_Complete_Jan2017/'\n",
    "scan_dir_aibl = '/projects/nikhil/datasets/AIBL/aibl_mnc/'\n",
    "scan_dir_adnigo = '/home/m/mchakrav/nikhil/scratch/ADNIGO/mnc_files/'\n",
    "\n",
    "#file lists\n",
    "all_files_adni1_1_5 = '/projects/nikhil/datasets/ADNI1_1_5/list_of_all_files_1yr_3yr'\n",
    "all_files_adni1_3_0 = '/projects/nikhil/datasets/ADNI1_3_0/list_of_all_files'\n",
    "all_files_adni2 = '/projects/nikhil/datasets/ADNI2/all_ADNI2_subject_filenames'\n",
    "all_files_aibl = '/projects/nikhil/datasets/AIBL/list_of_3+_tps_files.txt'\n",
    "all_files_adnigo = '/projects/nikhil/datasets/ADNIGO/list_of_all_files_on_scinet'\n",
    "\n",
    "#bpipe output list\n",
    "bpipe_output_list_adni1_1_5 = '/projects/nikhil/datasets/ADNI1_1_5/bpipe_output_uniq.txt'\n",
    "bpipe_output_list_adni1_3_0 = ''\n",
    "bpipe_output_list_adni2 = '/projects/nikhil/datasets/ADNI2/bpipe_output/list_of_all_files_from_bpipe_out'\n",
    "bpipe_output_list_aibl = '/projects/nikhil/datasets/AIBL/bpipe_out_subjects_uniq.txt'\n",
    "bpipe_output_list_adnigo = '/projects/nikhil/datasets/ADNIGO/list_of_all_files_from_bpipe_out'\n",
    "\n",
    "#civet output list\n",
    "civet_output_list_adni1_1_5 = '/projects/nikhil/datasets/ADNI1_1_5/civet_out_passed.txt'\n",
    "civet_output_list_adni1_3_0 = ''\n",
    "civet_output_list_adni2 = '/projects/nikhil/datasets/ADNI2/civet_out/civet_out_passed.txt'\n",
    "civet_output_list_aibl = '/projects/nikhil/datasets/AIBL/civet_out_passed.txt'\n",
    "civet_output_list_adnigo = '/projects/nikhil/datasets/ADNIGO/civet_out_passed.txt'\n",
    "\n",
    "\n",
    "#QC output csv\n",
    "qc_output_csv_adni1_1_5 = '/projects/nbhagwat/datasets/ADNI1_1_5/ADNI1_1.5T_QC.csv'\n",
    "qc_output_csv_aibl = '/projects/nbhagwat/datasets/AIBL/aibl_QC.csv'\n",
    "\n",
    "#ADNI2 from earlier run\n",
    "qc_output_csv_adni2 = '/projects/nikhil/ADNI_prediction/input_datasets/longitudinal_trajectories/input_csv/adni2-qcvols_nodups.csv'\n"
   ]
  },
  {
   "cell_type": "code",
   "execution_count": 14,
   "metadata": {},
   "outputs": [
    {
     "data": {
      "text/plain": [
       "3131"
      ]
     },
     "execution_count": 14,
     "metadata": {},
     "output_type": "execute_result"
    }
   ],
   "source": [
    "len(adni1_1_5_civet_output_files)"
   ]
  },
  {
   "cell_type": "code",
   "execution_count": 4,
   "metadata": {},
   "outputs": [],
   "source": [
    "#List total available files\n",
    "adni1_1_5_files = list(pd.read_csv(all_files_adni1_1_5,header=None)[0])\n",
    "adni1_3_0_files = list(pd.read_csv(all_files_adni1_3_0,header=None)[0])\n",
    "adni2_files = list(pd.read_csv(all_files_adni2,header=None)[0])            \n",
    "aibl_files = list(pd.read_csv(all_files_aibl,header=None)[0])\n",
    "adnigo_files = list(pd.read_csv(all_files_adnigo,header=None)[0])\n",
    "\n",
    "#List bpipe output files\n",
    "adni1_1_5_bpipe_output_files = list(pd.read_csv(bpipe_output_list_adni1_1_5,header=None)[0])\n",
    "adni1_1_5_bpipe_output_files = standarize_filenames(adni1_1_5_bpipe_output_files,'bpipe','.mnc')\n",
    "\n",
    "adni2_bpipe_output_files = list(pd.read_csv(bpipe_output_list_adni2,header=None)[0])\n",
    "adni2_bpipe_output_files = standarize_filenames(adni2_bpipe_output_files,'bpipe','.mnc')\n",
    "\n",
    "aibl_bpipe_output_files = list(pd.read_csv(bpipe_output_list_aibl,header=None)[0])\n",
    "aibl_bpipe_output_files = standarize_filenames(aibl_bpipe_output_files,'bpipe','.0.mnc')\n",
    "\n",
    "adnigo_bpipe_output_files = list(pd.read_csv(bpipe_output_list_adnigo,header=None)[0])\n",
    "adnigo_bpipe_output_files = standarize_filenames(adnigo_bpipe_output_files,'bpipe','.mnc')\n",
    "\n",
    "\n",
    "#List civet output files\n",
    "adni1_1_5_civet_output_files = list(pd.read_csv(civet_output_list_adni1_1_5,header=None)[0])\n",
    "adni1_1_5_civet_output_files = standarize_filenames(adni1_1_5_civet_output_files,'civet','.mnc')\n",
    "\n",
    "adni2_civet_output_files = list(pd.read_csv(civet_output_list_adni2,header=None)[0])\n",
    "adni2_civet_output_files = standarize_filenames(adni2_civet_output_files,'civet','.mnc')\n",
    "\n",
    "aibl_civet_output_files = list(pd.read_csv(civet_output_list_aibl,header=None)[0])\n",
    "aibl_civet_output_files = standarize_filenames(aibl_civet_output_files,'civet','.mnc')\n",
    "\n",
    "adnigo_civet_output_files = list(pd.read_csv(civet_output_list_adnigo,header=None)[0])\n",
    "adnigo_civet_output_files = standarize_filenames(adnigo_civet_output_files,'civet','.mnc')\n",
    "\n",
    "\n",
    "#List QC output files\n",
    "adni1_1_5_qc_output_df = pd.read_csv(qc_output_csv_adni1_1_5)\n",
    "adni1_1_5_qc_output_files = list(adni1_1_5_qc_output_df[adni1_1_5_qc_output_df['score']!=0]['filename'])\n",
    "adni1_1_5_qc_output_files = standarize_filenames(adni1_1_5_qc_output_files,'qc_cic','.mnc')\n",
    "\n",
    "aibl_qc_output_df = pd.read_csv(qc_output_csv_aibl)\n",
    "aibl_qc_output_files = list(aibl_qc_output_df[aibl_qc_output_df['score']!=0]['filename'])\n",
    "aibl_qc_output_files = standarize_filenames(aibl_qc_output_files,'qc_cic','.mnc')\n",
    "\n",
    "\n",
    "adni2_qc_output_df = pd.read_csv(qc_output_csv_adni2)\n",
    "adni2_qc_output_files = list(adni2_qc_output_df[adni2_qc_output_df['HPC_QC']!=0]['magetbase'])\n",
    "adni2_qc_output_files = standarize_filenames(adni2_qc_output_files,'qc','.mnc')"
   ]
  },
  {
   "cell_type": "code",
   "execution_count": 5,
   "metadata": {},
   "outputs": [
    {
     "data": {
      "text/plain": [
       "(483, 1922)"
      ]
     },
     "execution_count": 5,
     "metadata": {},
     "output_type": "execute_result"
    }
   ],
   "source": [
    "len(aibl_qc_output_files),len(adni1_1_5_qc_output_files)"
   ]
  },
  {
   "cell_type": "code",
   "execution_count": 6,
   "metadata": {
    "collapsed": true
   },
   "outputs": [],
   "source": [
    "# Create dataframe\n",
    "scan_info_cols = ['filename','cohort','basedir','bpipe','civet','QC','comments']\n",
    "scan_manifest = pd.DataFrame(columns=scan_info_cols)"
   ]
  },
  {
   "cell_type": "code",
   "execution_count": 7,
   "metadata": {},
   "outputs": [],
   "source": [
    "# Populate dataframe\n",
    "scan_manifest['filename'] = adni1_1_5_files + adni1_3_0_files + adni2_files + aibl_files + adnigo_files\n",
    "scan_manifest['basedir'] = list(np.tile(scan_dir_adni1_1_5,len(adni1_1_5_files))) + list(np.tile(scan_dir_adni1_3_0,len(adni1_3_0_files))) + list(np.tile(scan_dir_adni2,len(adni2_files))) + list(np.tile(scan_dir_aibl,len(aibl_files))) + list(np.tile(scan_dir_adnigo,len(adnigo_files)))\n",
    "scan_manifest['cohort'] = list(np.tile('adni1_1_5',len(adni1_1_5_files))) + list(np.tile('adni1_3_0',len(adni1_3_0_files))) + list(np.tile('adni2',len(adni2_files))) + list(np.tile('aibl',len(aibl_files))) + list(np.tile('adnigo',len(adnigo_files)))\n",
    "    "
   ]
  },
  {
   "cell_type": "code",
   "execution_count": 8,
   "metadata": {},
   "outputs": [],
   "source": [
    "# Update bpipe values\n",
    "scan_manifest.loc[scan_manifest.filename.isin(adni1_1_5_bpipe_output_files),'bpipe'] = 'Complete'\n",
    "scan_manifest.loc[scan_manifest.filename.isin(adni2_bpipe_output_files),'bpipe'] = 'Complete'\n",
    "scan_manifest.loc[scan_manifest.filename.isin(aibl_bpipe_output_files),'bpipe'] = 'Complete'\n",
    "scan_manifest.loc[scan_manifest.filename.isin(adnigo_bpipe_output_files),'bpipe'] = 'Complete'"
   ]
  },
  {
   "cell_type": "code",
   "execution_count": 9,
   "metadata": {},
   "outputs": [],
   "source": [
    "# Update civet values\n",
    "scan_manifest.loc[scan_manifest.filename.isin(adni1_1_5_civet_output_files),'civet'] = 'Complete'\n",
    "scan_manifest.loc[scan_manifest.filename.isin(adni2_civet_output_files),'civet'] = 'Complete'\n",
    "scan_manifest.loc[scan_manifest.filename.isin(aibl_civet_output_files),'civet'] = 'Complete'\n",
    "scan_manifest.loc[scan_manifest.filename.isin(adnigo_civet_output_files),'civet'] = 'Complete'"
   ]
  },
  {
   "cell_type": "code",
   "execution_count": 10,
   "metadata": {
    "collapsed": true
   },
   "outputs": [],
   "source": [
    "# Update QC values\n",
    "scan_manifest.loc[scan_manifest.filename.isin(adni1_1_5_qc_output_files),'QC'] = 'Pass'\n",
    "scan_manifest.loc[scan_manifest.filename.isin(aibl_qc_output_files),'QC'] = 'Pass'"
   ]
  },
  {
   "cell_type": "code",
   "execution_count": 11,
   "metadata": {
    "collapsed": true
   },
   "outputs": [],
   "source": [
    "# Update values from previously processed ADNI2 data\n",
    "scan_manifest.loc[scan_manifest.filename.isin(adni2_qc_output_files),'bpipe'] = 'Complete'\n",
    "scan_manifest.loc[scan_manifest.filename.isin(adni2_qc_output_files),'civet'] = 'Complete'\n",
    "scan_manifest.loc[scan_manifest.filename.isin(adni2_qc_output_files),'QC'] = 'Pass'"
   ]
  },
  {
   "cell_type": "code",
   "execution_count": null,
   "metadata": {},
   "outputs": [],
   "source": []
  },
  {
   "cell_type": "code",
   "execution_count": 21,
   "metadata": {},
   "outputs": [
    {
     "name": "stdout",
     "output_type": "stream",
     "text": [
      "adni1_1_5\n",
      "total_scans: 3131, bpipe_scans: 2181, civet_scans: 3131, QC_scans: 1922\n"
     ]
    }
   ],
   "source": [
    "#Get summary \n",
    "print_dataset_stats(scan_manifest,'adni1_1_5')"
   ]
  },
  {
   "cell_type": "code",
   "execution_count": 92,
   "metadata": {},
   "outputs": [
    {
     "data": {
      "text/plain": [
       "array(['ADNI_002_S_4171_MR_MT1__N3m_Br_20111216162826334_S130098_I272710.mnc',\n",
       "       'ADNI_002_S_4171_MR_MT1__N3m_Br_20120319163808038_S142180_I291059.mnc',\n",
       "       'ADNI_002_S_4171_MR_MT1__N3m_Br_20121001130644753_S162683_I337465.mnc',\n",
       "       'ADNI_002_S_4213_MR_MT1__N3m_Br_20110910135704514_S121168_I255409.mnc',\n",
       "       'ADNI_002_S_4213_MR_MT1__N3m_Br_20120110145450835_S133946_I277054.mnc',\n",
       "       'ADNI_002_S_4213_MR_MT1__N3m_Br_20120327112043431_S144143_I293719.mnc',\n",
       "       'ADNI_002_S_4213_MR_MT1__N3m_Br_20130313104621437_S168245_I362924.mnc',\n",
       "       'ADNI_002_S_4213_MR_MT1__N3m_Br_20130926153549136_S201579_I392163.mnc',\n",
       "       'ADNI_002_S_4219_MR_MT1__N3m_Br_20110928093601592_S122143_I258694.mnc',\n",
       "       'ADNI_002_S_4219_MR_MT1__N3m_Br_20120125144856150_S133915_I280658.mnc'], dtype=object)"
      ]
     },
     "execution_count": 92,
     "metadata": {},
     "output_type": "execute_result"
    }
   ],
   "source": [
    "df = scan_manifest\n",
    "df[(df.cohort=='adni1')]['filename'].values[:10]"
   ]
  },
  {
   "cell_type": "code",
   "execution_count": 22,
   "metadata": {},
   "outputs": [
    {
     "name": "stdout",
     "output_type": "stream",
     "text": [
      "3131 639\n",
      "4049 777\n"
     ]
    }
   ],
   "source": [
    "sub_ptids = []\n",
    "for f in adni1_1_5_files:\n",
    "    sub_ptids.append(f.split('_')[3])\n",
    "    \n",
    "print len(sub_ptids), len(set(sub_ptids))\n",
    "\n",
    "\n",
    "sub_ptids = []\n",
    "for f in adni2_files:\n",
    "    sub_ptids.append(f.split('_')[3])\n",
    "    \n",
    "print len(sub_ptids), len(set(sub_ptids))"
   ]
  },
  {
   "cell_type": "code",
   "execution_count": 23,
   "metadata": {},
   "outputs": [
    {
     "data": {
      "text/plain": [
       "621"
      ]
     },
     "execution_count": 23,
     "metadata": {},
     "output_type": "execute_result"
    }
   ],
   "source": [
    "546+75"
   ]
  },
  {
   "cell_type": "code",
   "execution_count": null,
   "metadata": {
    "collapsed": true
   },
   "outputs": [],
   "source": [
    " "
   ]
  }
 ],
 "metadata": {
  "kernelspec": {
   "display_name": "Python 2",
   "language": "python",
   "name": "python2"
  },
  "language_info": {
   "codemirror_mode": {
    "name": "ipython",
    "version": 2
   },
   "file_extension": ".py",
   "mimetype": "text/x-python",
   "name": "python",
   "nbconvert_exporter": "python",
   "pygments_lexer": "ipython2",
   "version": "2.7.13"
  }
 },
 "nbformat": 4,
 "nbformat_minor": 1
}
