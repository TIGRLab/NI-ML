{
 "cells": [
  {
   "cell_type": "code",
   "execution_count": 1,
   "metadata": {
    "collapsed": false
   },
   "outputs": [],
   "source": [
    "import numpy as np\n",
    "import re\n",
    "import h5py as h5\n",
    "import matplotlib.pyplot as plt\n",
    "import tables as tb\n",
    "import pickle\n",
    "%matplotlib inline\n",
    "plt.style.use('ggplot')\n",
    "\n",
    "def load_data(data_path, input_node):\n",
    "    data = tb.open_file(data_path, 'r')\n",
    "    X = data.get_node('/' + input_node)[:]\n",
    "    data.close()\n",
    "    return X"
   ]
  },
  {
   "cell_type": "code",
   "execution_count": 7,
   "metadata": {
    "collapsed": false
   },
   "outputs": [],
   "source": [
    "baseline_dir = '/projects/nikhil/ADNI_prediction/input_datasets/'\n",
    "naming = 'Exp6'\n",
    "side = 'left'\n",
    "#HDF file generate from Jon's scripts comprising matched candidate labels and filenames.\n",
    "if naming == 'Exp4':\n",
    "    #PTID_idx = 0 #Filename has only one PTID\n",
    "    input_file = baseline_dir + 'HC_preproc/combined.h5'\n",
    "\n",
    "    # Run this script for each split, side combination:\n",
    "    split = 'test'\n",
    "\n",
    "    input_HC = load_data(input_file,'{}_{}_data'.format(side,split))\n",
    "    #input_classes = input_data['{}_{}_classes'.format(side, split)][:]\n",
    "    input_files = load_data(input_file,'{}_{}_files'.format(side,split))    \n",
    "    \n",
    "if naming == 'Exp6':\n",
    "    if side == 'left':\n",
    "        #test from Jon's directory \n",
    "        input_file = baseline_dir + 'HC_preproc/tmp/candidate_l_winterburn_factor=0.5_thresh=300_data.h5'\n",
    "        #input_file = '/projects/nikhil/ADNI_prediction/input_datasets/HC_preproc/adni1_and_2/candidate_l_factor=1.0_thresh=300_data.h5'\n",
    "    else:\n",
    "        #input_file = '/projects/jp/NI-ML/preprocessing/adni2/04_mask/candidate_right.h5'\n",
    "        input_file = baseline_dir + 'HC_preproc/tmp/candidate_r_winterburn_factor=0.5_thresh=300_data.h5'\n",
    "        #input_file = '/projects/nikhil/ADNI_prediction/input_datasets/HC_preproc/adni1_and_2/candidate_r_factor=1.0_thresh=300_data.h5'\n",
    "    \n",
    "    input_HC = load_data(input_file,'data')\n",
    "    #input_classes = input_data['{}_{}_classes'.format(side, split)][:]\n",
    "    input_files = load_data(input_file,'files')    \n",
    "    \n",
    "id_participant = re.compile(r\"\"\"\n",
    " (?<=ADNI_)      # Match the first string after ADNI_\n",
    " (.*?)          # Lazy quantifier so it only grabs the first immediate match.\n",
    " (?=_MR)        # End at the _MR\n",
    "\"\"\", re.VERBOSE)"
   ]
  },
  {
   "cell_type": "code",
   "execution_count": null,
   "metadata": {
    "collapsed": false
   },
   "outputs": [],
   "source": [
    "# T100_L = 74865./12756\n",
    "# T100_R = 71631./13610\n",
    "# T300_L = 74681./11076\n",
    "# T300_R = 79392./10161\n",
    "# T500_L = 62600./9732\n",
    "# T500_R = 66583./8953\n",
    "# T750_L = 50276./8713\n",
    "# T750_R = 55167./8039\n",
    "\n",
    "# print ' T100_L:{} T100_R:{} \\n T300_L:{} T300_R:{} \\n T500_L:{} T500_R:{} \\n T750_L:{} T750_R:{}'.format(T100_L,T100_R,T300_L,T300_R,T500_L,T500_R,T750_L,T750_R)"
   ]
  },
  {
   "cell_type": "code",
   "execution_count": null,
   "metadata": {
    "collapsed": false
   },
   "outputs": [],
   "source": [
    "#change HC labels to (-1,1) from (0,1)\n",
    "#input_HC = 2*input_HC - 1\n",
    "#cohort_flag = load_data(input_file,'adni1')\n",
    "tmp_file = '/projects/jp/research/NI-ML/preprocessing/adni1+2_adni-model/hdf/candidate_l.h5'\n",
    "mask = load_data(tmp_file,'mask')\n",
    "\n",
    "print np.sum(mask.ravel())\n",
    "#print len(cohort_flag)\n",
    "#print '# of adni1_subs: {}'.format(np.sum(cohort_flag))\n",
    "#print '# of adni2_subs: {}'.format(len(cohort_flag) - np.sum(cohort_flag))\n",
    "#normed_files = load_data(input_file,'normedfiles')\n",
    "#print normed_files\n"
   ]
  },
  {
   "cell_type": "code",
   "execution_count": null,
   "metadata": {
    "collapsed": false,
    "scrolled": true
   },
   "outputs": [],
   "source": [
    "print input_HC.shape\n",
    "print input_files[:4]\n",
    "f= input_files[0]\n",
    "subject_id = re.findall(id_participant, f)\n",
    "print subject_id\n",
    "#print input_HC[:3,5000:5100]"
   ]
  },
  {
   "cell_type": "code",
   "execution_count": 15,
   "metadata": {
    "collapsed": false
   },
   "outputs": [
    {
     "name": "stdout",
     "output_type": "stream",
     "text": [
      "subject_vol_dict length: 1421\n",
      "subject_id_list length: 54688\n",
      "unique subject_id_list length: 1421\n",
      "# of small HCs : 0\n",
      "# of good HCs : 56256\n",
      "# of adni1 ids: 25740\n",
      "# of adni2 ids: 28948\n",
      "# of missing ids: 1568\n"
     ]
    }
   ],
   "source": [
    "# Generate dictionary {subject_id:[candidate_labels]}\n",
    "import collections\n",
    "import scipy.stats as stats\n",
    "subject_idx=[]\n",
    "unique_subject_idx = []\n",
    "subject_vol_dict = collections.OrderedDict()\n",
    "subject_class_dict = collections.OrderedDict()\n",
    "ADNI1_PTID = 0\n",
    "ADNI2_PTID = 1\n",
    "adni1_sub_list = pickle.load( open(baseline_dir + 'CS/adni1_PTIDs.pkl', \"rb\" ) )\n",
    "adni2_sub_list = pickle.load( open(baseline_dir + 'CS/adni2_PTIDs.pkl', \"rb\" ) )\n",
    "#find volume indices for each unique subject\n",
    "seen = set([])\n",
    "ADNI1 = True\n",
    "ADNI2 = True\n",
    "candidate_label_list = []\n",
    "small_HC_list = []\n",
    "good_HC_list = []\n",
    "adni1_id_list = []\n",
    "adni2_id_list = []\n",
    "missing_id_list = []  \n",
    "\n",
    "for j, f in enumerate(input_files):\n",
    "    #subject_id = re.search(id_participant, f).group(0) \n",
    "    \n",
    "    subject_id_list = re.findall(id_participant, f) #ADNI 2 has two sub_id matches - pick the second one [0,1].     \n",
    "#     if ADNI1 and len(subject_id_list) == 1:\n",
    "#         subject_id = subject_id_list[ADNI1_PTID] \n",
    "#         adni1_id_list.append(subject_id)\n",
    "#     elif ADNI2 and len(subject_id_list) == 2: \n",
    "#         subject_id = subject_id_list[ADNI2_PTID]\n",
    "#         adni2_id_list.append(subject_id)\n",
    "#     else:\n",
    "#         missing_id_list.append(subject_id_list)\n",
    "#         subject_id = ''\n",
    "    subject_id = subject_id_list[ADNI2_PTID]\n",
    "    if ADNI1 and subject_id in adni1_sub_list:\n",
    "        adni1_id_list.append(subject_id)\n",
    "    elif ADNI2 and subject_id in adni2_sub_list:\n",
    "        adni2_id_list.append(subject_id)\n",
    "    else:\n",
    "        missing_id_list.append(subject_id_list)\n",
    "        subject_id = ''\n",
    "        \n",
    "    if np.sum(input_HC[j]) ==0:\n",
    "        small_HC_list.append(input_HC[j])\n",
    "    else:\n",
    "        good_HC_list.append(input_HC[j])\n",
    "        \n",
    "    if not subject_id == '':\n",
    "        subject_idx.append(subject_id)\n",
    "        if (subject_id not in subject_vol_dict) and not (np.sum(input_HC[j]) < 1000):\n",
    "            subject_vol_dict[subject_id]=[]\n",
    "            #subject_class_dict[subject_id]=[]\n",
    "\n",
    "        # check if the candidate label is not empty\n",
    "        if not np.sum(input_HC[j]) < 1000:        \n",
    "            subject_vol_dict[subject_id].append(input_HC[j])\n",
    "            \n",
    "            #tmp list to find average volumes per side / cohort\n",
    "            candidate_label_list.append(input_HC[j])\n",
    "            #subject_class_dict[subject_id].append(input_classes[j])\n",
    "\n",
    "        if subject_id not in seen:\n",
    "            unique_subject_idx.append(subject_id)\n",
    "            seen.add(subject_id)\n",
    "    \n",
    "print 'subject_vol_dict length: {}'.format(str(len(subject_vol_dict)))\n",
    "print 'subject_id_list length: {}'.format(len(subject_idx))    \n",
    "print 'unique subject_id_list length: {}'.format(len(unique_subject_idx))\n",
    "print '# of small HCs : {}'.format(len(small_HC_list))\n",
    "print '# of good HCs : {}'.format(len(good_HC_list))\n",
    "print '# of adni1 ids: {}'.format(len(adni1_id_list))\n",
    "print '# of adni2 ids: {}'.format(len(adni2_id_list))\n",
    "print '# of missing ids: {}'.format(len(missing_id_list))"
   ]
  },
  {
   "cell_type": "code",
   "execution_count": null,
   "metadata": {
    "collapsed": false
   },
   "outputs": [],
   "source": [
    "print len(adni1_sub_list), len(adni2_sub_list), len(list(set(adni1_sub_list)&set(adni2_sub_list)))\n",
    "#print missing_id_list\n",
    "#adni1_right_vols = np.array(candidate_label_list)"
   ]
  },
  {
   "cell_type": "code",
   "execution_count": null,
   "metadata": {
    "collapsed": false
   },
   "outputs": [],
   "source": [
    "#np.array(subject_vol_dict['002_S_4171']).shape\n",
    "# n_samp = []\n",
    "# for key in subject_vol_dict.keys():\n",
    "#     n_samp.append(np.array(subject_vol_dict[key]))\n",
    "#plt.figure()\n",
    "#plt.hist(n_samp,bins=100)\n",
    "\n",
    "\n",
    "print 'hdf5 input shape: {}'.format(input_HC.shape)\n",
    "print 'adni1_left_vol shape: {}, adni1_right_vol shape: {}'.format(adni1_left_vols.shape, adni1_right_vols.shape)\n",
    "print 'adni1_left_vol_mean: {}, adni1_right_vol_mean: {}'.format(np.mean(np.sum(adni1_left_vols, axis=1)),np.mean(np.sum(adni1_right_vols, axis=1)))\n",
    "print 'adni2_left_vol shape: {}, adni2_right_vol shape: {}'.format(adni2_left_vols.shape, adni2_right_vols.shape)\n",
    "print 'adni2_left_vol_mean: {}, adni2_right_vol_mean: {}'.format(np.mean(np.sum(adni2_left_vols, axis=1)),np.mean(np.sum(adni2_right_vols, axis=1)))\n"
   ]
  },
  {
   "cell_type": "code",
   "execution_count": 11,
   "metadata": {
    "collapsed": false
   },
   "outputs": [],
   "source": [
    "#Save Dictionaries\n",
    "exp_name = 'Exp6'\n",
    "cohort = 'ADNI1'\n",
    "\n",
    "sub_HC_vol_file = baseline_dir + 'HC/subject_HC_vol_dictionary_{}_{}_{}.pkl'.format(cohort,side,exp_name)\n",
    "\n",
    "import pickle\n",
    "f = open(sub_HC_vol_file, 'wb')\n",
    "pickle.dump(subject_vol_dict, f)\n",
    "f.close()\n"
   ]
  },
  {
   "cell_type": "code",
   "execution_count": null,
   "metadata": {
    "collapsed": false
   },
   "outputs": [],
   "source": [
    "factor=0.5_thresh=300\n",
    "hdf5 input shape: (56256, 16086)\n",
    "adni1_left_vol shape: (25740, 16086), adni1_right_vol shape: (26350, 16471)\n",
    "adni1_left_vol_mean: 3891.3535742, adni1_right_vol_mean: 3915.63908918\n",
    "adni2_left_vol shape: (29041, 16086), adni2_right_vol shape: (28537, 16471)\n",
    "adni2_left_vol_mean: 3583.71330188, adni2_right_vol_mean: 3615.87945474\n",
    "\n",
    "factor=0.5_thresh=500       \n",
    "hdf5 input shape: (44015, 14483)\n",
    "adni1_left_vol shape: (19220, 14259), adni1_right_vol shape: (20245, 14483)\n",
    "adni1_left_vol_mean: 3808.33792924, adni1_right_vol_mean: 3831.41007656\n",
    "adni2_left_vol shape: (22928, 14259), adni2_right_vol shape: (22614, 14483)\n",
    "adni2_left_vol_mean: 3533.49938939, adni2_right_vol_mean: 3564.90514725\n",
    "\n"
   ]
  },
  {
   "cell_type": "code",
   "execution_count": 14,
   "metadata": {
    "collapsed": false
   },
   "outputs": [
    {
     "name": "stdout",
     "output_type": "stream",
     "text": [
      "(20, 16086)\n",
      "left HC shape (20, 16086), np.sum(np.max(X,axis=0)): 7992, diff=8094\n"
     ]
    },
    {
     "name": "stderr",
     "output_type": "stream",
     "text": [
      "/projects/nikhil/ADNI_prediction/code/conda_envs/adni-conda/lib/python2.7/site-packages/matplotlib/collections.py:590: FutureWarning: elementwise comparison failed; returning scalar instead, but in the future will perform elementwise comparison\n",
      "  if self._edgecolors == str('face'):\n"
     ]
    },
    {
     "data": {
      "image/png": "[encoded data removed]",
      "text/plain": [
       "<matplotlib.figure.Figure at 0x7f707edb12d0>"
      ]
     },
     "metadata": {},
     "output_type": "display_data"
    }
   ],
   "source": [
    "#Visualize HC\n",
    "import random\n",
    "plt.rcParams['figure.figsize'] = (20, 10)\n",
    "input_file = '/projects/nikhil/ADNI_prediction/input_datasets/HC_preproc/tmp/candidate_l_winterburn_factor=0.5_thresh=300_data.h5'\n",
    "datamask =  load_data(input_file.format(side),'datamask')\n",
    "volmask = load_data(input_file.format(side),'volmask')\n",
    "baseline_shape = volmask.shape\n",
    "features = load_data(input_file.format(side),'data')\n",
    "\n",
    "sampx = 20\n",
    "X = np.array(random.sample(features,sampx))\n",
    "print X.shape\n",
    "max_per_feature = np.max(X,axis=0)\n",
    "print '{} HC shape {}, np.sum(np.max(X,axis=0)): {}, diff={}'.format(side, X.shape,np.sum(max_per_feature),X.shape[1]-np.sum(max_per_feature))\n",
    "\n",
    "plot_list = []\n",
    "for i in np.arange(sampx):    \n",
    "    plot_list.append((X[i], 'X {}'.format(i)))    \n",
    "    \n",
    "plot_slices(plot_list, baseline_shape, datamask)"
   ]
  },
  {
   "cell_type": "code",
   "execution_count": 13,
   "metadata": {
    "collapsed": false
   },
   "outputs": [],
   "source": [
    "from scipy.stats.mstats_basic import mquantiles\n",
    "from sklearn.utils.extmath import randomized_svd\n",
    "\n",
    "def get3DVol(HC_input, HC_shape, input_mask):\n",
    "    flatvol = np.zeros(np.prod(HC_shape))\n",
    "    flatvol[input_mask] = HC_input\n",
    "    vol = flatvol.reshape(-1, HC_shape[2]).T\n",
    "    return vol\n",
    "\n",
    "def plot_slices(slice_list, baseline_shape, baseline_mask, llimit=0.01, ulimit=0.99, xmin=1000, xmax=2400):\n",
    "    \"\"\"\n",
    "    Plot dem slices.\n",
    "    :param slice_list:\n",
    "    :param llimit:\n",
    "    :param ulimit:\n",
    "    :param num_slices:\n",
    "    :param xmin:\n",
    "    :param xmax:\n",
    "    :return:\n",
    "    \"\"\"\n",
    "    num_slices = len(slice_list)\n",
    "    plt.style.use('ggplot')\n",
    "    plt.figure()\n",
    "    cols = 1\n",
    "    rows = num_slices / cols\n",
    "    plt.cla()\n",
    "    for j, input in enumerate(slice_list):\n",
    "        quantiles = mquantiles(input[0], [llimit, ulimit])\n",
    "        wt_vol = get3DVol(input[0], baseline_shape, baseline_mask)\n",
    "        plt.subplot(rows, cols, j + 1)\n",
    "        #im = plt.imshow(wt_vol[:, xmin:xmax], cmap=plt.cm.Reds, aspect='auto', interpolation='none', vmin=-.06, vmax=0.06)\n",
    "        im = plt.imshow(wt_vol, cmap=plt.cm.Reds, aspect='auto', interpolation='none')\n",
    "        plt.grid()\n",
    "        plt.title(input[1])\n",
    "        plt.colorbar()\n",
    "        im.set_clim(quantiles[0], quantiles[1])\n",
    "        plt.axis('off')"
   ]
  },
  {
   "cell_type": "code",
   "execution_count": null,
   "metadata": {
    "collapsed": false
   },
   "outputs": [],
   "source": [
    "f = input_files[-4]\n",
    "subject_id = re.findall(id_participant, f)\n",
    "print "
   ]
  },
  {
   "cell_type": "code",
   "execution_count": null,
   "metadata": {
    "collapsed": false
   },
   "outputs": [],
   "source": []
  },
  {
   "cell_type": "code",
   "execution_count": null,
   "metadata": {
    "collapsed": false
   },
   "outputs": [],
   "source": [
    "import pickle\n",
    "sub_DX_data_path = baseline_dir + 'CS/ADNI1_BL_PTID_DX_bl_dict.pkl'\n",
    "sub_DX_dict = pickle.load( open(sub_DX_data_path, \"rb\" ) )\n",
    "\n",
    "X = []\n",
    "y = []\n",
    "y_dx = [] #Used for creating balanced k-folds\n",
    "for key in subject_vol_dict.keys():\n",
    "    X.append(np.sum(np.squeeze(np.array(stats.mode(subject_vol_dict[key])[0]))))\n",
    "    y.append(sub_DX_dict[key])\n",
    "    \n",
    "X = np.array(X)\n",
    "y = np.array(y)\n",
    "print 'X shape: {}, y shape: {}'.format(X.shape, y.shape)"
   ]
  },
  {
   "cell_type": "code",
   "execution_count": null,
   "metadata": {
    "collapsed": false
   },
   "outputs": [],
   "source": [
    "a=0.7\n",
    "plt.hist(X[y=='AD'],alpha=a,bins=100,label='AD')\n",
    "plt.hist(X[y=='CN'],alpha=a,bins=100,label='CN')\n",
    "plt.hist(X[y=='LMCI'],alpha=a,bins=100,label='MCI')\n",
    "plt.legend()"
   ]
  },
  {
   "cell_type": "code",
   "execution_count": null,
   "metadata": {
    "collapsed": false
   },
   "outputs": [],
   "source": [
    "plt.subplot(2,1,1)\n",
    "plt.hist(R_HC_vols)\n",
    "plt.title('Right HC')\n",
    "plt.subplot(2,1,2)\n",
    "plt.hist(L_HC_vols)\n",
    "plt.title('Left HC')\n",
    "#R:12386 #L=10262"
   ]
  },
  {
   "cell_type": "code",
   "execution_count": null,
   "metadata": {
    "collapsed": false
   },
   "outputs": [],
   "source": [
    "print np.array(subject_vol_dict.values()[0]).shape"
   ]
  },
  {
   "cell_type": "code",
   "execution_count": null,
   "metadata": {
    "collapsed": false
   },
   "outputs": [],
   "source": [
    "import pandas as pd\n",
    "#Jens atlas stats\n",
    "voxel_size = 1\n",
    "fname_L = '/projects/nikhil/current/ADNI/jens/input/atlases/labels/Jens_HC_Left.txt'\n",
    "fname_R = '/projects/nikhil/current/ADNI/jens/input/atlases/labels/Jens_HC_Right.txt'\n",
    "vols_L = (voxel_size**3)*np.squeeze(pd.read_csv(fname_L).values)\n",
    "vols_R = (voxel_size**3)*np.squeeze(pd.read_csv(fname_R).values)\n",
    "\n",
    "print 'Jens Atlas: '\n",
    "print 'mean HC vols, L:{}, R:{}'.format(np.mean(vols_L),np.mean(vols_R))\n",
    "print 'stdev HC vols, L:{}, R:{}'.format(np.std(vols_L),np.std(vols_R))\n",
    "\n",
    "#Julie atlas stats\n",
    "voxel_size = 0.3\n",
    "fname_L = '/projects/nikhil/ADNI_prediction/input_datasets/HC_preproc/Julie_Atlases_tmp/Julie_HC_Left.txt'\n",
    "fname_R = '/projects/nikhil/ADNI_prediction/input_datasets/HC_preproc/Julie_Atlases_tmp/Julie_HC_Right.txt'\n",
    "vols_L = (voxel_size**3)*np.squeeze(pd.read_csv(fname_L).values)\n",
    "vols_R = (voxel_size**3)*np.squeeze(pd.read_csv(fname_R).values)\n",
    "\n",
    "print 'Julie Atlas:'\n",
    "print 'mean HC vols, L:{}, R:{}'.format(np.mean(vols_L),np.mean(vols_R))\n",
    "print 'stdev HC vols, L:{}, R:{}'.format(np.std(vols_L),np.std(vols_R))\n"
   ]
  },
  {
   "cell_type": "code",
   "execution_count": null,
   "metadata": {
    "collapsed": false
   },
   "outputs": [],
   "source": []
  },
  {
   "cell_type": "code",
   "execution_count": null,
   "metadata": {
    "collapsed": true
   },
   "outputs": [],
   "source": []
  }
 ],
 "metadata": {
  "kernelspec": {
   "display_name": "Python 2",
   "language": "python",
   "name": "python2"
  },
  "language_info": {
   "codemirror_mode": {
    "name": "ipython",
    "version": 2
   },
   "file_extension": ".py",
   "mimetype": "text/x-python",
   "name": "python",
   "nbconvert_exporter": "python",
   "pygments_lexer": "ipython2",
   "version": "2.7.11"
  }
 },
 "nbformat": 4,
 "nbformat_minor": 0
}
