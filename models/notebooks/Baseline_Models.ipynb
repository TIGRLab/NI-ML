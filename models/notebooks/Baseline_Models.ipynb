{
 "cells": [
  {
   "cell_type": "code",
   "execution_count": 1,
   "metadata": {
    "collapsed": true
   },
   "outputs": [],
   "source": [
    "# Basic Imports\n",
    "import numpy as np\n",
    "import h5py as h5\n",
    "import matplotlib.pyplot as plt\n",
    "import pandas as pd\n",
    "from scipy import stats\n",
    "import pickle\n",
    "import re\n",
    "import collections\n",
    "import tables as tb\n",
    "from math import isnan\n",
    "\n",
    "%matplotlib inline\n",
    "plt.rcParams['figure.figsize'] = (15, 10)\n",
    "plt.style.use('ggplot')"
   ]
  },
  {
   "cell_type": "code",
   "execution_count": 67,
   "metadata": {
    "collapsed": true
   },
   "outputs": [],
   "source": [
    "# Data imports\n",
    "cohort = 'ADNI1'\n",
    "clinical_scale = 'ADAS13'\n",
    "exp_name = '{}_{}'.format(cohort,clinical_scale)\n",
    "\n",
    "baseline_dir = '/projects/nikhil/ADNI_prediction/input_datasets/'\n",
    "HC_L_data_path = baseline_dir + 'HC/subject_HC_vol_dictionary_ADNI1_left.pkl'\n",
    "HC_R_data_path = baseline_dir + 'HC/subject_HC_vol_dictionary_ADNI1_right.pkl'\n",
    "CT_data_path = baseline_dir + 'CT/civet_out/ADNI1_subject_ROI_CT_dict_AAL.pkl'\n",
    "sub_CS_data_path = '/projects/nikhil/ADNI_prediction/input_datasets/ADNI1_BL_PTID_ADAS13_dict.pkl'\n",
    "sub_DX_data_path = '/projects/nikhil/ADNI_prediction/input_datasets/ADNI1_BL_PTID_DX_bl_dict.pkl'"
   ]
  },
  {
   "cell_type": "code",
   "execution_count": 64,
   "metadata": {
    "collapsed": false
   },
   "outputs": [
    {
     "name": "stdout",
     "output_type": "stream",
     "text": [
      "HC_L_keys: 698, HC_R_keys: 698, CT_keys: 806\n"
     ]
    }
   ],
   "source": [
    "#Fused labels and volumes\n",
    "sub_HC_L_dict = pickle.load( open(HC_L_data_path, \"rb\" ) )\n",
    "sub_HC_R_dict = pickle.load( open(HC_R_data_path, \"rb\" ) )\n",
    "\n",
    "HC_L_total_vol_dict = {}\n",
    "HC_R_total_vol_dict = {}\n",
    "for key in sub_HC_L_dict.keys():\n",
    "    fused_vol = stats.mode(sub_HC_L_dict[key],axis=0)[0] #Left HC\n",
    "    HC_L_total_vol_dict[key] = np.sum(fused_vol)\n",
    "    fused_vol = stats.mode(sub_HC_R_dict[key],axis=0)[0] #Right HC\n",
    "    HC_R_total_vol_dict[key] = np.sum(fused_vol)\n",
    "    \n",
    "#Mean CT values for AAL\n",
    "sub_CT_dict = pickle.load( open(CT_data_path, \"rb\" ) )\n",
    "unique_ROIs = sub_CT_dict['137_S_0459'][0].keys()\n",
    "CT_mean_dict = {}\n",
    "for key in sub_CT_dict.keys():\n",
    "    CT_roi_dict = sub_CT_dict[key][0]\n",
    "    mean_CT_list = []\n",
    "    for roi in unique_ROIs:\n",
    "        mean_CT_list.append(np.mean(CT_roi_dict[roi]))\n",
    "                \n",
    "    CT_mean_dict[key] = mean_CT_list\n",
    "    \n",
    "print 'HC_L_keys: {}, HC_R_keys: {}, CT_keys: {}'.format(len(HC_L_total_vol_dict), len(HC_R_total_vol_dict), len(CT_mean_dict))"
   ]
  },
  {
   "cell_type": "code",
   "execution_count": 84,
   "metadata": {
    "collapsed": false
   },
   "outputs": [
    {
     "name": "stdout",
     "output_type": "stream",
     "text": [
      "# of common keys across modalities: 680\n",
      "X shape: (680, 81), y shape: (680,)\n"
     ]
    }
   ],
   "source": [
    "# ADAS score dict\n",
    "sub_CS_dict = pickle.load( open(sub_CS_data_path, \"rb\" ) )\n",
    "sub_CS_dict_clean = filter(lambda k: not isnan(sub_CS_dict[k]), sub_CS_dict) #remove NaNs\n",
    "sub_CS_dict_clean = {k: sub_CS_dict[k] for k in sub_CS_dict if not isnan(sub_CS_dict[k])}\n",
    "\n",
    "#Dx score dict (for stratified k-fold)\n",
    "sub_DX_dict = pickle.load( open(sub_DX_data_path, \"rb\" ) )\n",
    "#sub_DX_dict_clean = filter(lambda k: not isnan(sub_DX_dict[k]), sub_DX_dict) #remove NaNs\n",
    "#sub_DX_dict_clean = {k: sub_DX_dict[k] for k in sub_DX_dict if not isnan(sub_DX_dict[k])}\n",
    "\n",
    "common_keys = set(HC_L_total_vol_dict.keys()) & set(CT_mean_dict.keys()) & set(sub_CS_dict_clean.keys())\n",
    "print '# of common keys across modalities: {}'.format(len(common_keys))\n",
    "X = []\n",
    "y = []\n",
    "y_dx = [] #Used for creating balanced k-folds\n",
    "for key in common_keys:\n",
    "    X.append(np.array([HC_L_total_vol_dict[key]] + [HC_R_total_vol_dict[key]] + CT_mean_dict[key]))\n",
    "    y.append(sub_CS_dict_clean[key])\n",
    "    y_dx.append(sub_DX_dict[key])\n",
    "    \n",
    "X = np.array(X)\n",
    "y = np.array(y)\n",
    "print 'X shape: {}, y shape: {}'.format(X.shape, y.shape)"
   ]
  },
  {
   "cell_type": "code",
   "execution_count": 101,
   "metadata": {
    "collapsed": true
   },
   "outputs": [
    {
     "name": "stdout",
     "output_type": "stream",
     "text": [
      "Stratified KFold\n",
      "DX distribution (AD,CN,LMCI): (15, 20, 34)\n",
      "y_train_mean: 18.1325040917, y_test_mean: 17.2271014493\n",
      "DX distribution (AD,CN,LMCI): (15, 20, 34)\n",
      "y_train_mean: 18.1625040917, y_test_mean: 16.9614492754\n",
      "DX distribution (AD,CN,LMCI): (15, 20, 34)\n",
      "y_train_mean: 17.9039279869, y_test_mean: 19.2511594203\n",
      "DX distribution (AD,CN,LMCI): (15, 20, 34)\n",
      "y_train_mean: 18.0299181669, y_test_mean: 18.1355072464\n",
      "DX distribution (AD,CN,LMCI): (15, 20, 34)\n",
      "y_train_mean: 17.9666939444, y_test_mean: 18.6953623188\n",
      "DX distribution (AD,CN,LMCI): (15, 20, 33)\n",
      "y_train_mean: 18.0125163399, y_test_mean: 18.2936764706\n",
      "DX distribution (AD,CN,LMCI): (15, 20, 33)\n",
      "y_train_mean: 18.112745098, y_test_mean: 17.3916176471\n",
      "DX distribution (AD,CN,LMCI): (14, 20, 33)\n",
      "y_train_mean: 18.0994453507, y_test_mean: 17.5025373134\n",
      "DX distribution (AD,CN,LMCI): (14, 19, 33)\n",
      "y_train_mean: 17.8967263844, y_test_mean: 19.3793939394\n",
      "DX distribution (AD,CN,LMCI): (14, 19, 33)\n",
      "y_train_mean: 18.0895439739, y_test_mean: 17.5856060606\n"
     ]
    }
   ],
   "source": [
    "# Create folds for CV (default Stratified based on DX)\n",
    "from sklearn import preprocessing\n",
    "from sklearn.cross_validation import StratifiedKFold\n",
    "from sklearn.cross_validation import KFold\n",
    "\n",
    "#Encode Dx labels to integers map: {AD:0,CN:1,LMCI:2}\n",
    "le = preprocessing.LabelEncoder()\n",
    "le.fit(y_dx)\n",
    "y_dx_int = le.transform(y_dx) \n",
    "\n",
    "stratified_KF = True\n",
    "if not stratified_KF:\n",
    "    print 'KFold'\n",
    "    kf = KFold(len(y), n_folds=10)\n",
    "else: \n",
    "    print 'Stratified KFold'\n",
    "    kf = StratifiedKFold(y_dx_int, n_folds=10)\n",
    "    \n",
    "for train_index, test_index in kf:    \n",
    "    X_train, X_test = X[train_index], X[test_index]\n",
    "    y_train, y_test = y[train_index], y[test_index]\n",
    "    print 'DX distribution (AD,CN,LMCI): {}'.format((np.sum(y_dx_int[test_index]==0),np.sum(y_dx_int[test_index]==1),\n",
    "                                              np.sum(y_dx_int[test_index]==2)))\n",
    "    print 'y_train_mean: {}, y_test_mean: {}'.format(np.mean(y_train),np.mean(y_test))\n",
    "    \n",
    "save_experimental_setup = False  #Saves X, y, and KF\n",
    "if save_experimental_setup:\n",
    "    save_path = '/projects/nikhil/ADNI_prediction/input_datasets/ADNI1_CV_experimental_setup_1.pkl'\n",
    "    exp_setup = {'X': X, 'y': y, 'kf':kf,'exp_name':exp_name}\n",
    "    pickleIt(exp_setup, save_path)"
   ]
  },
  {
   "cell_type": "code",
   "execution_count": 103,
   "metadata": {
    "collapsed": false,
    "scrolled": true
   },
   "outputs": [
    {
     "data": {
      "text/plain": [
       "<Container object of 81 artists>"
      ]
     },
     "execution_count": 103,
     "metadata": {},
     "output_type": "execute_result"
    },
    {
     "data": {
      "image/png": "[encoded data removed]",
      "text/plain": [
       "<matplotlib.figure.Figure at 0x7f8a20a88250>"
      ]
     },
     "metadata": {},
     "output_type": "display_data"
    }
   ],
   "source": [
    "# QC plots\n",
    "n_feat = X.shape[1]\n",
    "feat_corr  = []\n",
    "for col in np.arange(n_feat):\n",
    "    feat_corr.append(stats.pearsonr(X[:,col],y)[0])\n",
    "    \n",
    "plt.figure()\n",
    "plt.subplot(2,2,1)\n",
    "plt.title('HC_L total volume')\n",
    "plt.hist(X[:,0],bins=100)\n",
    "plt.subplot(2,2,2)\n",
    "plt.title('HC_R total volume')\n",
    "plt.hist(X[:,1],bins=100)\n",
    "plt.subplot(2,2,3)\n",
    "plt.title('CT mean per ROI')\n",
    "plt.bar(np.arange(n_feat-2),np.mean(X[:,2:],axis=0))\n",
    "plt.subplot(2,2,4)\n",
    "plt.title('Correlation with CS for each feature')\n",
    "plt.bar(np.arange(n_feat),feat_corr)"
   ]
  },
  {
   "cell_type": "code",
   "execution_count": 107,
   "metadata": {
    "collapsed": false
   },
   "outputs": [],
   "source": [
    "# Configs for K-fold validations (nested)\n",
    "from sklearn.linear_model import LinearRegression\n",
    "from sklearn.linear_model import Lasso\n",
    "from sklearn.svm import SVR\n",
    "from sklearn.ensemble import RandomForestRegressor\n",
    "from sklearn import grid_search\n",
    "import datetime\n",
    "import time\n",
    "import collections\n",
    "from scipy.stats import mode\n",
    "from sklearn.metrics import mean_squared_error as mse\n",
    "import ipyparallel as ipp\n",
    "from sklearn import preprocessing\n",
    "from sklearn.cross_validation import KFold"
   ]
  },
  {
   "cell_type": "code",
   "execution_count": 108,
   "metadata": {
    "collapsed": false
   },
   "outputs": [],
   "source": [
    "#Pick model with its configs/hyper-params\n",
    "model_list = ['LR_L1', 'SVR', 'RFR']\n",
    "model_choice_id = 0\n",
    "model_choice = model_list[model_choice_id]\n",
    "\n",
    "if model_choice == 'LR_L1':\n",
    "    model_clf = Lasso()\n",
    "    hyper_params = {'alpha':[0.2, 0.1, 0.05, 0.01]} \n",
    "    scale_data = True #Scales HC and CT features\n",
    "    inner_loop = True #only needed to optimize hyper-params\n",
    "    feat_imp = True    \n",
    "        \n",
    "elif model_choice == 'SVR':\n",
    "    model_clf = SVR()\n",
    "    hyper_params = {'kernel':['linear','rbf'], 'C':[1,10]}\n",
    "    scale_data = True #Scales HC and CT features\n",
    "    inner_loop = True #only needed to optimize hyper-params\n",
    "    feat_imp = True\n",
    "           \n",
    "elif model_choice == 'RFR':\n",
    "    model_clf = RandomForestRegressor(n_jobs=6)\n",
    "    hyper_params = {'n_estimators':[10,50,100,200,500],'min_samples_split':[2,4,8]}\n",
    "    #hyper_params = {'min_samples_split':[2,4,8,16]}\n",
    "    scale_data = False\n",
    "    inner_loop = True #only needed to optimize hyper-params\n",
    "    feat_imp = True   \n",
    "    \n",
    "else:\n",
    "    print \"Unknown model choice\""
   ]
  },
  {
   "cell_type": "code",
   "execution_count": null,
   "metadata": {
    "collapsed": true
   },
   "outputs": [],
   "source": [
    "# Train and Test models\n",
    "from functools import partial #Parallelize!!! \n",
    "\n",
    "# Load save experimental setup\n",
    "exp_setup_path = '/projects/nikhil/ADNI_prediction/input_datasets/ADNI1_CV_experimental_setup_1.pkl'\n",
    "exp_setup = pickle.load( open(exp_setup_path, \"rb\" ) )\n",
    "\n",
    "if scale_data:\n",
    "    X = preprocessing.scale(exp_setup['X'])\n",
    "else:\n",
    "    X = exp_setup['X']\n",
    "    \n",
    "y = exp_setup['X']\n",
    "kf = exp_setup['kf']\n",
    "exp_name = exp_setup['exp_name']\n",
    "\n",
    "#Some paths to store models and performance stats\n",
    "CV_model_dir = '/projects/nikhil/ADNI_prediction/models/CV_pkls/'\n",
    "save_model_path = CV_model_dir + exp_name + '_' + model_choice\n",
    "load_model_path = CV_model_dir + saved_model_name\n",
    "\n",
    "# train a new classifer? Or load a single pretrained classifier based on most frequent hyperparams found previously?\n",
    "# This will NOT load K different classifiers each for outer-CV fold  \n",
    "train_clf = True\n",
    "save_model = False #do you really want to save all classifiers per each fold? (default false) \n",
    "\n",
    "if train_clf:\n",
    "    # Create list of all the fold-subsets (needed for parallelization)\n",
    "    X_train = []\n",
    "    X_valid = []\n",
    "    y_train = []\n",
    "    y_valid = []    \n",
    "    for train, valid in kf:        \n",
    "        X_train.append(X[train])\n",
    "        X_valid.append(X[valid])\n",
    "        y_train.append(y[train])\n",
    "        y_valid.append(y[valid])\n",
    "\n",
    "    CV_r_train=[] #pearson r score for each outer fold on train set\n",
    "    CV_r_valid=[] #pearson r score for each outer fold on validation set\n",
    "\n",
    "    CV_R2_train=[] #R2 score for each outer fold on train set\n",
    "    CV_R2_valid=[] #R2 score for each outer fold on validation set\n",
    "\n",
    "    CV_MSE_train=[] #MSE for each outer fold on train set\n",
    "    CV_MSE_valid=[] #MSE for each outer fold on validation set\n",
    "    \n",
    "    predicted_CV_scores = []\n",
    "    actual_CV_scores = []\n",
    "    \n",
    "    # Parallization configs for ipython notebook cluster    \n",
    "    rc = ipp.Client()\n",
    "    dview = rc[:]\n",
    "    dview.push(dict(computeOuterFold = computeOuterFold))\n",
    "    dview.push(dict(innerCVLoop = innerCVLoop))\n",
    "    mapfunc = partial(computeOuterFold, model_clf=model_clf, hyper_params=hyper_params, inner_loop=inner_loop, \n",
    "                  save_model=save_model, save_model_path=save_model_path)\n",
    "    parallel_result = dview.map_sync(mapfunc, X_train, y_train, X_valid, y_valid)    \n",
    "    \n",
    "    hp_dict = collections.defaultdict(list)\n",
    "    for pr in parallel_result:\n",
    "        CV_r_train.append(pr['r_train'])\n",
    "        CV_r_valid.append(pr['r_valid'])\n",
    "        CV_R2_train.append(pr['R2_train'])\n",
    "        CV_R2_valid.append(pr['R2_valid'])\n",
    "        CV_MSE_train.append(pr['MSE_train'])\n",
    "        CV_MSE_valid.append(pr['MSE_valid'])\n",
    "        predicted_CV_scores.append(pr['predicted_fold_score'])\n",
    "        actual_CV_scores.append(pr['actual_fold_scores'])\n",
    "        \n",
    "        for hp in hyper_params:\n",
    "            hp_dict[hp].append(pr['hp_dict'][hp])\n",
    "            \n",
    "    #Find out most frequent hyper-params during cross-val    \n",
    "    hp_mode = {}\n",
    "    for hp in hyper_params:\n",
    "        hp_mode[hp] = mode(hp_dict[hp])[0][0]\n",
    "\n",
    "    print 'most frequent hp:' + str(hp_mode)\n",
    "    \n",
    "else: \n",
    "    #Grabs the best classifer as a result of N-fold nested CV along with the MSE and R2 stats of the outerloop\n",
    "    print \"Loading previously saved model: \"\n",
    "    f = open(load_model_path)\n",
    "    result = pickle.load(f)\n",
    "    test_clf = result['best_clf']\n",
    "    CV_r_valid = result['CV_r']\n",
    "    CV_R2_valid = result['CV_R2']\n",
    "    CV_MSE_valid = result['CV_MSE']\n",
    "    f.close()\n",
    "\n",
    "print 'CV r (mean, median, std_err): ' + '{:04.2f},{:04.2f},{:04.2f}'.format(np.mean(zip(*CV_r_valid)[0]),np.median(zip(*CV_r_valid)[0]),stats.sem(zip(*CV_r_valid)[0]))\n",
    "print 'CV R2 (mean, median, std_err): ' + '{:04.2f},{:04.2f}, {:04.2f}'.format(np.mean(CV_R2_valid),np.median(CV_R2_valid),stats.sem(CV_R2_valid))\n",
    "print 'CV MSE (mean, median, std_err): ' + '{:04.2f},{:04.2f}, {:04.2f}'.format(np.mean(CV_MSE_valid),np.median(CV_MSE_valid),stats.sem(CV_MSE_valid))"
   ]
  },
  {
   "cell_type": "code",
   "execution_count": null,
   "metadata": {
    "collapsed": true
   },
   "outputs": [],
   "source": [
    "# Compute single model from the most frequent hyper-params (for across dataset testing)\n",
    "\n",
    "#test_clf = Lasso(alpha=0.2)    \n",
    "#test_clf = SVR(kernel='rbf',C=10)\n",
    "#test_clf = RandomForestRegressor(n_estimators=200,min_samples_split=4,n_jobs=4)\n",
    "\n",
    "save_CV_perf = True    \n",
    "if save_model:\n",
    "    classifier_model_and_stats = {'best_clf':test_clf, 'CV_R2':CV_R2_valid, 'CV_MSE':CV_MSE_valid, 'CV_r': CV_r_valid,\n",
    "                                 'predicted_CV_scores':predicted_CV_scores,'actual_CV_scores':actual_CV_scores}\n",
    "    pickleIt(classifier_model_and_stats,save_model_path)\n"
   ]
  },
  {
   "cell_type": "code",
   "execution_count": null,
   "metadata": {
    "collapsed": true
   },
   "outputs": [],
   "source": [
    "# Plotting stuff...\n"
   ]
  },
  {
   "cell_type": "code",
   "execution_count": 104,
   "metadata": {
    "collapsed": false
   },
   "outputs": [],
   "source": [
    "# Some Defs\n",
    "def pickleIt(my_data,save_path):\n",
    "    f = open(save_path, 'wb')\n",
    "    pickle.dump(my_data, f)\n",
    "    f.close()\n",
    "\n",
    "#Outer Fold Computation (need the imports inside def if you want to parallelize!)\n",
    "def computeOuterFold(train_X, train_y, valid_X, valid_y, model_clf, hyper_params, inner_loop, save_model, save_model_path):\n",
    "    import collections\n",
    "    from sklearn.linear_model import LinearRegression\n",
    "    from sklearn.linear_model import Lasso\n",
    "    from sklearn.svm import SVR\n",
    "    from sklearn.ensemble import RandomForestRegressor\n",
    "    from sklearn import grid_search\n",
    "    import datetime\n",
    "    import time\n",
    "    import collections\n",
    "    from scipy.stats import mode\n",
    "    from sklearn.metrics import mean_squared_error as mse\n",
    "    from scipy import stats\n",
    "    \n",
    "    print 'Starting Outerfold computation'\n",
    "    \n",
    "    hp_dict = collections.defaultdict(list) #store best hyper-parameters for each fold\n",
    "    \n",
    "    if inner_loop:     \n",
    "        print 'Starting Inner computation'\n",
    "        save_model_path_fold = save_model_path + '_fold_' \n",
    "        clf = innerCVLoop(model_clf,hyper_params,train_X, train_y,save_model,save_model_path_fold)\n",
    "        for hp in hyper_params:\n",
    "            hp_dict[hp].append(clf.best_estimator_.get_params()[hp])\n",
    "            \n",
    "        print 'Ending InnerFold computation'\n",
    "\n",
    "    else:\n",
    "        clf = model_clf\n",
    "        clf.fit(fold_X,fold_y)\n",
    "        \n",
    "    #CV_scores    \n",
    "    r_train = stats.pearsonr(clf.predict(train_X),train_y)\n",
    "    r_valid = stats.pearsonr(clf.predict(valid_X),valid_y)\n",
    "        \n",
    "    R2_train = clf.score(train_X,train_y) \n",
    "    R2_valid = clf.score(valid_X,valid_y)\n",
    "        \n",
    "    MSE_train = mse(clf.predict(train_X),train_y)\n",
    "    MSE_valid = mse(clf.predict(valid_X),valid_y)\n",
    "    \n",
    "    print 'Ending OuterFold computation'\n",
    "    \n",
    "    return {'r_train':r_train, 'r_valid':r_valid, 'R2_train':R2_train, 'R2_valid':R2_valid,\n",
    "            'MSE_train':MSE_train, 'MSE_valid':MSE_valid, 'hp_dict':hp_dict, \n",
    "            'predicted_fold_score': clf.predict(valid_X), 'actual_fold_scores':valid_y}\n",
    "\n",
    "#Inner Fold Computation (need the imports inside def if you want to parallelize!)\n",
    "def innerCVLoop(model_clf,hyper_params,fold_X, fold_y,save_model,save_model_path):\n",
    "    from sklearn.linear_model import LinearRegression\n",
    "    from sklearn.linear_model import Lasso\n",
    "    from sklearn.svm import SVR\n",
    "    from sklearn.ensemble import RandomForestRegressor\n",
    "    from sklearn import grid_search\n",
    "    clf = grid_search.GridSearchCV(model_clf, hyper_params,cv=3,verbose=0)\n",
    "    clf.fit(fold_X, fold_y)\n",
    "    #Save classifier\n",
    "    if save_model:\n",
    "        save_model(clf,save_model_path)\n",
    "        \n",
    "    return clf"
   ]
  },
  {
   "cell_type": "code",
   "execution_count": null,
   "metadata": {
    "collapsed": true
   },
   "outputs": [],
   "source": []
  }
 ],
 "metadata": {
  "kernelspec": {
   "display_name": "Python 2",
   "language": "python",
   "name": "python2"
  },
  "language_info": {
   "codemirror_mode": {
    "name": "ipython",
    "version": 2
   },
   "file_extension": ".py",
   "mimetype": "text/x-python",
   "name": "python",
   "nbconvert_exporter": "python",
   "pygments_lexer": "ipython2",
   "version": "2.7.10"
  }
 },
 "nbformat": 4,
 "nbformat_minor": 0
}
