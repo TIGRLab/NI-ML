{
 "cells": [
  {
   "cell_type": "code",
   "execution_count": 7,
   "metadata": {
    "collapsed": false
   },
   "outputs": [],
   "source": [
    "import numpy as np\n",
    "import h5py as h5\n",
    "import matplotlib.pyplot as plt\n",
    "import pandas as pd\n",
    "from scipy import stats\n",
    "import pickle\n",
    "import re\n",
    "import collections\n",
    "import tables as tb\n",
    "import ipyparallel as ipp\n",
    "from sklearn.cluster import spectral_clustering \n",
    "import scipy as sp\n",
    "from sklearn.feature_extraction import image\n",
    "import time"
   ]
  },
  {
   "cell_type": "code",
   "execution_count": 8,
   "metadata": {
    "collapsed": false
   },
   "outputs": [
    {
     "name": "stderr",
     "output_type": "stream",
     "text": [
      "/home/nikhil/.conda/envs/adni/lib/python2.7/site-packages/matplotlib/collections.py:650: FutureWarning: elementwise comparison failed; returning scalar instead, but in the future will perform elementwise comparison\n",
      "  if self._edgecolors_original != str('face'):\n",
      "/home/nikhil/.conda/envs/adni/lib/python2.7/site-packages/matplotlib/collections.py:590: FutureWarning: elementwise comparison failed; returning scalar instead, but in the future will perform elementwise comparison\n",
      "  if self._edgecolors == str('face'):\n"
     ]
    }
   ],
   "source": [
    "lena = sp.misc.lena()\n",
    "# Downsample the image by a factor of 4\n",
    "lena = lena[::2, ::2] + lena[1::2, ::2] + lena[::2, 1::2] + lena[1::2, 1::2]\n",
    "lena = lena[::2, ::2] + lena[1::2, ::2] + lena[::2, 1::2] + lena[1::2, 1::2]\n",
    "\n",
    "# Convert the image into a graph with the value of the gradient on the\n",
    "# edges.\n",
    "graph = image.img_to_graph(lena)\n",
    "\n",
    "# Take a decreasing function of the gradient: an exponential\n",
    "# The smaller beta is, the more independent the segmentation is of the\n",
    "# actual image. For beta=1, the segmentation is close to a voronoi\n",
    "beta = 5\n",
    "eps = 1e-6\n",
    "graph.data = np.exp(-beta * graph.data / lena.std()) + eps\n",
    "\n",
    "# Apply spectral clustering (this step goes much faster if you have pyamg\n",
    "# installed)\n",
    "N_REGIONS = 11\n",
    "\n",
    "###############################################################################\n",
    "# Visualize the resulting regions\n",
    "\n",
    "for assign_labels in ('kmeans', 'discretize'):\n",
    "    t0 = time.time()\n",
    "    labels = spectral_clustering(graph, n_clusters=N_REGIONS,\n",
    "                                 assign_labels=assign_labels,\n",
    "                                 random_state=1)\n",
    "    t1 = time.time()\n",
    "    labels = labels.reshape(lena.shape)\n",
    "\n",
    "    plt.figure(figsize=(5, 5))\n",
    "    plt.imshow(lena,   cmap=plt.cm.gray)\n",
    "    for l in range(N_REGIONS):\n",
    "        plt.contour(labels == l, contours=1,\n",
    "                    colors=[plt.cm.spectral(l / float(N_REGIONS)), ])\n",
    "    plt.xticks(())\n",
    "    plt.yticks(())\n",
    "    plt.title('Spectral clustering: %s, %.2fs' % (assign_labels, (t1 - t0)))\n",
    "\n",
    "plt.show()"
   ]
  },
  {
   "cell_type": "code",
   "execution_count": 32,
   "metadata": {
    "collapsed": false
   },
   "outputs": [],
   "source": [
    "N = 100\n",
    "nodes = np.arange(N)\n",
    "b = np.random.rand(N,N)\n",
    "b_symm = (b + b.T)/2"
   ]
  },
  {
   "cell_type": "code",
   "execution_count": 45,
   "metadata": {
    "collapsed": false
   },
   "outputs": [],
   "source": [
    "assign_labels = 'kmeans'\n",
    "labels = spectral_clustering(b_symm, n_clusters=N_REGIONS,\n",
    "                                 =assign_labels,\n",
    "                                 random_state=1)"
   ]
  },
  {
   "cell_type": "code",
   "execution_count": 46,
   "metadata": {
    "collapsed": false
   },
   "outputs": [
    {
     "data": {
      "text/plain": [
       "array([ 1, 10,  2,  8,  4,  9,  0,  1,  9,  0,  0,  1,  8, 10,  8,  3,  8,\n",
       "        2,  0,  4,  8,  4,  2,  2,  9,  7,  0,  2,  1,  5,  2,  5,  8,  8,\n",
       "        3,  2,  8,  4,  2,  7, 10,  9,  2,  4,  6,  0,  7,  0,  2,  5,  3,\n",
       "        3,  9,  5,  7,  7,  0,  1,  2,  4,  6,  5,  3,  7,  9,  2, 10,  3,\n",
       "        1,  2,  1,  5,  2,  3,  7, 10,  3,  2,  0,  6,  9,  7,  5,  6,  9,\n",
       "        9,  4,  5,  4,  7,  2,  6,  3,  7,  5,  8,  0,  8,  1,  5], dtype=int32)"
      ]
     },
     "execution_count": 46,
     "metadata": {},
     "output_type": "execute_result"
    }
   ],
   "source": [
    "labels"
   ]
  },
  {
   "cell_type": "code",
   "execution_count": null,
   "metadata": {
    "collapsed": true
   },
   "outputs": [],
   "source": []
  }
 ],
 "metadata": {
  "kernelspec": {
   "display_name": "Python 2",
   "language": "python",
   "name": "python2"
  },
  "language_info": {
   "codemirror_mode": {
    "name": "ipython",
    "version": 2
   },
   "file_extension": ".py",
   "mimetype": "text/x-python",
   "name": "python",
   "nbconvert_exporter": "python",
   "pygments_lexer": "ipython2",
   "version": "2.7.10"
  }
 },
 "nbformat": 4,
 "nbformat_minor": 0
}
