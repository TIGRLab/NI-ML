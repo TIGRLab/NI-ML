{
 "cells": [
  {
   "cell_type": "markdown",
   "metadata": {},
   "source": [
    "# Pipeline to prepare exp setups with longitudinal data\n",
    "* **Input:** \n",
    "    1. Clinical data - csv / tables\n",
    "    2. Civet data - csv / tables\n",
    "\n",
    "\n",
    "* **Datasets**\n",
    "    1. ADNI1 (1.5T and 3T)\n",
    "    2. ADNI2\n",
    "    3. AIBL\n",
    "\n",
    "\n",
    "* **Steps**\n",
    "    1. Generate trajectory templates (ADNI1- MMSE 8 timepoints)\n",
    "    2. Assign trajectory labels to all remaining subjects in ADNI1 and ADNI2 and AIBL\n",
    "    3. Generate K-folds independently for each dataset - stratified by the class labels and baseline Dx\n",
    "    4. Import CIVET data + ROI atlas (AAL / Spect_Clust)\n",
    "    5. Run stats on ROIs w.r.t. Dx / Traj labels / dataset \n",
    "    6. Create tp-pairs with CIVET data --> [X1,X2], delta(tp), label\n",
    "    7. Save exp setup as numpy arrays subject_idx, [X1,X2], delta(tp), label, dx, kf  \n",
    "    \n",
    "    \n",
    "    \n",
    "  "
   ]
  },
  {
   "cell_type": "code",
   "execution_count": 2,
   "metadata": {
    "collapsed": false
   },
   "outputs": [
    {
     "name": "stderr",
     "output_type": "stream",
     "text": [
      "/data/chamal/projects/nikhil/code/python/conda/anaconda2/lib/python2.7/site-packages/matplotlib/font_manager.py:273: UserWarning: Matplotlib is building the font cache using fc-list. This may take a moment.\n",
      "  warnings.warn('Matplotlib is building the font cache using fc-list. This may take a moment.')\n"
     ]
    }
   ],
   "source": [
    "# Basic lib imports\n",
    "import numpy as np\n",
    "import pandas as pd \n",
    "import matplotlib.pyplot as plt\n",
    "import collections\n",
    "from scipy import stats\n",
    "import seaborn as sns\n",
    "import pickle\n",
    "from scipy.cluster.hierarchy import dendrogram, linkage\n",
    "%matplotlib inline"
   ]
  },
  {
   "cell_type": "code",
   "execution_count": 8,
   "metadata": {
    "collapsed": false
   },
   "outputs": [],
   "source": [
    "# Data imports\n",
    "#baseline_dir = '/projects/nikhil/ADNI_prediction/input_datasets/longitudinal_trajectories/'\n",
    "\n",
    "#ADNI files\n",
    "adni_dir = '/data/chamal/projects/nikhil/data/trajectory_prediction/adni2/'\n",
    "adnimerge_file = 'ADNIMERGE.csv' \n",
    "adni1_3T_registry_file = 'ADNI_CompleteVisitList_3T_8_28_12.csv'\n",
    "\n",
    "#AIBL files\n",
    "aibl_dir = '/data/chamal/projects/nikhil/data/trajectory_prediction/AIBL/Data_extract_3.2.5/'\n",
    "aibl_registry_file = 'aibl_registry_28-Apr-2015.csv'\n",
    "aibl_demo_file = 'aibl_ptdemog_28-Apr-2015.csv'\n",
    "aibl_dx_file = 'aibl_pdxconv_28-Apr-2015.csv'\n",
    "aibl_mmse_file = 'aibl_mmse_28-Apr-2015.csv'\n",
    "aibl_subject_tp_count_file = 'aibl_idx_sorted.txt'\n",
    "\n",
    "#QC files\n",
    "adni_QC_file = 'adni2-qcvols_nodups.csv'\n",
    "\n",
    "#Import CSVs with panda\n",
    "adnimerge_data = pd.read_csv(adni_dir + adnimerge_file)\n",
    "adni1_3T_registry_data = pd.read_csv(adni_dir + adni1_3T_registry_file)\n",
    "#rename and replace some data values to be consistent with ADNIMERGE\n",
    "adni1_3T_registry_data.replace(['Baseline','Month 6','Month 12','Month 18','Month 24','Month 36'],\n",
    "                               ['bl','m06','m12','m18','m24','m36'],inplace=True) \n",
    "adni1_3T_registry_data.rename(columns={'Screen.Diagnosis': 'DX_bl'},inplace=True)\n",
    "\n",
    "#aibl\n",
    "aibl_registry_data = pd.read_csv(aibl_dir + aibl_registry_file)\n",
    "aibl_demo_data = pd.read_csv(aibl_dir + aibl_demo_file)\n",
    "aibl_mmse_data = pd.read_csv(aibl_dir + aibl_mmse_file)\n",
    "aibl_dx_data = pd.read_csv(aibl_dir + aibl_dx_file)\n",
    "#add baseline_dx to the demogrpah table\n",
    "aibl_dx_bl_data = aibl_dx_data[aibl_dx_data['VISCODE'] =='bl'][['RID','DXCURREN']]\n",
    "aibl_dx_bl_data.rename(columns={'DXCURREN': 'DX_bl'},inplace=True)\n",
    "\n",
    "aibl_subject_tp_count_data = pd.read_csv(aibl_dir + aibl_subject_tp_count_file, delim_whitespace=True, header=None)\n",
    "\n",
    "adni_QC_data = pd.read_csv(adni_dir + adni_QC_file)\n"
   ]
  },
  {
   "cell_type": "code",
   "execution_count": 16,
   "metadata": {
    "collapsed": true
   },
   "outputs": [],
   "source": [
    "# Defs\n",
    "from collections import defaultdict\n",
    "from sklearn.cross_validation import KFold\n",
    "import scipy.cluster.hierarchy as sch\n",
    "from scipy.cluster.hierarchy import dendrogram, linkage\n",
    "from scipy.spatial import distance\n",
    "\n",
    "def create_longitudinal_CS_df(demo_data, dx_col, cs_data, cs_scale, col_list_feat, timepoints, keep_rows_with_DX, drop_rows_with_val,remove_NaNs):\n",
    "    sub_id = col_list_feat[0] #RID or PTID\n",
    "    tpx = len(timepoints)    \n",
    "    tp_df_dict = {}\n",
    "    for tp in timepoints:\n",
    "        tp_df_dict[tp] = cs_data[(cs_data.VISCODE == tp)][col_list_feat]\n",
    "    \n",
    "    #Rename Columns and Merge into 1 table     \n",
    "    tp_cols_dict = defaultdict(list)\n",
    "    for c, col in enumerate(col_list_feat):\n",
    "        if c==0:\n",
    "            for tp in timepoints:\n",
    "                tp_cols_dict[tp].append(sub_id)\n",
    "        else:\n",
    "            for tp in timepoints:\n",
    "                tp_cols_dict[tp].append(col+'_'+tp)            \n",
    "    \n",
    "    for tp in timepoints:       \n",
    "        tp_df_dict[tp].columns= tp_cols_dict[tp]\n",
    "    \n",
    "    ######################################\n",
    "    test_merge = demo_data\n",
    "    for tp in timepoints:\n",
    "        df = tp_df_dict[tp]\n",
    "        test_merge = pd.merge(test_merge, df, on=sub_id,how='outer')\n",
    "        print '# {}: {}'.format(tp, len(test_merge))            \n",
    "\n",
    "        test_merge = test_merge.drop(test_merge[cs_scale+'_'+tp]==drop_rows_with_val)    \n",
    "        print '# rows with val {} ({} rows removed): {}'.format(tp, drop_rows_with_val, len(test_merge))\n",
    "    \n",
    "    #test_merge = test_merge[test_merge[dx_col].isin(keep_rows_with_DX)]\n",
    "    test_merge = test_merge[test_merge[dx_col].isin(keep_rows_with_DX)] #only considering baseline Dx for exclusion criterion\n",
    "    print '# (DX: {}) kept): {}'.format(keep_rows_with_DX, len(test_merge))\n",
    "    \n",
    "    test_merge=test_merge.drop_duplicates(subset=sub_id, keep='first')\n",
    "    print '# (dups removed): {}'.format(len(test_merge))\n",
    "\n",
    "    if remove_NaNs:\n",
    "        test_merge.dropna(inplace=True)\n",
    "        print '# (NANs removed): {}'.format(len(test_merge))\n",
    "    else:\n",
    "        print 'Keeping rows with NaNs'\n",
    "    \n",
    "    return test_merge\n",
    "\n",
    "\n",
    "# Clustering K-fold assignment for train and test subjects\n",
    "# Also evaluates the stability based on K-fold assignments of subjects (train_label~test_label)\n",
    "# Train labels are assigned based on hierarchical clustering\n",
    "# Test labels are assigned based on subject similarity metric used (most likely correlation)\n",
    "# Only works with 2 clusters for now\n",
    "def KFold_clustering_stability(clust_df,subject_index_col_name,similarity_metric,linkage_metric,test_dist_metric,n_folds):\n",
    "    CS_cols = clust_df.columns\n",
    "    num_of_clusters = 2\n",
    "    number_of_tps = len(CS_cols)    \n",
    "    kf = KFold(len(clust_df), n_folds=n_folds)\n",
    "    df_traj_concat = pd.DataFrame(columns=[subject_index_col_name, 'KF','subset','trajectory_class'])\n",
    "    KF_traj_stats = {} #keep mean trajectories per class and class distribution per KF\n",
    "    KF_class_distribution = {}\n",
    "    traj1_mean_vectors = []\n",
    "    traj2_mean_vectors = []\n",
    "    \n",
    "    #KF loop for computing clusters\n",
    "    j=0\n",
    "    for i, (tr, te) in enumerate(kf):        \n",
    "        train_sub_idx = clust_df.index[tr]\n",
    "        test_sub_idx = clust_df.index[te]\n",
    "        train_df = clust_df.ix[train_sub_idx]\n",
    "        test_df = clust_df.ix[test_sub_idx]\n",
    "        \n",
    "        #compute clustering on train set\n",
    "        d = pd.DataFrame(data=np.transpose(train_df.values), index = CS_cols, columns=test_merge[subject_index_col_name].values[tr])        \n",
    "        corr = d.corr()\n",
    "        corr = corr.fillna(0) #NAN rise from subject with constant scores over all timepoints (for MMSE)\n",
    "\n",
    "        #save cluster memberships        \n",
    "        Z = linkage(d.transpose(),method=linkage_metric,metric=similarity_metric)\n",
    "        T = sch.fcluster(Z, num_of_clusters, 'maxclust')\n",
    "        \n",
    "        #Maintain Traj1 > Traj2 convention for KF stats. If not switch T labels 1<-->2 \n",
    "        if np.mean(train_df.values[T==1]) < np.mean(train_df.values[T==2]):\n",
    "            T = T/2\n",
    "            T[T==0] = 2\n",
    "        \n",
    "        # trajectory templates:\n",
    "        Traj_means = [np.mean(train_df.values[T==1],axis=0).flatten(), np.mean(train_df.values[T==2],axis=0).flatten()]      \n",
    "        traj1_mean_vectors.append(np.mean(train_df.values[T==1],axis=0).flatten())\n",
    "        traj2_mean_vectors.append(np.mean(train_df.values[T==2],axis=0).flatten())\n",
    "\n",
    "        tpx, subx = d.values.shape\n",
    "        df_traj = pd.DataFrame(data = np.hstack((np.array(train_sub_idx).reshape(subx,1),\n",
    "                                                 np.tile(i+1,(subx,1)),np.tile('train',(subx,1)),T.reshape(subx,1))), \n",
    "                               columns=[subject_index_col_name,'KF','subset','trajectory_class'])        \n",
    "        \n",
    "        df_traj_concat=df_traj_concat.append(df_traj,ignore_index=True)\n",
    "        \n",
    "        #Traj stats\n",
    "        for t in range(number_of_tps): \n",
    "            for traj, Traj_mean in enumerate(Traj_means):\n",
    "                KF_traj_stats[j] = {'Traj_mean':Traj_mean[t], 'Traj':traj+1, 'tp':t, 'KF':i+1}\n",
    "                j+=1\n",
    "                                 \n",
    "        KF_class_distribution[i+1] = {'train_T1_count':np.sum(T==1), 'train_T2_count':np.sum(T==2)}\n",
    "        \n",
    "        #Add test subjects \n",
    "        test_traj = []\n",
    "        for test_sub in test_sub_idx:\n",
    "            test_scores = test_df.ix[test_sub].values\n",
    "            \n",
    "            if test_dist_metric == 'correlation':\n",
    "                d1=stats.pearsonr(test_scores, Traj_means[0])[0]  \n",
    "                d2=stats.pearsonr(test_scores, Traj_means[1])[0]  \n",
    "                test_traj.append(1+np.argmax([d1,d2]))\n",
    "                \n",
    "            elif test_dist_metric == 'euclidean':\n",
    "                d1=np.sum((test_scores - Traj_means[0])**2) \n",
    "                d2=np.sum((test_scores - Traj_means[1])**2) \n",
    "                test_traj.append(1+np.argmin([d1,d2]))\n",
    "            else:\n",
    "                print 'unknown test distance metric'\n",
    "        \n",
    "        subx = len(test_df)\n",
    "        df_traj = pd.DataFrame(data = np.hstack((np.array(test_sub_idx).reshape(subx,1), np.tile(i+1,(subx,1)),\n",
    "                                                 np.tile('test',(subx,1)),np.array(test_traj).reshape(subx,1))), \n",
    "                                columns=[subject_index_col_name,'KF','subset','trajectory_class'])  \n",
    "        \n",
    "        df_traj_concat=df_traj_concat.append(df_traj,ignore_index=True)\n",
    "    \n",
    "    # Create df for plotting stability stats\n",
    "    traj_permute_stats = pd.DataFrame(columns=[subject_index_col_name,'train_T1_percent','train_T2_percent','train_test_check'])\n",
    "    for i, sub_id in enumerate(clust_df.index):            \n",
    "        traj_list = df_traj_concat[(df_traj_concat[subject_index_col_name] == str(sub_id)) & (df_traj_concat['subset']=='train')]['trajectory_class'].values        \n",
    "        t1_percent = int(100*np.sum(traj_list=='1')/float(len(traj_list)))\n",
    "        t2_percent = int(100*np.sum(traj_list=='2')/float(len(traj_list)))\n",
    "        test_traj = df_traj_concat[(df_traj_concat[subject_index_col_name] == str(sub_id)) & (df_traj_concat['subset']=='test')]['trajectory_class'].values\n",
    "        train_test_check = test_traj==str(1+np.argmax([t1_percent,t2_percent]))\n",
    "        traj_permute_stats.loc[i] = [sub_id,t1_percent,t2_percent,train_test_check[0]]\n",
    "        \n",
    "    #average templates over K folds\n",
    "    traj_templates = {'Traj1_template':np.mean(np.array(traj1_mean_vectors),axis=0),'Traj2_template':np.mean(np.array(traj2_mean_vectors),axis=0)}\n",
    "        \n",
    "    return df_traj_concat, KF_traj_stats, KF_class_distribution, traj_permute_stats, traj_templates\n",
    "\n",
    "#Get trajectory assignment for new subjects \n",
    "def getTrajClass(scores, traj_templates, tp_vector, similarity_metric):\n",
    "    # scores: list_scores; traj_templates: score_vectors representing all tp;\n",
    "    # tp_vector: selected tp_vector depending on datset (AIBL has different timepoints)\n",
    "    # similarity metric: corr / euclidean \n",
    "    traj = []\n",
    "    dist = []\n",
    "    if tp_vector != 'auto_select':\n",
    "        print 'using fixed tp vector of size: {}'.format(len(tp_vector))\n",
    "        traj_1 = traj_templates['Traj1_template'][tp_vector]\n",
    "        traj_2 = traj_templates['Traj2_template'][tp_vector]\n",
    "    else:\n",
    "        print 'selecting tp_vector based on available score tps'\n",
    "        \n",
    "    for score in scores:        \n",
    "        if tp_vector == 'auto_select':\n",
    "            avail_scores_idx = ~np.isnan(score)\n",
    "            score = score[avail_scores_idx]\n",
    "            traj_1 = traj_templates['Traj1_template'][avail_scores_idx]\n",
    "            traj_2 = traj_templates['Traj2_template'][avail_scores_idx]\n",
    "            \n",
    "        if similarity_metric == 'correlation':                \n",
    "            d1=stats.pearsonr(score, traj_1)[0]  \n",
    "            d2=stats.pearsonr(score, traj_2)[0]  \n",
    "            traj.append(1+np.argmax([d1,d2]))                \n",
    "\n",
    "        elif similarity_metric == 'euclidean':\n",
    "            d1=np.sum((score - traj_1)**2) \n",
    "            d2=np.sum((score - traj_2)**2) \n",
    "            traj.append(1+np.argmin([d1,d2]))\n",
    "        else:\n",
    "            print 'unknown test distance metric'\n",
    "\n",
    "        dist.append(np.abs(d1-d2))\n",
    "        \n",
    "    \n",
    "    return traj, dist"
   ]
  },
  {
   "cell_type": "code",
   "execution_count": 5,
   "metadata": {
    "collapsed": false,
    "scrolled": false
   },
   "outputs": [
    {
     "name": "stderr",
     "output_type": "stream",
     "text": [
      "/data/chamal/projects/nikhil/code/python/conda/anaconda2/lib/python2.7/site-packages/ipykernel/__main__.py:12: SettingWithCopyWarning: \n",
      "A value is trying to be set on a copy of a slice from a DataFrame.\n",
      "Try using .loc[row_indexer,col_indexer] = value instead\n",
      "\n",
      "See the caveats in the documentation: http://pandas.pydata.org/pandas-docs/stable/indexing.html#indexing-view-versus-copy\n",
      "/data/chamal/projects/nikhil/code/python/conda/anaconda2/lib/python2.7/site-packages/ipykernel/__main__.py:13: SettingWithCopyWarning: \n",
      "A value is trying to be set on a copy of a slice from a DataFrame.\n",
      "Try using .loc[row_indexer,col_indexer] = value instead\n",
      "\n",
      "See the caveats in the documentation: http://pandas.pydata.org/pandas-docs/stable/indexing.html#indexing-view-versus-copy\n",
      "/data/chamal/projects/nikhil/code/python/conda/anaconda2/lib/python2.7/site-packages/ipykernel/__main__.py:14: SettingWithCopyWarning: \n",
      "A value is trying to be set on a copy of a slice from a DataFrame.\n",
      "Try using .loc[row_indexer,col_indexer] = value instead\n",
      "\n",
      "See the caveats in the documentation: http://pandas.pydata.org/pandas-docs/stable/indexing.html#indexing-view-versus-copy\n"
     ]
    },
    {
     "name": "stdout",
     "output_type": "stream",
     "text": [
      "# bl: 819\n",
      "# rows with val bl (-1 rows removed): 818\n",
      "# m06: 819\n",
      "# rows with val m06 (-1 rows removed): 818\n",
      "# m12: 819\n",
      "# rows with val m12 (-1 rows removed): 818\n",
      "# m18: 819\n",
      "# rows with val m18 (-1 rows removed): 818\n",
      "# m24: 819\n",
      "# rows with val m24 (-1 rows removed): 818\n",
      "# m36: 819\n",
      "# rows with val m36 (-1 rows removed): 818\n",
      "# m48: 818\n",
      "# rows with val m48 (-1 rows removed): 817\n",
      "# m60: 818\n",
      "# rows with val m60 (-1 rows removed): 817\n",
      "# m72: 817\n",
      "# rows with val m72 (-1 rows removed): 816\n",
      "# (DX: ['SMC', 'EMCI', 'LMCI']) kept): 396\n",
      "# (dups removed): 396\n",
      "# (NANs removed): 75\n"
     ]
    }
   ],
   "source": [
    "################ Run pipeline here ################\n",
    "\n",
    "# 1. Generate longitudinal dataframes\n",
    "cohort = 'ADNI1'\n",
    "dx_col = 'DX_bl'\n",
    "timepoints = ['bl','m06','m12','m18','m24','m36','m48','m60','m72']\n",
    "demo_cols = ['PTID','ORIGPROT','AGE','PTGENDER','APOE4','DX_bl','FLDSTRENG']\n",
    "cs_scale = 'MMSE'    \n",
    "\n",
    "adnimerge_custom_data = adnimerge_data[demo_cols + ['VISCODE','DX',cs_scale]]\n",
    "#add a column with numerical DX mapping\n",
    "adnimerge_custom_data['DX_cat'] = adnimerge_custom_data['DX'].replace(['MCI to NL', 'NL'], 0)\n",
    "adnimerge_custom_data['DX_cat'] = adnimerge_custom_data['DX_cat'].replace(['NL to MCI', 'MCI', 'Dementia to MCI'], 1)\n",
    "adnimerge_custom_data['DX_cat'] = adnimerge_custom_data['DX_cat'].replace(['NL to Dementia','MCI to Dementia', 'Dementia'], 2)\n",
    "adnimerge_custom_data['DX_cat'].values.astype(float)   \n",
    "                                       \n",
    "adni_demo_data = adnimerge_custom_data[(adnimerge_custom_data.ORIGPROT == cohort) & (adnimerge_custom_data.VISCODE == 'bl')][demo_cols]\n",
    "adni_cs_data = adnimerge_custom_data[(adnimerge_custom_data.ORIGPROT == cohort)][['PTID','VISCODE',cs_scale]]    \n",
    "                                       \n",
    "col_list_feat = ['PTID', cs_scale]\n",
    "keep_rows_with_DX = ['SMC','EMCI','LMCI']\n",
    "drop_rows_with_val = -1\n",
    "\n",
    "remove_NaNs = True\n",
    "test_merge = create_longitudinal_CS_df(adni_demo_data, dx_col, adni_cs_data, cs_scale, col_list_feat, timepoints, keep_rows_with_DX, drop_rows_with_val,remove_NaNs)"
   ]
  },
  {
   "cell_type": "code",
   "execution_count": 6,
   "metadata": {
    "collapsed": false
   },
   "outputs": [
    {
     "name": "stdout",
     "output_type": "stream",
     "text": [
      "train_test_check % = 0.96\n",
      "T1 counts: [33 36 34 32 35 33 32 35 32 33], T2: counts: [34 31 33 35 32 35 36 33 36 35]\n",
      "{'Traj2_template': array([ 26.75060581,  25.64849269,  25.47927421,  24.96425316,\n",
      "        24.24951948,  22.99254271,  21.93984194,  20.48110915,  18.13432909]), 'Traj1_template': array([ 28.40940248,  28.58871562,  29.03132379,  28.93514144,\n",
      "        28.98897711,  28.75974843,  28.67381334,  28.30043465,  27.6217124 ])}\n"
     ]
    },
    {
     "data": {
      "text/plain": [
       "<seaborn.axisgrid.FacetGrid at 0x7ffae29d5610>"
      ]
     },
     "execution_count": 6,
     "metadata": {},
     "output_type": "execute_result"
    },
    {
     "data": {
      "image/png": "[encoded data removed]",
      "text/plain": [
       "<matplotlib.figure.Figure at 0x7ffae6c8ee50>"
      ]
     },
     "metadata": {},
     "output_type": "display_data"
    },
    {
     "data": {
      "image/png": "[encoded data removed]",
      "text/plain": [
       "<matplotlib.figure.Figure at 0x7ffae29ccd10>"
      ]
     },
     "metadata": {},
     "output_type": "display_data"
    }
   ],
   "source": [
    "# Cluster Stability \n",
    "CS_cols = []\n",
    "for tp in timepoints:\n",
    "    CS_cols.append(cs_scale+'_'+tp)\n",
    "    \n",
    "clust_df = test_merge[CS_cols]\n",
    "subject_index_col_name = 'PTID'\n",
    "similarity_metric = 'euclidean' #'euclidean' #correlation\n",
    "test_dist_metric = similarity_metric\n",
    "linkage_metric = 'ward'\n",
    "\n",
    "subx = len(clust_df.index)\n",
    "n_folds = 10\n",
    "kf_traj_df, KF_traj_stats, KF_class_distribution, traj_permute_stats, traj_templates = KFold_clustering_stability(clust_df,subject_index_col_name,similarity_metric,\n",
    "                                                                                                  linkage_metric,test_dist_metric,n_folds)\n",
    "\n",
    "train_test_check_vals = traj_permute_stats['train_test_check'].values\n",
    "\n",
    "# Plot distribution of Traj_1 distribution  \n",
    "plt.rcParams['figure.figsize'] = (20, 5)\n",
    "fig = plt.figure()\n",
    "ax1 = fig.add_subplot(121)\n",
    "ax2 = fig.add_subplot(122)\n",
    "\n",
    "sns.set(font_scale=2) \n",
    "sns.countplot(x = 'train_T1_percent', data=traj_permute_stats, ax=ax1)\n",
    "g = sns.countplot(x = 'train_test_check', data=traj_permute_stats, ax=ax2)\n",
    "\n",
    "print 'train_test_check % = {}'.format(np.sum(train_test_check_vals)/float(len(train_test_check_vals)))\n",
    "\n",
    "#Plot Trajectories over KF\n",
    "KF_class_dist_df = pd.DataFrame.from_dict(KF_class_distribution,orient='index')\n",
    "print 'T1 counts: {}, T2: counts: {}'.format(KF_class_dist_df['train_T1_count'].values,KF_class_dist_df['train_T2_count'].values)\n",
    "\n",
    "print traj_templates\n",
    "\n",
    "KF_traj_stats_df = pd.DataFrame.from_dict(KF_traj_stats,orient='index')\n",
    "sns.factorplot(y='Traj_mean', x='tp', hue='KF', kind='point', col='Traj' ,palette='Set2',data=KF_traj_stats_df,size=6)\n",
    "#sns.factorplot(y='Traj_mean', x='tp', hue='Traj', kind='box',palette='Set2',data=KF_traj_stats_df,size=8)"
   ]
  },
  {
   "cell_type": "code",
   "execution_count": 41,
   "metadata": {
    "collapsed": false
   },
   "outputs": [
    {
     "name": "stdout",
     "output_type": "stream",
     "text": [
      "number of timepoints: 11\n",
      "# bl: 1737\n",
      "# rows with val bl (-1 rows removed): 1736\n",
      "# m06: 1737\n",
      "# rows with val m06 (-1 rows removed): 1736\n",
      "# m12: 1737\n",
      "# rows with val m12 (-1 rows removed): 1736\n",
      "# m18: 1737\n",
      "# rows with val m18 (-1 rows removed): 1736\n",
      "# m24: 1737\n",
      "# rows with val m24 (-1 rows removed): 1736\n",
      "# m36: 1737\n",
      "# rows with val m36 (-1 rows removed): 1736\n",
      "# m48: 1736\n",
      "# rows with val m48 (-1 rows removed): 1735\n",
      "# m60: 1736\n",
      "# rows with val m60 (-1 rows removed): 1735\n",
      "# m72: 1735\n",
      "# rows with val m72 (-1 rows removed): 1734\n",
      "# (DX: ['SMC', 'EMCI', 'LMCI']) kept): 976\n",
      "# (dups removed): 976\n",
      "Keeping rows with NaNs\n",
      "# of subs: 976\n",
      "# of subs with at least 4 timepoints: 924\n",
      "selecting tp_vector based on available score tps\n"
     ]
    },
    {
     "name": "stderr",
     "output_type": "stream",
     "text": [
      "/data/chamal/projects/nikhil/code/python/conda/anaconda2/lib/python2.7/site-packages/ipykernel/__main__.py:38: SettingWithCopyWarning: \n",
      "A value is trying to be set on a copy of a slice from a DataFrame.\n",
      "Try using .loc[row_indexer,col_indexer] = value instead\n",
      "\n",
      "See the caveats in the documentation: http://pandas.pydata.org/pandas-docs/stable/indexing.html#indexing-view-versus-copy\n"
     ]
    }
   ],
   "source": [
    "# 2. Assign trajectory labels to all remaining subjects in ADNI1 and ADNI2 and AIBL\n",
    "# Template timepoints = ['bl','m06','m12','m18','m24','m36','m48','m60','m72']\n",
    "\n",
    "#ADNI1and2 subjects (no ADNI 3T here)\n",
    "#Need to remove ADNI1 subjects that were used to define trajectories\n",
    "\n",
    "adni_tp = timepoints #['bl','m12','m18','m24','m36']\n",
    "adni_tp_vector = 'auto_select' #np.arange(len(timepoints))#[0,1,2,3,4]\n",
    "\n",
    "print 'number of timepoints: {}'.format(len(adni_tp_vector))\n",
    "dx_col = 'DX_bl'\n",
    "col_list_feat = ['PTID', cs_scale]\n",
    "demo_cols = ['PTID','ORIGPROT','AGE','PTGENDER','APOE4','DX_bl','FLDSTRENG']\n",
    "keep_rows_with_DX = ['SMC','EMCI','LMCI']\n",
    "drop_rows_with_val = -1\n",
    "remove_NaNs = False  #keeping all subjects and later filtering them based on how many CS_tps they have (need at least 4)\n",
    "\n",
    "cohorts = ['ADNI1','ADNI2','ADNIGO']\n",
    "adni_demo_data = adnimerge_custom_data[(adnimerge_custom_data.ORIGPROT.isin(cohorts))&(adnimerge_custom_data.VISCODE == 'bl')][demo_cols]\n",
    "adni_cs_data = adnimerge_custom_data[(adnimerge_custom_data.ORIGPROT.isin(cohorts))][['PTID','VISCODE',cs_scale]] \n",
    "\n",
    "test_merge = create_longitudinal_CS_df(adni_demo_data, dx_col, adni_cs_data, cs_scale, col_list_feat, adni_tp, keep_rows_with_DX, drop_rows_with_val,remove_NaNs)\n",
    "\n",
    "CS_cols = []\n",
    "for tp in adni_tp:\n",
    "    CS_cols.append(cs_scale+'_'+tp)\n",
    "    \n",
    "adni_df = test_merge[demo_cols+CS_cols]\n",
    "print '# of subs: {}'.format(len(adni_df))\n",
    "adni_df['nan_rows'] = adni_df.isnull().sum(axis=1).values\n",
    "\n",
    "min_cs_tps = 4\n",
    "adni_df_4cstp = adni_df[adni_df['nan_rows']<=len(adni_tp_vector)-min_cs_tps]\n",
    "print '# of subs with at least {} timepoints: {}'.format(min_cs_tps,len(adni_df_4cstp))\n",
    "\n",
    "adni_traj_classes, adni_traj_dist = getTrajClass(list(adni_df_4cstp[CS_cols].values), traj_templates, adni_tp_vector, similarity_metric)\n",
    "\n",
    "adni_df_4cstp['traj'] = adni_traj_classes\n",
    "\n",
    "\n"
   ]
  },
  {
   "cell_type": "code",
   "execution_count": 48,
   "metadata": {
    "collapsed": false
   },
   "outputs": [
    {
     "name": "stdout",
     "output_type": "stream",
     "text": [
      "# bl: 861\n",
      "# rows with val bl (-4 rows removed): 860\n",
      "# m18: 860\n",
      "# rows with val m18 (-4 rows removed): 858\n",
      "# m36: 860\n",
      "# rows with val m36 (-4 rows removed): 858\n",
      "# m54: 859\n",
      "# rows with val m54 (-4 rows removed): 858\n",
      "# (DX: [1, 2]) kept): 747\n",
      "# (dups removed): 747\n",
      "Keeping rows with NaNs\n",
      "# of subs: 747\n",
      "# of subs with at least 3 timepoints: 132\n",
      "using fixed tp vector of size: 4\n"
     ]
    },
    {
     "name": "stderr",
     "output_type": "stream",
     "text": [
      "/data/chamal/projects/nikhil/code/python/conda/anaconda2/lib/python2.7/site-packages/ipykernel/__main__.py:25: SettingWithCopyWarning: \n",
      "A value is trying to be set on a copy of a slice from a DataFrame.\n",
      "Try using .loc[row_indexer,col_indexer] = value instead\n",
      "\n",
      "See the caveats in the documentation: http://pandas.pydata.org/pandas-docs/stable/indexing.html#indexing-view-versus-copy\n",
      "/data/chamal/projects/nikhil/code/python/conda/anaconda2/lib/python2.7/site-packages/ipykernel/__main__.py:32: SettingWithCopyWarning: \n",
      "A value is trying to be set on a copy of a slice from a DataFrame.\n",
      "Try using .loc[row_indexer,col_indexer] = value instead\n",
      "\n",
      "See the caveats in the documentation: http://pandas.pydata.org/pandas-docs/stable/indexing.html#indexing-view-versus-copy\n"
     ]
    }
   ],
   "source": [
    "# Create AIBL long data\n",
    "#['bl','m06','m12','m18','m24','m36','m48','m60','m72']\n",
    "dx_col = 'DX_bl'\n",
    "cs_scale = 'MMSE'\n",
    "demo_cols = ['RID','PTGENDER','DX_bl','PTDOB']\n",
    "col_list_feat = ['RID', cs_scale]\n",
    "keep_rows_with_DX = [1,2]\n",
    "aibl_tp = ['bl','m18','m36','m54']\n",
    "aibl_tp_vector = [0,3,5,6]\n",
    "drop_rows_with_val = -4\n",
    "remove_NaNs = False  #keeping all subjects and later filtering them based on how many CS_tps they have (need at least 4)\n",
    "\n",
    "#aibl_demo_data = pd.merge(aibl_demo_data,aibl_dx_bl_data,on='RID',how='inner')\n",
    "aibl_demo_data.rename(columns={'DX_bl_x': 'DX_bl'},inplace=True)\n",
    "aibl_cs_data = aibl_mmse_data.rename(columns={'MMSCORE': 'MMSE'})\n",
    "\n",
    "test_merge = create_longitudinal_CS_df(aibl_demo_data, dx_col, aibl_cs_data, cs_scale, col_list_feat, aibl_tp, keep_rows_with_DX,drop_rows_with_val,remove_NaNs)\n",
    "\n",
    "CS_cols = []\n",
    "for tp in aibl_tp:\n",
    "    CS_cols.append(cs_scale+'_'+tp)\n",
    "\n",
    "aibl_df = test_merge[demo_cols+CS_cols]\n",
    "print '# of subs: {}'.format(len(aibl_df))\n",
    "aibl_df['nan_rows'] = aibl_df.isnull().sum(axis=1).values\n",
    "\n",
    "aibl_df_3cstp = aibl_df[aibl_df['nan_rows']<=0]\n",
    "print '# of subs with at least {} timepoints: {}'.format(3,len(aibl_df_3cstp))\n",
    "\n",
    "aibl_traj_classes, albl_traj_dist = getTrajClass(list(aibl_df_3cstp[CS_cols].values), traj_templates, aibl_tp_vector, similarity_metric)\n",
    "\n",
    "aibl_df_3cstp['traj'] = aibl_traj_classes"
   ]
  },
  {
   "cell_type": "code",
   "execution_count": 38,
   "metadata": {
    "collapsed": false
   },
   "outputs": [
    {
     "data": {
      "image/png": "[encoded data removed]",
      "text/plain": [
       "<matplotlib.figure.Figure at 0x7ffae6ab6610>"
      ]
     },
     "metadata": {},
     "output_type": "display_data"
    }
   ],
   "source": [
    "g = sns.countplot(x='DX_bl', hue='traj',data=aibl_df_3cstp)\n",
    "#g = sns.factorplot(y='AGE', x='DX_bl', hue='traj', col='ORIGPROT', kind='box', data=adni_df_4cstp, size=10)"
   ]
  },
  {
   "cell_type": "code",
   "execution_count": 45,
   "metadata": {
    "collapsed": false
   },
   "outputs": [
    {
     "name": "stdout",
     "output_type": "stream",
     "text": [
      "Traj1, adni,aibl,total: 179,554,733\n",
      "Traj2, adni,aibl,total: 12,370,382\n"
     ]
    }
   ],
   "source": [
    "print 'Traj1, adni,aibl,total: {},{},{}'.format(np.sum(aibl_df_3cstp.traj==1), np.sum(adni_df_4cstp.traj==1),\n",
    "                                                np.sum(aibl_df_3cstp.traj==1)+np.sum(adni_df_4cstp.traj==1)) \n",
    "print 'Traj2, adni,aibl,total: {},{},{}'.format(np.sum(aibl_df_3cstp.traj==2), np.sum(adni_df_4cstp.traj==2),\n",
    "                                                np.sum(aibl_df_3cstp.traj==2)+np.sum(adni_df_4cstp.traj==2)) \n",
    "                                                \n"
   ]
  },
  {
   "cell_type": "code",
   "execution_count": 47,
   "metadata": {
    "collapsed": false
   },
   "outputs": [
    {
     "data": {
      "text/plain": [
       "0.34260089686098655"
      ]
     },
     "execution_count": 47,
     "metadata": {},
     "output_type": "execute_result"
    }
   ],
   "source": [
    "382.0/(382+733)"
   ]
  },
  {
   "cell_type": "code",
   "execution_count": null,
   "metadata": {
    "collapsed": true
   },
   "outputs": [],
   "source": []
  }
 ],
 "metadata": {
  "kernelspec": {
   "display_name": "Python 2",
   "language": "python",
   "name": "python2"
  },
  "language_info": {
   "codemirror_mode": {
    "name": "ipython",
    "version": 2
   },
   "file_extension": ".py",
   "mimetype": "text/x-python",
   "name": "python",
   "nbconvert_exporter": "python",
   "pygments_lexer": "ipython2",
   "version": "2.7.12"
  }
 },
 "nbformat": 4,
 "nbformat_minor": 0
}
