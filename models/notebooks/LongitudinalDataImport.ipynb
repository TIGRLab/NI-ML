{
 "cells": [
  {
   "cell_type": "code",
   "execution_count": 1,
   "metadata": {
    "collapsed": true
   },
   "outputs": [],
   "source": [
    "# Basic Imports\n",
    "import numpy as np\n",
    "import h5py as h5\n",
    "import matplotlib.pyplot as plt\n",
    "import pandas as pd\n",
    "from scipy import stats\n",
    "import pickle\n",
    "import re\n",
    "import collections\n",
    "import tables as tb"
   ]
  },
  {
   "cell_type": "code",
   "execution_count": 2,
   "metadata": {
    "collapsed": true
   },
   "outputs": [],
   "source": [
    "#Paths\n",
    "#in_file = '/projects/nikhil/ADNI_prediction/input_datasets/ADNI_Merge_filter.csv' #Original File\n",
    "\n",
    "in_file = '/projects/nikhil/ADNI_prediction/input_datasets/ADNI_Merge_filter_Longitudinal.csv' #Selected Columns\n",
    "in_data = pd.read_csv(in_file,header=0)"
   ]
  },
  {
   "cell_type": "code",
   "execution_count": null,
   "metadata": {
    "collapsed": true
   },
   "outputs": [],
   "source": [
    "#Some Defs\n",
    "def save_dictionary(_dict,save_path):\n",
    "    f = open(save_path, 'wb')\n",
    "    pickle.dump(_dict, f)\n",
    "    f.close()\n",
    "    "
   ]
  },
  {
   "cell_type": "code",
   "execution_count": 6,
   "metadata": {
    "collapsed": false
   },
   "outputs": [],
   "source": [
    "#Extract various cohorts\n",
    "\n",
    "#col_list = ['PTID','DX_bl','ADAS13']\n",
    "col_list = ['PTID']\n",
    "cohort = 'ADNI2'\n",
    "data_bl  = in_data[(in_data.ORIGPROT == cohort) & (in_data.COLPROT==cohort) & (in_data.VISCODE == 'bl')][col_list]\n",
    "data_m06 = in_data[(in_data.ORIGPROT == cohort) & (in_data.COLPROT==cohort) & (in_data.VISCODE == 'm06')][col_list]\n",
    "data_m12 = in_data[(in_data.ORIGPROT == cohort) & (in_data.COLPROT==cohort) & (in_data.VISCODE == 'm12')][col_list]\n",
    "data_m18 = in_data[(in_data.ORIGPROT == cohort) & (in_data.COLPROT==cohort) & (in_data.VISCODE == 'm18')][col_list]\n",
    "data_m24 = in_data[(in_data.ORIGPROT == cohort) & (in_data.COLPROT==cohort) & (in_data.VISCODE == 'm24')][col_list]\n",
    "data_m30 = in_data[(in_data.ORIGPROT == cohort) & (in_data.COLPROT==cohort) & (in_data.VISCODE == 'm30')][col_list]\n",
    "data_m36 = in_data[(in_data.ORIGPROT == cohort) & (in_data.COLPROT==cohort) & (in_data.VISCODE == 'm36')][col_list]"
   ]
  },
  {
   "cell_type": "code",
   "execution_count": null,
   "metadata": {
    "collapsed": true
   },
   "outputs": [],
   "source": [
    "#Save data subsets\n",
    "save_ADNI2_dict_path = '/projects/nikhil/ADNI_prediction/input_datasets/ADNI2_subjects_bl_PTIDs_dict.pkl'\n",
    "save_dictionary(data_bl,save_ADNI2_dict_path)"
   ]
  },
  {
   "cell_type": "code",
   "execution_count": 3,
   "metadata": {
    "collapsed": false
   },
   "outputs": [],
   "source": [
    "#Rename Columns\n",
    "data_bl.columns=['PTID','DX_bl','bl_score']\n",
    "data_m06.columns=['PTID','DX_bl','m06_score']\n",
    "data_m12.columns=['PTID','DX_bl','m12_score']\n",
    "data_m18.columns=['PTID','DX_bl','m18_score']\n",
    "data_m24.columns=['PTID','DX_bl','m24_score']\n",
    "data_m30.columns=['PTID','DX_bl','m30_score']\n",
    "data_m36.columns=['PTID','DX_bl','m36_score']"
   ]
  },
  {
   "cell_type": "code",
   "execution_count": 4,
   "metadata": {
    "collapsed": false
   },
   "outputs": [],
   "source": [
    "#Compute Joins / Unions / Intersections\n",
    "test_merge = pd.merge(data_bl, data_m06, on='PTID',how='inner')\n",
    "test_merge = pd.merge(test_merge, data_m12, on='PTID',how='inner')\n",
    "test_merge = pd.merge(test_merge, data_m18, on='PTID',how='inner')\n",
    "test_merge = pd.merge(test_merge, data_m24, on='PTID',how='inner')\n",
    "test_merge['m06_diff'] = test_merge['m06_score'] - test_merge['bl_score']\n",
    "test_merge['m12_diff'] = test_merge['m12_score'] - test_merge['bl_score']\n",
    "test_merge['m18_diff'] = test_merge['m18_score'] - test_merge['bl_score']\n",
    "test_merge['m24_diff'] = test_merge['m24_score'] - test_merge['bl_score']\n"
   ]
  },
  {
   "cell_type": "code",
   "execution_count": 5,
   "metadata": {
    "collapsed": false
   },
   "outputs": [],
   "source": [
    "#Plot configs\n",
    "%matplotlib inline\n",
    "plt.rcParams['figure.figsize'] = (15, 10)\n",
    "plt.style.use('ggplot')"
   ]
  },
  {
   "cell_type": "code",
   "execution_count": 42,
   "metadata": {
    "collapsed": false
   },
   "outputs": [
    {
     "data": {
      "text/plain": [
       "<matplotlib.text.Text at 0x7f1a73aea050>"
      ]
     },
     "execution_count": 42,
     "metadata": {},
     "output_type": "execute_result"
    }
   ],
   "source": [
    "#Plots\n",
    "plot_datasets = ['bl_score','m06_score','m12_score','m18_score','m24_score','m06_diff','m12_diff','m18_diff','m24_diff']\n",
    "n_timepts = 5\n",
    "delta_timepts = n_timepts-1 \n",
    "y_mean = []\n",
    "y_err = []\n",
    "dx='All'\n",
    "for plt_ds in plot_datasets:    \n",
    "    if dx == 'All':\n",
    "        y = np.array(test_merge[plt_ds])\n",
    "    else:\n",
    "        y = np.array(test_merge[test_merge.DX_bl==dx][plt_ds])\n",
    "    \n",
    "    y_mean.append(np.mean(y))\n",
    "    y_err.append( v(y))\n",
    "    \n",
    "#Plot the stats\n",
    "font_small = 8\n",
    "font_med = 16\n",
    "font_large = 24\n",
    "\n",
    "plt.subplot(1,2,1)\n",
    "x = np.arange(n_timepts)\n",
    "y_mean_trunc = y_mean[:n_timepts]\n",
    "y_err_trunc = y_err[:n_timepts]\n",
    "plt.errorbar(x,y_mean_trunc, yerr=y_err_trunc, linewidth=2, label='bl_dx: {}'.format(dx))\n",
    "plt.xlim([-1,5])\n",
    "plt.xticks(x,plot_datasets[:n_timepts],fontsize=font_med)\n",
    "plt.xlabel('Timepoint',fontsize=font_med)\n",
    "plt.ylabel('ADAS13 Score',fontsize=font_med)            \n",
    "plt.legend(fontsize=font_med,loc=2)\n",
    "plt.title('Longitudinal ADAS_score',fontsize=font_med)\n",
    "\n",
    "plt.subplot(1,2,2)\n",
    "x = np.arange(1,delta_timepts+1,1)\n",
    "y_mean_trunc = y_mean[n_timepts:]\n",
    "y_err_trunc = y_err[n_timepts:]\n",
    "plt.errorbar(x,y_mean_trunc, yerr=y_err_trunc, linewidth=2, label='bl_dx: {}'.format(dx))\n",
    "plt.xlim([-1,5])\n",
    "plt.xticks(x,plot_datasets[n_timepts:],fontsize=font_med)\n",
    "plt.xlabel('Timepoint',fontsize=font_med)\n",
    "plt.ylabel('ADAS13 Score',fontsize=font_med)            \n",
    "plt.legend(fontsize=font_med,loc=2)\n",
    "plt.title('Longitudinal Change in ADAS_score',fontsize=font_med)\n"
   ]
  },
  {
   "cell_type": "code",
   "execution_count": null,
   "metadata": {
    "collapsed": false
   },
   "outputs": [],
   "source": [
    "\n",
    "plt.hist(test_merge['m06_diff'],bins=50,alpha=0.5,label='06')\n",
    "plt.hist(test_merge['m12_diff'],bins=50,alpha=0.5,label='12')\n",
    "#plt.hist(test_merge['m18_diff'],bins=50,alpha=0.5,label='18')\n",
    "plt.hist(test_merge['m24_diff'],bins=50,alpha=0.5,label='24')\n",
    "plt.legend()\n",
    "plt.show()"
   ]
  },
  {
   "cell_type": "code",
   "execution_count": null,
   "metadata": {
    "collapsed": false
   },
   "outputs": [],
   "source": [
    "\n",
    "    \n"
   ]
  },
  {
   "cell_type": "code",
   "execution_count": null,
   "metadata": {
    "collapsed": false
   },
   "outputs": [],
   "source": []
  },
  {
   "cell_type": "code",
   "execution_count": null,
   "metadata": {
    "collapsed": true
   },
   "outputs": [],
   "source": []
  }
 ],
 "metadata": {
  "kernelspec": {
   "display_name": "Python 2",
   "language": "python",
   "name": "python2"
  },
  "language_info": {
   "codemirror_mode": {
    "name": "ipython",
    "version": 2
   },
   "file_extension": ".py",
   "mimetype": "text/x-python",
   "name": "python",
   "nbconvert_exporter": "python",
   "pygments_lexer": "ipython2",
   "version": "2.7.10"
  }
 },
 "nbformat": 4,
 "nbformat_minor": 0
}
