{
 "cells": [
  {
   "cell_type": "code",
   "execution_count": 1,
   "metadata": {
    "collapsed": true
   },
   "outputs": [],
   "source": [
    "# Basic Imports\n",
    "import numpy as np\n",
    "import h5py as h5\n",
    "import matplotlib.pyplot as plt\n",
    "import pandas as pd\n",
    "from scipy import stats\n",
    "import pickle\n",
    "import re\n",
    "import collections\n",
    "import tables as tb\n",
    "import csv"
   ]
  },
  {
   "cell_type": "code",
   "execution_count": 16,
   "metadata": {
    "collapsed": false,
    "scrolled": true
   },
   "outputs": [
    {
     "data": {
      "text/plain": [
       "Index([u'RID', u'PTID', u'VISCODE', u'SITE', u'COLPROT', u'ORIGPROT',\n",
       "       u'EXAMDATE', u'DX_bl', u'AGE', u'PTGENDER', u'PTEDUCAT', u'PTETHCAT',\n",
       "       u'PTRACCAT', u'PTMARRY', u'APOE4', u'FDG', u'PIB', u'AV45', u'CDRSB',\n",
       "       u'ADAS11', u'ADAS13', u'MMSE', u'RAVLT_immediate', u'RAVLT_learning',\n",
       "       u'RAVLT_forgetting', u'RAVLT_perc_forgetting', u'FAQ', u'MOCA',\n",
       "       u'EcogPtMem', u'EcogPtLang', u'EcogPtVisspat', u'EcogPtPlan',\n",
       "       u'EcogPtOrgan', u'EcogPtDivatt', u'EcogPtTotal', u'EcogSPMem',\n",
       "       u'EcogSPLang', u'EcogSPVisspat', u'EcogSPPlan', u'EcogSPOrgan',\n",
       "       u'EcogSPDivatt', u'EcogSPTotal', u'Ventricles', u'Hippocampus',\n",
       "       u'WholeBrain', u'Entorhinal', u'Fusiform', u'MidTemp', u'ICV', u'DX',\n",
       "       u'EXAMDATE_bl', u'CDRSB_bl', u'ADAS11_bl', u'ADAS13_bl', u'MMSE_bl',\n",
       "       u'RAVLT_immediate_bl', u'RAVLT_learning_bl', u'RAVLT_forgetting_bl',\n",
       "       u'RAVLT_perc_forgetting_bl', u'FAQ_bl', u'Ventricles_bl',\n",
       "       u'Hippocampus_bl', u'WholeBrain_bl', u'Entorhinal_bl', u'Fusiform_bl',\n",
       "       u'MidTemp_bl', u'ICV_bl', u'MOCA_bl', u'EcogPtMem_bl', u'EcogPtLang_bl',\n",
       "       u'EcogPtVisspat_bl', u'EcogPtPlan_bl', u'EcogPtOrgan_bl',\n",
       "       u'EcogPtDivatt_bl', u'EcogPtTotal_bl', u'EcogSPMem_bl',\n",
       "       u'EcogSPLang_bl', u'EcogSPVisspat_bl', u'EcogSPPlan_bl',\n",
       "       u'EcogSPOrgan_bl', u'EcogSPDivatt_bl', u'EcogSPTotal_bl', u'FDG_bl',\n",
       "       u'PIB_bl', u'AV45_bl', u'Years_bl', u'Month_bl', u'Month', u'M',\n",
       "       u'update_stamp'],\n",
       "      dtype='object')"
      ]
     },
     "execution_count": 16,
     "metadata": {},
     "output_type": "execute_result"
    }
   ],
   "source": [
    "#Paths\n",
    "in_file = '/projects/nikhil/ADNI_prediction/input_datasets/CS/ADNIMERGE.csv' #Original File\n",
    "\n",
    "#in_file = '/projects/nikhil/ADNI_prediction/input_datasets/ADNI_Merge_filter_Longitudinal.csv' #Selected Columns\n",
    "in_data = pd.read_csv(in_file,header=0)\n",
    "in_data.columns\n"
   ]
  },
  {
   "cell_type": "code",
   "execution_count": 22,
   "metadata": {
    "collapsed": false,
    "scrolled": true
   },
   "outputs": [
    {
     "name": "stdout",
     "output_type": "stream",
     "text": [
      "819 787 5\n",
      "            PTID   AGE  PTGENDER  WholeBrain  Hippocampus\n",
      "0     011_S_0002  74.3         0     1229740         8336\n",
      "1     011_S_0003  81.3         0     1129830         5319\n",
      "5     022_S_0004  67.5         0     1154980         6869\n",
      "10    011_S_0005  73.7         0     1116630         7075\n",
      "15    100_S_0006  80.4         1      927510         5348\n",
      "20    022_S_0007  75.4         0      875798         6729\n",
      "22    011_S_0008  84.5         1      948684         6080\n",
      "24    011_S_0010  73.9         1     1033540         5485\n",
      "28    022_S_0014  78.5         1      861749         6730\n",
      "33    100_S_0015  80.8         0      942730         6732\n",
      "36    011_S_0016  65.4         0      936539         7309\n",
      "41    067_S_0019  73.1         1      912041         6647\n",
      "45    011_S_0021  72.6         1      984357         8147\n",
      "49    011_S_0022  63.2         0      886395         6410\n",
      "53    011_S_0023  71.7         0     1040560         8310\n",
      "60    067_S_0029  64.1         0     1222380         7359\n",
      "64    023_S_0031  77.7         1      921781         7206\n",
      "71    100_S_0035  76.9         0     1051430         6815\n",
      "75    067_S_0038  76.8         0      977778         8154\n",
      "78    099_S_0040  73.2         0      978138         7595\n",
      "84    023_S_0042  72.8         0      952780         4087\n",
      "93    018_S_0043  76.2         0     1069420         7590\n",
      "99    067_S_0045  85.9         0      962859         5268\n",
      "101   100_S_0047  84.7         0     1036750         6914\n",
      "106   099_S_0051  66.5         0     1098620         6232\n",
      "112   011_S_0053  80.1         0     1033070         6232\n",
      "116   099_S_0054  81.0         1      833179         4845\n",
      "121   067_S_0056  69.6         1      930513         7606\n",
      "127   018_S_0057  77.3         0     1016500         6767\n",
      "131   023_S_0058  70.1         0     1014210         7987\n",
      "...          ...   ...       ...         ...          ...\n",
      "8626  031_S_1209  72.0         1         NaN          NaN\n",
      "8632  012_S_1212  75.3         1         NaN          NaN\n",
      "8645  027_S_1213  74.8         1         NaN          NaN\n",
      "8648  029_S_1218  85.4         1         NaN          NaN\n",
      "8663  005_S_1224  81.1         0         NaN          NaN\n",
      "8666  037_S_1225  76.4         0         NaN          NaN\n",
      "8668  100_S_1226  82.6         0         NaN          NaN\n",
      "8712  007_S_1248  79.8         1         NaN          NaN\n",
      "8771  002_S_1268  82.7         0         NaN          NaN\n",
      "8823  941_S_1295  76.7         0         NaN          NaN\n",
      "8842  007_S_1304  74.7         1         NaN          NaN\n",
      "8846  023_S_1306  74.5         1         NaN          NaN\n",
      "8860  029_S_1318  82.9         1         NaN          NaN\n",
      "8875  016_S_1326  66.3         0         NaN          NaN\n",
      "8884  094_S_1330  61.7         0         NaN          NaN\n",
      "8898  009_S_1334  64.2         0         NaN          NaN\n",
      "8900  007_S_1339  79.5         1         NaN          NaN\n",
      "8904  126_S_1340  82.4         1         NaN          NaN\n",
      "8905  005_S_1341  71.6         1         NaN          NaN\n",
      "8921  052_S_1352  85.9         0         NaN          NaN\n",
      "8939  057_S_1371  84.2         0         NaN          NaN\n",
      "8952  057_S_1379  87.7         0         NaN          NaN\n",
      "8962  029_S_1384  72.0         0         NaN          NaN\n",
      "8970  027_S_1387  85.6         0         NaN          NaN\n",
      "8984  041_S_1391  85.1         0         NaN          NaN\n",
      "8985  024_S_1393  82.5         0         NaN          NaN\n",
      "8999  094_S_1402  69.3         0         NaN          NaN\n",
      "9037  094_S_1417  63.1         0         NaN          NaN\n",
      "9056  041_S_1425  75.6         1         NaN          NaN\n",
      "9070  128_S_1430  83.4         1         NaN          NaN\n",
      "\n",
      "[819 rows x 5 columns]\n"
     ]
    }
   ],
   "source": [
    "col_list = ['PTID','AGE','PTGENDER','WholeBrain','Hippocampus']\n",
    "cohort = 'ADNI1'\n",
    "adni1_PTIDs = in_data[(in_data.ORIGPROT == cohort) & (in_data.COLPROT==cohort) & (in_data.VISCODE == 'bl')][col_list]\n",
    "ADNI1_age_file = '/projects/nikhil/ADNI_prediction/input_datasets/CS/{}_age.pkl'.format(cohort)\n",
    "ADNI1_sex_file = '/projects/nikhil/ADNI_prediction/input_datasets/CS/{}_sex.pkl'.format(cohort)\n",
    "\n",
    "cohort = 'ADNI2'\n",
    "adni2_PTIDs = in_data[(in_data.ORIGPROT == cohort) & (in_data.COLPROT==cohort) & (in_data.VISCODE == 'bl')][col_list]\n",
    "common_ids = list(set(adni1_PTIDs)&set(adni2_PTIDs))\n",
    "ADNI2_age_file = '/projects/nikhil/ADNI_prediction/input_datasets/CS/{}_age.pkl'.format(cohort)\n",
    "ADNI2_sex_file = '/projects/nikhil/ADNI_prediction/input_datasets/CS/{}_sex.pkl'.format(cohort)\n",
    "\n",
    "print len(adni1_PTIDs), len(adni2_PTIDs), len(common_ids)\n",
    "#pickleIt(adni1_PTIDs, '/projects/nikhil/ADNI_prediction/input_datasets/CS/adni1_covar.pkl')\n",
    "#pickleIt(adni2_PTIDs, '/projects/nikhil/ADNI_prediction/input_datasets/CS/adni2_covar.pkl')\n",
    "\n",
    "adni1_PTIDs['PTGENDER'] = adni1_PTIDs['PTGENDER'].map({'Female': 1, 'Male': 0})\n",
    "adni2_PTIDs['PTGENDER'] = adni2_PTIDs['PTGENDER'].map({'Female': 1, 'Male': 0})\n",
    "\n",
    "adni1_age_dict = adni1_PTIDs.set_index('PTID')['AGE'].to_dict()\n",
    "adni2_age_dict = adni2_PTIDs.set_index('PTID')['AGE'].to_dict()\n",
    "adni1_sex_dict = adni1_PTIDs.set_index('PTID')['PTGENDER'].to_dict()\n",
    "adni2_sex_dict = adni2_PTIDs.set_index('PTID')['PTGENDER'].to_dict()\n",
    "\n",
    "\n",
    "print adni1_PTIDs\n",
    "\n",
    "\n",
    "\n",
    "#save_dictionary(adni1_age_dict,ADNI1_age_file)\n",
    "#save_dictionary(adni2_age_dict,ADNI2_age_file)\n",
    "save_dictionary(adni1_sex_dict,ADNI1_sex_file)\n",
    "save_dictionary(adni2_sex_dict,ADNI2_sex_file)"
   ]
  },
  {
   "cell_type": "code",
   "execution_count": 3,
   "metadata": {
    "collapsed": false
   },
   "outputs": [],
   "source": [
    "#Some Defs\n",
    "def pickleIt(my_data,save_path):\n",
    "    f = open(save_path, 'wb')\n",
    "    pickle.dump(my_data, f)\n",
    "    f.close()\n",
    "\n",
    "def save_dictionary(_dict,save_path):\n",
    "    f = open(save_path, 'wb')\n",
    "    pickle.dump(_dict, f)\n",
    "    f.close()\n",
    "    \n",
    "def save_list(_list, save_path):\n",
    "    ofile  = open(save_path, \"wb\")\n",
    "    writer = csv.writer(ofile,quoting=csv.QUOTE_NONE,delimiter='\\n')\n",
    "    writer.writerow(_list)\n",
    "    #for item in _list:\n",
    "    #    writer.writerow([item])\n",
    "    ofile.close()\n",
    "    \n",
    "def getDemographics(master_table, cohort, timepoint, sub_list, feature_list):\n",
    "    demographic_table = master_table[(in_data.ORIGPROT==cohort) & (in_data.COLPROT==cohort) & \n",
    "                                     (in_data.VISCODE==timepoint) & (in_data['PTID'].isin(sub_list))][feature_list]\n",
    "    return demographic_table"
   ]
  },
  {
   "cell_type": "code",
   "execution_count": 23,
   "metadata": {
    "collapsed": false,
    "scrolled": true
   },
   "outputs": [
    {
     "name": "stdout",
     "output_type": "stream",
     "text": [
      "669\n",
      "cohort: ADNI1\n",
      "LMCI    326\n",
      "CN      198\n",
      "AD      145\n",
      "Name: DX_bl, dtype: int64\n",
      "Male      377\n",
      "Female    292\n",
      "Name: PTGENDER, dtype: int64\n",
      "\n",
      "AGE: (75.0, 6.7), Edu: (15.5, 3.1), MMSE: (26.9, 2.6), ADAS-Cog: (18.0, 8.9)\n",
      "\n"
     ]
    }
   ],
   "source": [
    "# Generate demographics table for reporting purposes (papers!)\n",
    "exp_name = 'Exp6'\n",
    "cohort = 'ADNI1'\n",
    "timepoint = 'bl'\n",
    "feature_list = ['PTID','ADAS13','AGE','DX_bl','PTGENDER','PTEDUCAT','MMSE']\n",
    "\n",
    "sub_list_path = '/projects/nikhil/ADNI_prediction/input_datasets/exp_data/CV_{}_{}_ADAS13.pkl'.format(exp_name,cohort)\n",
    "pkl_file = open(sub_list_path, 'rb')\n",
    "sub_list = pickle.load(pkl_file)['common_subs']\n",
    "print len(sub_list)\n",
    "demograph_table = getDemographics(in_data, cohort, timepoint, sub_list, feature_list)\n",
    "print 'cohort: {}'.format(cohort)\n",
    "#print demograph_table\n",
    "print demograph_table['DX_bl'].value_counts()\n",
    "print demograph_table['PTGENDER'].value_counts()\n",
    "print \n",
    "print 'AGE: ({:4.1f},{:4.1f}), Edu: ({:4.1f},{:4.1f}), MMSE: ({:4.1f},{:4.1f}), ADAS-Cog: ({:4.1f},{:4.1f})'.format(\n",
    "    float(demograph_table['AGE'].mean()),float(demograph_table['AGE'].std()),\n",
    "    float(demograph_table['PTEDUCAT'].mean()),float(demograph_table['PTEDUCAT'].std()),\n",
    "    float(demograph_table['MMSE'].mean()),float(demograph_table['MMSE'].std()),\n",
    "    float(demograph_table['ADAS13'].mean()),float(demograph_table['ADAS13'].std()))\n",
    "print"
   ]
  },
  {
   "cell_type": "code",
   "execution_count": null,
   "metadata": {
    "collapsed": false
   },
   "outputs": [],
   "source": [
    "#Extract various cohorts\n",
    "\n",
    "col_list = ['PTID','DX_bl','ADAS13','Hippocampus_bl','Hippocampus']\n",
    "#col_list = ['PTID','DX_bl']\n",
    "#col_list = ['PTID', 'DX_bl','DX']\n",
    "#col_list = ['PTID']\n",
    "cohort = 'ADNI2'\n",
    "data_bl  = in_data[(in_data.ORIGPROT == cohort) & (in_data.COLPROT==cohort) & (in_data.VISCODE == 'bl')][col_list]\n",
    "data_m06 = in_data[(in_data.ORIGPROT == cohort) & (in_data.COLPROT==cohort) & (in_data.VISCODE == 'm06')][col_list]\n",
    "data_m12 = in_data[(in_data.ORIGPROT == cohort) & (in_data.COLPROT==cohort) & (in_data.VISCODE == 'm12')][col_list]\n",
    "data_m18 = in_data[(in_data.ORIGPROT == cohort) & (in_data.COLPROT==cohort) & (in_data.VISCODE == 'm18')][col_list]\n",
    "data_m24 = in_data[(in_data.ORIGPROT == cohort) & (in_data.COLPROT==cohort) & (in_data.VISCODE == 'm24')][col_list]\n",
    "data_m30 = in_data[(in_data.ORIGPROT == cohort) & (in_data.COLPROT==cohort) & (in_data.VISCODE == 'm30')][col_list]\n",
    "data_m36 = in_data[(in_data.ORIGPROT == cohort) & (in_data.COLPROT==cohort) & (in_data.VISCODE == 'm36')][col_list]"
   ]
  },
  {
   "cell_type": "code",
   "execution_count": null,
   "metadata": {
    "collapsed": false
   },
   "outputs": [],
   "source": [
    "data_mx = data_m12\n",
    "data_bl_cn = data_bl[(data_bl.DX_bl == 'CN')]\n",
    "data_bl_ad = data_bl[(data_bl.DX_bl == 'AD')]\n",
    "data_bl_mci = data_bl[(data_bl.DX_bl == 'LMCI')]\n",
    "data_mx_nl = data_mx[(data_mx.DX == 'NL')]\n",
    "data_mx_mci = data_mx[(data_mx.DX == 'MCI')]\n",
    "data_mx_ad = data_mx[(data_mx.DX == 'Dementia')]\n",
    "\n",
    "data_mx_conv = data_mx[((data_mx.DX == 'MCI to Dementia') | (data_mx.DX == 'Dementia')) & (data_mx.DX_bl == 'LMCI')]\n",
    "data_mx_conv2 = data_mx[(data_mx.DX == 'Dementia') & (data_mx.DX_bl == 'LMCI')]\n",
    "data_mx_nonconv = data_mx[(data_mx.DX == 'MCI') & (data_mx.DX_bl == 'LMCI')]\n",
    "print 'bl_(cn,ad,mci):{} {} {}, mx_(cn,ad,mci):{} {} {}, mx_(conv, conv2, nonconv): {} {} {}'.format(\n",
    "                len(data_bl_cn),len(data_bl_ad),len(data_bl_mci), \n",
    "                len(data_mx_nl),len(data_mx_ad),len(data_mx_mci), \n",
    "                len(data_mx_conv), len(data_mx_conv2), len(data_mx_nonconv))\n",
    "\n",
    "MCI_CONV_PTID_DX_dict = data_mx_conv.set_index('PTID')['DX'].to_dict()\n",
    "MCI_NONCONV_PTID_DX_dict = data_mx_nonconv.set_index('PTID')['DX'].to_dict()\n",
    "\n",
    "#print MCI_CONV_PTID_DX_dict.keys()\n",
    "#print MCI_NONCONV_PTID_DX_dict.keys()\n",
    "\n",
    "MCI_Dx_conversion_IDs = {'MCI_conv':MCI_CONV_PTID_DX_dict.keys(), 'MCI_nonconv':MCI_NONCONV_PTID_DX_dict.keys()}\n",
    "\n",
    "#print MCI_Dx_conversion_IDs\n",
    "save_dict = True\n",
    "if save_dict: #Save data subsets\n",
    "    save_dict_path = '/projects/nikhil/jlf/revision_data/adni_vol/MCI_1year_Dx_conversion_IDs.pkl'\n",
    "    save_dictionary(MCI_Dx_conversion_IDs,save_dict_path)"
   ]
  },
  {
   "cell_type": "code",
   "execution_count": null,
   "metadata": {
    "collapsed": false
   },
   "outputs": [],
   "source": [
    "#sanity check with the HC vol subject list\n",
    "ADNI1_HC_file = '/projects/nikhil/ADNI_prediction/input_datasets/HC/subject_HC_vol_dictionary_ADNI1_left.pkl'\n",
    "pkl_file = open(ADNI1_HC_file, 'rb')\n",
    "ADNI1_HC_data = pickle.load(pkl_file)\n",
    "print len(ADNI1_HC_data)\n",
    "HC_subs = BL_PTID_DX_bl_dict.keys()\n",
    "print HC_subs[:5]"
   ]
  },
  {
   "cell_type": "code",
   "execution_count": null,
   "metadata": {
    "collapsed": false
   },
   "outputs": [],
   "source": [
    "BL_dict = data_bl.set_index('PTID')['DX_bl'].to_dict()\n",
    "print len(BL_dict)\n",
    "\n",
    "CS_subs = BL_dict.keys()\n",
    "\n",
    "#diff_subs = list(set(CS_subs) - set(HC_subs))\n",
    "\n",
    "print CS_subs[:5]\n",
    "#print len(diff_subs)\n",
    "\n",
    "save_dict = True\n",
    "if save_dict: #Save data subsets\n",
    "    save_dict_path = '/projects/nikhil/ADNI_prediction/input_datasets/CS/ADNI2_BL_PTID_DX_bl_dict.pkl'\n",
    "    save_dictionary(BL_dict,save_dict_path)\n",
    "    \n",
    "save_sub_list = False\n",
    "if save_sub_list:\n",
    "    sub_list = CS_subs\n",
    "    save_ADNI2_sub_list_path = '/projects/nikhil/ADNI_prediction/input_datasets/CS/ADNIMERGE_ADNI2_BL_subject_list.txt'\n",
    "    save_list(sub_list,save_ADNI2_sub_list_path)\n",
    "    "
   ]
  },
  {
   "cell_type": "code",
   "execution_count": null,
   "metadata": {
    "collapsed": false
   },
   "outputs": [],
   "source": [
    "#Rename Columns\n",
    "data_bl.columns=['PTID','DX_bl','bl_score']\n",
    "data_m06.columns=['PTID','DX_bl','m06_score']\n",
    "data_m12.columns=['PTID','DX_bl','m12_score']\n",
    "data_m18.columns=['PTID','DX_bl','m18_score']\n",
    "data_m24.columns=['PTID','DX_bl','m24_score']\n",
    "data_m30.columns=['PTID','DX_bl','m30_score']\n",
    "data_m36.columns=['PTID','DX_bl','m36_score']"
   ]
  },
  {
   "cell_type": "code",
   "execution_count": null,
   "metadata": {
    "collapsed": false
   },
   "outputs": [],
   "source": [
    "#Compute Joins / Unions / Intersections\n",
    "test_merge = pd.merge(data_bl, data_m06, on='PTID',how='inner')\n",
    "test_merge = pd.merge(test_merge, data_m12, on='PTID',how='inner')\n",
    "test_merge = pd.merge(test_merge, data_m18, on='PTID',how='inner')\n",
    "test_merge = pd.merge(test_merge, data_m24, on='PTID',how='inner')\n",
    "test_merge['m06_diff'] = test_merge['m06_score'] - test_merge['bl_score']\n",
    "test_merge['m12_diff'] = test_merge['m12_score'] - test_merge['bl_score']\n",
    "test_merge['m18_diff'] = test_merge['m18_score'] - test_merge['bl_score']\n",
    "test_merge['m24_diff'] = test_merge['m24_score'] - test_merge['bl_score']\n"
   ]
  },
  {
   "cell_type": "code",
   "execution_count": null,
   "metadata": {
    "collapsed": false
   },
   "outputs": [],
   "source": [
    "#Plot configs\n",
    "%matplotlib inline\n",
    "plt.rcParams['figure.figsize'] = (15, 10)\n",
    "plt.style.use('ggplot')"
   ]
  },
  {
   "cell_type": "code",
   "execution_count": null,
   "metadata": {
    "collapsed": false
   },
   "outputs": [],
   "source": [
    "#Plots\n",
    "plot_datasets = ['bl_score','m06_score','m12_score','m18_score','m24_score','m06_diff','m12_diff','m18_diff','m24_diff']\n",
    "n_timepts = 5\n",
    "delta_timepts = n_timepts-1 \n",
    "y_mean = []\n",
    "y_err = []\n",
    "dx='All'\n",
    "for plt_ds in plot_datasets:    \n",
    "    if dx == 'All':\n",
    "        y = np.array(test_merge[plt_ds])\n",
    "    else:\n",
    "        y = np.array(test_merge[test_merge.DX_bl==dx][plt_ds])\n",
    "    \n",
    "    y_mean.append(np.mean(y))\n",
    "    y_err.append( v(y))\n",
    "    \n",
    "#Plot the stats\n",
    "font_small = 8\n",
    "font_med = 16\n",
    "font_large = 24\n",
    "\n",
    "plt.subplot(1,2,1)\n",
    "x = np.arange(n_timepts)\n",
    "y_mean_trunc = y_mean[:n_timepts]\n",
    "y_err_trunc = y_err[:n_timepts]\n",
    "plt.errorbar(x,y_mean_trunc, yerr=y_err_trunc, linewidth=2, label='bl_dx: {}'.format(dx))\n",
    "plt.xlim([-1,5])\n",
    "plt.xticks(x,plot_datasets[:n_timepts],fontsize=font_med)\n",
    "plt.xlabel('Timepoint',fontsize=font_med)\n",
    "plt.ylabel('ADAS13 Score',fontsize=font_med)            \n",
    "plt.legend(fontsize=font_med,loc=2)\n",
    "plt.title('Longitudinal ADAS_score',fontsize=font_med)\n",
    "\n",
    "plt.subplot(1,2,2)\n",
    "x = np.arange(1,delta_timepts+1,1)\n",
    "y_mean_trunc = y_mean[n_timepts:]\n",
    "y_err_trunc = y_err[n_timepts:]\n",
    "plt.errorbar(x,y_mean_trunc, yerr=y_err_trunc, linewidth=2, label='bl_dx: {}'.format(dx))\n",
    "plt.xlim([-1,5])\n",
    "plt.xticks(x,plot_datasets[n_timepts:],fontsize=font_med)\n",
    "plt.xlabel('Timepoint',fontsize=font_med)\n",
    "plt.ylabel('ADAS13 Score',fontsize=font_med)            \n",
    "plt.legend(fontsize=font_med,loc=2)\n",
    "plt.title('Longitudinal Change in ADAS_score',fontsize=font_med)\n"
   ]
  },
  {
   "cell_type": "code",
   "execution_count": null,
   "metadata": {
    "collapsed": false
   },
   "outputs": [],
   "source": [
    "ad = data_bl.DX_bl[(data_bl.DX_bl == 'AD')]\n",
    "cn = data_bl.DX_bl[(data_bl.DX_bl == 'CN')]\n",
    "lmci = data_bl.DX_bl[(data_bl.DX_bl == 'EMCI')]\n",
    "emci = data_bl.DX_bl[(data_bl.DX_bl == 'LMCI')]\n",
    "\n",
    "print len(ad),len(cn),len(lmci),len(emci)\n"
   ]
  },
  {
   "cell_type": "code",
   "execution_count": null,
   "metadata": {
    "collapsed": false
   },
   "outputs": [],
   "source": [
    "plt.rcParams['figure.figsize'] = (15, 10)\n",
    "plt.subplot(2,1,1)\n",
    "adni1_HC_bl.hist(bins=100)\n",
    "plt.title('ADNI1 HC Vol (ADNIMERGE) distribution')\n",
    "plt.subplot(2,1,2)\n",
    "adni2_HC_bl.hist(bins=100)\n",
    "plt.title('ADNI2 HC Vol (ADNIMERGE) distribution')\n",
    "\n",
    "#box_fig = plt.gcf()\n",
    "#box_fig.savefig('/projects/nikhil/ADNI_prediction/input_datasets/CS/adas_distribution.png', bbox_inches='tight')\n"
   ]
  },
  {
   "cell_type": "code",
   "execution_count": null,
   "metadata": {
    "collapsed": false
   },
   "outputs": [],
   "source": [
    "in_data.Hippocampus_bl"
   ]
  },
  {
   "cell_type": "code",
   "execution_count": null,
   "metadata": {
    "collapsed": true
   },
   "outputs": [],
   "source": []
  }
 ],
 "metadata": {
  "kernelspec": {
   "display_name": "Python 2",
   "language": "python",
   "name": "python2"
  },
  "language_info": {
   "codemirror_mode": {
    "name": "ipython",
    "version": 2
   },
   "file_extension": ".py",
   "mimetype": "text/x-python",
   "name": "python",
   "nbconvert_exporter": "python",
   "pygments_lexer": "ipython2",
   "version": "2.7.11"
  }
 },
 "nbformat": 4,
 "nbformat_minor": 0
}
