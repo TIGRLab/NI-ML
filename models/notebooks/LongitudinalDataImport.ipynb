{
 "cells": [
  {
   "cell_type": "code",
   "execution_count": 1,
   "metadata": {
    "collapsed": true
   },
   "outputs": [],
   "source": [
    "# Basic Imports\n",
    "import numpy as np\n",
    "import h5py as h5\n",
    "import matplotlib.pyplot as plt\n",
    "import pandas as pd\n",
    "from scipy import stats\n",
    "import pickle\n",
    "import re\n",
    "import collections\n",
    "import tables as tb\n",
    "import csv"
   ]
  },
  {
   "cell_type": "code",
   "execution_count": 2,
   "metadata": {
    "collapsed": false
   },
   "outputs": [],
   "source": [
    "#Paths\n",
    "in_file = '/projects/nikhil/ADNI_prediction/input_datasets/CS/ADNIMERGE.csv' #Original File\n",
    "\n",
    "#in_file = '/projects/nikhil/ADNI_prediction/input_datasets/ADNI_Merge_filter_Longitudinal.csv' #Selected Columns\n",
    "in_data = pd.read_csv(in_file,header=0)\n"
   ]
  },
  {
   "cell_type": "code",
   "execution_count": 3,
   "metadata": {
    "collapsed": true
   },
   "outputs": [],
   "source": [
    "#Some Defs\n",
    "def save_dictionary(_dict,save_path):\n",
    "    f = open(save_path, 'wb')\n",
    "    pickle.dump(_dict, f)\n",
    "    f.close()\n",
    "    \n",
    "def save_list(_list, save_path):\n",
    "    ofile  = open(save_path, \"wb\")\n",
    "    writer = csv.writer(ofile,quoting=csv.QUOTE_NONE,delimiter='\\n')\n",
    "    writer.writerow(_list)\n",
    "    #for item in _list:\n",
    "    #    writer.writerow([item])\n",
    "\n",
    "    ofile.close()\n",
    "    "
   ]
  },
  {
   "cell_type": "code",
   "execution_count": 4,
   "metadata": {
    "collapsed": false
   },
   "outputs": [],
   "source": [
    "#Extract various cohorts\n",
    "\n",
    "#col_list = ['PTID','ADAS13']\n",
    "col_list = ['PTID','DX_bl']\n",
    "#col_list = ['PTID', 'DX_bl','DX']\n",
    "#col_list = ['PTID']\n",
    "cohort = 'ADNI2'\n",
    "data_bl  = in_data[(in_data.ORIGPROT == cohort) & (in_data.COLPROT==cohort) & (in_data.VISCODE == 'bl')][col_list]\n",
    "data_m06 = in_data[(in_data.ORIGPROT == cohort) & (in_data.COLPROT==cohort) & (in_data.VISCODE == 'm06')][col_list]\n",
    "data_m12 = in_data[(in_data.ORIGPROT == cohort) & (in_data.COLPROT==cohort) & (in_data.VISCODE == 'm12')][col_list]\n",
    "data_m18 = in_data[(in_data.ORIGPROT == cohort) & (in_data.COLPROT==cohort) & (in_data.VISCODE == 'm18')][col_list]\n",
    "data_m24 = in_data[(in_data.ORIGPROT == cohort) & (in_data.COLPROT==cohort) & (in_data.VISCODE == 'm24')][col_list]\n",
    "data_m30 = in_data[(in_data.ORIGPROT == cohort) & (in_data.COLPROT==cohort) & (in_data.VISCODE == 'm30')][col_list]\n",
    "data_m36 = in_data[(in_data.ORIGPROT == cohort) & (in_data.COLPROT==cohort) & (in_data.VISCODE == 'm36')][col_list]"
   ]
  },
  {
   "cell_type": "code",
   "execution_count": null,
   "metadata": {
    "collapsed": false
   },
   "outputs": [],
   "source": [
    "data_mx = data_m12\n",
    "data_bl_cn = data_bl[(data_bl.DX_bl == 'CN')]\n",
    "data_bl_ad = data_bl[(data_bl.DX_bl == 'AD')]\n",
    "data_bl_mci = data_bl[(data_bl.DX_bl == 'LMCI')]\n",
    "data_mx_nl = data_mx[(data_mx.DX == 'NL')]\n",
    "data_mx_mci = data_mx[(data_mx.DX == 'MCI')]\n",
    "data_mx_ad = data_mx[(data_mx.DX == 'Dementia')]\n",
    "\n",
    "data_mx_conv = data_mx[((data_mx.DX == 'MCI to Dementia') | (data_mx.DX == 'Dementia')) & (data_mx.DX_bl == 'LMCI')]\n",
    "data_mx_conv2 = data_mx[(data_mx.DX == 'Dementia') & (data_mx.DX_bl == 'LMCI')]\n",
    "data_mx_nonconv = data_mx[(data_mx.DX == 'MCI') & (data_mx.DX_bl == 'LMCI')]\n",
    "print 'bl_(cn,ad,mci):{} {} {}, mx_(cn,ad,mci):{} {} {}, mx_(conv, conv2, nonconv): {} {} {}'.format(\n",
    "                len(data_bl_cn),len(data_bl_ad),len(data_bl_mci), \n",
    "                len(data_mx_nl),len(data_mx_ad),len(data_mx_mci), \n",
    "                len(data_mx_conv), len(data_mx_conv2), len(data_mx_nonconv))\n",
    "\n",
    "MCI_CONV_PTID_DX_dict = data_mx_conv.set_index('PTID')['DX'].to_dict()\n",
    "MCI_NONCONV_PTID_DX_dict = data_mx_nonconv.set_index('PTID')['DX'].to_dict()\n",
    "\n",
    "#print MCI_CONV_PTID_DX_dict.keys()\n",
    "#print MCI_NONCONV_PTID_DX_dict.keys()\n",
    "\n",
    "MCI_Dx_conversion_IDs = {'MCI_conv':MCI_CONV_PTID_DX_dict.keys(), 'MCI_nonconv':MCI_NONCONV_PTID_DX_dict.keys()}\n",
    "\n",
    "#print MCI_Dx_conversion_IDs\n",
    "save_dict = True\n",
    "if save_dict: #Save data subsets\n",
    "    save_dict_path = '/projects/nikhil/jlf/revision_data/adni_vol/MCI_1year_Dx_conversion_IDs.pkl'\n",
    "    save_dictionary(MCI_Dx_conversion_IDs,save_dict_path)"
   ]
  },
  {
   "cell_type": "code",
   "execution_count": null,
   "metadata": {
    "collapsed": false
   },
   "outputs": [],
   "source": [
    "#sanity check with the HC vol subject list\n",
    "ADNI1_HC_file = '/projects/nikhil/ADNI_prediction/input_datasets/HC/subject_HC_vol_dictionary_ADNI1_left.pkl'\n",
    "pkl_file = open(ADNI1_HC_file, 'rb')\n",
    "ADNI1_HC_data = pickle.load(pkl_file)\n",
    "print len(ADNI1_HC_data)\n",
    "HC_subs = BL_PTID_DX_bl_dict.keys()\n",
    "print HC_subs[:5]"
   ]
  },
  {
   "cell_type": "code",
   "execution_count": 13,
   "metadata": {
    "collapsed": false
   },
   "outputs": [
    {
     "name": "stdout",
     "output_type": "stream",
     "text": [
      "787\n",
      "['005_S_4707', '109_S_4380', '137_S_4303', '126_S_4458', '128_S_4671']\n"
     ]
    }
   ],
   "source": [
    "BL_dict = data_bl.set_index('PTID')['DX_bl'].to_dict()\n",
    "print len(BL_dict)\n",
    "\n",
    "CS_subs = BL_dict.keys()\n",
    "\n",
    "#diff_subs = list(set(CS_subs) - set(HC_subs))\n",
    "\n",
    "print CS_subs[:5]\n",
    "#print len(diff_subs)\n",
    "\n",
    "save_dict = True\n",
    "if save_dict: #Save data subsets\n",
    "    save_dict_path = '/projects/nikhil/ADNI_prediction/input_datasets/CS/ADNI2_BL_PTID_DX_bl_dict.pkl'\n",
    "    save_dictionary(BL_dict,save_dict_path)\n",
    "    \n",
    "save_sub_list = False\n",
    "if save_sub_list:\n",
    "    sub_list = CS_subs\n",
    "    save_ADNI2_sub_list_path = '/projects/nikhil/ADNI_prediction/input_datasets/CS/ADNIMERGE_ADNI2_BL_subject_list.txt'\n",
    "    save_list(sub_list,save_ADNI2_sub_list_path)\n",
    "    "
   ]
  },
  {
   "cell_type": "code",
   "execution_count": null,
   "metadata": {
    "collapsed": false
   },
   "outputs": [],
   "source": [
    "#Rename Columns\n",
    "data_bl.columns=['PTID','DX_bl','bl_score']\n",
    "data_m06.columns=['PTID','DX_bl','m06_score']\n",
    "data_m12.columns=['PTID','DX_bl','m12_score']\n",
    "data_m18.columns=['PTID','DX_bl','m18_score']\n",
    "data_m24.columns=['PTID','DX_bl','m24_score']\n",
    "data_m30.columns=['PTID','DX_bl','m30_score']\n",
    "data_m36.columns=['PTID','DX_bl','m36_score']"
   ]
  },
  {
   "cell_type": "code",
   "execution_count": null,
   "metadata": {
    "collapsed": false
   },
   "outputs": [],
   "source": [
    "#Compute Joins / Unions / Intersections\n",
    "test_merge = pd.merge(data_bl, data_m06, on='PTID',how='inner')\n",
    "test_merge = pd.merge(test_merge, data_m12, on='PTID',how='inner')\n",
    "test_merge = pd.merge(test_merge, data_m18, on='PTID',how='inner')\n",
    "test_merge = pd.merge(test_merge, data_m24, on='PTID',how='inner')\n",
    "test_merge['m06_diff'] = test_merge['m06_score'] - test_merge['bl_score']\n",
    "test_merge['m12_diff'] = test_merge['m12_score'] - test_merge['bl_score']\n",
    "test_merge['m18_diff'] = test_merge['m18_score'] - test_merge['bl_score']\n",
    "test_merge['m24_diff'] = test_merge['m24_score'] - test_merge['bl_score']\n"
   ]
  },
  {
   "cell_type": "code",
   "execution_count": null,
   "metadata": {
    "collapsed": false
   },
   "outputs": [],
   "source": [
    "#Plot configs\n",
    "%matplotlib inline\n",
    "plt.rcParams['figure.figsize'] = (15, 10)\n",
    "plt.style.use('ggplot')"
   ]
  },
  {
   "cell_type": "code",
   "execution_count": null,
   "metadata": {
    "collapsed": false
   },
   "outputs": [],
   "source": [
    "#Plots\n",
    "plot_datasets = ['bl_score','m06_score','m12_score','m18_score','m24_score','m06_diff','m12_diff','m18_diff','m24_diff']\n",
    "n_timepts = 5\n",
    "delta_timepts = n_timepts-1 \n",
    "y_mean = []\n",
    "y_err = []\n",
    "dx='All'\n",
    "for plt_ds in plot_datasets:    \n",
    "    if dx == 'All':\n",
    "        y = np.array(test_merge[plt_ds])\n",
    "    else:\n",
    "        y = np.array(test_merge[test_merge.DX_bl==dx][plt_ds])\n",
    "    \n",
    "    y_mean.append(np.mean(y))\n",
    "    y_err.append( v(y))\n",
    "    \n",
    "#Plot the stats\n",
    "font_small = 8\n",
    "font_med = 16\n",
    "font_large = 24\n",
    "\n",
    "plt.subplot(1,2,1)\n",
    "x = np.arange(n_timepts)\n",
    "y_mean_trunc = y_mean[:n_timepts]\n",
    "y_err_trunc = y_err[:n_timepts]\n",
    "plt.errorbar(x,y_mean_trunc, yerr=y_err_trunc, linewidth=2, label='bl_dx: {}'.format(dx))\n",
    "plt.xlim([-1,5])\n",
    "plt.xticks(x,plot_datasets[:n_timepts],fontsize=font_med)\n",
    "plt.xlabel('Timepoint',fontsize=font_med)\n",
    "plt.ylabel('ADAS13 Score',fontsize=font_med)            \n",
    "plt.legend(fontsize=font_med,loc=2)\n",
    "plt.title('Longitudinal ADAS_score',fontsize=font_med)\n",
    "\n",
    "plt.subplot(1,2,2)\n",
    "x = np.arange(1,delta_timepts+1,1)\n",
    "y_mean_trunc = y_mean[n_timepts:]\n",
    "y_err_trunc = y_err[n_timepts:]\n",
    "plt.errorbar(x,y_mean_trunc, yerr=y_err_trunc, linewidth=2, label='bl_dx: {}'.format(dx))\n",
    "plt.xlim([-1,5])\n",
    "plt.xticks(x,plot_datasets[n_timepts:],fontsize=font_med)\n",
    "plt.xlabel('Timepoint',fontsize=font_med)\n",
    "plt.ylabel('ADAS13 Score',fontsize=font_med)            \n",
    "plt.legend(fontsize=font_med,loc=2)\n",
    "plt.title('Longitudinal Change in ADAS_score',fontsize=font_med)\n"
   ]
  },
  {
   "cell_type": "code",
   "execution_count": null,
   "metadata": {
    "collapsed": false
   },
   "outputs": [],
   "source": [
    "\n",
    "plt.hist(test_merge['m06_diff'],bins=50,alpha=0.5,label='06')\n",
    "plt.hist(test_merge['m12_diff'],bins=50,alpha=0.5,label='12')\n",
    "#plt.hist(test_merge['m18_diff'],bins=50,alpha=0.5,label='18')\n",
    "plt.hist(test_merge['m24_diff'],bins=50,alpha=0.5,label='24')\n",
    "plt.legend()\n",
    "plt.show()"
   ]
  },
  {
   "cell_type": "code",
   "execution_count": null,
   "metadata": {
    "collapsed": false
   },
   "outputs": [],
   "source": [
    "BL_PTID_DX_bl_dict"
   ]
  },
  {
   "cell_type": "code",
   "execution_count": 8,
   "metadata": {
    "collapsed": false
   },
   "outputs": [
    {
     "data": {
      "text/html": [
       "<div>\n",
       "<table border=\"1\" class=\"dataframe\">\n",
       "  <thead>\n",
       "    <tr style=\"text-align: right;\">\n",
       "      <th></th>\n",
       "      <th>RID</th>\n",
       "      <th>PTID</th>\n",
       "      <th>VISCODE</th>\n",
       "      <th>SITE</th>\n",
       "      <th>COLPROT</th>\n",
       "      <th>ORIGPROT</th>\n",
       "      <th>EXAMDATE</th>\n",
       "      <th>DX_bl</th>\n",
       "      <th>AGE</th>\n",
       "      <th>PTGENDER</th>\n",
       "      <th>...</th>\n",
       "      <th>EcogSPDivatt_bl</th>\n",
       "      <th>EcogSPTotal_bl</th>\n",
       "      <th>FDG_bl</th>\n",
       "      <th>PIB_bl</th>\n",
       "      <th>AV45_bl</th>\n",
       "      <th>Years_bl</th>\n",
       "      <th>Month_bl</th>\n",
       "      <th>Month</th>\n",
       "      <th>M</th>\n",
       "      <th>update_stamp</th>\n",
       "    </tr>\n",
       "  </thead>\n",
       "  <tbody>\n",
       "  </tbody>\n",
       "</table>\n",
       "<p>0 rows × 90 columns</p>\n",
       "</div>"
      ],
      "text/plain": [
       "Empty DataFrame\n",
       "Columns: [RID, PTID, VISCODE, SITE, COLPROT, ORIGPROT, EXAMDATE, DX_bl, AGE, PTGENDER, PTEDUCAT, PTETHCAT, PTRACCAT, PTMARRY, APOE4, FDG, PIB, AV45, CDRSB, ADAS11, ADAS13, MMSE, RAVLT_immediate, RAVLT_learning, RAVLT_forgetting, RAVLT_perc_forgetting, FAQ, MOCA, EcogPtMem, EcogPtLang, EcogPtVisspat, EcogPtPlan, EcogPtOrgan, EcogPtDivatt, EcogPtTotal, EcogSPMem, EcogSPLang, EcogSPVisspat, EcogSPPlan, EcogSPOrgan, EcogSPDivatt, EcogSPTotal, Ventricles, Hippocampus, WholeBrain, Entorhinal, Fusiform, MidTemp, ICV, DX, EXAMDATE_bl, CDRSB_bl, ADAS11_bl, ADAS13_bl, MMSE_bl, RAVLT_immediate_bl, RAVLT_learning_bl, RAVLT_forgetting_bl, RAVLT_perc_forgetting_bl, FAQ_bl, Ventricles_bl, Hippocampus_bl, WholeBrain_bl, Entorhinal_bl, Fusiform_bl, MidTemp_bl, ICV_bl, MOCA_bl, EcogPtMem_bl, EcogPtLang_bl, EcogPtVisspat_bl, EcogPtPlan_bl, EcogPtOrgan_bl, EcogPtDivatt_bl, EcogPtTotal_bl, EcogSPMem_bl, EcogSPLang_bl, EcogSPVisspat_bl, EcogSPPlan_bl, EcogSPOrgan_bl, EcogSPDivatt_bl, EcogSPTotal_bl, FDG_bl, PIB_bl, AV45_bl, Years_bl, Month_bl, Month, M, update_stamp]\n",
       "Index: []\n",
       "\n",
       "[0 rows x 90 columns]"
      ]
     },
     "execution_count": 8,
     "metadata": {},
     "output_type": "execute_result"
    }
   ],
   "source": [
    "in_data[(in_data.PTID == '036_S_4740')]"
   ]
  },
  {
   "cell_type": "code",
   "execution_count": null,
   "metadata": {
    "collapsed": true
   },
   "outputs": [],
   "source": []
  }
 ],
 "metadata": {
  "kernelspec": {
   "display_name": "Python 2",
   "language": "python",
   "name": "python2"
  },
  "language_info": {
   "codemirror_mode": {
    "name": "ipython",
    "version": 2
   },
   "file_extension": ".py",
   "mimetype": "text/x-python",
   "name": "python",
   "nbconvert_exporter": "python",
   "pygments_lexer": "ipython2",
   "version": "2.7.11"
  }
 },
 "nbformat": 4,
 "nbformat_minor": 0
}
