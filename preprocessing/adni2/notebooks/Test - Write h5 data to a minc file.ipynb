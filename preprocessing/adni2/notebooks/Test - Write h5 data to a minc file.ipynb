{
 "metadata": {
  "name": "",
  "signature": "sha256:99efd21fe20971eb5f872642e991a832bed8bd18cdc0f90839c3f91aa705de6f"
 },
 "nbformat": 3,
 "nbformat_minor": 0,
 "worksheets": [
  {
   "cells": [
    {
     "cell_type": "code",
     "collapsed": false,
     "input": [
      "import tables as tb\n",
      "import numpy as np\n",
      "import pyminc.volumes.factory as mnc"
     ],
     "language": "python",
     "metadata": {},
     "outputs": [],
     "prompt_number": 16
    },
    {
     "cell_type": "code",
     "collapsed": false,
     "input": [
      "fileh = tb.open_file('03_clean/candidate_right.h5', mode='r', title='data')\n",
      "like = mnc.volumeFromFile('std/average.mnc', dtype='ubyte')\n",
      "output = mnc.volumeFromInstance(like, 'test.mnc', dtype='ubyte', volumeType='ubyte')"
     ],
     "language": "python",
     "metadata": {},
     "outputs": [],
     "prompt_number": 17
    },
    {
     "cell_type": "code",
     "collapsed": false,
     "input": [
      "maskidx = np.argwhere(fileh.root.fullmask)\n",
      "minidx = maskidx.min(0) - 5\n",
      "maxidx = maskidx.max(0) + 5"
     ],
     "language": "python",
     "metadata": {},
     "outputs": [],
     "prompt_number": 18
    },
    {
     "cell_type": "code",
     "collapsed": false,
     "input": [
      "voldata = np.average(fileh.root.data[1:100,:], axis=0)\n",
      "data = np.zeros(fileh.root.fullmask.shape)\n",
      "data[minidx[0]:maxidx[0],minidx[1]:maxidx[1],minidx[2]:maxidx[2]] = voldata\n",
      "output.data = data"
     ],
     "language": "python",
     "metadata": {},
     "outputs": [],
     "prompt_number": 19
    },
    {
     "cell_type": "code",
     "collapsed": false,
     "input": [
      "output.writeFile()\n",
      "output.closeVolume()"
     ],
     "language": "python",
     "metadata": {},
     "outputs": [],
     "prompt_number": 20
    },
    {
     "cell_type": "code",
     "collapsed": false,
     "input": [
      "avgidx = np.argwhere(like.data)\n",
      "avgminidx = avgidx.min(0) - 5\n",
      "avgmaxidx = avgidx.max(0) + 5\n",
      "print maxidx - minidx, avgmaxidx - avgminidx\n"
     ],
     "language": "python",
     "metadata": {},
     "outputs": [
      {
       "output_type": "stream",
       "stream": "stdout",
       "text": [
        "[69 90 72] [26 50 28]\n"
       ]
      }
     ],
     "prompt_number": 30
    },
    {
     "cell_type": "code",
     "collapsed": false,
     "input": [
      "fullmask = mnc.volumeFromFile('average.mnc').data\n",
      "fullmaskidx = np.argwhere(fullmask)\n",
      "fullminidx = fullmaskidx.min(0) - 5\n",
      "fullmaxidx = fullmaskidx.max(0) + 5\n",
      "print fileh.root.cropbbox_min[:], fullminidx\n",
      "print fileh.root.cropbbox_max[:], fullmaxidx\n",
      "print fullmaxidx - fullminidx\n",
      "print fileh.root.mask.shape\n"
     ],
     "language": "python",
     "metadata": {},
     "outputs": [
      {
       "output_type": "stream",
       "stream": "stdout",
       "text": [
        "[ 22  96 128] [ 22  96 128]\n",
        "[ 91 186 200] [ 91 186 200]\n",
        "[69 90 72]\n",
        "(69, 90, 72)\n"
       ]
      }
     ],
     "prompt_number": 42
    },
    {
     "cell_type": "code",
     "collapsed": false,
     "input": [],
     "language": "python",
     "metadata": {},
     "outputs": []
    }
   ],
   "metadata": {}
  }
 ]
}