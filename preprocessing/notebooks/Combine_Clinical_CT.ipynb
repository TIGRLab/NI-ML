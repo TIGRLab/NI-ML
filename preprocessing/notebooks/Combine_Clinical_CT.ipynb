{
 "cells": [
  {
   "cell_type": "code",
   "execution_count": 32,
   "metadata": {
    "collapsed": true
   },
   "outputs": [],
   "source": [
    "import numpy as np\n",
    "import h5py as h5\n",
    "import pandas as pd\n",
    "import re\n",
    "\n",
    "combined_path = '/projects/jp/adni-autoencoder/combined.h5'\n",
    "cortical_path = '/projects/nikhil/ADNI_prediction/input_datasets/CT/scans_AAL.csv'\n",
    "clinical_path = '/projects/francisco/data/ADNI/ADNI_Merge_filter.csv'\n",
    "\n",
    "# ID patterns\n",
    "id_participant = re.compile(r\"\"\"\n",
    " (?<=ADNI_)      # Match the first string after ADNI_\n",
    " (.*?)          # Lazy quantifier so it only grabs the first immediate match.\n",
    " (?=_MR)        # End at the _MR\n",
    "\"\"\", re.VERBOSE)\n",
    "\n",
    "id_image = re.compile('(?<=S)\\d+_(.*?)(?=_)')"
   ]
  },
  {
   "cell_type": "code",
   "execution_count": 6,
   "metadata": {
    "collapsed": false
   },
   "outputs": [],
   "source": [
    "# Concatenate all the filenames\n",
    "filenames = set([])\n",
    "combined = h5.File(combined_path, 'r')\n",
    "\n",
    "for split in ['train', 'valid', 'test']:\n",
    "    filenames = filenames.union(combined['l_{}_files'.format(split)])"
   ]
  },
  {
   "cell_type": "code",
   "execution_count": 30,
   "metadata": {
    "collapsed": false
   },
   "outputs": [
    {
     "name": "stdout",
     "output_type": "stream",
     "text": [
      "698 unique mappings found\n"
     ]
    }
   ],
   "source": [
    "# part > img id lookup\n",
    "participants = {}\n",
    "for f in filenames:\n",
    "    try:\n",
    "        id = re.search(id_participant, f).group(0)\n",
    "        img = re.search(id_image, f).group(1)\n",
    "        participants[id] = img\n",
    "    except:\n",
    "        print f\n",
    "print '{} unique mappings found'.format(len(participants.items()))"
   ]
  },
  {
   "cell_type": "code",
   "execution_count": 77,
   "metadata": {
    "collapsed": false
   },
   "outputs": [],
   "source": [
    "from pandas import Series\n",
    "\n",
    "# Load clinical and cortical datasets\n",
    "clinical = pd.read_csv(clinical_path)\n",
    "cortical = pd.read_csv(cortical_path)\n",
    "\n",
    "# Filter ADNI1 Baseline subjects \n",
    "baseline_adni_1 = clinical[(clinical.ORIGPROT =='ADNI1') & (clinical.COLPROT=='ADNI1') & (clinical.VISCODE == 'bl')]\n",
    "\n",
    "# Filter for subjects whom we have CT measurements for\n",
    "baseline_adni_1 = baseline_adni_1.loc[baseline_adni_1['PTID'].isin(participants)]\n",
    "img_id_col = [participants[id] for id in baseline_adni_1.PTID if id in participants.keys()]\n",
    "\n",
    "# Add image id to clinical table:\n",
    "baseline_adni_1.insert(2,'IID', img_id_col)"
   ]
  },
  {
   "cell_type": "code",
   "execution_count": 83,
   "metadata": {
    "collapsed": false
   },
   "outputs": [],
   "source": [
    "from pandas import merge\n",
    "\n",
    "# Rename ID to IID in cortical df\n",
    "cortical.rename(columns={'ID':'IID'}, inplace=True)\n",
    "\n",
    "# Merge these suckas:\n",
    "merged = merge(baseline_adni_1, cortical, on=['IID'])\n",
    "\n",
    "# Save\n",
    "merged.to_csv('/projects/francisco/data/ADNI/ct_clinical.csv')"
   ]
  }
 ],
 "metadata": {
  "kernelspec": {
   "display_name": "Python 2",
   "language": "python",
   "name": "python2"
  },
  "language_info": {
   "codemirror_mode": {
    "name": "ipython",
    "version": 2
   },
   "file_extension": ".py",
   "mimetype": "text/x-python",
   "name": "python",
   "nbconvert_exporter": "python",
   "pygments_lexer": "ipython2",
   "version": "2.7.10"
  }
 },
 "nbformat": 4,
 "nbformat_minor": 0
}
