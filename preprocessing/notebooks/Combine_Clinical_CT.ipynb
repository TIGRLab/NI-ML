{
 "cells": [
  {
   "cell_type": "code",
   "execution_count": 110,
   "metadata": {
    "collapsed": true
   },
   "outputs": [],
   "source": [
    "import numpy as np\n",
    "import h5py as h5\n",
    "import pandas as pd\n",
    "import re\n",
    "\n",
    "combined_path = '/projects/jp/adni-autoencoder/combined.h5'\n",
    "cortical_path = '/projects/nikhil/ADNI_prediction/input_datasets/CT/scans_AAL.csv'\n",
    "clinical_path = '/projects/francisco/data/ADNI/ADNI_Merge_filter.csv'\n",
    "fuse_path = '/projects/nikhil/miccai/input_data_comb/data_t300_adcn.h5'\n",
    "fused_segmentations_path = '/projects/nikhil/miccai/input_data_comb/ad_mci_cn_{}.h5'\n",
    "\n",
    "# ID patterns\n",
    "id_participant = re.compile(r\"\"\"\n",
    " (?<=ADNI_)      # Match the first string after ADNI_\n",
    " (.*?)          # Lazy quantifier so it only grabs the first immediate match.\n",
    " (?=_MR)        # End at the _MR\n",
    "\"\"\", re.VERBOSE)\n",
    "\n",
    "id_image = re.compile('(?<=S)\\d+_(.*?)(?=_)')"
   ]
  },
  {
   "cell_type": "code",
   "execution_count": 87,
   "metadata": {
    "collapsed": false
   },
   "outputs": [
    {
     "name": "stdout",
     "output_type": "stream",
     "text": [
      "49752\n"
     ]
    }
   ],
   "source": [
    "# Concatenate all the filenames\n",
    "filenames = set([])\n",
    "combined = h5.File(combined_path, 'r')\n",
    "\n",
    "for split in ['train', 'valid', 'test']:\n",
    "    filenames = filenames.union(combined['l_{}_files'.format(split)])\n",
    "print len(filenames)"
   ]
  },
  {
   "cell_type": "code",
   "execution_count": 30,
   "metadata": {
    "collapsed": false
   },
   "outputs": [
    {
     "name": "stdout",
     "output_type": "stream",
     "text": [
      "698 unique mappings found\n"
     ]
    }
   ],
   "source": [
    "# part > img id lookup\n",
    "participants = {}\n",
    "for f in filenames:\n",
    "    try:\n",
    "        id = re.search(id_participant, f).group(0)\n",
    "        img = re.search(id_image, f).group(1)\n",
    "        participants[id] = img\n",
    "    except:\n",
    "        print f\n",
    "print '{} unique mappings found'.format(len(participants.items()))"
   ]
  },
  {
   "cell_type": "code",
   "execution_count": 88,
   "metadata": {
    "collapsed": false
   },
   "outputs": [
    {
     "name": "stdout",
     "output_type": "stream",
     "text": [
      "698 unique mappings found\n"
     ]
    }
   ],
   "source": [
    "# img id > part lookup\n",
    "images = {}\n",
    "for f in filenames:\n",
    "    try:\n",
    "        id = re.search(id_participant, f).group(0)\n",
    "        img = re.search(id_image, f).group(1)\n",
    "        images[img] = id\n",
    "    except:\n",
    "        print f\n",
    "print '{} unique mappings found'.format(len(images.items()))"
   ]
  },
  {
   "cell_type": "code",
   "execution_count": 77,
   "metadata": {
    "collapsed": false
   },
   "outputs": [],
   "source": [
    "from pandas import Series\n",
    "\n",
    "# Load clinical and cortical datasets\n",
    "clinical = pd.read_csv(clinical_path)\n",
    "cortical = pd.read_csv(cortical_path)\n",
    "\n",
    "# Filter ADNI1 Baseline subjects \n",
    "baseline_adni_1 = clinical[(clinical.ORIGPROT =='ADNI1') & (clinical.COLPROT=='ADNI1') & (clinical.VISCODE == 'bl')]\n",
    "\n",
    "# Filter for subjects whom we have CT measurements for\n",
    "baseline_adni_1 = baseline_adni_1.loc[baseline_adni_1['PTID'].isin(participants)]\n",
    "img_id_col = [participants[id] for id in baseline_adni_1.PTID if id in participants.keys()]\n",
    "\n",
    "# Add image id to clinical table:\n",
    "baseline_adni_1.insert(2,'IID', img_id_col)"
   ]
  },
  {
   "cell_type": "code",
   "execution_count": 83,
   "metadata": {
    "collapsed": false
   },
   "outputs": [],
   "source": [
    "from pandas import merge\n",
    "\n",
    "# Rename ID to IID in cortical df\n",
    "cortical.rename(columns={'ID':'IID'}, inplace=True)\n",
    "\n",
    "# Merge these suckas:\n",
    "merged = merge(baseline_adni_1, cortical, on=['IID'])\n",
    "\n",
    "# Save\n",
    "merged.to_csv('/projects/francisco/data/ADNI/ct_clinical.csv')"
   ]
  },
  {
   "cell_type": "code",
   "execution_count": 97,
   "metadata": {
    "collapsed": false
   },
   "outputs": [
    {
     "name": "stdout",
     "output_type": "stream",
     "text": [
      "698 fused ids found in total\n"
     ]
    }
   ],
   "source": [
    "import collections\n",
    "import scipy.stats as stats\n",
    "import h5py as h5\n",
    "\n",
    "input_data = h5.File(fuse_path, 'r')\n",
    "fuse_ids = {}\n",
    "\n",
    "# Find the ids for each of the fused splits:\n",
    "for split in ['train', 'test', 'valid']:\n",
    "    files = input_data['l_{}_files'.format(split)][:]\n",
    "    subject_idx=[]\n",
    "    subject_vol_dict = collections.defaultdict(list)\n",
    "    subject_class_dict = collections.defaultdict(list)\n",
    "\n",
    "    #find volume indices for each unique subject\n",
    "    for i, f in enumerate(files):\n",
    "        subject_id = re.search(id_participant, f).group(0)\n",
    "        subject_idx.append(subject_id)\n",
    "\n",
    "    # Reduce to unique set of ids:\n",
    "    fuse_ids[split] = set(subject_idx)\n",
    "    \n",
    "total = np.sum([len(ids) for ids in fuse_ids.values()])\n",
    "print '{} fused ids found in total'.format(total)\n",
    "input_data.close()"
   ]
  },
  {
   "cell_type": "code",
   "execution_count": 118,
   "metadata": {
    "collapsed": false
   },
   "outputs": [],
   "source": [
    "index = list(fuse_ids['train']) + list(fuse_ids['valid']) + list(fuse_ids['test'])\n",
    "segmatrix = np.array([],)\n",
    "for split in ['train', 'test', 'valid']:\n",
    "    fdata = h5.File(fused_segmentations_path.format(split), 'r')\n",
    "    r = fdata['r_hc_features_fused'][:]\n",
    "    l = fdata['r_hc_features_fused'][:]\n",
    "    lr = np.concatenate([l,r],axis=1)\n",
    "    segmatrix = np.vstack([segmatrix, lr]) if segmatrix.size else lr\n",
    "\n",
    "segmentations = pd.DataFrame(segmatrix)\n",
    "segmentations.insert(0,'PTID', index)\n",
    "\n"
   ]
  },
  {
   "cell_type": "code",
   "execution_count": 120,
   "metadata": {
    "collapsed": false
   },
   "outputs": [],
   "source": [
    "# Merge these to the other guy\n",
    "# Merge these suckas:\n",
    "combined = merge(merged, segmentations, on=['PTID'])\n",
    "\n",
    "# Save\n",
    "combined.to_csv('/projects/francisco/data/ADNI/ct_clinical_seg.csv')"
   ]
  },
  {
   "cell_type": "code",
   "execution_count": 121,
   "metadata": {
    "collapsed": false
   },
   "outputs": [
    {
     "name": "stdout",
     "output_type": "stream",
     "text": [
      "Index([     u'RID',     u'PTID',      u'IID',  u'VISCODE',  u'COLPROT',\n",
      "       u'ORIGPROT',    u'DX_bl',      u'AGE', u'PTGENDER',   u'ADAS11', \n",
      "       ...\n",
      "             21028,       21029,       21030,       21031,       21032,\n",
      "             21033,       21034,       21035,       21036,       21037],\n",
      "      dtype='object', length=21127)\n"
     ]
    }
   ],
   "source": [
    "print combined.columns"
   ]
  },
  {
   "cell_type": "code",
   "execution_count": null,
   "metadata": {
    "collapsed": true
   },
   "outputs": [],
   "source": []
  }
 ],
 "metadata": {
  "kernelspec": {
   "display_name": "Python 2",
   "language": "python",
   "name": "python2"
  },
  "language_info": {
   "codemirror_mode": {
    "name": "ipython",
    "version": 2
   },
   "file_extension": ".py",
   "mimetype": "text/x-python",
   "name": "python",
   "nbconvert_exporter": "python",
   "pygments_lexer": "ipython2",
   "version": "2.7.10"
  }
 },
 "nbformat": 4,
 "nbformat_minor": 0
}
